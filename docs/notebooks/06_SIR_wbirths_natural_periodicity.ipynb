{
 "cells": [
  {
   "cell_type": "markdown",
   "metadata": {},
   "source": [
    "# Intrinsic Periodicity of the SIR System\n",
    "Continuing our investigation of the Susceptible-Infected-Recovered system, \n",
    "\n",
    "$$\n",
    "\\dot{S} = -\\frac{\\beta*S*I}{N} + \\mu N - \\mu S\\\\\n",
    "\n",
    "\\dot{I} = \\frac{\\beta*S*I}{N} - \\gamma I - \\mu I\\\\\n",
    "\n",
    "\\dot{R} = \\gamma I - \\mu R\n",
    "$$\n",
    "\n",
    "With non-trivial endemic equilibrium \n",
    "\n",
    "$$\n",
    "(S^*, \\: I^*, \\: R^*) = (\\frac{1}{R_0}, \\:\\: \\frac{\\mu (R_0-1)}{\\beta}, \\: \\: 1-\\frac{1}{R_0} - \\frac{\\mu (R_0-1)}{\\beta}) \\\\\n",
    "\n",
    "\\text{where} \\:\\: R_0 = \\frac{\\beta}{\\gamma + \\mu}\n",
    "$$\n",
    "\n",
    "General analysis of a system's stability of and approach to equilibria is beyond the scope of this notebook, and detailed discussions are available elsewhere (e.g., Keeling/Rohani Box 2.4).  In brief, one constructs the Jacobian of the system at the equilibrium points and computes its eigenvalues.  If all eigenvalues have negative real component, then the equilibrium is stable; if the dominant eigenvalues are complex conjugates, then system approaches equilibrium via damped oscillations, with damping constant equal to the real component and frequency equal to the imaginary component. This is the case for the SIR system around the non-trivial (R<sub>0</sub> > 1) equilibrium, with dominant eigenvalues:\n",
    "\n",
    "$$\n",
    "\\Lambda = -\\frac{\\mu R_0}{2} \\pm \\frac{\\sqrt{\\mu^2 R_0^2 - \\frac{4}{A G}}}{2} \\\\\n",
    "\\text{where} \\:\\: A = \\frac{1}{\\mu (R_0 -1)} and G = \\frac{1}{\\mu + \\gamma}\n",
    "\n",
    "$$\n",
    "\n",
    "In general, $\\mu^2 R_0^2$ μ^2R<sub>0</sub><sup>2</sub> is quite small, and the intrinsic periodicity of the system is \n",
    "$$T \\approx 2 \\pi \\sqrt{A G}$$.\n",
    "\n",
    "### Construct the model\n",
    "The model is constructed as in notebook 05.  As again, we are looking at behavior around the endemic equilibrium, the same considerations of large-ish populations and long simulations apply here. \n",
    "\n",
    "### Sanity check\n",
    "The first test, as always, ensures that certain basic constraints are being obeyed by the model.  As it stands, I am not actually explicitly tracking the recovered population, but I can check that \n",
    "$$S_t = N_t - \\sum{\\Delta_I}$$.  \n",
    "\n",
    "### Scientific test\n",
    "The scientific test will sample a set of (μ, γ, R<sub>0</sub>) tuplets and confirm that the periodicity is   \n",
    "\n",
    "### Future work\n",
    "The addition of an exposed compartment with rate constant σ should change this result, by changing the generation time *G* to \n",
    "$$\\frac{1}{\\mu + \\gamma} + \\frac{1}{\\mu + \\sigma}$$\n"
   ]
  },
  {
   "cell_type": "code",
   "execution_count": null,
   "metadata": {},
   "outputs": [],
   "source": [
    "import math\n",
    "\n",
    "import matplotlib.pyplot as plt\n",
    "import numpy as np\n",
    "import pandas as pd\n",
    "from laser_core.propertyset import PropertySet\n",
    "from scipy.ndimage import gaussian_filter1d\n",
    "from scipy.signal import find_peaks\n",
    "\n",
    "from laser_generic import Births_ConstantPop\n",
    "from laser_generic import Infection\n",
    "from laser_generic import Model\n",
    "from laser_generic import Susceptibility\n",
    "from laser_generic import Transmission\n",
    "from laser_generic.importation import Infect_Random_Agents\n",
    "from laser_generic.utils import seed_infections_randomly\n",
    "from laser_generic.utils import set_initial_susceptibility_randomly\n",
    "\n",
    "f\"{np.__version__=}\""
   ]
  },
  {
   "cell_type": "markdown",
   "metadata": {},
   "source": [
    "OK, in testing here, we run into a couple of challenges, and my training in spectral\n",
    "analysis is a bit old at this point.  Mainly, we're interested in relatively low-frequency\n",
    "signals relative to our vector length - periods that can be order a few years in a sequence of a few decades,\n",
    "so only a few oscillations.  Not impossible but tough\n",
    "Second is that there are lots of other signals that will probably settle down over\n",
    "time, but may not.  Lastly, there seem to be some windowing effects from the length of the\n",
    "vector itself.\n",
    "So some approaches to get arounds this:\n",
    "Try to start relatively close to equilibrium\n",
    "Use time-domain autocorrelation spectrum \n",
    "Instead of looking for the period of maximum power, specifically look for a peak in the vicinity of \n",
    "the expected period.\n"
   ]
  },
  {
   "cell_type": "code",
   "execution_count": null,
   "metadata": {},
   "outputs": [],
   "source": [
    "scenario = pd.DataFrame(data=[[\"homenode\", 2e6]], columns=[\"name\", \"population\"])\n",
    "parameters = PropertySet(\n",
    "    {\"seed\": 4, \"nticks\": 36500, \"verbose\": True, \"beta\": 0.4, \"inf_mean\": 12, \"cbr\": 45, \"importation_period\": 180, \"importation_count\": 3}\n",
    ")"
   ]
  },
  {
   "cell_type": "code",
   "execution_count": null,
   "metadata": {},
   "outputs": [],
   "source": [
    "model = Model(scenario, parameters)\n",
    "model.components = [\n",
    "    Infect_Random_Agents,\n",
    "    Births_ConstantPop,\n",
    "    Susceptibility,\n",
    "    Infection,\n",
    "    Transmission,\n",
    "]\n",
    "\n",
    "seed_infections_randomly(model, ninfections=1)\n",
    "model.run()\n",
    "plt.plot(model.patches.cases)"
   ]
  },
  {
   "cell_type": "code",
   "execution_count": null,
   "metadata": {},
   "outputs": [],
   "source": [
    "model.patches.cases[10000:10010]"
   ]
  },
  {
   "cell_type": "markdown",
   "metadata": {},
   "source": [
    "### Sanity checks\n",
    "As always, check that we haven't broken anything - S+I+R = N at all times"
   ]
  },
  {
   "cell_type": "code",
   "execution_count": null,
   "metadata": {},
   "outputs": [],
   "source": [
    "cases = np.squeeze(model.patches.cases)\n",
    "susc = np.squeeze(model.patches.susceptibility)\n",
    "rec = np.squeeze(model.patches.recovered)\n",
    "inc = np.squeeze(model.patches.incidence)\n",
    "births = np.squeeze(model.patches.births)\n",
    "pops = np.squeeze(model.patches.populations)[:-1]\n",
    "\n",
    "print(\"S+I+R = N:  \" + str(np.isclose(cases + susc + rec, pops).all()))"
   ]
  },
  {
   "cell_type": "code",
   "execution_count": null,
   "metadata": {},
   "outputs": [],
   "source": [
    "mu = (1 + model.params.cbr / 1000) ** (1 / 365) - 1\n",
    "R0 = model.params.beta / (1 / model.params.inf_mean + mu)\n",
    "A = 1 / ((R0 - 1) * mu) / 365\n",
    "G = 1 / (mu + 1 / model.params.inf_mean) / 365\n",
    "T_exp = 2 * np.pi * np.sqrt(A * G)\n",
    "\n",
    "\n",
    "def ID_freq_peakfinder(y0, T_exp, cutoff=18250, plot=False):\n",
    "    y = y0[cutoff:]\n",
    "    y = y - np.mean(y)\n",
    "    y = gaussian_filter1d(y, sigma=100)\n",
    "    peaks, _ = find_peaks(y, distance=T_exp * 365 / 2)\n",
    "    if plot:\n",
    "        plt.figure()\n",
    "        plt.plot(y, alpha=0.5)\n",
    "        plt.plot(peaks, y[peaks], \"x\")\n",
    "    return np.median(np.diff(peaks)) / 365\n",
    "\n",
    "\n",
    "T_obs_pf = ID_freq_peakfinder(np.squeeze(model.patches.cases), T_exp, plot=True)\n",
    "\n",
    "\n",
    "def ID_freq_autocorr(y0, cutoff=18250):\n",
    "    # Compute the FFT\n",
    "    Y1 = np.fft.fft(y0[cutoff:] - np.mean(y0[cutoff:]))\n",
    "\n",
    "    # Compute the circular autocorrelation using the inverse FFT\n",
    "    circular_autocorr = np.fft.ifft(Y1 * np.conj(Y1)).real\n",
    "    # Plot only the positive frequency spectrum\n",
    "    peaks, _ = find_peaks(circular_autocorr, distance=300)\n",
    "    return peaks[0] / 365\n",
    "\n",
    "\n",
    "T_obs_fft = ID_freq_autocorr(np.squeeze(model.patches.cases))\n",
    "\n",
    "plt.text(0.05, 0.9, f\"T expected: {T_exp:.2f} y\", transform=plt.gca().transAxes)\n",
    "plt.text(0.05, 0.85, f\"T observed, peakfinding: {T_obs_pf:.2f} y\", transform=plt.gca().transAxes)\n",
    "plt.text(0.05, 0.8, f\"T observed, FFT: {T_obs_fft:.2f} y\", transform=plt.gca().transAxes)\n",
    "plt.show()"
   ]
  },
  {
   "cell_type": "markdown",
   "metadata": {},
   "source": [
    "### Larger test suite\n",
    "OK, so now we are going to replicate the above test for many values of R0 and cbr, as a scientific validity test.\n",
    "\n",
    "TODO: As written, this takes a long time.  That's because the space of random values being sampled occasionally produces models with long equilibration times and long periodicities.  So as of right now, these run for 100 years to sidestep this.  Should instead restrict the range of values - higher cbrs and R<sub>0</sub>s - so that the average age at infection is consistently lower and we can get away with running for like 30-50 years instead.  "
   ]
  },
  {
   "cell_type": "code",
   "execution_count": null,
   "metadata": {},
   "outputs": [],
   "source": [
    "# import os\n",
    "\n",
    "nsims = 10\n",
    "nticks = 36500\n",
    "cbrs = 30 + 50 * np.random.rand(nsims)\n",
    "inf_means = 5 + 45 * np.random.rand(nsims)\n",
    "R0s = 2.5 + 7.5 * np.random.rand(nsims)\n",
    "mu = [((1 + cbr / 1000) ** (1 / 365) - 1) for cbr in cbrs]\n",
    "A = [1 / ((R0 - 1) * mu) / 365 for R0, mu in zip(R0s, mu)]\n",
    "G = [1 / (mu + 1 / inf_mean) / 365 for mu, inf_mean in zip(mu, inf_means)]\n",
    "T_exp = [2 * math.pi * np.sqrt(A * G) for A, G in zip(A, G)]\n",
    "mycases = np.zeros((nsims, nticks))\n",
    "params_df = pd.DataFrame(\n",
    "    {\n",
    "        \"cbr\": cbrs,\n",
    "        \"inf_mean\": inf_means,\n",
    "        \"R0\": R0s,\n",
    "        \"A\": A,\n",
    "        \"G\": G,\n",
    "        \"T_exp\": T_exp,\n",
    "    }\n",
    ")\n",
    "i = 0\n",
    "for cbr, inf_mean, R0 in zip(cbrs, inf_means, R0s):\n",
    "    mu = (1 + cbr / 1000) ** (1 / 365) - 1\n",
    "    parameters = PropertySet(\n",
    "        {\n",
    "            \"seed\": 2,\n",
    "            \"nticks\": 36500,\n",
    "            \"verbose\": True,\n",
    "            \"beta\": R0 * (mu + 1 / inf_mean),\n",
    "            \"inf_mean\": inf_mean,\n",
    "            \"cbr\": cbr,\n",
    "            \"importation_period\": 180,\n",
    "            \"importation_count\": 3,\n",
    "        }\n",
    "    )\n",
    "    model = Model(scenario, parameters)\n",
    "    model.components = [\n",
    "        Births_ConstantPop,\n",
    "        Susceptibility,\n",
    "        Transmission,\n",
    "        Infection,\n",
    "        Infect_Random_Agents,\n",
    "    ]\n",
    "\n",
    "    set_initial_susceptibility_randomly(model, 1 / R0 + 0.02)\n",
    "    seed_infections_randomly(model, ninfections=1)\n",
    "    model.run()\n",
    "    plt.plot(model.patches.cases)\n",
    "    mycases[i] = np.squeeze(model.patches.cases)\n",
    "    i = i + 1\n",
    "\n",
    "# output_folder = os.path.abspath(os.path.join(os.getcwd(), \"..\", \"..\", \"laser-generic-outputs\", \"periodicity\"))\n",
    "# os.makedirs(output_folder, exist_ok=True)\n",
    "# params_df.to_csv(os.path.join(output_folder, \"params_df.csv\"), index=False)\n",
    "# np.save(os.path.join(output_folder, \"mycases.npy\"), mycases)"
   ]
  },
  {
   "cell_type": "code",
   "execution_count": null,
   "metadata": {},
   "outputs": [],
   "source": [
    "params_df[\"T_obs_peakfinder\"] = np.nan\n",
    "params_df[\"T_obs_autocorr\"] = np.nan\n",
    "\n",
    "for i in range(mycases.shape[0]):\n",
    "    params_df.loc[i, \"T_obs_peakfinder\"] = ID_freq_peakfinder(np.squeeze(mycases[i, :]), params_df.loc[i, \"T_exp\"], plot=False)\n",
    "    params_df.loc[i, \"T_obs_autocorr\"] = ID_freq_autocorr(np.squeeze(mycases[i, :]))"
   ]
  },
  {
   "cell_type": "code",
   "execution_count": null,
   "metadata": {},
   "outputs": [],
   "source": [
    "params_df"
   ]
  },
  {
   "cell_type": "code",
   "execution_count": null,
   "metadata": {},
   "outputs": [],
   "source": [
    "plt.plot(params_df[\"T_exp\"], params_df[\"T_obs_peakfinder\"], \"o\")"
   ]
  }
 ],
 "metadata": {
  "kernelspec": {
   "display_name": ".venv",
   "language": "python",
   "name": "python3"
  },
  "language_info": {
   "codemirror_mode": {
    "name": "ipython",
    "version": 3
   },
   "file_extension": ".py",
   "mimetype": "text/x-python",
   "name": "python",
   "nbconvert_exporter": "python",
   "pygments_lexer": "ipython3",
   "version": "3.11.8"
  }
 },
 "nbformat": 4,
 "nbformat_minor": 2
}
