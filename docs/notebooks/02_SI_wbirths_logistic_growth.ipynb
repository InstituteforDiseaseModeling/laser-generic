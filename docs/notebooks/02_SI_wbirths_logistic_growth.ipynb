{
 "cells": [
  {
   "cell_type": "markdown",
   "metadata": {},
   "source": [
    "# SI Model with Constant Population Demographics\n",
    "\n",
    "Building up from the SI model without demography, we next explore the addition of basic demographics - adding a birth rate & an equivalent, age-independent mortality rate $\\mu$ to keep constant total population.  The disease model remains the SI model.\n",
    "\n",
    "$$\n",
    "\\dot{S} = -\\frac{\\beta*S*I}{N} + \\mu N - \\mu S\\\\\n",
    "\n",
    "\\dot{I} = \\frac{\\beta*S*I}{N} - \\mu I\n",
    "$$\n",
    "\n",
    "With a bit of manipulation as in the previous example, this can be worked back into the form of a generalized logistic growth differential equation\n",
    "$$ \\dot{I} = \\beta I (1-\\frac{\\mu}{\\beta}-\\frac{I}{N})$$\n",
    "\n",
    "With solution \n",
    "$$\n",
    "\\frac{Nx}{1+(\\frac{Nx}{I_0}-1)e^{-\\beta x t}} \\\\\n",
    "x = (1-\\frac{\\mu}{\\beta})\n",
    "$$\n",
    "\n",
    "\n",
    "This notebook tests the implementation and behavior of the model as follows:\n",
    "### Construct the model\n",
    "In the first few cells, we do all the necessary imports.  Then we construct a single-patch LASER model with three components: `Susceptibility`, `Transmission`, and `Births_ConstantPop`.  Finally, we initialize with a single infection and run.  The `Susceptibility` and `Transmission` components are described in the the model with no births.  `Births_ConstantPop` strictly enforces constant population - rather than having separate, random birth and death process, births are implemented by randomly choosing an existing agent and re-initializing them as a newborn.  Births are drawn from a Poisson distribution with rate determined by parameter `cbr` (in units of births per 1000 population per year). \n",
    "\n",
    "\n",
    "### Sanity check\n",
    "The first test ensures certain basic constraints are being obeyed by the model.  We confirm that at each timestep, $S_t=N_t-I_t$. \n",
    "\n",
    "### Scientific test\n",
    "Finally, we come to the scientific test.  First, we run a basic test on a single model, and show the result matches expectation with known inputs.  Then, as before, we select a few values of $\\beta$ and $\\mu$, run the model, fit the outputs to the logistic equation, and compare the fitted values of the parameters to the known value.  The equation above makes it clear that attempting to fit $\\beta, \\mu$ and N all together will be degenerate - the logistic equation has two parameters, not three; in this case those two are the products $N x$ and $\\beta x$.  Thus, we fix the total population size $N$ in the fit to focus on the more interesting $\\beta$ and $\\mu$ parameters.  And as before, because we are approximating continuously compounding growth, in the logistic equation, with a discrete time-step approximation, we expect the fitted values of $\\beta$ to be biased slightly downward - that is, the modeled trajectory is slightly slower than the continuous-time counterpart.  This error grows as $\\beta$ gets larger; the test fails if any of the fitted $\\beta$ values are more than 5% away from the known values.  Furthermore, if the outbreak is seeded by only one infection, it is possible that that one infection dies prior to infecting anyone else; we therefore seed with a few infections rather than one.\n",
    "\n"
   ]
  },
  {
   "cell_type": "code",
   "execution_count": null,
   "metadata": {},
   "outputs": [],
   "source": [
    "import matplotlib.pyplot as plt\n",
    "import numpy as np\n",
    "import pandas as pd\n",
    "from laser_core.propertyset import PropertySet\n",
    "from scipy.optimize import curve_fit\n",
    "from scipy.optimize import minimize\n",
    "\n",
    "from laser_generic import Births_ConstantPop\n",
    "from laser_generic import Model\n",
    "from laser_generic import Susceptibility\n",
    "from laser_generic import Transmission\n",
    "from laser_generic.utils import seed_infections_randomly_SI\n",
    "\n",
    "f\"{np.__version__=}\""
   ]
  },
  {
   "cell_type": "code",
   "execution_count": null,
   "metadata": {},
   "outputs": [],
   "source": [
    "pop = 1e6\n",
    "init_inf = 1\n",
    "scenario = pd.DataFrame(data=[[\"homenode\", pop]], columns=[\"name\", \"population\"])\n",
    "parameters = PropertySet({\"seed\": 2, \"nticks\": 730, \"verbose\": True, \"beta\": 0.04, \"cbr\": 400})\n",
    "model = Model(scenario, parameters)\n",
    "model.components = [Births_ConstantPop, Susceptibility, Transmission]\n",
    "seed_infections_randomly_SI(model, ninfections=init_inf)\n",
    "model.run()"
   ]
  },
  {
   "cell_type": "markdown",
   "metadata": {},
   "source": [
    "# Sanity checks\n",
    "Check that the relationships between susceptible, infected, and total population hold.  In the version with no births, we could also test that the infected = the sum of past incidence, but with births now playing a role that no longer holds."
   ]
  },
  {
   "cell_type": "code",
   "execution_count": null,
   "metadata": {},
   "outputs": [],
   "source": [
    "plt.plot(model.patches.cases.astype(\"int\"), lw=4)\n",
    "plt.plot(model.patches.populations[:-1] - model.patches.susceptibility.astype(\"int\"), \"--\", lw=3)\n",
    "plt.yscale(\"log\")\n",
    "plt.legend([\"Population minus currently infected\", \"Susceptible\", \"Population minus cumulative infections (incidence)\"])\n",
    "\n",
    "print(\"S = N-I:  \" + str(np.isclose(model.patches.susceptibility, model.patches.populations[:-1] - model.patches.cases).all()))"
   ]
  },
  {
   "cell_type": "markdown",
   "metadata": {},
   "source": [
    "The below plot shows the model output, the expected logistic growth curve, and the expected logistic growth curve fit to the model with a free offset $t_0$ to account for stochasticity in when the outbreak takes off.  The resulting plot should show good concordance between the model output and the expected logistic equation with the known model inputs $\\beta$ and population.\n",
    "The goodness of this fit could be turned into a strict pass/fail test down the line."
   ]
  },
  {
   "cell_type": "code",
   "execution_count": null,
   "metadata": {},
   "outputs": [],
   "source": [
    "def SI_logistic(t, beta, popsize, cbr, t0):\n",
    "    mu = (1 + cbr / 1000) ** (1 / 365) - 1\n",
    "    x = 1 - mu / beta\n",
    "    return popsize * x / (1 + (popsize * x - 1) * np.exp(-beta * x * (t - t0)))\n",
    "\n",
    "\n",
    "t = np.arange(model.params.nticks)\n",
    "\n",
    "\n",
    "def objective(t0):\n",
    "    return np.sum((1 - SI_logistic(t, model.params.beta, pop, model.params.cbr, t0) / np.squeeze(model.patches.cases.astype(\"int\"))) ** 2)\n",
    "\n",
    "\n",
    "result = minimize(objective, x0=10)\n",
    "t0_opt = result.x[0]\n",
    "\n",
    "plt.plot(model.patches.cases, lw=4)\n",
    "plt.plot(SI_logistic(t, model.params.beta, pop, model.params.cbr, 0), lw=3)\n",
    "plt.plot(SI_logistic(t, model.params.beta, pop, model.params.cbr, t0_opt), \"r:\", lw=3)\n",
    "plt.yscale(\"log\")\n",
    "plt.legend([\"Model output\", \"Logistic growth with known inputs, t0=0\", f\"Logistic growth with known inputs, best-fit t0 = {t0_opt:.1f}\"])"
   ]
  },
  {
   "cell_type": "markdown",
   "metadata": {},
   "source": [
    "## Scientific testing\n",
    "Finally, we run the model for a range of $\\beta$ & birth rate  parameters, we freely fit the model output to the logistic equation, and we compare the known input parameters against the parameters fitted from output.  \n",
    "\n",
    "Because we are approximating continuously compounding growth by discrete-time compounding growth, we should expect the fitted $\\beta$  to consistently be slightly underestimated relative to the true $\\beta$ , with the relative difference growing as $\\beta$  gets larger.   \n",
    "\n",
    "In the future, we could probably compute the expected error from this approximation.  But for now, to make this a pass-fail test, we will raise a flag if the fitted parameters are more than 5% different than the known ones."
   ]
  },
  {
   "cell_type": "code",
   "execution_count": 69,
   "metadata": {},
   "outputs": [],
   "source": [
    "%%capture\n",
    "seeds = [42 + i for i in range(10)]\n",
    "pop = 1e6\n",
    "nticks = 3650\n",
    "betas = [0.002 + 0.005 * i for i in range(1, 11)]\n",
    "cbrs = np.random.randint(10, 120, 10)\n",
    "output = pd.DataFrame(columns=[\"seed\", \"beta\", \"cbr\", \"cases\", \"fitted_beta\", \"fitted_size\", \"fitted_t0\"])\n",
    "scenario = pd.DataFrame(data=[[\"homenode\", pop]], columns=[\"name\", \"population\"])\n",
    "\n",
    "for seed, beta, cbr in zip(seeds, betas, cbrs):\n",
    "    parameters = PropertySet({\"seed\": seed, \"nticks\": nticks, \"verbose\": True, \"beta\": beta, \"cbr\": cbr})\n",
    "    model = Model(scenario, parameters)\n",
    "    model.components = [\n",
    "        Births_ConstantPop,\n",
    "        Susceptibility,\n",
    "        Transmission,\n",
    "    ]\n",
    "    seed_infections_randomly_SI(model, ninfections=3)\n",
    "    model.run()\n",
    "    cases = [model.patches.cases[i][0] for i in range(nticks)]\n",
    "    popt, pcov = curve_fit(\n",
    "        SI_logistic,\n",
    "        np.arange(nticks),\n",
    "        cases,\n",
    "        p0=[beta * (1 + 0.1 * np.random.normal()), pop, cbr * (1 + 0.1 * np.random.normal()), 1],\n",
    "        bounds=([0, pop - 1, 0, -100], [1, pop + 1, 600, 100]),\n",
    "    )\n",
    "    output = pd.concat(\n",
    "        [\n",
    "            output,\n",
    "            pd.DataFrame.from_dict(\n",
    "                {\n",
    "                    \"seed\": seed,\n",
    "                    \"beta\": beta,\n",
    "                    \"cbr\": cbr,\n",
    "                    \"cases\": [np.array(cases)],\n",
    "                    \"fitted_beta\": popt[0],\n",
    "                    \"fitted_size\": popt[1],\n",
    "                    \"fitted_cbr\": popt[2],\n",
    "                    \"fitted_t0\": popt[3],\n",
    "                }\n",
    "            ),\n",
    "        ],\n",
    "        ignore_index=True,\n",
    "    )"
   ]
  },
  {
   "cell_type": "code",
   "execution_count": null,
   "metadata": {},
   "outputs": [],
   "source": [
    "plt.figure()\n",
    "plt.plot(output[\"beta\"], output[\"fitted_beta\"], \"o\")\n",
    "plt.xlim(0, 0.12)\n",
    "plt.ylim(0, 0.12)\n",
    "plt.figure()\n",
    "plt.plot(output[\"beta\"], output[\"beta\"] - output[\"fitted_beta\"], \"o\")\n",
    "plt.xlim(0, 0.12)\n",
    "plt.ylim(-0.12, 0.12)\n",
    "plt.figure()\n",
    "plt.plot(output[\"cbr\"], output[\"fitted_cbr\"], \"o\")\n",
    "plt.xlim(50, 450)\n",
    "plt.ylim(50, 450)\n",
    "plt.figure()\n",
    "plt.plot(output[\"cbr\"], output[\"cbr\"] - output[\"fitted_cbr\"], \"o\")\n",
    "plt.xlim(50, 450)\n",
    "plt.ylim(-50, 50)"
   ]
  },
  {
   "cell_type": "code",
   "execution_count": null,
   "metadata": {},
   "outputs": [],
   "source": [
    "print(\n",
    "    \"All fitted beta are within 5% of known beta: \" + str(np.all(np.abs((output[\"beta\"] - output[\"fitted_beta\"]) / output[\"beta\"]) < 0.05))\n",
    ")\n",
    "print(\"All fitted CBR are within 5% of known CBR: \" + str(np.all(np.abs((output[\"cbr\"] - output[\"fitted_cbr\"]) / output[\"cbr\"]) < 0.05)))"
   ]
  },
  {
   "cell_type": "code",
   "execution_count": null,
   "metadata": {},
   "outputs": [],
   "source": [
    "output"
   ]
  },
  {
   "cell_type": "code",
   "execution_count": null,
   "metadata": {},
   "outputs": [],
   "source": [
    "row = output.iloc[9]\n",
    "cases_row = row[\"cases\"]\n",
    "fitted_beta = row[\"fitted_beta\"]\n",
    "fitted_size = row[\"fitted_size\"]\n",
    "fitted_cbr = row[\"fitted_cbr\"]\n",
    "fitted_t0 = row[\"fitted_t0\"]\n",
    "\n",
    "plt.figure()\n",
    "plt.plot(cases_row, label=\"Case Trace\")\n",
    "plt.plot(SI_logistic(np.arange(nticks), fitted_beta, fitted_size, fitted_cbr, fitted_t0), label=\"Logistic Fit\")\n",
    "plt.legend()\n",
    "plt.xlabel(\"Time (days)\")\n",
    "plt.ylabel(\"Cases\")\n",
    "plt.title(\"Case Trace and Logistic Fit for Row 0\")\n",
    "# plt.ylim(9.8e5, 1e6)\n",
    "plt.show()"
   ]
  },
  {
   "cell_type": "markdown",
   "metadata": {},
   "source": [
    "Just an interesting note - because I kicked the simulations off with 3 infections rather than 1 (to ensure that the initial infection doesn't die before infecting someone), we consistently get a negative fit value for t0, and one that is a larger negative value for the lowest $\\beta$ values."
   ]
  }
 ],
 "metadata": {
  "kernelspec": {
   "display_name": ".venv",
   "language": "python",
   "name": "python3"
  },
  "language_info": {
   "codemirror_mode": {
    "name": "ipython",
    "version": 3
   },
   "file_extension": ".py",
   "mimetype": "text/x-python",
   "name": "python",
   "nbconvert_exporter": "python",
   "pygments_lexer": "ipython3",
   "version": "3.11.8"
  }
 },
 "nbformat": 4,
 "nbformat_minor": 2
}
