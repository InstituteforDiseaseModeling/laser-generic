{
 "cells": [
  {
   "cell_type": "markdown",
   "metadata": {},
   "source": [
    "# The relationship between spatial coupling and incidence correlation in a 2-patch model\n",
    "Ref: Keeling & Rohani, _Estimating spatial coupling in epidemiological systems: a mechanistic approach_, Ecol. Letters (2002) 5:20-29\n"
   ]
  },
  {
   "cell_type": "code",
   "execution_count": null,
   "metadata": {},
   "outputs": [],
   "source": [
    "import numpy as np\n",
    "import pandas as pd\n",
    "from laser_core.propertyset import PropertySet\n",
    "import matplotlib.pyplot as plt\n",
    "from scipy.optimize import fsolve\n",
    "\n",
    "from laser_generic import Model\n",
    "from laser_generic import Infection\n",
    "from laser_generic import Susceptibility\n",
    "from laser_generic import Transmission\n",
    "from laser_generic import Births_ConstantPop\n",
    "from laser_generic.importation import Infect_Random_Agents\n",
    "\n",
    "from laser_generic.utils import set_initial_susceptibility_in_patch\n",
    "from laser_generic.utils import seed_infections_in_patch\n",
    "\n",
    "%load_ext line_profiler\n",
    "\n",
    "f\"{np.__version__=}\""
   ]
  },
  {
   "cell_type": "code",
   "execution_count": null,
   "metadata": {},
   "outputs": [],
   "source": [
    "%%capture\n",
    "import os\n",
    "\n",
    "# Set parameters to match those of Keeling & Rohani, 2002.  They have a constant importation rate of 5.5e-5*sqrt(N) per day,\n",
    "# which for this sim would be something like 40 per year.  I'm importing 6 per year, but I don't think that should be the big deal.\n",
    "# more important is setting the birth, R0, and infectious period to their numbers and then seeing the\n",
    "# connectivity-correlation relationship.\n",
    "nticks = 36500\n",
    "scenario = pd.DataFrame(data=[[\"patch1\", 1e6], [\"patch2\", 1e6]], columns=[\"name\", \"population\"])\n",
    "parameters = PropertySet(\n",
    "    {\n",
    "        \"seed\": 4,\n",
    "        \"nticks\": nticks,\n",
    "        \"verbose\": True,\n",
    "        \"beta\": 17 / 13,\n",
    "        \"inf_mean\": 13,\n",
    "        \"cbr\": 20.277294,\n",
    "        \"importation_period\": 180,\n",
    "        \"importation_count\": 3,\n",
    "        \"importation_start\": 500,\n",
    "    }\n",
    ")\n",
    "\n",
    "mu = (1 + parameters.cbr / 1000) ** (1 / 365) - 1\n",
    "R0 = parameters.beta / (mu + 1 / parameters.inf_mean)\n",
    "nsims = 100\n",
    "i = 0\n",
    "outputs = np.zeros((nsims, parameters.nticks, scenario.shape[0]))\n",
    "# Create a folder to store the outputs\n",
    "output_folder = \"twopatchSIRoutputs\"\n",
    "if not os.path.exists(output_folder):\n",
    "    os.makedirs(output_folder)\n",
    "for connection in np.logspace(-4, -1, nsims):\n",
    "    model = Model(scenario, parameters)\n",
    "    model.components = [\n",
    "        Births_ConstantPop,\n",
    "        Susceptibility,\n",
    "        Transmission,\n",
    "        Infection,\n",
    "        Infect_Random_Agents,\n",
    "    ]\n",
    "\n",
    "    # Start them slightly asynchronously - different initial susceptibilities, infection only in 1 patch\n",
    "    # Want to see how connectivity drives correlation over time.\n",
    "    model.patches.network = np.array([[0, connection], [connection, 0]])\n",
    "    set_initial_susceptibility_in_patch(model, 1, 1 / R0 + 0.02 * np.random.normal())\n",
    "    set_initial_susceptibility_in_patch(model, 0, 1 / R0 + 0.02 * np.random.normal())\n",
    "    seed_infections_in_patch(model, ipatch=0, ninfections=3)\n",
    "\n",
    "    model.run()\n",
    "    outputs[i, :, :] = model.patches.cases\n",
    "    np.save(f\"{output_folder}/twopatchSIRoutputs_{i}.npy\", outputs[i, :, :])\n",
    "    i += 1"
   ]
  },
  {
   "cell_type": "code",
   "execution_count": null,
   "metadata": {},
   "outputs": [],
   "source": []
  },
  {
   "cell_type": "code",
   "execution_count": null,
   "metadata": {},
   "outputs": [],
   "source": [
    "correlations = []\n",
    "last_50_years = 50 * 365  # 50 years in days\n",
    "\n",
    "for sim in range(outputs.shape[0]):\n",
    "    patch1_data = outputs[sim, -last_50_years:, 0]\n",
    "    patch2_data = outputs[sim, -last_50_years:, 1]\n",
    "    correlation = np.corrcoef(patch1_data, patch2_data)[0, 1]\n",
    "    correlations.append(correlation)\n",
    "\n",
    "correlations = np.array(correlations)\n",
    "print(correlations)"
   ]
  },
  {
   "cell_type": "code",
   "execution_count": null,
   "metadata": {},
   "outputs": [],
   "source": [
    "from scipy.optimize import curve_fit\n",
    "\n",
    "x = np.logspace(-4, -1, nsims)\n",
    "\n",
    "\n",
    "# Define the function to fit\n",
    "def func(x, psi, beta):\n",
    "    return beta + x / (psi + x)\n",
    "\n",
    "\n",
    "# Fit the curve\n",
    "popt, pcov = curve_fit(func, x, correlations, p0=[0.01, 0], bounds=([1e-6, -0.00002], [1, 0.00002]))\n",
    "psi_opt = popt[0]\n",
    "beta_opt = popt[1]\n",
    "plt.plot(x, correlations, \".\")\n",
    "plt.xscale(\"log\")\n",
    "# Plot the fitted curve\n",
    "plt.plot(x, func(x, psi_opt, beta_opt), label=f\"Fitted curve: y = {beta_opt:.4f} + x / ({psi_opt:.4f} + x)\")\n",
    "plt.legend()"
   ]
  }
 ],
 "metadata": {
  "kernelspec": {
   "display_name": ".venv",
   "language": "python",
   "name": "python3"
  },
  "language_info": {
   "codemirror_mode": {
    "name": "ipython",
    "version": 3
   },
   "file_extension": ".py",
   "mimetype": "text/x-python",
   "name": "python",
   "nbconvert_exporter": "python",
   "pygments_lexer": "ipython3",
   "version": "3.11.8"
  }
 },
 "nbformat": 4,
 "nbformat_minor": 2
}
