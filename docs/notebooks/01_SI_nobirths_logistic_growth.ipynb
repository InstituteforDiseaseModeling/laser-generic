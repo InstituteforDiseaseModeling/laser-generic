{
 "cells": [
  {
   "cell_type": "markdown",
   "metadata": {},
   "source": [
    "# SI Model with No Demographics\n",
    "\n",
    "We will begin with perhaps the simplest possible model of an infectious disease - the SI model without demography.  This model has two classes of individuals, the infective and the susceptible, and 1 parameter, β, describing the per-timestep, per-infective person rate at which susceptibles transition to infectives.\n",
    "\n",
    "$$\n",
    "\\dot{S} = -\\frac{\\beta*S*I}{N} \\\\\n",
    "\n",
    "\\dot{I} = \\frac{\\beta*S*I}{N}\n",
    "$$\n",
    "\n",
    "Noting that *S = N-I*, we can substitute *S* in the second equation to get a standard form logistic equation\n",
    "\n",
    "$$\n",
    "\\dot{I} = \\beta \\frac{(I-N)I}{N} = \\beta I (1 - \\frac{I}{N})\n",
    "$$\n",
    "\n",
    "With solution \n",
    "$$\n",
    "\\frac{N}{1+(\\frac{N}{I_0}-1)e^{-\\beta t}}\n",
    "$$\n",
    "\n",
    "\n",
    "This notebook tests the implementation and behavior of the model as follows:\n",
    "### Construct the model\n",
    "In the first few cells, we do all the necessary imports.  Then we construct a single-patch LASER model with two components: Susceptibility and Transmission.  Finally, we initialize with a single infection and run.  The Susceptibility component endows both agents and patches in the model with a `susceptibility` quantity.  For the agents, this represents their state (infective = 0, susceptible = 1), and for the patch, it represents the total population of susceptible agents.  The differential equation above is converted into a stochastic finite difference equation\n",
    "\n",
    "$$\n",
    "\\Delta I = Bin(S_t, 1-exp^{-\\beta \\Delta t \\frac{I}{N}}) \\\\\n",
    "S_{t+1} = S_t - \\Delta I \\\\\n",
    "I_{t+1} = I_t + \\Delta I\n",
    "$$\n",
    "\n",
    "\n",
    "### Sanity check\n",
    "The first test ensures certain basic constraints are being obeyed by the model.  We confirm that at each timestep, *S<sub>t</sub>=N<sub>t</sub>-I<sub>t</sub>*.  We also confirm that:\n",
    "\n",
    "$$\n",
    "I_t = I_0 + \\sum_{t'=0}^t \\Delta I_{t'}\n",
    "$$  \n",
    "\n",
    "### Scientific test\n",
    "Finally, we come to the scientific test.  We select a few values of β, run the model, fit the outputs to the logistic equation, and compare the fitted value of β to the known value.  Because we are approximating continuously compounding growth, in the logistic equation, with a discrete time-step approximation, we expect the fitted values of β to be biased slightly downward - that is, the modeled trajectory is slightly slower than the continuous-time counterpart.  This error grows as β gets larger; the test fails if any of the fitted β values are more than 5% away from the known values.\n",
    "\n"
   ]
  },
  {
   "cell_type": "markdown",
   "metadata": {},
   "source": [
    "## Constructing the model"
   ]
  },
  {
   "cell_type": "code",
   "execution_count": null,
   "metadata": {},
   "outputs": [],
   "source": [
    "import numpy as np\n",
    "import pandas as pd\n",
    "from laser_core.propertyset import PropertySet\n",
    "from matplotlib import pyplot as plt\n",
    "from scipy.optimize import curve_fit\n",
    "from scipy.optimize import minimize\n",
    "\n",
    "from laser_generic import Model\n",
    "from laser_generic.susceptibility import Susceptibility\n",
    "from laser_generic.transmission import Transmission\n",
    "from laser_generic.utils import seed_infections_randomly_SI\n",
    "\n",
    "f\"{np.__version__=}\""
   ]
  },
  {
   "cell_type": "markdown",
   "metadata": {},
   "source": [
    "A note that order of the model components matters, because of how recording of relevant statistics into outputs occurs.  If transmission comes before susceptibility, then we have *N = S+I+ΔI*, because we record *I*, record *ΔI*, do transmission, then record *S* after the transmission process occurs.  With susceptibility first, we record *S*, then record *I*, then do transmission and record *ΔI*, and so we have *N = S+I*."
   ]
  },
  {
   "cell_type": "code",
   "execution_count": null,
   "metadata": {},
   "outputs": [],
   "source": [
    "pop = 1e6\n",
    "init_inf = 1\n",
    "scenario = pd.DataFrame(data=[[\"homenode\", pop, \"47°36′35″N 122°19′59″W\"]], columns=[\"name\", \"population\", \"location\"])\n",
    "parameters = PropertySet({\"seed\": 6, \"nticks\": 730, \"verbose\": True, \"beta\": 0.05})\n",
    "model = Model(scenario, parameters)\n",
    "\n",
    "\n",
    "model.components = [\n",
    "    Susceptibility,\n",
    "    Transmission,\n",
    "]\n",
    "\n",
    "seed_infections_randomly_SI(model, ninfections=init_inf)\n",
    "model.run()"
   ]
  },
  {
   "cell_type": "markdown",
   "metadata": {},
   "source": [
    "## First set of sanity checks"
   ]
  },
  {
   "cell_type": "code",
   "execution_count": null,
   "metadata": {},
   "outputs": [],
   "source": [
    "plt.plot(model.patches.cases.astype(\"int\"), lw=4)\n",
    "plt.plot(model.patches.populations[:-1] - model.patches.susceptibility.astype(\"int\"), \"--\", lw=3)\n",
    "plt.plot(init_inf + np.insert(np.cumsum(model.patches.incidence[:-1]).astype(\"int\"), 0, 0), \":\", lw=2, color=\"black\")\n",
    "plt.yscale(\"log\")\n",
    "plt.legend([\"Population minus currently infected\", \"Susceptible\", \"Population minus cumulative infections (incidence)\"])\n",
    "\n",
    "print(\"S = N-I:  \" + str(np.isclose(model.patches.susceptibility, model.patches.populations[:-1] - model.patches.cases).all()))\n",
    "print(\n",
    "    \"I=sum(Delta I):  \" + str(np.isclose(np.squeeze(model.patches.cases) - init_inf, [0, *np.cumsum(model.patches.incidence[:-1])]).all())\n",
    ")"
   ]
  },
  {
   "cell_type": "markdown",
   "metadata": {},
   "source": [
    "Introducing stochasticity into a model can result in more than just noise around a mean trajectory, and this simple model is a great example. In the early stages of the outbreak, the infection count is low, and the timing of those first few infections dictates when the logistic growth really takes off.  This appears as a random time-shift in the entire outbreak trajectory.    To illustrate this phenomenon, the below plot shows the model output, the expected logistic growth curve, and the expected logistic growth curve fit to the model with one free parameter -  an offset *t<sub>0</sub>*.  The resulting plot should show good concordance between the model output and the expected logistic equation with the known model inputs β and population.\n",
    "The goodness of this fit could be turned into a strict pass/fail test down the line."
   ]
  },
  {
   "cell_type": "code",
   "execution_count": null,
   "metadata": {},
   "outputs": [],
   "source": [
    "def SI_logistic(t, beta, size, t0):\n",
    "    return size / (1 + (size - 1) * np.exp(-beta * (t - t0)))\n",
    "\n",
    "\n",
    "plt.plot(model.patches.cases, lw=4)\n",
    "\n",
    "t = np.arange(model.params.nticks)\n",
    "\n",
    "\n",
    "def objective(t0):\n",
    "    return np.sum((1 - SI_logistic(t, model.params.beta, pop, t0) / np.squeeze(model.patches.cases.astype(\"int\"))) ** 2)\n",
    "\n",
    "\n",
    "result = minimize(objective, x0=10)\n",
    "t0_opt = result.x[0]\n",
    "\n",
    "plt.plot(t, SI_logistic(t, model.params.beta, pop, 0), \"--\", lw=2)\n",
    "plt.plot(t, SI_logistic(t, model.params.beta, pop, t0_opt), \"--\", lw=3, color=\"k\")\n",
    "plt.yscale(\"log\")\n",
    "plt.legend([\"Model output\", \"Logistic growth with known inputs, t0=0\", f\"Logistic growth with known inputs, best-fit t0 = {t0_opt:.1f}\"])"
   ]
  },
  {
   "cell_type": "markdown",
   "metadata": {},
   "source": [
    "## Scientific testing\n",
    "Finally, we run the model for a range of β parameters, we freely fit the model output to the logistic equation, and we compare the known input parameters against the parameters fitted from output.  \n",
    "\n",
    "Because we are approximating continuously compounding growth by discrete-time compounding growth, we should expect the fitted β to consistently be slightly underestimated relative to the true β, with the relative difference growing as β gets larger.   \n",
    "\n",
    "In the future, we could probably compute the expected error from this approximation.  But for now, to make this a pass-fail test, we will raise a flag if the fitted β is more than 5% different than the known β.\n",
    " "
   ]
  },
  {
   "cell_type": "code",
   "execution_count": null,
   "metadata": {},
   "outputs": [],
   "source": [
    "%%capture\n",
    "nticks = 730\n",
    "t = np.arange(730)\n",
    "pop = 1e5\n",
    "\n",
    "seeds = list(range(10))\n",
    "betas = [0.01 * i for i in range(1, 11)]\n",
    "output = pd.DataFrame(columns=[\"seed\", \"beta\", \"cases\", \"fitted_beta\", \"fitted_size\", \"fitted_t0\"])\n",
    "scenario = pd.DataFrame(data=[[\"homenode\", pop, \"47°36′35″N 122°19′59″W\"]], columns=[\"name\", \"population\", \"location\"])\n",
    "for seed, beta in zip(seeds, betas):\n",
    "    parameters = PropertySet({\"seed\": seed, \"nticks\": nticks, \"verbose\": True, \"beta\": beta})\n",
    "    model = Model(scenario, parameters)\n",
    "    model.components = [\n",
    "        Susceptibility,\n",
    "        Transmission,\n",
    "    ]\n",
    "    seed_infections_randomly_SI(model, ninfections=1)\n",
    "    model.run()\n",
    "    cases = [model.patches.cases[i][0] for i in range(nticks)]\n",
    "    popt, pcov = curve_fit(SI_logistic, t, cases, p0=[0.05, 1.1e5, 1])\n",
    "\n",
    "    output = pd.concat(\n",
    "        [\n",
    "            output,\n",
    "            pd.DataFrame.from_dict(\n",
    "                {\n",
    "                    \"seed\": seed,\n",
    "                    \"beta\": beta,\n",
    "                    \"cases\": [np.array(cases)],\n",
    "                    \"fitted_beta\": popt[0],\n",
    "                    \"fitted_size\": popt[1],\n",
    "                    \"fitted_t0\": popt[2],\n",
    "                }\n",
    "            ),\n",
    "        ],\n",
    "        ignore_index=True,\n",
    "    )"
   ]
  },
  {
   "cell_type": "code",
   "execution_count": null,
   "metadata": {},
   "outputs": [],
   "source": [
    "plt.plot(output[\"beta\"], output[\"fitted_beta\"], \"o\")\n",
    "plt.xlabel(\"True beta\")\n",
    "plt.ylabel(\"Fitted beta\")\n",
    "plt.figure()\n",
    "plt.plot(output[\"beta\"], (output[\"beta\"] - output[\"fitted_beta\"]) / output[\"beta\"], \"o\")\n",
    "plt.xlabel(\"True beta\")\n",
    "plt.ylabel(\"Relative error in fitted beta\")"
   ]
  },
  {
   "cell_type": "code",
   "execution_count": null,
   "metadata": {},
   "outputs": [],
   "source": [
    "print(\n",
    "    \"All fitted beta are within 5% of known beta: \" + str(np.all(np.abs((output[\"beta\"] - output[\"fitted_beta\"]) / output[\"beta\"]) < 0.05))\n",
    ")"
   ]
  }
 ],
 "metadata": {
  "kernelspec": {
   "display_name": ".venv",
   "language": "python",
   "name": "python3"
  },
  "language_info": {
   "codemirror_mode": {
    "name": "ipython",
    "version": 3
   },
   "file_extension": ".py",
   "mimetype": "text/x-python",
   "name": "python",
   "nbconvert_exporter": "python",
   "pygments_lexer": "ipython3",
   "version": "3.11.11"
  }
 },
 "nbformat": 4,
 "nbformat_minor": 2
}
