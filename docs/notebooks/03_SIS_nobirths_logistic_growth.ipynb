{
 "cells": [
  {
   "cell_type": "markdown",
   "metadata": {},
   "source": [
    "# SIS Model with No Demographics\n",
    "\n",
    "Moving on from the SI model to something slightly more complex, we will add a state transition from infected back to susceptible, with no period of immunity - this is the SIS model.  It turns out that the equations governing this will be analogous to the SI model with demography - rather than births & mortality providing routes to add susceptibles and subtract infectives, this transition from infective -> susceptible will provide essentially the same mechanism. \n",
    "\n",
    "$$\n",
    "\\dot{S} = -\\frac{\\beta*S*I}{N} + \\gamma I\\\\\n",
    "\n",
    "\\dot{I} = \\frac{\\beta*S*I}{N} - \\gamma I\n",
    "$$\n",
    "\n",
    "As before, subbing $S = N-I$ into the second equation gives us\n",
    "\n",
    "$$ \\dot{I} = \\beta I ( 1-\\frac{\\gamma}{\\beta}-\\frac{I}{N})$$\n",
    "\n",
    "And comparing against the SI model with births, it is clear this equation is of the same form, with solution\n",
    "$$\n",
    "\\frac{Nx}{1+(\\frac{Nx}{I_0}-1)e^{-\\beta x t}} \\\\\n",
    "x = (1-\\frac{\\gamma}{\\beta})\n",
    "$$\n",
    "\n",
    "\n",
    "This notebook tests the implementation and behavior of the model as follows:\n",
    "### Construct the model\n",
    "In the first few cells, we do all the necessary imports.  Then we construct a single-patch LASER model with three components: `Susceptibility`, `Transmission`, and `Infection_SIS` - this component will require a new agent property `itimer`, and upon expiration of `itimer` agents will return to the susceptible state.  Finally, we initialize with a single infection and run.  The `Susceptibility` and `Transmission` components are previously described. \n",
    "\n",
    "\n",
    "### Sanity check\n",
    "The first test ensures certain basic constraints are being obeyed by the model.  We confirm that at each timestep, *S<sub>t</sub>=N<sub>t</sub>-I<sub>t</sub>*. \n",
    "\n",
    "### Scientific test\n",
    "Finally, we come to the scientific test.  As before, we first test on a single instance of the model and show that the expected output is recovered.  Then, we select a few values of β and γ, run the model, fit the outputs to the logistic equation, and compare the fitted value of β and γ to the known values; all of the considerations noted in the SI with births model, in terms of how to approach this fit, are echoed again here.  Of particular concern is the approximation of an exponential transition from infected back to susceptible - as we are doing a first-order finite timestep integration here, that approximation will probably produce an error linear in γΔ*t* between the analytic result and the modeled result.  In fact, in a lot of real disease models, we have compartment dwell times in the exposed and infective states that are only a handful of Δ*t* long, but when doing real epi modeling and calibrating model parameters to uncertain data, this is generally not likely to be a dominant source of bias, uncertainty, etc.  But when comparing specifically against an analytic result, it can become significant.  \n",
    "\n"
   ]
  },
  {
   "cell_type": "code",
   "execution_count": null,
   "metadata": {},
   "outputs": [],
   "source": [
    "import matplotlib.pyplot as plt\n",
    "import numpy as np\n",
    "import pandas as pd\n",
    "from laser_core.propertyset import PropertySet\n",
    "from scipy.optimize import curve_fit\n",
    "from scipy.optimize import minimize\n",
    "\n",
    "from laser_generic import Model\n",
    "from laser_generic.infection import Infection_SIS\n",
    "from laser_generic.susceptibility import Susceptibility\n",
    "from laser_generic.transmission import Transmission\n",
    "\n",
    "f\"{np.__version__=}\""
   ]
  },
  {
   "cell_type": "markdown",
   "metadata": {},
   "source": [
    "To make sure we don't accumulate lots of finite time-step error, make inf mean quite long in units of timestep"
   ]
  },
  {
   "cell_type": "code",
   "execution_count": null,
   "metadata": {},
   "outputs": [],
   "source": [
    "pop = 3e5\n",
    "\n",
    "scenario = pd.DataFrame(data=[[\"homenode\", pop]], columns=[\"name\", \"population\"])\n",
    "parameters = PropertySet({\"seed\": 4, \"nticks\": 3000, \"verbose\": True, \"beta\": 0.01, \"inf_mean\": 300})\n",
    "model = Model(scenario, parameters)\n",
    "model.components = [\n",
    "    Infection_SIS,\n",
    "    Susceptibility,\n",
    "    Transmission,\n",
    "]"
   ]
  },
  {
   "cell_type": "code",
   "execution_count": null,
   "metadata": {},
   "outputs": [],
   "source": [
    "from laser_generic.utils import seed_infections_randomly\n",
    "\n",
    "seed_infections_randomly(model, ninfections=1)\n",
    "model.run()"
   ]
  },
  {
   "cell_type": "markdown",
   "metadata": {},
   "source": [
    "# Sanity checks\n",
    "Check that the relationships between susceptible, infected, and total population hold."
   ]
  },
  {
   "cell_type": "code",
   "execution_count": null,
   "metadata": {},
   "outputs": [],
   "source": [
    "# I = model.patches.cases.astype(\"int\")\n",
    "# I2 = model.patches.populations[:-1] - model.patches.susceptibility.astype(\"int\")\n",
    "# plt.plot(I - I2)\n",
    "plt.plot(model.patches.cases.astype(\"int\"), lw=4)\n",
    "plt.plot(model.patches.populations[:-1] - model.patches.susceptibility.astype(\"int\"), \"--\", lw=3)\n",
    "plt.yscale(\"log\")\n",
    "plt.legend([\"Population minus currently infected\", \"Susceptible\", \"Population minus cumulative infections (incidence)\"])\n",
    "print(\"S = N-I:  \" + str(np.isclose(model.patches.susceptibility, model.patches.populations[:-1] - model.patches.cases).all()))"
   ]
  },
  {
   "cell_type": "markdown",
   "metadata": {},
   "source": [
    "### Single-simulation check\n",
    "As before, starting with a single infection induces some stochasticity in terms of when the outbreak really starts to take off, and so we fit the expected behavior with a free offset parameter below."
   ]
  },
  {
   "cell_type": "code",
   "execution_count": null,
   "metadata": {},
   "outputs": [],
   "source": [
    "def SIS_logistic(t, beta, popsize, gamma, t0):\n",
    "    x = 1 - gamma / beta\n",
    "    return popsize * x / (1 + (popsize * x - 1) * np.exp(-beta * x * (t - t0)))\n",
    "\n",
    "\n",
    "t = np.arange(model.params.nticks)\n",
    "\n",
    "\n",
    "def objective(t0):\n",
    "    return np.sum(\n",
    "        (1 - SIS_logistic(t, model.params.beta, pop, 1 / model.params.inf_mean, t0) / np.squeeze(model.patches.cases.astype(\"int\"))) ** 2\n",
    "    )\n",
    "\n",
    "\n",
    "result = minimize(objective, x0=10)\n",
    "t0_opt = result.x[0]\n",
    "\n",
    "plt.plot(model.patches.cases, lw=4)\n",
    "plt.plot(SIS_logistic(t, model.params.beta, pop, 1 / model.params.inf_mean, 0), lw=3)\n",
    "plt.plot(SIS_logistic(t, model.params.beta, pop, 1 / model.params.inf_mean, t0_opt), \"r:\", lw=3)\n",
    "plt.yscale(\"log\")\n",
    "plt.legend([\"Model output\", \"Logistic growth with known inputs, t0=0\", f\"Logistic growth with known inputs, best-fit t0 = {t0_opt:.1f}\"])"
   ]
  },
  {
   "cell_type": "markdown",
   "metadata": {},
   "source": [
    "## Scientific testing\n",
    "Finally, we run the model for a range of β & γ  parameters, we freely fit the model output to the logistic equation, and we compare the known input parameters against the parameters fitted from output.  \n",
    "\n",
    "We will use only relatively large values of γ for this procedure.  The reason why will become clear in a second test, where we demonstrate that there is an error between the expected final size and the modeled final size, and that this error shrinks with γΔ*t*, as we would expect a first-order approximation error to.  \n",
    "\n",
    "To make this a pass-fail test, we will raise a flag if the fitted parameters are more than 5% different than the known ones."
   ]
  },
  {
   "cell_type": "code",
   "execution_count": null,
   "metadata": {},
   "outputs": [],
   "source": [
    "%%capture\n",
    "\n",
    "nticks = 3000\n",
    "t = np.arange(nticks)\n",
    "betarange = [0.03, 0.1]\n",
    "gammarange = [1 / 200, 1 / 50]\n",
    "seeds = list(range(10))\n",
    "pop = 3e5\n",
    "betas = np.random.uniform(betarange[0], betarange[1], 10)\n",
    "gammas = np.random.uniform(gammarange[0], gammarange[1], 10)\n",
    "output = pd.DataFrame(columns=[\"seed\", \"beta\", \"gamma\", \"cases\", \"fitted_beta\", \"fitted_gamma\", \"fitted_t0\"])\n",
    "scenario = pd.DataFrame(data=[[\"homenode\", pop]], columns=[\"name\", \"population\"])\n",
    "\n",
    "for seed, beta, gamma in zip(seeds, betas, gammas):\n",
    "    parameters = PropertySet({\"seed\": seed, \"nticks\": nticks, \"verbose\": True, \"beta\": beta, \"inf_mean\": 1 / gamma})\n",
    "    model = Model(scenario, parameters)\n",
    "    model.components = [\n",
    "        Infection_SIS,\n",
    "        Susceptibility,\n",
    "        Transmission,\n",
    "    ]\n",
    "    seed_infections_randomly(model, ninfections=3)\n",
    "    model.run()\n",
    "    cases = [model.patches.cases[i][0] for i in range(nticks)]\n",
    "    popt, pcov = curve_fit(\n",
    "        SIS_logistic,\n",
    "        t,\n",
    "        cases,\n",
    "        p0=[np.mean(betarange), pop, np.mean(gammarange), 1],\n",
    "        bounds=([betarange[0] / 2, pop - 1, gammarange[0] / 2, -300], [betarange[1] * 2, pop + 1, gammarange[1] * 2, 300]),\n",
    "    )\n",
    "\n",
    "    output = pd.concat(\n",
    "        [\n",
    "            output,\n",
    "            pd.DataFrame.from_dict(\n",
    "                {\n",
    "                    \"seed\": seed,\n",
    "                    \"beta\": beta,\n",
    "                    \"gamma\": gamma,\n",
    "                    \"cases\": [np.array(cases)],\n",
    "                    \"fitted_beta\": popt[0],\n",
    "                    \"fitted_gamma\": popt[2],\n",
    "                    \"fitted_t0\": popt[3],\n",
    "                }\n",
    "            ),\n",
    "        ],\n",
    "        ignore_index=True,\n",
    "    )"
   ]
  },
  {
   "cell_type": "code",
   "execution_count": null,
   "metadata": {},
   "outputs": [],
   "source": [
    "plt.figure()\n",
    "plt.plot(output[\"beta\"], output[\"fitted_beta\"], \"o\")\n",
    "plt.xlim(betarange[0], betarange[1])\n",
    "plt.ylim(betarange[0], betarange[1])\n",
    "plt.figure()\n",
    "plt.plot(output[\"beta\"], output[\"beta\"] - output[\"fitted_beta\"], \"o\")\n",
    "plt.xlim(betarange[0], betarange[1])\n",
    "plt.ylim(-betarange[1], betarange[1])\n",
    "plt.figure()\n",
    "plt.plot(output[\"gamma\"], output[\"fitted_gamma\"], \"o\")\n",
    "plt.xlim(gammarange[0], gammarange[1])\n",
    "plt.ylim(gammarange[0], gammarange[1])\n",
    "plt.figure()\n",
    "plt.plot(output[\"gamma\"], output[\"gamma\"] - output[\"fitted_gamma\"], \"o\")\n",
    "plt.xlim(gammarange[0], gammarange[1])\n",
    "plt.ylim(-gammarange[1], gammarange[1])"
   ]
  },
  {
   "cell_type": "code",
   "execution_count": null,
   "metadata": {},
   "outputs": [],
   "source": [
    "print(\n",
    "    \"All fitted beta are within 5% of known beta: \" + str(np.all(np.abs((output[\"beta\"] - output[\"fitted_beta\"]) / output[\"beta\"]) < 0.05))\n",
    ")\n",
    "print(\n",
    "    \"All fitted gamma are within 10% of known gamma: \"\n",
    "    + str(np.all(np.abs((output[\"gamma\"] - output[\"fitted_gamma\"]) / output[\"gamma\"]) < 0.1))\n",
    ")"
   ]
  },
  {
   "cell_type": "code",
   "execution_count": null,
   "metadata": {},
   "outputs": [],
   "source": [
    "output"
   ]
  },
  {
   "cell_type": "markdown",
   "metadata": {},
   "source": [
    "### Quick demonstration of first-order error accumulation\n",
    "As noted before, for γΔ*t* large, first-order integration like we are doing here can accumulate substantial error.  Calculating exactly how error will accumulate in an integrator for a dynamic process like this is beyond the scope here, and probably depends on a lot of details.  E.g., the ordering of steps - in a given step, does the `transmission` update from S->I state occur before or after the `infection` update that sends agents from I->S?  Do we use midpoint methods, timer countdowns, or take advantage of the unique memorylessness of the exponential distribution to simply remove a random fraction each time?  All that is beyond scope here, but just want to demonstrate that the error in the equilibrium value *I(t -> ∞)* becomes large when the mean infectious period *1/γ* is on the same order as Δ*t*."
   ]
  },
  {
   "cell_type": "code",
   "execution_count": null,
   "metadata": {},
   "outputs": [],
   "source": [
    "%%capture\n",
    "\n",
    "gammas = [1 / infmean for infmean in [1, 1.5, 2, 2.5, 3, 6, 12, 18, 30, 45, 60, 90, 120, 180, 240, 300]]\n",
    "betas = [3 * gamma for gamma in gammas]\n",
    "\n",
    "\n",
    "nticks = 3000\n",
    "seeds = list(range(len(gammas)))\n",
    "pop = 1e5\n",
    "final_expected = np.array([])\n",
    "final_observed = np.array([])\n",
    "scenario = pd.DataFrame(data=[[\"homenode\", pop]], columns=[\"name\", \"population\"])\n",
    "\n",
    "for seed, beta, gamma in zip(seeds, betas, gammas):\n",
    "    parameters = PropertySet({\"seed\": seed, \"nticks\": nticks, \"verbose\": True, \"beta\": beta, \"inf_mean\": 1 / gamma})\n",
    "    model = Model(scenario, parameters)\n",
    "    model.components = [\n",
    "        Infection_SIS,\n",
    "        Susceptibility,\n",
    "        Transmission,\n",
    "    ]\n",
    "    seed_infections_randomly(model, ninfections=20)\n",
    "    model.run()\n",
    "    final_observed = np.append(final_observed, model.patches.cases[-1][0])\n",
    "    final_expected = np.append(final_expected, pop * (1 - gamma / beta))"
   ]
  },
  {
   "cell_type": "code",
   "execution_count": null,
   "metadata": {},
   "outputs": [],
   "source": [
    "plt.plot(gammas, np.abs(1 - final_observed / final_expected), \"o\")\n",
    "plt.xlabel(r\"$\\gamma$\")\n",
    "plt.ylabel(\"$| 1 - \\\\frac{I(\\\\infty)_{obs}}{I(\\\\infty)_{exp}} |$\")\n",
    "plt.title(r\"Error in equilibrium infected fraction increases roughly linearly in $\\gamma \\Delta t$\")"
   ]
  }
 ],
 "metadata": {
  "kernelspec": {
   "display_name": ".venv",
   "language": "python",
   "name": "python3"
  },
  "language_info": {
   "codemirror_mode": {
    "name": "ipython",
    "version": 3
   },
   "file_extension": ".py",
   "mimetype": "text/x-python",
   "name": "python",
   "nbconvert_exporter": "python",
   "pygments_lexer": "ipython3",
   "version": "3.11.11"
  }
 },
 "nbformat": 4,
 "nbformat_minor": 2
}
