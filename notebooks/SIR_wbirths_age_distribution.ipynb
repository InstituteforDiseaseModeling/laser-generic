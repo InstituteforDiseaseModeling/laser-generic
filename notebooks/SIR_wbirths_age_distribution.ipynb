{
 "cells": [
  {
   "cell_type": "markdown",
   "metadata": {},
   "source": [
    "# Outbreak size in the SIR model (Kermack-McKendrick relation)\n",
    "\n",
    "Continuing our investigation of the Susceptible-Infected-Recovered model, we will add demographics and investigate the behavior of the model in and around the endemic equilibrium.  The first \n",
    "\n",
    "$$\n",
    "\\dot{S} = -\\frac{\\beta*S*I}{N} + \\mu N - \\mu S\\\\\n",
    "\n",
    "\\dot{I} = \\frac{\\beta*S*I}{N} - \\gamma I - \\mu I\\\\\n",
    "\n",
    "\\dot{R} = \\gamma I - \\mu R\n",
    "$$\n",
    "\n",
    "Analysis of this system can be found in other sources (ref. Keeling/Rohani).  Setting the derivatives to zero and doing a bit of algebra gets you to the endemic equilbrium\n",
    "\n",
    "$$\n",
    "(S^*, \\: I^*, \\: R^*) = (\\frac{1}{R_0}, \\:\\: \\frac{\\mu (R_0-1)}{\\beta}, \\: \\: 1-\\frac{1}{R_0} - \\frac{\\mu (R_0-1)}{\\beta}) \\\\\n",
    "\n",
    "\\text{where} \\:\\: R_0 = \\frac{\\beta}{\\gamma + \\mu}\n",
    "$$\n",
    "\n",
    "An individual susceptible's mean time to infection will then be the inverse of the total force of infection, $\\beta I^*$.  \n",
    "$$\n",
    "\\tau_{S \\rightarrow I} = \\frac{1}{\\mu (R_0 -1)}\n",
    "$$\n",
    "\n",
    "The equation above is often also described as the average age at infection.  However, it is key to remember that the measured age at infection will be censored by non-disease deaths occurring at a rate $\\mu$.  You can work through the impact of this, but in the simple case of constant mortality, it turns out to exactly balance out the $-1$ in the above equation, and so our *observed* average age at infection will be $\\frac{1}{\\mu R_0}$.  Since the hazard is constant at equilibrium, this implies an exponential distribution:\n",
    "\n",
    "$$P(a | S->I) \\sim \\mu R_0 e^{-\\mu R_0 a}$$\n",
    "\n",
    "Alternatively, we can correct for the influence of mortality by observing the fraction of children who are susceptible at age A, which necessarily conditions on survival to age A.  This will look like the cumulative distribution of an exponential distributed according to the mean time to infection above:\n",
    "\n",
    "$$P(R | a) \\sim 1 - e^(-a \\mu (R_0-1))$$\n",
    "\n",
    "### Contruct the model\n",
    "In the first few cells, we do all the necessary imports.  Because we are now measuring an equilibrium property of this system, we will have to burn in, with repeated infection importations to ensure that we establish an endemic equilibrium.  We also need to model a large enough population to sustain the infection (see Critical Community Size notebook).  The primary determinant of the critical community size is the duration of infection, so keeping this relatively long (2 months) prevents us from needing huge agent populations.  So, we construct a single-patch LASER model with fice components: `Births_ConstantPop`, `Susceptibility`, `Transmission`, `Infection`, and `Infect_Random_Agents`, a function that implements repeated importation for a fixed period of time. \n",
    "\n",
    "### Sanity check\n",
    "The first test, as always, ensures that certain basic constraints are being obeyed by the model.  As it stands, I am not actually explicitly tracking the recovered population, but I can check that $S_t = N_t - \\sum{\\Delta_I}$.  \n",
    "\n",
    "### Scientific test\n",
    "The scientific test will sample a set of $(\\mu, R_0)$ pairs and confirm that both the age at infection and the fraction of susceptibles at a given age are well-described by exponential distributions and that the associated rate constant is as expected.   \n",
    "\n"
   ]
  },
  {
   "cell_type": "code",
   "execution_count": 1,
   "metadata": {},
   "outputs": [
    {
     "data": {
      "text/plain": [
       "\"np.__version__='1.26.4'\""
      ]
     },
     "execution_count": 1,
     "metadata": {},
     "output_type": "execute_result"
    }
   ],
   "source": [
    "import numpy as np\n",
    "import pandas as pd\n",
    "from laser_core.propertyset import PropertySet\n",
    "import matplotlib.pyplot as plt\n",
    "import itertools\n",
    "\n",
    "from scipy.optimize import fsolve\n",
    "import scipy.fftpack as fftpack\n",
    "from tqdm.notebook import tqdm #, trange\n",
    "\n",
    "\n",
    "from laser_generic import Model\n",
    "from laser_generic import Infection\n",
    "from laser_generic import Susceptibility\n",
    "from laser_generic import Transmission\n",
    "from laser_generic import Births_ConstantPop\n",
    "from laser_generic.importation import Infect_Random_Agents\n",
    "from scipy.stats import expon\n",
    "from scipy.stats import kstest\n",
    "from laser_generic.utils import set_initial_susceptibility_randomly\n",
    "from laser_generic.utils import seed_infections_randomly\n",
    "\n",
    "f\"{np.__version__=}\""
   ]
  },
  {
   "cell_type": "code",
   "execution_count": 2,
   "metadata": {},
   "outputs": [],
   "source": [
    "scenario = pd.DataFrame(data=[[\"homenode\", 1e5, \"47°36′35″N 122°19′59″W\"]], columns=[\"name\", \"population\", \"location\"])\n",
    "parameters = PropertySet({\"seed\": 4, \n",
    "                          \"nticks\": 18250, \n",
    "                          \"verbose\": True, \n",
    "                          \"beta\": 0.1, \n",
    "                          \"inf_mean\": 60, \n",
    "                          \"cbr\": 90, \n",
    "                          \"importation_period\": 180, \n",
    "                          \"importation_count\": 3})"
   ]
  },
  {
   "cell_type": "code",
   "execution_count": 3,
   "metadata": {},
   "outputs": [
    {
     "name": "stdout",
     "output_type": "stream",
     "text": [
      "2025-02-03 19:16:48.772280: Creating the generic model…\n",
      "Initializing the generic model with 1 patches…\n",
      "2025-02-03 19:16:48.787813: Running the generic model for 18250 ticks…\n"
     ]
    },
    {
     "data": {
      "application/vnd.jupyter.widget-view+json": {
       "model_id": "60e9532d94bf4e9986acfa6e48372e30",
       "version_major": 2,
       "version_minor": 0
      },
      "text/plain": [
       "  0%|          | 0/18250 [00:00<?, ?it/s]"
      ]
     },
     "metadata": {},
     "output_type": "display_data"
    },
    {
     "name": "stdout",
     "output_type": "stream",
     "text": [
      "Completed the generic model at 2025-02-03 19:17:04.814122…\n",
      "Susceptibility_census:       844,386 µs\n",
      "Transmission_census  :     1,163,848 µs\n",
      "Infection_census     :     1,880,564 µs\n",
      "Model                :       120,120 µs\n",
      "Infect_Random_Agents :       101,490 µs\n",
      "Births_ConstantPop   :     3,995,414 µs\n",
      "Susceptibility       :        31,278 µs\n",
      "Transmission         :    19,664,078 µs\n",
      "Infection            :     3,008,864 µs\n",
      "=======================================\n",
      "Total:                    30,810,042 microseconds\n"
     ]
    },
    {
     "data": {
      "text/plain": [
       "[<matplotlib.lines.Line2D at 0x79d8fef0c6e0>]"
      ]
     },
     "execution_count": 3,
     "metadata": {},
     "output_type": "execute_result"
    },
    {
     "data": {
      "image/png": "[encoded data removed]",
      "text/plain": [
       "<Figure size 640x480 with 1 Axes>"
      ]
     },
     "metadata": {},
     "output_type": "display_data"
    }
   ],
   "source": [
    "model = Model(scenario, parameters)\n",
    "model.components = [\n",
    "    Infect_Random_Agents,\n",
    "    Births_ConstantPop,\n",
    "    Susceptibility,\n",
    "    Transmission,\n",
    "    Infection,\n",
    "]\n",
    "\n",
    "seed_infections_randomly(model, ninfections=1)\n",
    "model.run()\n",
    "plt.plot(model.patches.cases)"
   ]
  },
  {
   "cell_type": "markdown",
   "metadata": {},
   "source": [
    "### Sanity checks\n",
    "As always, check that we haven't broken anything - S+I+R = N at all times.\n",
    "\n",
    "I continue to have these alignment issues between S, I, R.  Something to return to.  The more complex we make the model, the more this sort of thing will pop up.  I'm going to suggest an addition to \"model.py\" that puts all of these state census functions right up front.  "
   ]
  },
  {
   "cell_type": "code",
   "execution_count": 4,
   "metadata": {},
   "outputs": [
    {
     "name": "stdout",
     "output_type": "stream",
     "text": [
      "S+I+R = N:  True\n"
     ]
    }
   ],
   "source": [
    "cases = np.squeeze(model.patches.cases)\n",
    "susc = np.squeeze(model.patches.susceptibility)\n",
    "rec = np.squeeze(model.patches.recovered)\n",
    "inc = np.squeeze(model.patches.incidence)\n",
    "births = np.squeeze(model.patches.births)\n",
    "pops = np.squeeze(model.patches.populations)[:-1]\n",
    "\n",
    "print('S+I+R = N:  '+str(np.isclose(cases+susc+rec, pops).all()))\n"
   ]
  },
  {
   "cell_type": "code",
   "execution_count": 5,
   "metadata": {},
   "outputs": [
    {
     "data": {
      "text/plain": [
       "[<matplotlib.lines.Line2D at 0x79d8ff161940>]"
      ]
     },
     "execution_count": 5,
     "metadata": {},
     "output_type": "execute_result"
    },
    {
     "data": {
      "image/png": "[encoded data removed]",
      "text/plain": [
       "<Figure size 640x480 with 1 Axes>"
      ]
     },
     "metadata": {},
     "output_type": "display_data"
    }
   ],
   "source": [
    "cut = model.agents.doi > 10000\n",
    "plt.hist((model.agents.doi[cut] - model.agents.dob[cut])/365, bins=np.arange(50), density=True)\n",
    "mu = ((1+model.params.cbr/1000)**(1/365)-1)\n",
    "R0 = model.params.beta / (1/model.params.inf_mean + mu)\n",
    "\n",
    "A = 1/((R0)*mu) / 365\n",
    "a = np.arange(50)\n",
    "plt.plot(a, 1/A * np.exp(-a/A))"
   ]
  },
  {
   "cell_type": "code",
   "execution_count": 6,
   "metadata": {},
   "outputs": [
    {
     "data": {
      "text/plain": [
       "1.9953042108854562"
      ]
     },
     "execution_count": 6,
     "metadata": {},
     "output_type": "execute_result"
    }
   ],
   "source": [
    "cut = model.agents.doi > 1\n",
    "np.mean(model.params.nticks - model.agents.dob[~cut])/365"
   ]
  },
  {
   "cell_type": "code",
   "execution_count": 7,
   "metadata": {},
   "outputs": [
    {
     "data": {
      "text/plain": [
       "1.9611573796171695"
      ]
     },
     "execution_count": 7,
     "metadata": {},
     "output_type": "execute_result"
    }
   ],
   "source": [
    "1/(R0)*1/mu / 365"
   ]
  },
  {
   "cell_type": "code",
   "execution_count": 8,
   "metadata": {},
   "outputs": [
    {
     "data": {
      "text/plain": [
       "(1.0, 715.8772447754612)"
      ]
     },
     "execution_count": 8,
     "metadata": {},
     "output_type": "execute_result"
    }
   ],
   "source": [
    "from scipy.stats import expon\n",
    "from scipy.stats import kstest\n",
    "cut = model.agents.doi > 1000 \n",
    "cut = cut & ((model.agents.doi - model.agents.dob)>0)\n",
    "data = (model.agents.doi[cut] - model.agents.dob[cut])\n",
    "params = expon.fit(data)\n",
    "params\n",
    "kstest(data, expon.cdf, params)\n",
    "params"
   ]
  },
  {
   "cell_type": "code",
   "execution_count": 9,
   "metadata": {},
   "outputs": [
    {
     "data": {
      "text/plain": [
       "(0.0, 2500.0)"
      ]
     },
     "execution_count": 9,
     "metadata": {},
     "output_type": "execute_result"
    },
    {
     "data": {
      "image/png": "[encoded data removed]",
      "text/plain": [
       "<Figure size 640x480 with 1 Axes>"
      ]
     },
     "metadata": {},
     "output_type": "display_data"
    }
   ],
   "source": [
    "bins = np.arange(0, 50*365, 250)\n",
    "plt.hist(data, bins=bins, cumulative=True, density=True)\n",
    "plt.plot(bins, expon.cdf(bins, *params))\n",
    "plt.plot(bins, expon.cdf(bins, params[0], A*365))\n",
    "plt.xlim(0, 2500)"
   ]
  },
  {
   "cell_type": "code",
   "execution_count": 10,
   "metadata": {},
   "outputs": [
    {
     "data": {
      "text/plain": [
       "1.9613075199327705"
      ]
     },
     "execution_count": 10,
     "metadata": {},
     "output_type": "execute_result"
    }
   ],
   "source": [
    "params[1]/365"
   ]
  },
  {
   "cell_type": "code",
   "execution_count": null,
   "metadata": {},
   "outputs": [],
   "source": []
  },
  {
   "cell_type": "code",
   "execution_count": 11,
   "metadata": {},
   "outputs": [
    {
     "data": {
      "text/plain": [
       "array([2.45682671])"
      ]
     },
     "execution_count": 11,
     "metadata": {},
     "output_type": "execute_result"
    },
    {
     "data": {
      "image/png": "[encoded data removed]",
      "text/plain": [
       "<Figure size 640x480 with 1 Axes>"
      ]
     },
     "metadata": {},
     "output_type": "display_data"
    }
   ],
   "source": [
    "from scipy.optimize import curve_fit\n",
    "cut = model.agents.susceptibility==1\n",
    "bins = np.linspace(0, 50, 201)\n",
    "age_years = (np.max(model.agents.dob)-model.agents.dob)/365\n",
    "n1 = np.histogram(age_years, bins=bins)[0]\n",
    "n2 = np.histogram(age_years[cut], bins=bins)[0]\n",
    "n1[n1==0]=1\n",
    "y1 = n2/n1\n",
    "y2 = 1-np.cumsum(n2)/np.sum(n2)\n",
    "def Scurve(x, A):\n",
    "    return np.exp(-x/A)\n",
    "\n",
    "popt, pcov = curve_fit(Scurve, bins[:-1]+np.mean(np.diff(bins)), y1, p0=2.5)\n",
    "plt.plot([0, *bins[:-1]+np.mean(np.diff(bins))/2], [1, *y1])\n",
    "#plt.plot([0, *bins[:-1]+np.mean(np.diff(bins))], [1, *(1-np.cumsum(n2)/np.sum(n2))])\n",
    "plt.plot([0, *bins[:-1]+np.mean(np.diff(bins))/2], [1, *(Scurve(bins[:-1]+np.mean(np.diff(bins))/2, *popt))])\n",
    "#plt.hist(data/365, bins, density=True, alpha=0.5)\n",
    "#plt.xlim([0, 10])\n",
    "popt\n"
   ]
  },
  {
   "cell_type": "code",
   "execution_count": 12,
   "metadata": {},
   "outputs": [
    {
     "name": "stdout",
     "output_type": "stream",
     "text": [
      "(0.0, 11.597026082191782)\n",
      "11.11111111111111\n"
     ]
    }
   ],
   "source": [
    "#Test that population age distribution is correct\n",
    "print(expon.fit(age_years))\n",
    "print(1/(model.params.cbr/1000))\n"
   ]
  },
  {
   "cell_type": "code",
   "execution_count": 13,
   "metadata": {},
   "outputs": [
    {
     "name": "stdout",
     "output_type": "stream",
     "text": [
      "(0.0, 1.9509949225880658)\n"
     ]
    }
   ],
   "source": [
    "print(expon.fit(age_years[cut]))"
   ]
  },
  {
   "cell_type": "code",
   "execution_count": null,
   "metadata": {},
   "outputs": [],
   "source": []
  },
  {
   "cell_type": "code",
   "execution_count": 14,
   "metadata": {},
   "outputs": [
    {
     "data": {
      "application/vnd.jupyter.widget-view+json": {
       "model_id": "5473650a12964c43bd1669ada7a53100",
       "version_major": 2,
       "version_minor": 0
      },
      "text/plain": [
       "0it [00:00, ?it/s]"
      ]
     },
     "metadata": {},
     "output_type": "display_data"
    },
    {
     "name": "stdout",
     "output_type": "stream",
     "text": [
      "2025-02-03 19:17:06.596804: Creating the generic model…\n",
      "Initializing the generic model with 1 patches…\n",
      "2025-02-03 19:17:06.611137: Running the generic model for 18250 ticks…\n"
     ]
    },
    {
     "data": {
      "application/vnd.jupyter.widget-view+json": {
       "model_id": "0439bd25102f4b858bc00624bd26460a",
       "version_major": 2,
       "version_minor": 0
      },
      "text/plain": [
       "  0%|          | 0/18250 [00:00<?, ?it/s]"
      ]
     },
     "metadata": {},
     "output_type": "display_data"
    },
    {
     "name": "stdout",
     "output_type": "stream",
     "text": [
      "Completed the generic model at 2025-02-03 19:17:40.433004…\n",
      "Susceptibility_census:     1,412,800 µs\n",
      "Transmission_census  :     2,346,152 µs\n",
      "Infection_census     :     4,456,098 µs\n",
      "Model                :       158,280 µs\n",
      "Births_ConstantPop   :     5,590,960 µs\n",
      "Susceptibility       :        35,366 µs\n",
      "Transmission         :    44,564,880 µs\n",
      "Infection            :     7,295,336 µs\n",
      "Infect_Random_Agents :       119,078 µs\n",
      "=======================================\n",
      "Total:                    65,978,950 microseconds\n",
      "2025-02-03 19:17:40.607415: Creating the generic model…\n",
      "Initializing the generic model with 1 patches…\n",
      "2025-02-03 19:17:40.622204: Running the generic model for 18250 ticks…\n"
     ]
    },
    {
     "data": {
      "application/vnd.jupyter.widget-view+json": {
       "model_id": "273e4edcf89e4026856297ea4425dde1",
       "version_major": 2,
       "version_minor": 0
      },
      "text/plain": [
       "  0%|          | 0/18250 [00:00<?, ?it/s]"
      ]
     },
     "metadata": {},
     "output_type": "display_data"
    },
    {
     "name": "stdout",
     "output_type": "stream",
     "text": [
      "Completed the generic model at 2025-02-03 19:18:10.306491…\n",
      "Susceptibility_census:     1,309,434 µs\n",
      "Transmission_census  :     2,402,084 µs\n",
      "Infection_census     :     4,354,584 µs\n",
      "Model                :       128,396 µs\n",
      "Births_ConstantPop   :     3,845,222 µs\n",
      "Susceptibility       :        31,868 µs\n",
      "Transmission         :    39,270,986 µs\n",
      "Infection            :     6,345,800 µs\n",
      "Infect_Random_Agents :       118,412 µs\n",
      "=======================================\n",
      "Total:                    57,806,786 microseconds\n",
      "2025-02-03 19:18:10.463554: Creating the generic model…\n",
      "Initializing the generic model with 1 patches…\n",
      "2025-02-03 19:18:10.480179: Running the generic model for 18250 ticks…\n"
     ]
    },
    {
     "data": {
      "application/vnd.jupyter.widget-view+json": {
       "model_id": "a393191b34514599a2cdaef5d77fedea",
       "version_major": 2,
       "version_minor": 0
      },
      "text/plain": [
       "  0%|          | 0/18250 [00:00<?, ?it/s]"
      ]
     },
     "metadata": {},
     "output_type": "display_data"
    },
    {
     "name": "stdout",
     "output_type": "stream",
     "text": [
      "Completed the generic model at 2025-02-03 19:18:53.396155…\n",
      "Susceptibility_census:     1,433,052 µs\n",
      "Transmission_census  :     2,436,706 µs\n",
      "Infection_census     :     4,487,240 µs\n",
      "Model                :       137,920 µs\n",
      "Births_ConstantPop   :     5,770,046 µs\n",
      "Susceptibility       :        48,074 µs\n",
      "Transmission         :    61,105,146 µs\n",
      "Infection            :     8,240,212 µs\n",
      "Infect_Random_Agents :       114,970 µs\n",
      "=======================================\n",
      "Total:                    83,773,366 microseconds\n",
      "2025-02-03 19:18:53.579344: Creating the generic model…\n",
      "Initializing the generic model with 1 patches…\n",
      "2025-02-03 19:18:53.599222: Running the generic model for 18250 ticks…\n"
     ]
    },
    {
     "data": {
      "application/vnd.jupyter.widget-view+json": {
       "model_id": "954b8c41ffa748208d22d3637ef589aa",
       "version_major": 2,
       "version_minor": 0
      },
      "text/plain": [
       "  0%|          | 0/18250 [00:00<?, ?it/s]"
      ]
     },
     "metadata": {},
     "output_type": "display_data"
    },
    {
     "name": "stdout",
     "output_type": "stream",
     "text": [
      "Completed the generic model at 2025-02-03 19:19:42.912754…\n",
      "Susceptibility_census:     1,469,586 µs\n",
      "Transmission_census  :     2,457,908 µs\n",
      "Infection_census     :     4,384,838 µs\n",
      "Model                :       136,880 µs\n",
      "Births_ConstantPop   :     6,045,992 µs\n",
      "Susceptibility       :        32,124 µs\n",
      "Transmission         :    73,117,938 µs\n",
      "Infection            :     8,732,322 µs\n",
      "Infect_Random_Agents :       111,426 µs\n",
      "=======================================\n",
      "Total:                    96,489,014 microseconds\n",
      "2025-02-03 19:19:43.063911: Creating the generic model…\n",
      "Initializing the generic model with 1 patches…\n",
      "2025-02-03 19:19:43.076230: Running the generic model for 18250 ticks…\n"
     ]
    },
    {
     "data": {
      "application/vnd.jupyter.widget-view+json": {
       "model_id": "a9d7f4d8cbc240588fc0c6167104e4a5",
       "version_major": 2,
       "version_minor": 0
      },
      "text/plain": [
       "  0%|          | 0/18250 [00:00<?, ?it/s]"
      ]
     },
     "metadata": {},
     "output_type": "display_data"
    },
    {
     "name": "stdout",
     "output_type": "stream",
     "text": [
      "Completed the generic model at 2025-02-03 19:20:20.347451…\n",
      "Susceptibility_census:     1,386,900 µs\n",
      "Transmission_census  :     2,462,882 µs\n",
      "Infection_census     :     4,569,940 µs\n",
      "Model                :       148,390 µs\n",
      "Births_ConstantPop   :     5,421,572 µs\n",
      "Susceptibility       :        38,920 µs\n",
      "Transmission         :    50,778,018 µs\n",
      "Infection            :     7,788,176 µs\n",
      "Infect_Random_Agents :       115,630 µs\n",
      "=======================================\n",
      "Total:                    72,710,428 microseconds\n",
      "2025-02-03 19:20:20.499364: Creating the generic model…\n",
      "Initializing the generic model with 1 patches…\n",
      "2025-02-03 19:20:20.511709: Running the generic model for 18250 ticks…\n"
     ]
    },
    {
     "data": {
      "application/vnd.jupyter.widget-view+json": {
       "model_id": "765144d9137941a18bc7d04ea1599641",
       "version_major": 2,
       "version_minor": 0
      },
      "text/plain": [
       "  0%|          | 0/18250 [00:00<?, ?it/s]"
      ]
     },
     "metadata": {},
     "output_type": "display_data"
    },
    {
     "name": "stdout",
     "output_type": "stream",
     "text": [
      "Completed the generic model at 2025-02-03 19:20:58.613629…\n",
      "Susceptibility_census:     1,415,720 µs\n",
      "Transmission_census  :     2,349,336 µs\n",
      "Infection_census     :     4,497,726 µs\n",
      "Model                :       131,238 µs\n",
      "Births_ConstantPop   :     5,760,606 µs\n",
      "Susceptibility       :        31,834 µs\n",
      "Transmission         :    52,676,870 µs\n",
      "Infection            :     7,371,210 µs\n",
      "Infect_Random_Agents :       129,542 µs\n",
      "=======================================\n",
      "Total:                    74,364,082 microseconds\n",
      "2025-02-03 19:20:58.797099: Creating the generic model…\n",
      "Initializing the generic model with 1 patches…\n",
      "2025-02-03 19:20:58.807478: Running the generic model for 18250 ticks…\n"
     ]
    },
    {
     "data": {
      "application/vnd.jupyter.widget-view+json": {
       "model_id": "e018b716be5f4730b743a4c07bbd926e",
       "version_major": 2,
       "version_minor": 0
      },
      "text/plain": [
       "  0%|          | 0/18250 [00:00<?, ?it/s]"
      ]
     },
     "metadata": {},
     "output_type": "display_data"
    },
    {
     "ename": "KeyboardInterrupt",
     "evalue": "",
     "output_type": "error",
     "traceback": [
      "\u001b[0;31m---------------------------------------------------------------------------\u001b[0m",
      "\u001b[0;31mKeyboardInterrupt\u001b[0m                         Traceback (most recent call last)",
      "Cell \u001b[0;32mIn[14], line 39\u001b[0m\n\u001b[1;32m     37\u001b[0m set_initial_susceptibility_randomly(model, \u001b[38;5;241m1\u001b[39m\u001b[38;5;241m/\u001b[39mrow[\u001b[38;5;124m'\u001b[39m\u001b[38;5;124mR0\u001b[39m\u001b[38;5;124m'\u001b[39m]\u001b[38;5;241m+\u001b[39m\u001b[38;5;241m.05\u001b[39m)\n\u001b[1;32m     38\u001b[0m seed_infections_randomly(model, ninfections\u001b[38;5;241m=\u001b[39m\u001b[38;5;241m1\u001b[39m)\n\u001b[0;32m---> 39\u001b[0m \u001b[43mmodel\u001b[49m\u001b[38;5;241;43m.\u001b[39;49m\u001b[43mrun\u001b[49m\u001b[43m(\u001b[49m\u001b[43m)\u001b[49m\n\u001b[1;32m     41\u001b[0m cut \u001b[38;5;241m=\u001b[39m model\u001b[38;5;241m.\u001b[39magents\u001b[38;5;241m.\u001b[39mdoi \u001b[38;5;241m>\u001b[39m \u001b[38;5;241m10000\u001b[39m \n\u001b[1;32m     42\u001b[0m age_inf \u001b[38;5;241m=\u001b[39m (model\u001b[38;5;241m.\u001b[39magents\u001b[38;5;241m.\u001b[39mdoi[cut] \u001b[38;5;241m-\u001b[39m model\u001b[38;5;241m.\u001b[39magents\u001b[38;5;241m.\u001b[39mdob[cut])\n",
      "File \u001b[0;32m/workspaces/laser-generic/src/laser_generic/model.py:275\u001b[0m, in \u001b[0;36mModel.run\u001b[0;34m(self)\u001b[0m\n\u001b[1;32m    273\u001b[0m \u001b[38;5;28;01mfor\u001b[39;00m phase \u001b[38;5;129;01min\u001b[39;00m \u001b[38;5;28mself\u001b[39m\u001b[38;5;241m.\u001b[39mphases:\n\u001b[1;32m    274\u001b[0m     tstart \u001b[38;5;241m=\u001b[39m datetime\u001b[38;5;241m.\u001b[39mnow(tz\u001b[38;5;241m=\u001b[39m\u001b[38;5;28;01mNone\u001b[39;00m)  \u001b[38;5;66;03m# noqa: DTZ005\u001b[39;00m\n\u001b[0;32m--> 275\u001b[0m     \u001b[43mphase\u001b[49m\u001b[43m(\u001b[49m\u001b[38;5;28;43mself\u001b[39;49m\u001b[43m,\u001b[49m\u001b[43m \u001b[49m\u001b[43mtick\u001b[49m\u001b[43m)\u001b[49m\n\u001b[1;32m    276\u001b[0m     tfinish \u001b[38;5;241m=\u001b[39m datetime\u001b[38;5;241m.\u001b[39mnow(tz\u001b[38;5;241m=\u001b[39m\u001b[38;5;28;01mNone\u001b[39;00m)  \u001b[38;5;66;03m# noqa: DTZ005\u001b[39;00m\n\u001b[1;32m    277\u001b[0m     delta \u001b[38;5;241m=\u001b[39m tfinish \u001b[38;5;241m-\u001b[39m tstart\n",
      "File \u001b[0;32m/workspaces/laser-generic/src/laser_generic/infection.py:96\u001b[0m, in \u001b[0;36mInfection.__call__\u001b[0;34m(self, model, tick)\u001b[0m\n\u001b[1;32m     82\u001b[0m \u001b[38;5;28;01mdef\u001b[39;00m \u001b[38;5;21m__call__\u001b[39m(\u001b[38;5;28mself\u001b[39m, model, tick) \u001b[38;5;241m-\u001b[39m\u001b[38;5;241m>\u001b[39m \u001b[38;5;28;01mNone\u001b[39;00m:\n\u001b[1;32m     83\u001b[0m \u001b[38;5;250m    \u001b[39m\u001b[38;5;124;03m\"\"\"\u001b[39;00m\n\u001b[1;32m     84\u001b[0m \u001b[38;5;124;03m    Updates the infection timers for the agents in the model.\u001b[39;00m\n\u001b[1;32m     85\u001b[0m \n\u001b[0;32m   (...)\u001b[0m\n\u001b[1;32m     93\u001b[0m \u001b[38;5;124;03m        None\u001b[39;00m\n\u001b[1;32m     94\u001b[0m \u001b[38;5;124;03m    \"\"\"\u001b[39;00m\n\u001b[0;32m---> 96\u001b[0m     \u001b[43mInfection\u001b[49m\u001b[38;5;241;43m.\u001b[39;49m\u001b[43mnb_infection_update\u001b[49m\u001b[43m(\u001b[49m\u001b[43mmodel\u001b[49m\u001b[38;5;241;43m.\u001b[39;49m\u001b[43magents\u001b[49m\u001b[38;5;241;43m.\u001b[39;49m\u001b[43mcount\u001b[49m\u001b[43m,\u001b[49m\u001b[43m \u001b[49m\u001b[43mmodel\u001b[49m\u001b[38;5;241;43m.\u001b[39;49m\u001b[43magents\u001b[49m\u001b[38;5;241;43m.\u001b[39;49m\u001b[43mitimer\u001b[49m\u001b[43m)\u001b[49m\n\u001b[1;32m     98\u001b[0m     \u001b[38;5;28;01mreturn\u001b[39;00m\n",
      "\u001b[0;31mKeyboardInterrupt\u001b[0m: "
     ]
    }
   ],
   "source": [
    "#OK, testing this is a bit more of a pain, since we are running out to some equilibrium-ish condition.\n",
    "#With a large initial outbreak from full susceptibility, this could be a long time to equilibrate.\n",
    "#Partial solution - start us near R-eff=1, but not with the age distribution that we expect, and \n",
    "# let it equilibrate towards that age distribution over a couple of generations.  Still not ideal but \n",
    "#probably faster than starting from S=1.\n",
    "\n",
    "scenario = pd.DataFrame(data=[[\"homenode\", 3e5, \"47°36′35″N 122°19′59″W\"]], columns=[\"name\", \"population\", \"location\"])\n",
    "\n",
    "cbrs = 15+85*np.random.rand(100)\n",
    "inf_means = 5+45*np.random.rand(100)\n",
    "R0s = 1.5+8.5*np.random.rand(100)\n",
    "output = pd.DataFrame(data={\"cbr\": cbrs, \"inf_mean\": inf_means, \"R0\": R0s})\n",
    "output[\"Average_Iage_observed\"] = np.nan\n",
    "output[\"Average_Iage_expected\"] = np.nan\n",
    "output[\"Average_age_expected\"] = np.nan\n",
    "output[\"Average_age_expected\"] = np.nan\n",
    "output[\"Idata_KStest\"] = np.nan\n",
    "for index, row in tqdm(output.iterrows()):\n",
    "    mu = ((1+model.params.cbr/1000)**(1/365)-1)\n",
    "    parameters = PropertySet({\n",
    "        \"seed\": 2, \n",
    "        \"nticks\": 18250, \n",
    "        \"verbose\": True, \n",
    "        \"beta\": row['R0']*(mu + 1/row['inf_mean']), \n",
    "        \"inf_mean\": row['inf_mean'], \n",
    "        \"cbr\": row[\"cbr\"], \n",
    "        \"importation_period\": 180, \n",
    "        \"importation_count\": 3})\n",
    "\n",
    "    model = Model(scenario, parameters)\n",
    "    model.components = [Births_ConstantPop,\n",
    "        Susceptibility,\n",
    "        Transmission,\n",
    "        Infection,\n",
    "        Infect_Random_Agents,\n",
    "    ]\n",
    "    set_initial_susceptibility_randomly(model, 1/row['R0']+.05)\n",
    "    seed_infections_randomly(model, ninfections=1)\n",
    "    model.run()\n",
    "    \n",
    "    cut = model.agents.doi > 10000 \n",
    "    age_inf = (model.agents.doi[cut] - model.agents.dob[cut])\n",
    "    params = expon.fit(age_inf)\n",
    "    output.loc[index, 'Average_Iage_expected'] = 1/(row['R0']*mu) / 365\n",
    "    output.loc[index, 'Average_Iage_observed'] = params[1] / 365\n",
    "    output.loc[index, 'Idata_KStest_obs'] = kstest(age_inf, expon.cdf(params))[0]\n",
    "    output.loc[index, 'Idata_KStest_exp'] = kstest(age_inf, expon.cdf(output.loc[index, 'Average_Iage_expected']))[0]\n",
    "\n",
    "\n",
    "    age_total = parameters.nticks-model.agents.dob\n",
    "    params = expon.fit(age_total)\n",
    "    output.loc[index, 'Average_age_expected'] = 1000/model.params.cbr\n",
    "    output.loc[index, 'Average_age_observed'] = params[1] / 365\n",
    "    output.loc[index, 'Adata_KStest_obs'] = kstest(age_total, expon.cdf(params))[0]\n",
    "    output.loc[index, 'Adata_KStest_exp'] = kstest(age_total, expon.cdf(output.loc[index, 'Average_age_expected'] ))[0]\n",
    "\n",
    "    \n",
    "\n",
    "\n",
    "output.to_csv(\"SIR_output.csv\")\n"
   ]
  },
  {
   "cell_type": "code",
   "execution_count": null,
   "metadata": {},
   "outputs": [],
   "source": []
  }
 ],
 "metadata": {
  "kernelspec": {
   "display_name": "Python 3",
   "language": "python",
   "name": "python3"
  },
  "language_info": {
   "codemirror_mode": {
    "name": "ipython",
    "version": 3
   },
   "file_extension": ".py",
   "mimetype": "text/x-python",
   "name": "python",
   "nbconvert_exporter": "python",
   "pygments_lexer": "ipython3",
   "version": "3.12.1"
  }
 },
 "nbformat": 4,
 "nbformat_minor": 2
}
