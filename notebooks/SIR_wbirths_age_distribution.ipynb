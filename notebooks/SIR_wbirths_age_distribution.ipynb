{
 "cells": [
  {
   "cell_type": "markdown",
   "metadata": {},
   "source": [
    "# Outbreak size in the SIR model (Kermack-McKendrick relation)\n",
    "\n",
    "Continuing our investigation of the Susceptible-Infected-Recovered model, we will add demographics and investigate the behavior of the model in and around the endemic equilibrium.  The first \n",
    "\n",
    "$$\n",
    "\\dot{S} = -\\frac{\\beta*S*I}{N} + \\mu N - \\mu S\\\\\n",
    "\n",
    "\\dot{I} = \\frac{\\beta*S*I}{N} - \\gamma I - \\mu I\\\\\n",
    "\n",
    "\\dot{R} = \\gamma I - \\mu R\n",
    "$$\n",
    "\n",
    "Analysis of this system can be found in other sources (ref. Keeling/Rohani).  Setting the derivatives to zero and doing a bit of algebra gets you to the endemic equilbrium\n",
    "\n",
    "$$\n",
    "(S^*, \\: I^*, \\: R^*) = (\\frac{1}{R_0}, \\:\\: \\frac{\\mu (R_0-1)}{\\beta}, \\: \\: 1-\\frac{1}{R_0} - \\frac{\\mu (R_0-1)}{\\beta}) \\\\\n",
    "\n",
    "\\text{where} \\:\\: R_0 = \\frac{\\beta}{\\gamma + \\mu}\n",
    "$$\n",
    "\n",
    "An individual susceptible's mean time to infection will then be the inverse of the total force of infection, $\\beta I^*$.  \n",
    "$$\n",
    "\\tau_{S \\rightarrow I} = \\frac{1}{\\mu (R_0 -1)}\n",
    "$$\n",
    "\n",
    "The equation above is often also described as the average age at infection.  However, it is key to remember that the measured age at infection will be censored by non-disease deaths occurring at a rate $\\mu$.  You can work through the impact of this, but in the simple case of constant mortality, it turns out to exactly balance out the $-1$ in the above equation, and so our *observed* average age at infection will be $\\frac{1}{\\mu R_0}$.  Since the hazard is constant at equilibrium, this implies an exponential distribution:\n",
    "\n",
    "$$P(a | S->I) \\sim \\mu R_0 e^{-\\mu R_0 a}$$\n",
    "\n",
    "Alternatively, we can correct for the influence of mortality by observing the fraction of children who are susceptible at age A, which necessarily conditions on survival to age A.  This will look like the cumulative distribution of an exponential distributed according to the mean time to infection above:\n",
    "\n",
    "$$P(R | a) \\sim 1 - e^(-a \\mu (R_0-1))$$\n",
    "\n",
    "### Contruct the model\n",
    "In the first few cells, we do all the necessary imports.  Because we are now measuring an equilibrium property of this system, we will have to burn in, with repeated infection importations to ensure that we establish an endemic equilibrium.  We also need to model a large enough population to sustain the infection (see Critical Community Size notebook).  The primary determinant of the critical community size is the duration of infection, so keeping this relatively long (2 months) prevents us from needing huge agent populations.  So, we construct a single-patch LASER model with fice components: `Births_ConstantPop`, `Susceptibility`, `Transmission`, `Infection`, and `Infect_Random_Agents`, a function that implements repeated importation for a fixed period of time. \n",
    "\n",
    "### Sanity check\n",
    "The first test, as always, ensures that certain basic constraints are being obeyed by the model.  As it stands, I am not actually explicitly tracking the recovered population, but I can check that $S_t = N_t - \\sum{\\Delta_I}$.  \n",
    "\n",
    "### Scientific test\n",
    "The scientific test will sample a set of $(\\mu, R_0)$ pairs and confirm that both the age at infection and the fraction of susceptibles at a given age are well-described by exponential distributions and that the associated rate constant is as expected.   \n",
    "\n"
   ]
  },
  {
   "cell_type": "code",
   "execution_count": 16,
   "metadata": {},
   "outputs": [
    {
     "data": {
      "text/plain": [
       "\"np.__version__='1.26.4'\""
      ]
     },
     "execution_count": 16,
     "metadata": {},
     "output_type": "execute_result"
    }
   ],
   "source": [
    "import numpy as np\n",
    "import pandas as pd\n",
    "from laser_core.propertyset import PropertySet\n",
    "import matplotlib.pyplot as plt\n",
    "import itertools\n",
    "\n",
    "from scipy.optimize import fsolve\n",
    "import scipy.fftpack as fftpack\n",
    "\n",
    "from laser_generic import Model\n",
    "from laser_generic import Infection\n",
    "from laser_generic import Susceptibility\n",
    "from laser_generic import Transmission\n",
    "from laser_generic import Births_ConstantPop\n",
    "from laser_generic.importation import Infect_Random_Agents\n",
    "from scipy.stats import expon\n",
    "from scipy.stats import kstest\n",
    "from laser_generic.utils import set_initial_susceptibility_randomly\n",
    "from laser_generic.utils import seed_infections_randomly\n",
    "\n",
    "f\"{np.__version__=}\""
   ]
  },
  {
   "cell_type": "code",
   "execution_count": 17,
   "metadata": {},
   "outputs": [],
   "source": [
    "scenario = pd.DataFrame(data=[[\"homenode\", 1e5, \"47°36′35″N 122°19′59″W\"]], columns=[\"name\", \"population\", \"location\"])\n",
    "parameters = PropertySet({\"seed\": 4, \n",
    "                          \"nticks\": 18250, \n",
    "                          \"verbose\": True, \n",
    "                          \"beta\": 0.1, \n",
    "                          \"inf_mean\": 60, \n",
    "                          \"cbr\": 90, \n",
    "                          \"importation_period\": 180, \n",
    "                          \"importation_count\": 3})"
   ]
  },
  {
   "cell_type": "code",
   "execution_count": 18,
   "metadata": {},
   "outputs": [
    {
     "name": "stdout",
     "output_type": "stream",
     "text": [
      "2025-01-10 23:41:27.970681: Creating the generic model…\n",
      "Initializing the generic model with 1 patches…\n",
      "2025-01-10 23:41:27.974788: Running the generic model for 18250 ticks…\n"
     ]
    },
    {
     "name": "stderr",
     "output_type": "stream",
     "text": [
      "100%|██████████| 18250/18250 [00:07<00:00, 2501.85it/s]\n"
     ]
    },
    {
     "name": "stdout",
     "output_type": "stream",
     "text": [
      "Completed the generic model at 2025-01-10 23:41:35.271150…\n",
      "Susceptibility_census:       381,342 µs\n",
      "Transmission_census  :       502,566 µs\n",
      "Infection_census     :       921,432 µs\n",
      "Model                :        51,902 µs\n",
      "Infect_Random_Agents :        44,660 µs\n",
      "Births_ConstantPop   :     3,591,126 µs\n",
      "Susceptibility       :        23,516 µs\n",
      "Transmission         :     6,989,016 µs\n",
      "Infection            :     1,717,302 µs\n",
      "=======================================\n",
      "Total:                    14,222,862 microseconds\n"
     ]
    },
    {
     "data": {
      "text/plain": [
       "[<matplotlib.lines.Line2D at 0x3193d4890>]"
      ]
     },
     "execution_count": 18,
     "metadata": {},
     "output_type": "execute_result"
    },
    {
     "data": {
      "image/png": "[encoded data removed]",
      "text/plain": [
       "<Figure size 640x480 with 1 Axes>"
      ]
     },
     "metadata": {},
     "output_type": "display_data"
    }
   ],
   "source": [
    "model = Model(scenario, parameters)\n",
    "model.components = [\n",
    "    Infect_Random_Agents,\n",
    "    Births_ConstantPop,\n",
    "    Susceptibility,\n",
    "    Transmission,\n",
    "    Infection,\n",
    "]\n",
    "\n",
    "seed_infections_randomly(model, ninfections=1)\n",
    "model.run()\n",
    "plt.plot(model.patches.cases)"
   ]
  },
  {
   "cell_type": "markdown",
   "metadata": {},
   "source": [
    "### Sanity checks\n",
    "As always, check that we haven't broken anything - S+I+R = N at all times.\n",
    "\n",
    "I continue to have these alignment issues between S, I, R.  Something to return to.  The more complex we make the model, the more this sort of thing will pop up.  I'm going to suggest an addition to \"model.py\" that puts all of these state census functions right up front.  "
   ]
  },
  {
   "cell_type": "code",
   "execution_count": 19,
   "metadata": {},
   "outputs": [
    {
     "name": "stdout",
     "output_type": "stream",
     "text": [
      "S+I+R = N:  True\n"
     ]
    }
   ],
   "source": [
    "cases = np.squeeze(model.patches.cases)\n",
    "susc = np.squeeze(model.patches.susceptibility)\n",
    "rec = np.squeeze(model.patches.recovered)\n",
    "inc = np.squeeze(model.patches.incidence)\n",
    "births = np.squeeze(model.patches.births)\n",
    "pops = np.squeeze(model.patches.populations)[:-1]\n",
    "\n",
    "print('S+I+R = N:  '+str(np.isclose(cases+susc+rec, pops).all()))\n"
   ]
  },
  {
   "cell_type": "code",
   "execution_count": 26,
   "metadata": {},
   "outputs": [
    {
     "data": {
      "text/plain": [
       "[<matplotlib.lines.Line2D at 0x318de1590>]"
      ]
     },
     "execution_count": 26,
     "metadata": {},
     "output_type": "execute_result"
    },
    {
     "data": {
      "image/png": "[encoded data removed]",
      "text/plain": [
       "<Figure size 640x480 with 1 Axes>"
      ]
     },
     "metadata": {},
     "output_type": "display_data"
    }
   ],
   "source": [
    "cut = model.population.doi > 10000\n",
    "plt.hist((model.population.doi[cut] - model.population.dob[cut])/365, bins=np.arange(50), density=True)\n",
    "mu = ((1+model.params.cbr/1000)**(1/365)-1)\n",
    "R0 = model.params.beta / (1/model.params.inf_mean + mu)\n",
    "\n",
    "A = 1/((R0)*mu) / 365\n",
    "a = np.arange(50)\n",
    "plt.plot(a, 1/A * np.exp(-a/A))"
   ]
  },
  {
   "cell_type": "code",
   "execution_count": 27,
   "metadata": {},
   "outputs": [
    {
     "data": {
      "text/plain": [
       "2.0731607073863962"
      ]
     },
     "execution_count": 27,
     "metadata": {},
     "output_type": "execute_result"
    }
   ],
   "source": [
    "cut = model.population.doi > 1\n",
    "np.mean(model.params.nticks - model.population.dob[~cut])/365"
   ]
  },
  {
   "cell_type": "code",
   "execution_count": 28,
   "metadata": {},
   "outputs": [
    {
     "data": {
      "text/plain": [
       "1.9611573796171695"
      ]
     },
     "execution_count": 28,
     "metadata": {},
     "output_type": "execute_result"
    }
   ],
   "source": [
    "1/(R0)*1/mu / 365"
   ]
  },
  {
   "cell_type": "code",
   "execution_count": 29,
   "metadata": {},
   "outputs": [
    {
     "data": {
      "text/plain": [
       "(1.0, 713.0572748497342)"
      ]
     },
     "execution_count": 29,
     "metadata": {},
     "output_type": "execute_result"
    }
   ],
   "source": [
    "from scipy.stats import expon\n",
    "from scipy.stats import kstest\n",
    "cut = model.population.doi > 1000 \n",
    "cut = cut & ((model.population.doi - model.population.dob)>0)\n",
    "data = (model.population.doi[cut] - model.population.dob[cut])\n",
    "params = expon.fit(data)\n",
    "params\n",
    "kstest(data, expon.cdf, params)\n",
    "params"
   ]
  },
  {
   "cell_type": "code",
   "execution_count": 11,
   "metadata": {},
   "outputs": [
    {
     "data": {
      "text/plain": [
       "(0.0, 2500.0)"
      ]
     },
     "execution_count": 11,
     "metadata": {},
     "output_type": "execute_result"
    },
    {
     "data": {
      "image/png": "[encoded data removed]",
      "text/plain": [
       "<Figure size 640x480 with 1 Axes>"
      ]
     },
     "metadata": {},
     "output_type": "display_data"
    }
   ],
   "source": [
    "bins = np.arange(0, 50*365, 250)\n",
    "plt.hist(data, bins=bins, cumulative=True, density=True)\n",
    "plt.plot(bins, expon.cdf(bins, *params))\n",
    "plt.plot(bins, expon.cdf(bins, params[0], A*365))\n",
    "plt.xlim(0, 2500)"
   ]
  },
  {
   "cell_type": "code",
   "execution_count": 10,
   "metadata": {},
   "outputs": [
    {
     "data": {
      "text/plain": [
       "2.473062358336015"
      ]
     },
     "execution_count": 10,
     "metadata": {},
     "output_type": "execute_result"
    }
   ],
   "source": [
    "params[1]/365"
   ]
  },
  {
   "cell_type": "code",
   "execution_count": 14,
   "metadata": {},
   "outputs": [
    {
     "data": {
      "text/plain": [
       "2.3600763059823255"
      ]
     },
     "execution_count": 14,
     "metadata": {},
     "output_type": "execute_result"
    }
   ],
   "source": []
  },
  {
   "cell_type": "code",
   "execution_count": 12,
   "metadata": {},
   "outputs": [
    {
     "data": {
      "text/plain": [
       "array([2.63394669])"
      ]
     },
     "execution_count": 12,
     "metadata": {},
     "output_type": "execute_result"
    },
    {
     "data": {
      "image/png": "[encoded data removed]",
      "text/plain": [
       "<Figure size 640x480 with 1 Axes>"
      ]
     },
     "metadata": {},
     "output_type": "display_data"
    }
   ],
   "source": [
    "from scipy.optimize import curve_fit\n",
    "cut = model.population.susceptibility==1\n",
    "bins = np.linspace(0, 50, 201)\n",
    "age_years = (np.max(model.population.dob)-model.population.dob)/365\n",
    "n1 = np.histogram(age_years, bins=bins)[0]\n",
    "n2 = np.histogram(age_years[cut], bins=bins)[0]\n",
    "n1[n1==0]=1\n",
    "y1 = n2/n1\n",
    "y2 = 1-np.cumsum(n2)/np.sum(n2)\n",
    "def Scurve(x, A):\n",
    "    return np.exp(-x/A)\n",
    "\n",
    "popt, pcov = curve_fit(Scurve, bins[:-1]+np.mean(np.diff(bins)), y1, p0=2.5)\n",
    "plt.plot([0, *bins[:-1]+np.mean(np.diff(bins))/2], [1, *y1])\n",
    "#plt.plot([0, *bins[:-1]+np.mean(np.diff(bins))], [1, *(1-np.cumsum(n2)/np.sum(n2))])\n",
    "plt.plot([0, *bins[:-1]+np.mean(np.diff(bins))/2], [1, *(Scurve(bins[:-1]+np.mean(np.diff(bins))/2, *popt))])\n",
    "#plt.hist(data/365, bins, density=True, alpha=0.5)\n",
    "#plt.xlim([0, 10])\n",
    "popt\n"
   ]
  },
  {
   "cell_type": "code",
   "execution_count": 61,
   "metadata": {},
   "outputs": [
    {
     "name": "stdout",
     "output_type": "stream",
     "text": [
      "(0.0, 11.11696324109589)\n",
      "11.11111111111111\n"
     ]
    }
   ],
   "source": [
    "#Test that population age distribution is correct\n",
    "print(expon.fit(age_years))\n",
    "print(1/(model.params.cbr/1000))\n"
   ]
  },
  {
   "cell_type": "code",
   "execution_count": 15,
   "metadata": {},
   "outputs": [
    {
     "name": "stdout",
     "output_type": "stream",
     "text": [
      "(0.0, 2.0301213324953635)\n"
     ]
    }
   ],
   "source": [
    "print(expon.fit(age_years[cut]))"
   ]
  },
  {
   "cell_type": "code",
   "execution_count": 60,
   "metadata": {},
   "outputs": [
    {
     "data": {
      "text/plain": [
       "11.11111111111111"
      ]
     },
     "execution_count": 60,
     "metadata": {},
     "output_type": "execute_result"
    }
   ],
   "source": []
  },
  {
   "cell_type": "code",
   "execution_count": null,
   "metadata": {},
   "outputs": [
    {
     "name": "stdout",
     "output_type": "stream",
     "text": [
      "2024-12-13 16:09:57.349269: Creating the generic model…\n",
      "Initializing the generic model with 1 patches…\n"
     ]
    },
    {
     "name": "stdout",
     "output_type": "stream",
     "text": [
      "2024-12-13 16:09:57.427558: Running the generic model for 18250 ticks…\n"
     ]
    },
    {
     "name": "stderr",
     "output_type": "stream",
     "text": [
      " 31%|███       | 5604/18250 [00:15<00:35, 351.76it/s]\n"
     ]
    },
    {
     "ename": "KeyboardInterrupt",
     "evalue": "",
     "output_type": "error",
     "traceback": [
      "\u001b[0;31m---------------------------------------------------------------------------\u001b[0m",
      "\u001b[0;31mKeyboardInterrupt\u001b[0m                         Traceback (most recent call last)",
      "Cell \u001b[0;32mIn[63], line 38\u001b[0m\n\u001b[1;32m     36\u001b[0m set_initial_susceptibility_randomly(model, \u001b[38;5;241m1\u001b[39m\u001b[38;5;241m/\u001b[39mrow[\u001b[38;5;124m'\u001b[39m\u001b[38;5;124mR0\u001b[39m\u001b[38;5;124m'\u001b[39m]\u001b[38;5;241m+\u001b[39m\u001b[38;5;241m.05\u001b[39m)\n\u001b[1;32m     37\u001b[0m seed_infections_randomly(model, ninfections\u001b[38;5;241m=\u001b[39m\u001b[38;5;241m1\u001b[39m)\n\u001b[0;32m---> 38\u001b[0m \u001b[43mmodel\u001b[49m\u001b[38;5;241;43m.\u001b[39;49m\u001b[43mrun\u001b[49m\u001b[43m(\u001b[49m\u001b[43m)\u001b[49m\n\u001b[1;32m     40\u001b[0m cut \u001b[38;5;241m=\u001b[39m model\u001b[38;5;241m.\u001b[39mpopulation\u001b[38;5;241m.\u001b[39mdoi \u001b[38;5;241m>\u001b[39m \u001b[38;5;241m10000\u001b[39m \n\u001b[1;32m     41\u001b[0m idata \u001b[38;5;241m=\u001b[39m (model\u001b[38;5;241m.\u001b[39mpopulation\u001b[38;5;241m.\u001b[39mdoi[cut] \u001b[38;5;241m-\u001b[39m model\u001b[38;5;241m.\u001b[39mpopulation\u001b[38;5;241m.\u001b[39mdob[cut])\n",
      "File \u001b[0;32m/workspaces/laser-generic/src/laser_generic/model.py:263\u001b[0m, in \u001b[0;36mModel.run\u001b[0;34m(self)\u001b[0m\n\u001b[1;32m    261\u001b[0m \u001b[38;5;28;01mfor\u001b[39;00m phase \u001b[38;5;129;01min\u001b[39;00m \u001b[38;5;28mself\u001b[39m\u001b[38;5;241m.\u001b[39mphases:\n\u001b[1;32m    262\u001b[0m     tstart \u001b[38;5;241m=\u001b[39m datetime\u001b[38;5;241m.\u001b[39mnow(tz\u001b[38;5;241m=\u001b[39m\u001b[38;5;28;01mNone\u001b[39;00m)  \u001b[38;5;66;03m# noqa: DTZ005\u001b[39;00m\n\u001b[0;32m--> 263\u001b[0m     \u001b[43mphase\u001b[49m\u001b[43m(\u001b[49m\u001b[38;5;28;43mself\u001b[39;49m\u001b[43m,\u001b[49m\u001b[43m \u001b[49m\u001b[43mtick\u001b[49m\u001b[43m)\u001b[49m\n\u001b[1;32m    264\u001b[0m     tfinish \u001b[38;5;241m=\u001b[39m datetime\u001b[38;5;241m.\u001b[39mnow(tz\u001b[38;5;241m=\u001b[39m\u001b[38;5;28;01mNone\u001b[39;00m)  \u001b[38;5;66;03m# noqa: DTZ005\u001b[39;00m\n\u001b[1;32m    265\u001b[0m     delta \u001b[38;5;241m=\u001b[39m tfinish \u001b[38;5;241m-\u001b[39m tstart\n",
      "File \u001b[0;32m/workspaces/laser-generic/src/laser_generic/infection.py:79\u001b[0m, in \u001b[0;36mInfection.__call__\u001b[0;34m(self, model, tick)\u001b[0m\n\u001b[1;32m     65\u001b[0m \u001b[38;5;28;01mdef\u001b[39;00m \u001b[38;5;21m__call__\u001b[39m(\u001b[38;5;28mself\u001b[39m, model, tick) \u001b[38;5;241m-\u001b[39m\u001b[38;5;241m>\u001b[39m \u001b[38;5;28;01mNone\u001b[39;00m:\n\u001b[1;32m     66\u001b[0m \u001b[38;5;250m    \u001b[39m\u001b[38;5;124;03m\"\"\"\u001b[39;00m\n\u001b[1;32m     67\u001b[0m \u001b[38;5;124;03m    Updates the infection timers for the population in the model.\u001b[39;00m\n\u001b[1;32m     68\u001b[0m \n\u001b[0;32m   (...)\u001b[0m\n\u001b[1;32m     76\u001b[0m \u001b[38;5;124;03m        None\u001b[39;00m\n\u001b[1;32m     77\u001b[0m \u001b[38;5;124;03m    \"\"\"\u001b[39;00m\n\u001b[0;32m---> 79\u001b[0m     \u001b[43mInfection\u001b[49m\u001b[38;5;241;43m.\u001b[39;49m\u001b[43mnb_infection_update\u001b[49m\u001b[43m(\u001b[49m\u001b[43mmodel\u001b[49m\u001b[38;5;241;43m.\u001b[39;49m\u001b[43mpopulation\u001b[49m\u001b[38;5;241;43m.\u001b[39;49m\u001b[43mcount\u001b[49m\u001b[43m,\u001b[49m\u001b[43m \u001b[49m\u001b[43mmodel\u001b[49m\u001b[38;5;241;43m.\u001b[39;49m\u001b[43mpopulation\u001b[49m\u001b[38;5;241;43m.\u001b[39;49m\u001b[43mitimer\u001b[49m\u001b[43m)\u001b[49m\n\u001b[1;32m     80\u001b[0m     \u001b[38;5;28;01mreturn\u001b[39;00m\n",
      "\u001b[0;31mKeyboardInterrupt\u001b[0m: "
     ]
    }
   ],
   "source": [
    "#OK, testing this is a bit more of a pain, since we are running out to some equilibrium-ish condition.\n",
    "#With a large initial outbreak from full susceptibility, this could be a long time to equilibrate.\n",
    "#Partial solution - start us near R-eff=1, but not with the age distribution that we expect, and \n",
    "# let it equilibrate towards that age distribution over a couple of generations.  Still not ideal but \n",
    "#probably faster than starting from S=1.\n",
    "\n",
    "scenario = pd.DataFrame(data=[[\"homenode\", 3e5, \"47°36′35″N 122°19′59″W\"]], columns=[\"name\", \"population\", \"location\"])\n",
    "\n",
    "cbrs = 15+85*np.random.rand(100)\n",
    "inf_means = 5+45*np.random.rand(100)\n",
    "R0s = 1.5+8.5*np.random.rand(100)\n",
    "output = pd.DataFrame(data={\"cbr\": cbrs, \"inf_mean\": inf_means, \"R0\": R0s})\n",
    "output[\"Average_Iage_observed\"] = np.nan\n",
    "output[\"Average_Iage_expected\"] = np.nan\n",
    "output[\"Average_age_expected\"] = np.nan\n",
    "output[\"Average_age_expected\"] = np.nan\n",
    "output[\"Idata_KStest\"] = np.nan\n",
    "for index, row in output.iterrows():\n",
    "    mu = ((1+model.params.cbr/1000)**(1/365)-1)\n",
    "    parameters = PropertySet({\n",
    "        \"seed\": 2, \n",
    "        \"nticks\": 18250, \n",
    "        \"verbose\": True, \n",
    "        \"beta\": row['R0']*(mu + 1/row['inf_mean']), \n",
    "        \"inf_mean\": row['inf_mean'], \n",
    "        \"cbr\": row[\"cbr\"], \n",
    "        \"importation_period\": 180, \n",
    "        \"importation_count\": 3})\n",
    "\n",
    "    model = Model(scenario, parameters)\n",
    "    model.components = [Births_ConstantPop,\n",
    "        Susceptibility,\n",
    "        Transmission,\n",
    "        Infection,\n",
    "        Infect_Random_Agents,\n",
    "    ]\n",
    "    set_initial_susceptibility_randomly(model, 1/row['R0']+.05)\n",
    "    seed_infections_randomly(model, ninfections=1)\n",
    "    model.run()\n",
    "    \n",
    "    cut = model.population.doi > 10000 \n",
    "    age_inf = (model.population.doi[cut] - model.population.dob[cut])\n",
    "    params = expon.fit(age_inf)\n",
    "    output.loc[index, 'Average_Iage_expected'] = 1/(row['R0']*mu) / 365\n",
    "    output.loc[index, 'Average_Iage_observed'] = params[1] / 365\n",
    "    output.loc[index, 'Idata_KStest_obs'] = kstest(age_inf, expon.cdf(params))[0]\n",
    "    output.loc[index, 'Idata_KStest_exp'] = kstest(age_inf, expon.cdf(output.loc[index, 'Average_Iage_expected']))[0]\n",
    "\n",
    "\n",
    "    age_total = parameters.nticks-model.population.dob\n",
    "    params = expon.fit(age_total)\n",
    "    output.loc[index, 'Average_age_expected'] = 1000/model.params.cbr\n",
    "    output.loc[index, 'Average_age_observed'] = params[1] / 365\n",
    "    output.loc[index, 'Adata_KStest_obs'] = kstest(age_total, expon.cdf(params))[0]\n",
    "    output.loc[index, 'Adata_KStest_exp'] = kstest(age_total, expon.cdf(output.loc[index, 'Average_age_expected'] ))[0]\n",
    "\n",
    "    \n",
    "\n",
    "\n",
    "output.to_csv(\"SIR_output.csv\")\n"
   ]
  },
  {
   "cell_type": "code",
   "execution_count": null,
   "metadata": {},
   "outputs": [],
   "source": []
  }
 ],
 "metadata": {
  "kernelspec": {
   "display_name": ".venv",
   "language": "python",
   "name": "python3"
  },
  "language_info": {
   "codemirror_mode": {
    "name": "ipython",
    "version": 3
   },
   "file_extension": ".py",
   "mimetype": "text/x-python",
   "name": "python",
   "nbconvert_exporter": "python",
   "pygments_lexer": "ipython3",
   "version": "3.11.8"
  }
 },
 "nbformat": 4,
 "nbformat_minor": 2
}
