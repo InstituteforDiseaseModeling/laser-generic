{
 "cells": [
  {
   "cell_type": "markdown",
   "metadata": {},
   "source": [
    "# SIS Model with no demographics\n",
    "\n",
    "Moving on from the SI model to something slighlty more complex, we will add a state transition from infected back to susceptible, with no period of immunity - this is the SIS model.  It turns out that the equations governing this will be analogous to the SI model with demography - rather than births & mortality providing routes to add susceptibles and subtract infectives, this transition from infective -> susceptible will provide essentially the same mechanism. \n",
    "\n",
    "$$\n",
    "\\dot{S} = -\\frac{\\beta*S*I}{N} + \\gamma I\\\\\n",
    "\n",
    "\\dot{I} = \\frac{\\beta*S*I}{N} - \\gamma I\n",
    "$$\n",
    "\n",
    "As before, subbing $S = N-I$ into the second equation gives us\n",
    "\n",
    "$$ \\dot{I} = \\beta I ( 1-\\frac{\\gamma}{\\beta}-\\frac{I}{N})$$\n",
    "\n",
    "And comparing against the SI model with births, it is clear this equation is of the same form, with solution\n",
    "$$\n",
    "\\frac{Nx}{1+(\\frac{Nx}{I_0}-1)e^{-\\beta x t}} \\\\\n",
    "x = (1-\\frac{\\gamma}{\\beta})\n",
    "$$\n",
    "\n",
    "\n",
    "This notebook tests the implementation and behavior of the model as follows:\n",
    "### Contruct the model\n",
    "In the first few cells, we do all the necessary imports.  Then we construct a single-patch LASER model with three components: `Susceptibility`, `Transmission`, and `Infection_SIS` - this component will require a new agent property `itimer`, and upon expiration of `itimer` agents will return to the susceptible state.  Finally, we initialize with a single infection and run.  The `Susceptibility` and `Transmission` components are previously described. \n",
    "\n",
    "\n",
    "### Sanity check\n",
    "The first test ensures certain basic constraints are being obeyed by the model.  We confirm that at each timestep, $S_t=N_t-I_t$. \n",
    "\n",
    "### Scientific test\n",
    "Finally, we come to the scientific test.  As before, we first test on a single instance of the model and show that the expected output is recovered.  Then, we select a few values of $\\beta$ and $\\gamma$, run the model, fit the outputs to the logistic equation, and compare the fitted value of $\\beta$ and $\\gamma$ to the known values; all of the considerations noted in the SI with births model, in terms of how to approach this fit, are echoed again here.  Of particular concern is the approximation of an exponential transition from infected back to susceptible - as we are doing a first-order finite timestep integration here, that approximation will probably produce an error linear in $\\gamma \\Delta t$ between the analytic result and the modeled result.  In fact, in a lot of real disease models, we have compartment dwell times in the exposed and infective states that are only a handful of $\\Delta t$ long, but when doing real epi modeling and calibrating model parameters to uncertain data, this is generally not likely to be a dominant source of bias, uncertainty, etc.  But when comparing specifically against an analytic result, it can become significant.  \n",
    "\n"
   ]
  },
  {
   "cell_type": "code",
   "execution_count": 1,
   "metadata": {},
   "outputs": [
    {
     "name": "stdout",
     "output_type": "stream",
     "text": [
      "np.__version__='2.2.6'\n",
      "laser_core.__version__='0.6.0'\n",
      "laser_generic.__version__='0.0.0'\n"
     ]
    }
   ],
   "source": [
    "import matplotlib.pyplot as plt\n",
    "import numba as nb\n",
    "import numpy as np\n",
    "import pandas as pd\n",
    "from laser_core.propertyset import PropertySet\n",
    "from scipy.optimize import curve_fit\n",
    "from scipy.optimize import minimize\n",
    "\n",
    "import laser_core\n",
    "import laser_generic\n",
    "from laser_generic import Model\n",
    "from laser_generic.infection import Infection_SIS\n",
    "from laser_generic.susceptibility import Susceptibility\n",
    "from laser_generic.transmission import Transmission\n",
    "\n",
    "print(f\"{np.__version__=}\")\n",
    "print(f\"{laser_core.__version__=}\")\n",
    "print(f\"{laser_generic.__version__=}\")\n"
   ]
  },
  {
   "cell_type": "code",
   "execution_count": 2,
   "metadata": {},
   "outputs": [],
   "source": [
    "from functools import partial\n",
    "\n",
    "from laser_core.demographics import AliasedDistribution\n",
    "from laser_core.demographics import KaplanMeierEstimator\n",
    "import laser_generic.models.SIS as SIS\n",
    "from laser_generic.newutils import RateMap\n",
    "from laser_generic.newutils import draw_vital_dynamics\n",
    "from laser_generic.newutils import grid"
   ]
  },
  {
   "cell_type": "markdown",
   "metadata": {},
   "source": [
    "To make sure we don't accumulate lots of finite time-step error, make inf mean quite long in units of timestep"
   ]
  },
  {
   "cell_type": "code",
   "execution_count": 3,
   "metadata": {},
   "outputs": [],
   "source": [
    "pop = 3e5\n",
    "\n",
    "# scenario = pd.DataFrame(data=[[\"homenode\", pop]], columns=[\"name\", \"population\"])\n",
    "# parameters = PropertySet({\"seed\": 4, \"nticks\": 3000, \"verbose\": True, \"beta\": 0.01, \"inf_mean\": 300})\n",
    "# model = Model(scenario, parameters)\n",
    "# model.components = [\n",
    "#     Infection_SIS,\n",
    "#     Susceptibility,\n",
    "#     Transmission,\n",
    "# ]\n",
    "\n",
    "scenario = grid(M=1, N=1, node_size_km=10, population_fn=lambda x,y: pop, origin_x=0, origin_y=0)\n",
    "initial_infected = 1\n",
    "scenario[\"S\"] = scenario.population - initial_infected\n",
    "scenario[\"I\"] = initial_infected\n",
    "parameters = PropertySet({\"seed\": 42, \"nticks\": 3000, \"beta\": 0.04, \"inf_mean\": 300})\n",
    "model = SIS.Model(scenario, parameters)\n",
    "\n",
    "inf_mean = np.float32(parameters.inf_mean)\n",
    "@nb.njit(nogil=True, cache=True)\n",
    "def infectious_duration_distribution():\n",
    "    draw = np.random.normal(loc=inf_mean, scale=2)\n",
    "    rounded = np.round(draw)\n",
    "    asuint8 = np.uint8(rounded)\n",
    "    clipped = np.maximum(1, asuint8)\n",
    "    return clipped\n",
    "\n",
    "model.infectious_duration_fn = infectious_duration_distribution\n",
    "\n",
    "# Sampling this pyramid will return indices in [0, 88] with equal probability.\n",
    "model.pyramid = AliasedDistribution(np.full(89, 1_000))\n",
    "# The survival function will return the probability of surviving past each age.\n",
    "model.survival = KaplanMeierEstimator(np.full(89, 1_000).cumsum())\n",
    "\n",
    "model.components = [SIS.Susceptible(model), SIS.Infectious(model), SIS.Transmission(model)] # , SIS.VitalDynamics(model)]\n"
   ]
  },
  {
   "cell_type": "code",
   "execution_count": 4,
   "metadata": {},
   "outputs": [
    {
     "name": "stderr",
     "output_type": "stream",
     "text": [
      "Running Simulation SIS Model: 100%|██████████| 3000/3000 [00:01<00:00, 1862.18it/s]\n"
     ]
    }
   ],
   "source": [
    "# from laser_generic.utils import seed_infections_randomly\n",
    "\n",
    "# seed_infections_randomly(model, ninfections=1)\n",
    "model.run()"
   ]
  },
  {
   "cell_type": "markdown",
   "metadata": {},
   "source": [
    "# Sanity checks\n",
    "Check that the relationships between susceptible, infected, and total population hold."
   ]
  },
  {
   "cell_type": "code",
   "execution_count": 5,
   "metadata": {},
   "outputs": [
    {
     "name": "stdout",
     "output_type": "stream",
     "text": [
      "S = N-I:  True\n"
     ]
    },
    {
     "data": {
      "image/png": "[encoded data removed]",
      "text/plain": [
       "<Figure size 640x480 with 1 Axes>"
      ]
     },
     "metadata": {},
     "output_type": "display_data"
    }
   ],
   "source": [
    "# I = model.patches.cases.astype(\"int\")\n",
    "# I2 = model.patches.populations[:-1] - model.patches.susceptibility.astype(\"int\")\n",
    "# plt.plot(I - I2)\n",
    "plt.plot(model.nodes.I, lw=4)\n",
    "N = model.nodes.S + model.nodes.I\n",
    "plt.plot(N - model.nodes.S.astype(\"int\"), \"--\", lw=3)\n",
    "plt.yscale(\"log\")\n",
    "plt.legend([\"Population minus currently infected\", \"Susceptible\", \"Population minus cumulative infections (incidence)\"])\n",
    "print(\"S = N-I:  \" + str(np.isclose(model.nodes.S, N - model.nodes.I).all()))"
   ]
  },
  {
   "cell_type": "markdown",
   "metadata": {},
   "source": [
    "### Single-simulation check\n",
    "As before, starting with a single infection induces some stochasticity in terms of when the outbreak really starts to take off, and so we fit the expected behavior with a free offset parameter below."
   ]
  },
  {
   "cell_type": "code",
   "execution_count": 6,
   "metadata": {},
   "outputs": [
    {
     "data": {
      "text/plain": [
       "<matplotlib.legend.Legend at 0x122d37680>"
      ]
     },
     "execution_count": 6,
     "metadata": {},
     "output_type": "execute_result"
    },
    {
     "data": {
      "image/png": "[encoded data removed]",
      "text/plain": [
       "<Figure size 640x480 with 1 Axes>"
      ]
     },
     "metadata": {},
     "output_type": "display_data"
    }
   ],
   "source": [
    "def SIS_logistic(t, beta, popsize, gamma, t0):\n",
    "    x = 1 - gamma / beta\n",
    "    return popsize * x / (1 + (popsize * x - 1) * np.exp(-beta * x * (t - t0)))\n",
    "\n",
    "\n",
    "t = np.arange(model.params.nticks+1)\n",
    "\n",
    "\n",
    "def objective(t0):\n",
    "    return np.sum(\n",
    "        (1 - SIS_logistic(t, model.params.beta, pop, 1 / model.params.inf_mean, t0) / np.squeeze(model.nodes.I)) ** 2\n",
    "    )\n",
    "\n",
    "\n",
    "result = minimize(objective, x0=10)\n",
    "t0_opt = result.x[0]\n",
    "\n",
    "plt.plot(model.nodes.I, lw=4)\n",
    "plt.plot(SIS_logistic(t, model.params.beta, pop, 1 / model.params.inf_mean, 0), lw=3)\n",
    "plt.plot(SIS_logistic(t, model.params.beta, pop, 1 / model.params.inf_mean, t0_opt), \"r:\", lw=3)\n",
    "plt.yscale(\"log\")\n",
    "plt.legend([\"Model output\", \"Logistic growth with known inputs, t0=0\", f\"Logistic growth with known inputs, best-fit t0 = {t0_opt:.1f}\"])"
   ]
  },
  {
   "cell_type": "markdown",
   "metadata": {},
   "source": [
    "## Scientific testing\n",
    "Finally, we run the model for a range of $\\beta$ & $\\gamma$  parameters, we freely fit the model output to the logistic equation, and we compare the known input parameters against the parameters fitted from output.  \n",
    "\n",
    "We will use only relatively large values of $\\gamma$ for this procedure.  The reason why will become clear in a second test, where we demonstrate that there is an error between the expected final size and the modeled final size, and that this error shrinks with $\\gamma \\Delta t$, as we would expect a first-order approximation error to.  \n",
    "\n",
    "To make this a pass-fail test, we will raise a flag if the fitted parameters are more than 5% different than the known ones."
   ]
  },
  {
   "cell_type": "code",
   "execution_count": 7,
   "metadata": {},
   "outputs": [
    {
     "name": "stderr",
     "output_type": "stream",
     "text": [
      "Running Simulation SIS 0 of 10, seed=0, beta=0.042, gamma=0.01201: 100%|██████████| 3000/3000 [00:01<00:00, 1907.63it/s]\n",
      "/var/folders/fl/_ns4br_j2qxd92vjrgl3t4n00000gn/T/ipykernel_18523/2963017509.py:59: FutureWarning: The behavior of DataFrame concatenation with empty or all-NA entries is deprecated. In a future version, this will no longer exclude empty or all-NA columns when determining the result dtypes. To retain the old behavior, exclude the relevant entries before the concat operation.\n",
      "  output = pd.concat(\n",
      "Running Simulation SIS 1 of 10, seed=1, beta=0.096, gamma=0.01484: 100%|██████████| 3000/3000 [00:01<00:00, 2437.18it/s]\n",
      "Running Simulation SIS 2 of 10, seed=2, beta=0.071, gamma=0.01462: 100%|██████████| 3000/3000 [00:01<00:00, 2240.62it/s]\n",
      "Running Simulation SIS 3 of 10, seed=3, beta=0.045, gamma=0.01504: 100%|██████████| 3000/3000 [00:01<00:00, 1898.37it/s]\n",
      "Running Simulation SIS 4 of 10, seed=4, beta=0.047, gamma=0.00733: 100%|██████████| 3000/3000 [00:01<00:00, 1979.24it/s]\n",
      "Running Simulation SIS 5 of 10, seed=5, beta=0.040, gamma=0.00997: 100%|██████████| 3000/3000 [00:01<00:00, 1880.20it/s]\n",
      "Running Simulation SIS 6 of 10, seed=6, beta=0.063, gamma=0.01876: 100%|██████████| 3000/3000 [00:01<00:00, 2140.23it/s]\n",
      "Running Simulation SIS 7 of 10, seed=7, beta=0.050, gamma=0.01209: 100%|██████████| 3000/3000 [00:01<00:00, 1974.18it/s]\n",
      "Running Simulation SIS 8 of 10, seed=8, beta=0.058, gamma=0.00754: 100%|██████████| 3000/3000 [00:01<00:00, 2055.23it/s]\n",
      "Running Simulation SIS 9 of 10, seed=9, beta=0.093, gamma=0.00545: 100%|██████████| 3000/3000 [00:01<00:00, 2355.66it/s]\n"
     ]
    }
   ],
   "source": [
    "# %%capture\n",
    "\n",
    "NTESTS = 10\n",
    "nticks = 3000\n",
    "t = np.arange(nticks)\n",
    "betarange = [0.03, 0.1]\n",
    "gammarange = [1 / 200, 1 / 50]\n",
    "seeds = list(range(NTESTS))\n",
    "pop = 3e5\n",
    "betas = np.random.uniform(betarange[0], betarange[1], NTESTS)\n",
    "gammas = np.random.uniform(gammarange[0], gammarange[1], NTESTS)\n",
    "output = pd.DataFrame(columns=[\"seed\", \"beta\", \"gamma\", \"cases\", \"fitted_beta\", \"fitted_gamma\", \"fitted_t0\"])\n",
    "# scenario = pd.DataFrame(data=[[\"homenode\", pop]], columns=[\"name\", \"population\"])\n",
    "scenario = grid(M=1, N=1, node_size_km=10, population_fn=lambda x,y: pop, origin_x=0, origin_y=0)\n",
    "initial_infected = 3\n",
    "scenario[\"S\"] = scenario.population - initial_infected\n",
    "scenario[\"I\"] = initial_infected\n",
    "\n",
    "for i, (seed, beta, gamma) in enumerate(zip(seeds, betas, gammas)):\n",
    "    parameters = PropertySet({\"seed\": seed, \"nticks\": nticks, \"verbose\": True, \"beta\": beta, \"inf_mean\": 1 / gamma})\n",
    "    # model = Model(scenario, parameters)\n",
    "    # model.components = [\n",
    "    #     Infection_SIS,\n",
    "    #     Susceptibility,\n",
    "    #     Transmission,\n",
    "    # ]\n",
    "    # seed_infections_randomly(model, ninfections=3)\n",
    "\n",
    "    model = SIS.Model(scenario, parameters)\n",
    "\n",
    "    inf_mean = np.float32(parameters.inf_mean)\n",
    "    @nb.njit(nogil=True, cache=True)\n",
    "    def infectious_duration_distribution():\n",
    "        draw = np.random.normal(loc=inf_mean, scale=2)\n",
    "        rounded = np.round(draw)\n",
    "        asuint8 = np.uint8(rounded)\n",
    "        clipped = np.maximum(1, asuint8)\n",
    "        return clipped\n",
    "\n",
    "    model.infectious_duration_fn = infectious_duration_distribution\n",
    "\n",
    "    # Sampling this pyramid will return indices in [0, 88] with equal probability.\n",
    "    model.pyramid = AliasedDistribution(np.full(89, 1_000))\n",
    "    # The survival function will return the probability of surviving past each age.\n",
    "    model.survival = KaplanMeierEstimator(np.full(89, 1_000).cumsum())\n",
    "\n",
    "    model.components = [SIS.Susceptible(model), SIS.Infectious(model), SIS.Transmission(model)] # , SIS.VitalDynamics(model)]\n",
    "\n",
    "    model.run(label=f\"SIS {i} of {NTESTS}, seed={seed}, beta={beta:.3f}, gamma={gamma:.5f}\")\n",
    "    cases = model.nodes.I[1:,0]\n",
    "    popt, pcov = curve_fit(\n",
    "        SIS_logistic,\n",
    "        t,\n",
    "        cases,\n",
    "        p0=[np.mean(betarange), pop, np.mean(gammarange), 1],\n",
    "        bounds=([betarange[0] / 2, pop - 1, gammarange[0] / 2, -300], [betarange[1] * 2, pop + 1, gammarange[1] * 2, 300]),\n",
    "    )\n",
    "\n",
    "    output = pd.concat(\n",
    "        [\n",
    "            output,\n",
    "            pd.DataFrame.from_dict(\n",
    "                {\n",
    "                    \"seed\": seed,\n",
    "                    \"beta\": beta,\n",
    "                    \"gamma\": gamma,\n",
    "                    \"cases\": [np.array(cases)],\n",
    "                    \"fitted_beta\": popt[0],\n",
    "                    \"fitted_gamma\": popt[2],\n",
    "                    \"fitted_t0\": popt[3],\n",
    "                }\n",
    "            ),\n",
    "        ],\n",
    "        ignore_index=True,\n",
    "    )"
   ]
  },
  {
   "cell_type": "code",
   "execution_count": 8,
   "metadata": {},
   "outputs": [
    {
     "data": {
      "text/plain": [
       "(-0.02, 0.02)"
      ]
     },
     "execution_count": 8,
     "metadata": {},
     "output_type": "execute_result"
    },
    {
     "data": {
      "image/png": "[encoded data removed]",
      "text/plain": [
       "<Figure size 640x480 with 1 Axes>"
      ]
     },
     "metadata": {},
     "output_type": "display_data"
    },
    {
     "data": {
      "image/png": "[encoded data removed]",
      "text/plain": [
       "<Figure size 640x480 with 1 Axes>"
      ]
     },
     "metadata": {},
     "output_type": "display_data"
    },
    {
     "data": {
      "image/png": "[encoded data removed]",
      "text/plain": [
       "<Figure size 640x480 with 1 Axes>"
      ]
     },
     "metadata": {},
     "output_type": "display_data"
    },
    {
     "data": {
      "image/png": "[encoded data removed]",
      "text/plain": [
       "<Figure size 640x480 with 1 Axes>"
      ]
     },
     "metadata": {},
     "output_type": "display_data"
    }
   ],
   "source": [
    "plt.figure()\n",
    "plt.plot(output[\"beta\"], output[\"fitted_beta\"], \"o\")\n",
    "plt.xlim(betarange[0], betarange[1])\n",
    "plt.ylim(betarange[0], betarange[1])\n",
    "plt.figure()\n",
    "plt.plot(output[\"beta\"], output[\"beta\"] - output[\"fitted_beta\"], \"o\")\n",
    "plt.xlim(betarange[0], betarange[1])\n",
    "plt.ylim(-betarange[1], betarange[1])\n",
    "plt.figure()\n",
    "plt.plot(output[\"gamma\"], output[\"fitted_gamma\"], \"o\")\n",
    "plt.xlim(gammarange[0], gammarange[1])\n",
    "plt.ylim(gammarange[0], gammarange[1])\n",
    "plt.figure()\n",
    "plt.plot(output[\"gamma\"], output[\"gamma\"] - output[\"fitted_gamma\"], \"o\")\n",
    "plt.xlim(gammarange[0], gammarange[1])\n",
    "plt.ylim(-gammarange[1], gammarange[1])"
   ]
  },
  {
   "cell_type": "code",
   "execution_count": 9,
   "metadata": {},
   "outputs": [
    {
     "name": "stdout",
     "output_type": "stream",
     "text": [
      "All fitted beta are within 5% of known beta: False\n",
      "All fitted gamma are within 10% of known gamma: False\n"
     ]
    }
   ],
   "source": [
    "print(\n",
    "    \"All fitted beta are within 5% of known beta: \" + str(np.all(np.abs((output[\"beta\"] - output[\"fitted_beta\"]) / output[\"beta\"]) < 0.05))\n",
    ")\n",
    "print(\n",
    "    \"All fitted gamma are within 10% of known gamma: \"\n",
    "    + str(np.all(np.abs((output[\"gamma\"] - output[\"fitted_gamma\"]) / output[\"gamma\"]) < 0.1))\n",
    ")"
   ]
  },
  {
   "cell_type": "code",
   "execution_count": 10,
   "metadata": {},
   "outputs": [
    {
     "data": {
      "application/vnd.microsoft.datawrangler.viewer.v0+json": {
       "columns": [
        {
         "name": "index",
         "rawType": "int64",
         "type": "integer"
        },
        {
         "name": "seed",
         "rawType": "object",
         "type": "unknown"
        },
        {
         "name": "beta",
         "rawType": "float64",
         "type": "float"
        },
        {
         "name": "gamma",
         "rawType": "float64",
         "type": "float"
        },
        {
         "name": "cases",
         "rawType": "object",
         "type": "unknown"
        },
        {
         "name": "fitted_beta",
         "rawType": "float64",
         "type": "float"
        },
        {
         "name": "fitted_gamma",
         "rawType": "float64",
         "type": "float"
        },
        {
         "name": "fitted_t0",
         "rawType": "float64",
         "type": "float"
        }
       ],
       "ref": "62018259-58ab-4ad9-a366-a56de89fc2ef",
       "rows": [
        [
         "0",
         "0",
         "0.0423306290810139",
         "0.012007150237954286",
         "[     3      3      3 ... 185809 185810 185818]",
         "0.07823189508863623",
         "0.029617796833105982",
         "22.073626236297805"
        ],
        [
         "1",
         "1",
         "0.09633421448464498",
         "0.014835780421648579",
         "[     3      3      3 ... 252891 252947 253081]",
         "0.14860402758018426",
         "0.023300289499870223",
         "32.50890653052481"
        ],
        [
         "2",
         "2",
         "0.07129470542731581",
         "0.014624711462336471",
         "[     3      3      3 ... 234541 234389 234373]",
         "0.11988642710771545",
         "0.02613030939635701",
         "37.52712398259587"
        ],
        [
         "3",
         "3",
         "0.04483773458178615",
         "0.015040215816634905",
         "[     3      3      3 ... 192922 193011 193045]",
         "0.08298246081475835",
         "0.029587580808456457",
         "25.558750390736083"
        ],
        [
         "4",
         "4",
         "0.047422277246781226",
         "0.0073341366384113696",
         "[     3      3      3 ... 198526 198694 198789]",
         "0.08664207461793691",
         "0.029130214010871368",
         "56.53443325970094"
        ],
        [
         "5",
         "5",
         "0.04040493553447582",
         "0.009970685652269053",
         "[     3      3      3 ... 180668 180625 180674]",
         "0.07482132531272974",
         "0.029765908001455996",
         "47.2824479586761"
        ],
        [
         "6",
         "6",
         "0.06316592774541968",
         "0.018762259759263933",
         "[     3      3      4 ... 225321 225314 225424]",
         "0.10932843775586505",
         "0.027134026246767178",
         "25.443971505812204"
        ],
        [
         "7",
         "7",
         "0.04960891581112689",
         "0.012089162033652756",
         "[     5      6      6 ... 203847 203907 203751]",
         "0.09042445627630182",
         "0.028991014877205776",
         "26.146468135870876"
        ],
        [
         "8",
         "8",
         "0.05835856037190489",
         "0.007543915168136236",
         "[     3      3      3 ... 218564 218556 218584]",
         "0.09258045071824149",
         "0.0248842406395178",
         "11.007002104577177"
        ],
        [
         "9",
         "9",
         "0.09263212868058569",
         "0.005450920766757377",
         "[     3      3      3 ... 250725 250664 250691]",
         "0.14446888069507657",
         "0.023646602882250352",
         "27.573855625359315"
        ]
       ],
       "shape": {
        "columns": 7,
        "rows": 10
       }
      },
      "text/html": [
       "<div>\n",
       "<style scoped>\n",
       "    .dataframe tbody tr th:only-of-type {\n",
       "        vertical-align: middle;\n",
       "    }\n",
       "\n",
       "    .dataframe tbody tr th {\n",
       "        vertical-align: top;\n",
       "    }\n",
       "\n",
       "    .dataframe thead th {\n",
       "        text-align: right;\n",
       "    }\n",
       "</style>\n",
       "<table border=\"1\" class=\"dataframe\">\n",
       "  <thead>\n",
       "    <tr style=\"text-align: right;\">\n",
       "      <th></th>\n",
       "      <th>seed</th>\n",
       "      <th>beta</th>\n",
       "      <th>gamma</th>\n",
       "      <th>cases</th>\n",
       "      <th>fitted_beta</th>\n",
       "      <th>fitted_gamma</th>\n",
       "      <th>fitted_t0</th>\n",
       "    </tr>\n",
       "  </thead>\n",
       "  <tbody>\n",
       "    <tr>\n",
       "      <th>0</th>\n",
       "      <td>0</td>\n",
       "      <td>0.042331</td>\n",
       "      <td>0.012007</td>\n",
       "      <td>[3, 3, 3, 3, 3, 3, 3, 3, 4, 4, 4, 4, 4, 4, 4, ...</td>\n",
       "      <td>0.078232</td>\n",
       "      <td>0.029618</td>\n",
       "      <td>22.073626</td>\n",
       "    </tr>\n",
       "    <tr>\n",
       "      <th>1</th>\n",
       "      <td>1</td>\n",
       "      <td>0.096334</td>\n",
       "      <td>0.014836</td>\n",
       "      <td>[3, 3, 3, 3, 3, 4, 4, 5, 5, 5, 7, 8, 9, 9, 9, ...</td>\n",
       "      <td>0.148604</td>\n",
       "      <td>0.023300</td>\n",
       "      <td>32.508907</td>\n",
       "    </tr>\n",
       "    <tr>\n",
       "      <th>2</th>\n",
       "      <td>2</td>\n",
       "      <td>0.071295</td>\n",
       "      <td>0.014625</td>\n",
       "      <td>[3, 3, 3, 3, 3, 4, 4, 4, 4, 4, 4, 4, 4, 5, 5, ...</td>\n",
       "      <td>0.119886</td>\n",
       "      <td>0.026130</td>\n",
       "      <td>37.527124</td>\n",
       "    </tr>\n",
       "    <tr>\n",
       "      <th>3</th>\n",
       "      <td>3</td>\n",
       "      <td>0.044838</td>\n",
       "      <td>0.015040</td>\n",
       "      <td>[3, 3, 3, 3, 3, 3, 3, 3, 4, 5, 5, 5, 6, 6, 6, ...</td>\n",
       "      <td>0.082982</td>\n",
       "      <td>0.029588</td>\n",
       "      <td>25.558750</td>\n",
       "    </tr>\n",
       "    <tr>\n",
       "      <th>4</th>\n",
       "      <td>4</td>\n",
       "      <td>0.047422</td>\n",
       "      <td>0.007334</td>\n",
       "      <td>[3, 3, 3, 3, 3, 4, 4, 4, 4, 4, 4, 4, 4, 4, 5, ...</td>\n",
       "      <td>0.086642</td>\n",
       "      <td>0.029130</td>\n",
       "      <td>56.534433</td>\n",
       "    </tr>\n",
       "    <tr>\n",
       "      <th>5</th>\n",
       "      <td>5</td>\n",
       "      <td>0.040405</td>\n",
       "      <td>0.009971</td>\n",
       "      <td>[3, 3, 3, 3, 3, 3, 3, 3, 3, 3, 3, 3, 3, 3, 3, ...</td>\n",
       "      <td>0.074821</td>\n",
       "      <td>0.029766</td>\n",
       "      <td>47.282448</td>\n",
       "    </tr>\n",
       "    <tr>\n",
       "      <th>6</th>\n",
       "      <td>6</td>\n",
       "      <td>0.063166</td>\n",
       "      <td>0.018762</td>\n",
       "      <td>[3, 3, 4, 4, 6, 7, 9, 10, 10, 11, 12, 12, 14, ...</td>\n",
       "      <td>0.109328</td>\n",
       "      <td>0.027134</td>\n",
       "      <td>25.443972</td>\n",
       "    </tr>\n",
       "    <tr>\n",
       "      <th>7</th>\n",
       "      <td>7</td>\n",
       "      <td>0.049609</td>\n",
       "      <td>0.012089</td>\n",
       "      <td>[5, 6, 6, 7, 7, 7, 7, 7, 7, 7, 7, 8, 9, 9, 10,...</td>\n",
       "      <td>0.090424</td>\n",
       "      <td>0.028991</td>\n",
       "      <td>26.146468</td>\n",
       "    </tr>\n",
       "    <tr>\n",
       "      <th>8</th>\n",
       "      <td>8</td>\n",
       "      <td>0.058359</td>\n",
       "      <td>0.007544</td>\n",
       "      <td>[3, 3, 3, 4, 4, 4, 4, 4, 4, 4, 4, 4, 4, 4, 5, ...</td>\n",
       "      <td>0.092580</td>\n",
       "      <td>0.024884</td>\n",
       "      <td>11.007002</td>\n",
       "    </tr>\n",
       "    <tr>\n",
       "      <th>9</th>\n",
       "      <td>9</td>\n",
       "      <td>0.092632</td>\n",
       "      <td>0.005451</td>\n",
       "      <td>[3, 3, 3, 3, 3, 3, 3, 3, 3, 3, 3, 3, 3, 3, 3, ...</td>\n",
       "      <td>0.144469</td>\n",
       "      <td>0.023647</td>\n",
       "      <td>27.573856</td>\n",
       "    </tr>\n",
       "  </tbody>\n",
       "</table>\n",
       "</div>"
      ],
      "text/plain": [
       "  seed      beta     gamma                                              cases  \\\n",
       "0    0  0.042331  0.012007  [3, 3, 3, 3, 3, 3, 3, 3, 4, 4, 4, 4, 4, 4, 4, ...   \n",
       "1    1  0.096334  0.014836  [3, 3, 3, 3, 3, 4, 4, 5, 5, 5, 7, 8, 9, 9, 9, ...   \n",
       "2    2  0.071295  0.014625  [3, 3, 3, 3, 3, 4, 4, 4, 4, 4, 4, 4, 4, 5, 5, ...   \n",
       "3    3  0.044838  0.015040  [3, 3, 3, 3, 3, 3, 3, 3, 4, 5, 5, 5, 6, 6, 6, ...   \n",
       "4    4  0.047422  0.007334  [3, 3, 3, 3, 3, 4, 4, 4, 4, 4, 4, 4, 4, 4, 5, ...   \n",
       "5    5  0.040405  0.009971  [3, 3, 3, 3, 3, 3, 3, 3, 3, 3, 3, 3, 3, 3, 3, ...   \n",
       "6    6  0.063166  0.018762  [3, 3, 4, 4, 6, 7, 9, 10, 10, 11, 12, 12, 14, ...   \n",
       "7    7  0.049609  0.012089  [5, 6, 6, 7, 7, 7, 7, 7, 7, 7, 7, 8, 9, 9, 10,...   \n",
       "8    8  0.058359  0.007544  [3, 3, 3, 4, 4, 4, 4, 4, 4, 4, 4, 4, 4, 4, 5, ...   \n",
       "9    9  0.092632  0.005451  [3, 3, 3, 3, 3, 3, 3, 3, 3, 3, 3, 3, 3, 3, 3, ...   \n",
       "\n",
       "   fitted_beta  fitted_gamma  fitted_t0  \n",
       "0     0.078232      0.029618  22.073626  \n",
       "1     0.148604      0.023300  32.508907  \n",
       "2     0.119886      0.026130  37.527124  \n",
       "3     0.082982      0.029588  25.558750  \n",
       "4     0.086642      0.029130  56.534433  \n",
       "5     0.074821      0.029766  47.282448  \n",
       "6     0.109328      0.027134  25.443972  \n",
       "7     0.090424      0.028991  26.146468  \n",
       "8     0.092580      0.024884  11.007002  \n",
       "9     0.144469      0.023647  27.573856  "
      ]
     },
     "execution_count": 10,
     "metadata": {},
     "output_type": "execute_result"
    }
   ],
   "source": [
    "output"
   ]
  },
  {
   "cell_type": "markdown",
   "metadata": {},
   "source": [
    "### Quick demonstration of first-order error accumulation\n",
    "As noted before, for $\\gamma \\Delta t$ large, first-order integration like we are doing here can accumulate substantial error.  Calculating exactly how error will accumulate in an integrator for a dynamic process like this is beyond the scope here, and probably depends on a lot of details.  E.g., the ordering of steps - in a given step, does the `transmission` update from S->I state occur before or after the `infection` update that sends agents from I->S?  Do we use midpoint methods, timer countdowns, or take advantage of the unique memorylessness of the exponential distribution to simply remove a random fraction each time?  All that is beyond scope here, but just want to demonstrate that the error in the equilibrium value $I(t \\rightarrow \\infty)$ becomes large when the mean infectious period $\\frac{1}{\\gamma}$ is on the same order as $\\Delta t$"
   ]
  },
  {
   "cell_type": "code",
   "execution_count": 11,
   "metadata": {},
   "outputs": [
    {
     "name": "stderr",
     "output_type": "stream",
     "text": [
      "Running Simulation SIS 1 of 16, seed=0, beta=3.000, gamma=1.00000: 100%|██████████| 3000/3000 [00:00<00:00, 3352.79it/s]\n",
      "Running Simulation SIS 2 of 16, seed=1, beta=2.000, gamma=0.66667: 100%|██████████| 3000/3000 [00:00<00:00, 3483.01it/s]\n",
      "Running Simulation SIS 3 of 16, seed=2, beta=1.500, gamma=0.50000: 100%|██████████| 3000/3000 [00:00<00:00, 3404.32it/s]\n",
      "Running Simulation SIS 4 of 16, seed=3, beta=1.200, gamma=0.40000: 100%|██████████| 3000/3000 [00:00<00:00, 3388.21it/s]\n",
      "Running Simulation SIS 5 of 16, seed=4, beta=1.000, gamma=0.33333: 100%|██████████| 3000/3000 [00:00<00:00, 3449.48it/s]\n",
      "Running Simulation SIS 6 of 16, seed=5, beta=0.500, gamma=0.16667: 100%|██████████| 3000/3000 [00:00<00:00, 3227.72it/s]\n",
      "Running Simulation SIS 7 of 16, seed=6, beta=0.250, gamma=0.08333: 100%|██████████| 3000/3000 [00:00<00:00, 3149.86it/s]\n",
      "Running Simulation SIS 8 of 16, seed=7, beta=0.167, gamma=0.05556: 100%|██████████| 3000/3000 [00:00<00:00, 3171.97it/s]\n",
      "Running Simulation SIS 9 of 16, seed=8, beta=0.100, gamma=0.03333: 100%|██████████| 3000/3000 [00:00<00:00, 3036.51it/s]\n",
      "Running Simulation SIS 10 of 16, seed=9, beta=0.067, gamma=0.02222: 100%|██████████| 3000/3000 [00:00<00:00, 3084.32it/s]\n",
      "Running Simulation SIS 11 of 16, seed=10, beta=0.050, gamma=0.01667: 100%|██████████| 3000/3000 [00:01<00:00, 2908.09it/s]\n",
      "Running Simulation SIS 12 of 16, seed=11, beta=0.033, gamma=0.01111: 100%|██████████| 3000/3000 [00:01<00:00, 2957.98it/s]\n",
      "Running Simulation SIS 13 of 16, seed=12, beta=0.025, gamma=0.00833: 100%|██████████| 3000/3000 [00:00<00:00, 3101.02it/s]\n",
      "Running Simulation SIS 14 of 16, seed=13, beta=0.017, gamma=0.00556: 100%|██████████| 3000/3000 [00:00<00:00, 3224.31it/s]\n",
      "Running Simulation SIS 15 of 16, seed=14, beta=0.013, gamma=0.00417: 100%|██████████| 3000/3000 [00:00<00:00, 3254.28it/s]\n",
      "Running Simulation SIS 16 of 16, seed=15, beta=0.010, gamma=0.00333: 100%|██████████| 3000/3000 [00:00<00:00, 3067.17it/s]\n"
     ]
    }
   ],
   "source": [
    "# %%capture\n",
    "\n",
    "gammas = [1 / infmean for infmean in [1, 1.5, 2, 2.5, 3, 6, 12, 18, 30, 45, 60, 90, 120, 180, 240, 300]]\n",
    "betas = [3 * gamma for gamma in gammas]\n",
    "\n",
    "NTESTS = len(gammas)\n",
    "nticks = 3000\n",
    "seeds = list(range(NTESTS))\n",
    "pop = 1e5\n",
    "final_expected = np.array([])\n",
    "final_observed = np.array([])\n",
    "# scenario = pd.DataFrame(data=[[\"homenode\", pop]], columns=[\"name\", \"population\"])\n",
    "scenario = grid(M=1, N=1, node_size_km=10, population_fn=lambda x,y: pop, origin_x=0, origin_y=0)\n",
    "initial_infected = 20\n",
    "scenario[\"S\"] = scenario.population - initial_infected\n",
    "scenario[\"I\"] = initial_infected\n",
    "\n",
    "for i, (seed, beta, gamma) in enumerate(zip(seeds, betas, gammas)):\n",
    "    parameters = PropertySet({\"seed\": seed, \"nticks\": nticks, \"verbose\": True, \"beta\": beta, \"inf_mean\": 1 / gamma})\n",
    "    # model = Model(scenario, parameters)\n",
    "    # model.components = [\n",
    "    #     Infection_SIS,\n",
    "    #     Susceptibility,\n",
    "    #     Transmission,\n",
    "    # ]\n",
    "    # seed_infections_randomly(model, ninfections=20)\n",
    "    model = SIS.Model(scenario, parameters)\n",
    "\n",
    "    inf_mean = np.float32(parameters.inf_mean)\n",
    "    @nb.njit(nogil=True, cache=True)\n",
    "    def infectious_duration_distribution():\n",
    "        draw = np.random.normal(loc=inf_mean, scale=2)\n",
    "        rounded = np.round(draw)\n",
    "        asuint8 = np.uint8(rounded)\n",
    "        clipped = np.maximum(1, asuint8)\n",
    "        return clipped\n",
    "\n",
    "    model.infectious_duration_fn = infectious_duration_distribution\n",
    "\n",
    "    # Sampling this pyramid will return indices in [0, 88] with equal probability.\n",
    "    model.pyramid = AliasedDistribution(np.full(89, 1_000))\n",
    "    # The survival function will return the probability of surviving past each age.\n",
    "    model.survival = KaplanMeierEstimator(np.full(89, 1_000).cumsum())\n",
    "\n",
    "    model.components = [SIS.Susceptible(model), SIS.Infectious(model), SIS.Transmission(model)] # , SIS.VitalDynamics(model)]\n",
    "\n",
    "    model.run(label=f\"SIS {i+1} of {NTESTS}, seed={seed}, beta={beta:.3f}, gamma={gamma:.5f}\")\n",
    "    final_observed = np.append(final_observed, model.nodes.I[-1,0])\n",
    "    final_expected = np.append(final_expected, pop * (1 - gamma / beta))"
   ]
  },
  {
   "cell_type": "code",
   "execution_count": 12,
   "metadata": {},
   "outputs": [
    {
     "data": {
      "text/plain": [
       "Text(0.5, 1.0, 'Error in equilibrium infected fraction increases roughly linearly in $\\\\gamma \\\\Delta t$')"
      ]
     },
     "execution_count": 12,
     "metadata": {},
     "output_type": "execute_result"
    },
    {
     "data": {
      "image/png": "[encoded data removed]",
      "text/plain": [
       "<Figure size 640x480 with 1 Axes>"
      ]
     },
     "metadata": {},
     "output_type": "display_data"
    }
   ],
   "source": [
    "plt.plot(gammas, np.abs(1 - final_observed / final_expected), \"o\")\n",
    "plt.xlabel(r\"$\\gamma$\")\n",
    "plt.ylabel(\"$| 1 - \\\\frac{I(\\\\infty)_{obs}}{I(\\\\infty)_{exp}} |$\")\n",
    "plt.title(r\"Error in equilibrium infected fraction increases roughly linearly in $\\gamma \\Delta t$\")"
   ]
  }
 ],
 "metadata": {
  "kernelspec": {
   "display_name": "laser-generic",
   "language": "python",
   "name": "python3"
  },
  "language_info": {
   "codemirror_mode": {
    "name": "ipython",
    "version": 3
   },
   "file_extension": ".py",
   "mimetype": "text/x-python",
   "name": "python",
   "nbconvert_exporter": "python",
   "pygments_lexer": "ipython3",
   "version": "3.12.8"
  }
 },
 "nbformat": 4,
 "nbformat_minor": 2
}
