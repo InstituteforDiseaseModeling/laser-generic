{
 "cells": [
  {
   "cell_type": "code",
   "execution_count": 1,
   "metadata": {},
   "outputs": [
    {
     "data": {
      "text/plain": [
       "\"np.__version__='1.26.4'\""
      ]
     },
     "execution_count": 1,
     "metadata": {},
     "output_type": "execute_result"
    }
   ],
   "source": [
    "import numpy as np\n",
    "import pandas as pd\n",
    "from laser_core.propertyset import PropertySet\n",
    "from scipy.optimize import curve_fit\n",
    "\n",
    "from laser_generic import Model\n",
    "from laser_generic.infection import Infection_SIS\n",
    "from laser_generic.susceptibility import Susceptibility\n",
    "from laser_generic.transmission import Transmission\n",
    "\n",
    "f\"{np.__version__=}\""
   ]
  },
  {
   "cell_type": "code",
   "execution_count": 2,
   "metadata": {},
   "outputs": [
    {
     "name": "stdout",
     "output_type": "stream",
     "text": [
      "2024-12-09 21:21:38.595248: Creating the generic model…\n",
      "Initializing the generic model with 1 patches…\n"
     ]
    }
   ],
   "source": [
    "scenario = pd.DataFrame(data=[[\"homenode\", 1e5, \"47°36′35″N 122°19′59″W\"]], columns=[\"name\", \"population\", \"location\"])\n",
    "parameters = PropertySet({\"seed\": 4, \"nticks\": 3000, \"verbose\": True, \"beta\": 0.05, \"inf_mean\": 40})\n",
    "model = Model(scenario, parameters)\n",
    "model.components = [\n",
    "    Susceptibility,\n",
    "    Infection_SIS,\n",
    "    Transmission,\n",
    "]"
   ]
  },
  {
   "cell_type": "code",
   "execution_count": 3,
   "metadata": {},
   "outputs": [
    {
     "name": "stdout",
     "output_type": "stream",
     "text": [
      "2024-12-09 21:21:38.612307: Running the generic model for 3000 ticks…\n"
     ]
    },
    {
     "name": "stderr",
     "output_type": "stream",
     "text": [
      "100%|██████████| 3000/3000 [00:03<00:00, 813.17it/s]"
     ]
    },
    {
     "name": "stdout",
     "output_type": "stream",
     "text": [
      "Completed the generic model at 2024-12-09 21:21:42.305161…\n",
      "Model        :        10,588 µs\n",
      "Infection_SIS:       878,440 µs\n",
      "Transmission :     2,730,930 µs\n",
      "===============================\n",
      "Total:             3,619,958 microseconds\n"
     ]
    },
    {
     "name": "stderr",
     "output_type": "stream",
     "text": [
      "\n"
     ]
    }
   ],
   "source": [
    "from laser_generic.utils import seed_infections_randomly\n",
    "\n",
    "seed_infections_randomly(model, ninfections=1)\n",
    "model.run()"
   ]
  },
  {
   "cell_type": "code",
   "execution_count": null,
   "metadata": {},
   "outputs": [],
   "source": []
  },
  {
   "cell_type": "code",
   "execution_count": 4,
   "metadata": {},
   "outputs": [
    {
     "data": {
      "text/plain": [
       "[<matplotlib.lines.Line2D at 0x702585fdfa40>]"
      ]
     },
     "execution_count": 4,
     "metadata": {},
     "output_type": "execute_result"
    },
    {
     "data": {
      "image/png": "[encoded data removed]",
      "text/plain": [
       "<Figure size 640x480 with 1 Axes>"
      ]
     },
     "metadata": {},
     "output_type": "display_data"
    }
   ],
   "source": [
    "import matplotlib.pyplot as plt\n",
    "\n",
    "plt.plot(model.patches.cases)\n",
    "\n",
    "x = 1-1/model.params[\"beta\"]/model.params[\"inf_mean\"]\n",
    "t = np.arange(0, model.params[\"nticks\"])\n",
    "plt.plot(t, \n",
    "         scenario['population'][0] * x / \n",
    "         (1 + (scenario['population'][0] * x - 1) * np.exp(-model.params[\"beta\"] * x * (t-1))))"
   ]
  },
  {
   "cell_type": "code",
   "execution_count": 5,
   "metadata": {},
   "outputs": [
    {
     "name": "stdout",
     "output_type": "stream",
     "text": [
      "0.5\n",
      "0.48378699999999997\n"
     ]
    }
   ],
   "source": [
    "print(1-1/model.params[\"beta\"]/model.params[\"inf_mean\"])\n",
    "print(np.mean(model.patches.cases[-100:])/scenario['population'][0])\n"
   ]
  },
  {
   "cell_type": "code",
   "execution_count": 9,
   "metadata": {},
   "outputs": [
    {
     "name": "stdout",
     "output_type": "stream",
     "text": [
      "2024-12-09 21:24:14.052491: Creating the generic model…\n",
      "Initializing the generic model with 1 patches…\n",
      "2024-12-09 21:24:14.055266: Running the generic model for 730 ticks…\n"
     ]
    },
    {
     "name": "stderr",
     "output_type": "stream",
     "text": [
      "100%|██████████| 730/730 [00:00<00:00, 1067.16it/s]"
     ]
    },
    {
     "name": "stdout",
     "output_type": "stream",
     "text": [
      "Completed the generic model at 2024-12-09 21:24:14.743420…\n",
      "Model        :         2,431 µs\n",
      "Infection_SIS:       148,221 µs\n",
      "Transmission :       520,305 µs\n",
      "===============================\n",
      "Total:               670,957 microseconds\n",
      "2024-12-09 21:24:14.752952: Creating the generic model…\n",
      "Initializing the generic model with 1 patches…\n",
      "2024-12-09 21:24:14.755986: Running the generic model for 730 ticks…\n"
     ]
    },
    {
     "name": "stderr",
     "output_type": "stream",
     "text": [
      "\n",
      "/tmp/ipykernel_12446/129482031.py:34: FutureWarning: The behavior of DataFrame concatenation with empty or all-NA entries is deprecated. In a future version, this will no longer exclude empty or all-NA columns when determining the result dtypes. To retain the old behavior, exclude the relevant entries before the concat operation.\n",
      "  output = pd.concat(\n",
      "100%|██████████| 730/730 [00:00<00:00, 1211.32it/s]"
     ]
    },
    {
     "name": "stdout",
     "output_type": "stream",
     "text": [
      "Completed the generic model at 2024-12-09 21:24:15.361583…\n",
      "Model        :         2,364 µs\n",
      "Infection_SIS:       176,318 µs\n",
      "Transmission :       412,537 µs\n",
      "===============================\n",
      "Total:               591,219 microseconds\n",
      "2024-12-09 21:24:15.372245: Creating the generic model…\n",
      "Initializing the generic model with 1 patches…\n",
      "2024-12-09 21:24:15.374864: Running the generic model for 730 ticks…\n"
     ]
    },
    {
     "name": "stderr",
     "output_type": "stream",
     "text": [
      "\n",
      "100%|██████████| 730/730 [00:00<00:00, 1548.49it/s]"
     ]
    },
    {
     "name": "stdout",
     "output_type": "stream",
     "text": [
      "Completed the generic model at 2024-12-09 21:24:15.849730…\n",
      "Model        :         2,240 µs\n",
      "Infection_SIS:       121,038 µs\n",
      "Transmission :       339,764 µs\n",
      "===============================\n",
      "Total:               463,042 microseconds\n",
      "2024-12-09 21:24:15.860532: Creating the generic model…\n",
      "Initializing the generic model with 1 patches…\n",
      "2024-12-09 21:24:15.863165: Running the generic model for 730 ticks…\n"
     ]
    },
    {
     "name": "stderr",
     "output_type": "stream",
     "text": [
      "\n",
      "100%|██████████| 730/730 [00:00<00:00, 1362.57it/s]"
     ]
    },
    {
     "name": "stdout",
     "output_type": "stream",
     "text": [
      "Completed the generic model at 2024-12-09 21:24:16.402245…\n",
      "Model        :         2,226 µs\n",
      "Infection_SIS:       109,680 µs\n",
      "Transmission :       415,992 µs\n",
      "===============================\n",
      "Total:               527,898 microseconds\n",
      "2024-12-09 21:24:16.411362: Creating the generic model…\n",
      "Initializing the generic model with 1 patches…\n",
      "2024-12-09 21:24:16.414477: Running the generic model for 730 ticks…\n"
     ]
    },
    {
     "name": "stderr",
     "output_type": "stream",
     "text": [
      "\n",
      "100%|██████████| 730/730 [00:00<00:00, 1359.44it/s]"
     ]
    },
    {
     "name": "stdout",
     "output_type": "stream",
     "text": [
      "Completed the generic model at 2024-12-09 21:24:16.955383…\n",
      "Model        :         2,456 µs\n",
      "Infection_SIS:       125,617 µs\n",
      "Transmission :       398,471 µs\n",
      "===============================\n",
      "Total:               526,544 microseconds\n",
      "2024-12-09 21:24:16.965879: Creating the generic model…\n",
      "Initializing the generic model with 1 patches…\n",
      "2024-12-09 21:24:16.969033: Running the generic model for 730 ticks…\n"
     ]
    },
    {
     "name": "stderr",
     "output_type": "stream",
     "text": [
      "\n",
      "100%|██████████| 730/730 [00:00<00:00, 1936.36it/s]"
     ]
    },
    {
     "name": "stdout",
     "output_type": "stream",
     "text": [
      "Completed the generic model at 2024-12-09 21:24:17.349364…\n",
      "Model        :         2,525 µs\n",
      "Infection_SIS:        82,860 µs\n",
      "Transmission :       283,179 µs\n",
      "===============================\n",
      "Total:               368,564 microseconds\n",
      "2024-12-09 21:24:17.359238: Creating the generic model…\n",
      "Initializing the generic model with 1 patches…\n",
      "2024-12-09 21:24:17.362870: Running the generic model for 730 ticks…\n"
     ]
    },
    {
     "name": "stderr",
     "output_type": "stream",
     "text": [
      "\n",
      "100%|██████████| 730/730 [00:00<00:00, 1829.30it/s]\n"
     ]
    },
    {
     "name": "stdout",
     "output_type": "stream",
     "text": [
      "Completed the generic model at 2024-12-09 21:24:17.765580…\n",
      "Model        :         2,218 µs\n",
      "Infection_SIS:        88,905 µs\n",
      "Transmission :       300,592 µs\n",
      "===============================\n",
      "Total:               391,715 microseconds\n",
      "2024-12-09 21:24:17.778714: Creating the generic model…\n",
      "Initializing the generic model with 1 patches…\n",
      "2024-12-09 21:24:17.780471: Running the generic model for 730 ticks…\n"
     ]
    },
    {
     "name": "stderr",
     "output_type": "stream",
     "text": [
      "100%|██████████| 730/730 [00:00<00:00, 1276.40it/s]"
     ]
    },
    {
     "name": "stdout",
     "output_type": "stream",
     "text": [
      "Completed the generic model at 2024-12-09 21:24:18.354655…\n",
      "Model        :         2,231 µs\n",
      "Infection_SIS:       169,079 µs\n",
      "Transmission :       391,882 µs\n",
      "===============================\n",
      "Total:               563,192 microseconds\n",
      "2024-12-09 21:24:18.370009: Creating the generic model…\n",
      "Initializing the generic model with 1 patches…\n",
      "2024-12-09 21:24:18.371910: Running the generic model for 730 ticks…\n"
     ]
    },
    {
     "name": "stderr",
     "output_type": "stream",
     "text": [
      "\n",
      "100%|██████████| 730/730 [00:00<00:00, 1550.08it/s]"
     ]
    },
    {
     "name": "stdout",
     "output_type": "stream",
     "text": [
      "Completed the generic model at 2024-12-09 21:24:18.845945…\n",
      "Model        :         2,671 µs\n",
      "Infection_SIS:       112,770 µs\n",
      "Transmission :       346,124 µs\n",
      "===============================\n",
      "Total:               461,565 microseconds\n",
      "2024-12-09 21:24:18.856358: Creating the generic model…\n",
      "Initializing the generic model with 1 patches…\n",
      "2024-12-09 21:24:18.858748: Running the generic model for 730 ticks…\n"
     ]
    },
    {
     "name": "stderr",
     "output_type": "stream",
     "text": [
      "\n",
      "100%|██████████| 730/730 [00:00<00:00, 1690.36it/s]"
     ]
    },
    {
     "name": "stdout",
     "output_type": "stream",
     "text": [
      "Completed the generic model at 2024-12-09 21:24:19.294358…\n",
      "Model        :         2,269 µs\n",
      "Infection_SIS:        95,984 µs\n",
      "Transmission :       324,557 µs\n",
      "===============================\n",
      "Total:               422,810 microseconds\n"
     ]
    },
    {
     "name": "stderr",
     "output_type": "stream",
     "text": [
      "\n"
     ]
    },
    {
     "data": {
      "text/plain": [
       "(-50.0, 50.0)"
      ]
     },
     "execution_count": 9,
     "metadata": {},
     "output_type": "execute_result"
    },
    {
     "data": {
      "image/png": "[encoded data removed]",
      "text/plain": [
       "<Figure size 640x480 with 1 Axes>"
      ]
     },
     "metadata": {},
     "output_type": "display_data"
    },
    {
     "data": {
      "image/png": "[encoded data removed]",
      "text/plain": [
       "<Figure size 640x480 with 1 Axes>"
      ]
     },
     "metadata": {},
     "output_type": "display_data"
    },
    {
     "data": {
      "image/png": "[encoded data removed]",
      "text/plain": [
       "<Figure size 640x480 with 1 Axes>"
      ]
     },
     "metadata": {},
     "output_type": "display_data"
    },
    {
     "data": {
      "image/png": "[encoded data removed]",
      "text/plain": [
       "<Figure size 640x480 with 1 Axes>"
      ]
     },
     "metadata": {},
     "output_type": "display_data"
    }
   ],
   "source": [
    "# Need to rethink this - the fit is degenerate in size, mu, gamma all together, so fix population size for now.\n",
    "# Better solution is to use functools partial, keep size as a parameter, and then fix it later using the actual scenario population.\n",
    "# But this is a quick test, meant to inform a better approach by somebody down the line to formalize it.\n",
    "def SIS_logistic(t, beta, gamma, t0):\n",
    "    x = 1 - (1 / gamma / beta)\n",
    "    return 1e5 * x / (1 + (1e5 / 10 * x - 1) * np.exp(-beta * x * (t - t0)))\n",
    "\n",
    "\n",
    "nticks = 730\n",
    "t = np.arange(730)\n",
    "betarange = [0.1, 0.3]\n",
    "gammarange = [20, 50]\n",
    "seeds = [i for i in range(10)]\n",
    "betas = np.random.uniform(betarange[0], betarange[1], 10)\n",
    "gammas = np.random.randint(gammarange[0], gammarange[1], 10)\n",
    "output = pd.DataFrame(columns=[\"seed\", \"beta\", \"gamma\", \"cases\", \"fitted_beta\", \"fitted_gamma\", \"fitted_t0\"])\n",
    "scenario = pd.DataFrame(data=[[\"homenode\", 1e5, \"47°36′35″N 122°19′59″W\"]], columns=[\"name\", \"population\", \"location\"])\n",
    "\n",
    "for seed, beta, gamma in zip(seeds, betas, gammas):\n",
    "    parameters = PropertySet({\"seed\": seed, \"nticks\": nticks, \"verbose\": True, \"beta\": beta, \"inf_mean\": gamma})\n",
    "    model = Model(scenario, parameters)\n",
    "    model.components = [\n",
    "        Susceptibility,\n",
    "        Infection_SIS,\n",
    "        Transmission,\n",
    "    ]\n",
    "    seed_infections_randomly(model, ninfections=10)\n",
    "    model.run()\n",
    "    cases = [model.patches.cases[i][0] for i in range(nticks)]\n",
    "    try:\n",
    "        popt, pcov = curve_fit(SIS_logistic, t, cases, p0=[0.05, 40, 1], bounds=([betarange[0]/2, gammarange[0]/2, 1], [betarange[1]*2, gammarange[1]*2, 365]))\n",
    "    except:\n",
    "        popt = [0, 0, 0, 0]\n",
    "    output = pd.concat(\n",
    "        [\n",
    "            output,\n",
    "            pd.DataFrame.from_dict(\n",
    "                {\n",
    "                    \"seed\": seed,\n",
    "                    \"beta\": beta,\n",
    "                    \"gamma\": gamma,\n",
    "                    \"cases\": [np.array(cases)],\n",
    "                    \"fitted_beta\": popt[0],\n",
    "                    \"fitted_gamma\": popt[1],\n",
    "                    \"fitted_t0\": popt[2],\n",
    "                }\n",
    "            ),\n",
    "        ],\n",
    "        ignore_index=True,\n",
    "    )\n",
    "\n",
    "plt.figure()\n",
    "plt.plot(output[\"beta\"], output[\"fitted_beta\"], \"o\")\n",
    "plt.xlim(betarange[0], betarange[1])\n",
    "plt.ylim(betarange[0], betarange[1])\n",
    "plt.figure()\n",
    "plt.plot(output[\"beta\"], output[\"beta\"] - output[\"fitted_beta\"], \"o\")\n",
    "plt.xlim(betarange[0], betarange[1])\n",
    "plt.ylim(-betarange[1], betarange[1])\n",
    "plt.figure()\n",
    "plt.plot(output[\"gamma\"], output[\"fitted_gamma\"], \"o\")\n",
    "plt.xlim(gammarange[0], gammarange[1])\n",
    "plt.ylim(gammarange[0], gammarange[1])\n",
    "plt.figure()\n",
    "plt.plot(output[\"gamma\"], output[\"gamma\"] - output[\"fitted_gamma\"], \"o\")\n",
    "plt.xlim(gammarange[0], gammarange[1])\n",
    "plt.ylim(-gammarange[1], gammarange[1])"
   ]
  },
  {
   "cell_type": "code",
   "execution_count": 10,
   "metadata": {},
   "outputs": [
    {
     "data": {
      "text/html": [
       "<div>\n",
       "<style scoped>\n",
       "    .dataframe tbody tr th:only-of-type {\n",
       "        vertical-align: middle;\n",
       "    }\n",
       "\n",
       "    .dataframe tbody tr th {\n",
       "        vertical-align: top;\n",
       "    }\n",
       "\n",
       "    .dataframe thead th {\n",
       "        text-align: right;\n",
       "    }\n",
       "</style>\n",
       "<table border=\"1\" class=\"dataframe\">\n",
       "  <thead>\n",
       "    <tr style=\"text-align: right;\">\n",
       "      <th></th>\n",
       "      <th>seed</th>\n",
       "      <th>beta</th>\n",
       "      <th>gamma</th>\n",
       "      <th>cases</th>\n",
       "      <th>fitted_beta</th>\n",
       "      <th>fitted_gamma</th>\n",
       "      <th>fitted_t0</th>\n",
       "    </tr>\n",
       "  </thead>\n",
       "  <tbody>\n",
       "    <tr>\n",
       "      <th>0</th>\n",
       "      <td>0</td>\n",
       "      <td>0.133355</td>\n",
       "      <td>23</td>\n",
       "      <td>[10, 12, 14, 15, 17, 18, 22, 23, 27, 28, 31, 3...</td>\n",
       "      <td>0.132069</td>\n",
       "      <td>21.771532</td>\n",
       "      <td>1.000000</td>\n",
       "    </tr>\n",
       "    <tr>\n",
       "      <th>1</th>\n",
       "      <td>1</td>\n",
       "      <td>0.275712</td>\n",
       "      <td>31</td>\n",
       "      <td>[9, 12, 16, 22, 34, 40, 46, 55, 71, 80, 108, 1...</td>\n",
       "      <td>0.255529</td>\n",
       "      <td>29.218645</td>\n",
       "      <td>1.037198</td>\n",
       "    </tr>\n",
       "    <tr>\n",
       "      <th>2</th>\n",
       "      <td>2</td>\n",
       "      <td>0.290193</td>\n",
       "      <td>25</td>\n",
       "      <td>[9, 11, 16, 23, 32, 38, 45, 49, 57, 72, 94, 11...</td>\n",
       "      <td>0.268926</td>\n",
       "      <td>23.454394</td>\n",
       "      <td>1.075280</td>\n",
       "    </tr>\n",
       "    <tr>\n",
       "      <th>3</th>\n",
       "      <td>3</td>\n",
       "      <td>0.107750</td>\n",
       "      <td>39</td>\n",
       "      <td>[10, 9, 10, 12, 11, 12, 13, 14, 13, 12, 13, 15...</td>\n",
       "      <td>0.104620</td>\n",
       "      <td>37.800143</td>\n",
       "      <td>8.767956</td>\n",
       "    </tr>\n",
       "    <tr>\n",
       "      <th>4</th>\n",
       "      <td>4</td>\n",
       "      <td>0.239821</td>\n",
       "      <td>26</td>\n",
       "      <td>[9, 10, 15, 21, 30, 34, 39, 45, 49, 61, 68, 82...</td>\n",
       "      <td>0.226278</td>\n",
       "      <td>24.552481</td>\n",
       "      <td>1.000000</td>\n",
       "    </tr>\n",
       "    <tr>\n",
       "      <th>5</th>\n",
       "      <td>5</td>\n",
       "      <td>0.214552</td>\n",
       "      <td>43</td>\n",
       "      <td>[10, 15, 20, 23, 28, 32, 38, 47, 50, 60, 73, 8...</td>\n",
       "      <td>0.206088</td>\n",
       "      <td>39.757006</td>\n",
       "      <td>1.000000</td>\n",
       "    </tr>\n",
       "    <tr>\n",
       "      <th>6</th>\n",
       "      <td>6</td>\n",
       "      <td>0.279601</td>\n",
       "      <td>29</td>\n",
       "      <td>[9, 15, 19, 23, 26, 36, 44, 58, 68, 76, 94, 11...</td>\n",
       "      <td>0.259199</td>\n",
       "      <td>27.309203</td>\n",
       "      <td>1.758045</td>\n",
       "    </tr>\n",
       "    <tr>\n",
       "      <th>7</th>\n",
       "      <td>7</td>\n",
       "      <td>0.233380</td>\n",
       "      <td>36</td>\n",
       "      <td>[10, 14, 18, 21, 23, 32, 41, 51, 64, 78, 92, 1...</td>\n",
       "      <td>0.221097</td>\n",
       "      <td>33.766887</td>\n",
       "      <td>1.000000</td>\n",
       "    </tr>\n",
       "    <tr>\n",
       "      <th>8</th>\n",
       "      <td>8</td>\n",
       "      <td>0.209568</td>\n",
       "      <td>44</td>\n",
       "      <td>[9, 12, 14, 15, 18, 22, 35, 39, 45, 60, 73, 87...</td>\n",
       "      <td>0.203577</td>\n",
       "      <td>40.178897</td>\n",
       "      <td>1.000000</td>\n",
       "    </tr>\n",
       "    <tr>\n",
       "      <th>9</th>\n",
       "      <td>9</td>\n",
       "      <td>0.240485</td>\n",
       "      <td>37</td>\n",
       "      <td>[9, 12, 14, 14, 16, 17, 23, 31, 39, 47, 55, 70...</td>\n",
       "      <td>0.227433</td>\n",
       "      <td>34.615325</td>\n",
       "      <td>1.632118</td>\n",
       "    </tr>\n",
       "  </tbody>\n",
       "</table>\n",
       "</div>"
      ],
      "text/plain": [
       "  seed      beta gamma                                              cases  \\\n",
       "0    0  0.133355    23  [10, 12, 14, 15, 17, 18, 22, 23, 27, 28, 31, 3...   \n",
       "1    1  0.275712    31  [9, 12, 16, 22, 34, 40, 46, 55, 71, 80, 108, 1...   \n",
       "2    2  0.290193    25  [9, 11, 16, 23, 32, 38, 45, 49, 57, 72, 94, 11...   \n",
       "3    3  0.107750    39  [10, 9, 10, 12, 11, 12, 13, 14, 13, 12, 13, 15...   \n",
       "4    4  0.239821    26  [9, 10, 15, 21, 30, 34, 39, 45, 49, 61, 68, 82...   \n",
       "5    5  0.214552    43  [10, 15, 20, 23, 28, 32, 38, 47, 50, 60, 73, 8...   \n",
       "6    6  0.279601    29  [9, 15, 19, 23, 26, 36, 44, 58, 68, 76, 94, 11...   \n",
       "7    7  0.233380    36  [10, 14, 18, 21, 23, 32, 41, 51, 64, 78, 92, 1...   \n",
       "8    8  0.209568    44  [9, 12, 14, 15, 18, 22, 35, 39, 45, 60, 73, 87...   \n",
       "9    9  0.240485    37  [9, 12, 14, 14, 16, 17, 23, 31, 39, 47, 55, 70...   \n",
       "\n",
       "   fitted_beta  fitted_gamma  fitted_t0  \n",
       "0     0.132069     21.771532   1.000000  \n",
       "1     0.255529     29.218645   1.037198  \n",
       "2     0.268926     23.454394   1.075280  \n",
       "3     0.104620     37.800143   8.767956  \n",
       "4     0.226278     24.552481   1.000000  \n",
       "5     0.206088     39.757006   1.000000  \n",
       "6     0.259199     27.309203   1.758045  \n",
       "7     0.221097     33.766887   1.000000  \n",
       "8     0.203577     40.178897   1.000000  \n",
       "9     0.227433     34.615325   1.632118  "
      ]
     },
     "execution_count": 10,
     "metadata": {},
     "output_type": "execute_result"
    }
   ],
   "source": [
    "output"
   ]
  },
  {
   "cell_type": "code",
   "execution_count": 8,
   "metadata": {},
   "outputs": [
    {
     "data": {
      "text/plain": [
       "[<matplotlib.lines.Line2D at 0x702585ec5070>]"
      ]
     },
     "execution_count": 8,
     "metadata": {},
     "output_type": "execute_result"
    },
    {
     "data": {
      "image/png": "[encoded data removed]",
      "text/plain": [
       "<Figure size 640x480 with 1 Axes>"
      ]
     },
     "metadata": {},
     "output_type": "display_data"
    }
   ],
   "source": [
    "ind = 3\n",
    "plt.plot(t, output[\"cases\"].iloc[ind], \"-\", lw=4)\n",
    "t = np.arange(730)\n",
    "plt.plot(SIS_logistic(t, output[\"fitted_beta\"].iloc[ind], output[\"fitted_gamma\"].iloc[ind], output[\"fitted_t0\"].iloc[ind]), \"--\", lw=2)\n",
    "plt.plot(SIS_logistic(t, output[\"beta\"].iloc[ind], output[\"gamma\"].iloc[ind], 1), \":\", lw=4)"
   ]
  },
  {
   "cell_type": "code",
   "execution_count": null,
   "metadata": {},
   "outputs": [
    {
     "data": {
      "text/plain": [
       "1"
      ]
     },
     "execution_count": 13,
     "metadata": {},
     "output_type": "execute_result"
    }
   ],
   "source": []
  },
  {
   "cell_type": "code",
   "execution_count": 19,
   "metadata": {},
   "outputs": [
    {
     "data": {
      "text/plain": []
     },
     "execution_count": 19,
     "metadata": {},
     "output_type": "execute_result"
    }
   ],
   "source": [
    "1 / 95 / 365 / 0.04"
   ]
  },
  {
   "cell_type": "code",
   "execution_count": null,
   "metadata": {},
   "outputs": [
    {
     "data": {
      "text/plain": [
       "(array([140., 125.,  85.,  88.,  93.,  51.,  56.,  47.,  62.,  44.,  33.,\n",
       "         24.,  28.,  24.,  24.,  18.,  17.,  10.,  13.,  18.]),\n",
       " array([  0.  ,  12.75,  25.5 ,  38.25,  51.  ,  63.75,  76.5 ,  89.25,\n",
       "        102.  , 114.75, 127.5 , 140.25, 153.  , 165.75, 178.5 , 191.25,\n",
       "        204.  , 216.75, 229.5 , 242.25, 255.  ]),\n",
       " <BarContainer object of 20 artists>)"
      ]
     },
     "execution_count": 9,
     "metadata": {},
     "output_type": "execute_result"
    },
    {
     "data": {
      "image/png": "[encoded data removed]",
      "text/plain": [
       "<Figure size 640x480 with 1 Axes>"
      ]
     },
     "metadata": {},
     "output_type": "display_data"
    }
   ],
   "source": []
  },
  {
   "cell_type": "code",
   "execution_count": null,
   "metadata": {},
   "outputs": [],
   "source": []
  }
 ],
 "metadata": {
  "kernelspec": {
   "display_name": "Python 3",
   "language": "python",
   "name": "python3"
  },
  "language_info": {
   "codemirror_mode": {
    "name": "ipython",
    "version": 3
   },
   "file_extension": ".py",
   "mimetype": "text/x-python",
   "name": "python",
   "nbconvert_exporter": "python",
   "pygments_lexer": "ipython3",
   "version": "3.12.1"
  }
 },
 "nbformat": 4,
 "nbformat_minor": 2
}
