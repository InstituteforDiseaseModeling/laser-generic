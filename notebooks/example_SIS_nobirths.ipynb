{
 "cells": [
  {
   "cell_type": "code",
   "execution_count": 1,
   "metadata": {},
   "outputs": [
    {
     "data": {
      "text/plain": [
       "\"np.__version__='1.26.4'\""
      ]
     },
     "execution_count": 1,
     "metadata": {},
     "output_type": "execute_result"
    }
   ],
   "source": [
    "import numpy as np\n",
    "import pandas as pd\n",
    "from laser_core.propertyset import PropertySet\n",
    "from scipy.optimize import curve_fit\n",
    "\n",
    "from laser_generic import Model\n",
    "from laser_generic.infection import Infection_SIS\n",
    "from laser_generic.susceptibility import Susceptibility\n",
    "from laser_generic.transmission import Transmission\n",
    "\n",
    "f\"{np.__version__=}\""
   ]
  },
  {
   "cell_type": "code",
   "execution_count": 2,
   "metadata": {},
   "outputs": [
    {
     "name": "stdout",
     "output_type": "stream",
     "text": [
      "2024-12-06 18:24:58.435154: Creating the generic model…\n",
      "Initializing the generic model with 1 patches…\n"
     ]
    }
   ],
   "source": [
    "scenario = pd.DataFrame(data=[[\"homenode\", 1e6, \"47°36′35″N 122°19′59″W\"]], columns=[\"name\", \"population\", \"location\"])\n",
    "parameters = PropertySet({\"seed\": 2, \"nticks\": 730, \"verbose\": True, \"beta\": 0.1, \"inf_mean\": 90})\n",
    "model = Model(scenario, parameters)\n",
    "model.components = [\n",
    "    Susceptibility,\n",
    "    Transmission,\n",
    "    Infection_SIS,\n",
    "]"
   ]
  },
  {
   "cell_type": "code",
   "execution_count": 3,
   "metadata": {},
   "outputs": [
    {
     "name": "stdout",
     "output_type": "stream",
     "text": [
      "2024-12-06 18:24:58.949071: Running the generic model for 730 ticks…\n"
     ]
    },
    {
     "name": "stderr",
     "output_type": "stream",
     "text": [
      "100%|██████████| 730/730 [00:22<00:00, 32.50it/s] \n"
     ]
    },
    {
     "name": "stdout",
     "output_type": "stream",
     "text": [
      "Completed the generic model at 2024-12-06 18:25:21.424122…\n",
      "Model        :        25,950 µs\n",
      "Transmission :    14,722,149 µs\n",
      "Infection_SIS:     6,900,775 µs\n",
      "===============================\n",
      "Total:            21,648,874 microseconds\n"
     ]
    }
   ],
   "source": [
    "from laser_generic.utils import seed_infections_randomly\n",
    "\n",
    "seed_infections_randomly(model, ninfections=1)\n",
    "model.run()"
   ]
  },
  {
   "cell_type": "code",
   "execution_count": 4,
   "metadata": {},
   "outputs": [
    {
     "data": {
      "text/plain": [
       "[<matplotlib.lines.Line2D at 0x7b7f99a09820>]"
      ]
     },
     "execution_count": 4,
     "metadata": {},
     "output_type": "execute_result"
    },
    {
     "data": {
      "image/png": "[encoded data removed]",
      "text/plain": [
       "<Figure size 640x480 with 1 Axes>"
      ]
     },
     "metadata": {},
     "output_type": "display_data"
    }
   ],
   "source": [
    "import matplotlib.pyplot as plt\n",
    "\n",
    "plt.plot(model.patches.cases)\n",
    "\n",
    "x = 1-1/model.params[\"beta\"]/model.params[\"inf_mean\"]\n",
    "t = np.arange(0, model.params[\"nticks\"])\n",
    "plt.plot(t, \n",
    "         scenario['population'][0] * x / \n",
    "         (1 + (scenario['population'][0] * x - 1) * np.exp(-model.params[\"beta\"] * x * (t-10))))"
   ]
  },
  {
   "cell_type": "code",
   "execution_count": null,
   "metadata": {},
   "outputs": [
    {
     "data": {
      "text/plain": [
       "0.03333333333333333"
      ]
     },
     "execution_count": 13,
     "metadata": {},
     "output_type": "execute_result"
    }
   ],
   "source": []
  },
  {
   "cell_type": "code",
   "execution_count": 19,
   "metadata": {},
   "outputs": [
    {
     "name": "stdout",
     "output_type": "stream",
     "text": [
      "2024-12-06 17:14:34.984936: Creating the generic model…\n",
      "Initializing the generic model with 1 patches…\n",
      "2024-12-06 17:14:34.987310: Running the generic model for 730 ticks…\n"
     ]
    },
    {
     "name": "stderr",
     "output_type": "stream",
     "text": [
      "100%|██████████| 730/730 [00:00<00:00, 2033.04it/s]"
     ]
    },
    {
     "name": "stdout",
     "output_type": "stream",
     "text": [
      "Completed the generic model at 2024-12-06 17:14:35.349303…\n",
      "Model        :         2,230 µs\n",
      "Infection_SIS:        55,128 µs\n",
      "Transmission :       293,698 µs\n",
      "===============================\n",
      "Total:               351,056 microseconds\n",
      "2024-12-06 17:14:35.376830: Creating the generic model…\n",
      "Initializing the generic model with 1 patches…\n",
      "2024-12-06 17:14:35.380123: Running the generic model for 730 ticks…\n"
     ]
    },
    {
     "name": "stderr",
     "output_type": "stream",
     "text": [
      "\n",
      "/tmp/ipykernel_25868/2525252107.py:34: FutureWarning: The behavior of DataFrame concatenation with empty or all-NA entries is deprecated. In a future version, this will no longer exclude empty or all-NA columns when determining the result dtypes. To retain the old behavior, exclude the relevant entries before the concat operation.\n",
      "  output = pd.concat([output, pd.DataFrame.from_dict({\"seed\": seed, \"beta\": beta, \"gamma\":gamma, \"cases\": [np.array(cases)],\n",
      "100%|██████████| 730/730 [00:00<00:00, 1130.11it/s]\n"
     ]
    },
    {
     "name": "stdout",
     "output_type": "stream",
     "text": [
      "Completed the generic model at 2024-12-06 17:14:36.030971…\n",
      "Model        :         2,276 µs\n",
      "Infection_SIS:        60,017 µs\n",
      "Transmission :       570,156 µs\n",
      "===============================\n",
      "Total:               632,449 microseconds\n",
      "2024-12-06 17:14:36.119727: Creating the generic model…\n",
      "Initializing the generic model with 1 patches…\n",
      "2024-12-06 17:14:36.123567: Running the generic model for 730 ticks…\n"
     ]
    },
    {
     "name": "stderr",
     "output_type": "stream",
     "text": [
      "100%|██████████| 730/730 [00:01<00:00, 440.70it/s]"
     ]
    },
    {
     "name": "stdout",
     "output_type": "stream",
     "text": [
      "Completed the generic model at 2024-12-06 17:14:37.784368…\n",
      "Model        :         3,077 µs\n",
      "Infection_SIS:       196,098 µs\n",
      "Transmission :     1,424,084 µs\n",
      "===============================\n",
      "Total:             1,623,259 microseconds\n",
      "2024-12-06 17:14:37.800362: Creating the generic model…\n",
      "Initializing the generic model with 1 patches…\n",
      "2024-12-06 17:14:37.804239: Running the generic model for 730 ticks…\n"
     ]
    },
    {
     "name": "stderr",
     "output_type": "stream",
     "text": [
      "\n",
      "100%|██████████| 730/730 [00:01<00:00, 605.59it/s]"
     ]
    },
    {
     "name": "stdout",
     "output_type": "stream",
     "text": [
      "Completed the generic model at 2024-12-06 17:14:39.015542…\n",
      "Model        :         2,704 µs\n",
      "Infection_SIS:       120,904 µs\n",
      "Transmission :     1,048,281 µs\n",
      "===============================\n",
      "Total:             1,171,889 microseconds\n",
      "2024-12-06 17:14:39.024625: Creating the generic model…\n",
      "Initializing the generic model with 1 patches…\n",
      "2024-12-06 17:14:39.027886: Running the generic model for 730 ticks…\n"
     ]
    },
    {
     "name": "stderr",
     "output_type": "stream",
     "text": [
      "\n",
      "100%|██████████| 730/730 [00:01<00:00, 457.52it/s]\n"
     ]
    },
    {
     "name": "stdout",
     "output_type": "stream",
     "text": [
      "Completed the generic model at 2024-12-06 17:14:40.628503…\n",
      "Model        :         8,630 µs\n",
      "Infection_SIS:       283,277 µs\n",
      "Transmission :     1,264,718 µs\n",
      "===============================\n",
      "Total:             1,556,625 microseconds\n",
      "2024-12-06 17:14:40.639949: Creating the generic model…\n",
      "Initializing the generic model with 1 patches…\n",
      "2024-12-06 17:14:40.643156: Running the generic model for 730 ticks…\n"
     ]
    },
    {
     "name": "stderr",
     "output_type": "stream",
     "text": [
      "100%|██████████| 730/730 [00:00<00:00, 779.31it/s] "
     ]
    },
    {
     "name": "stdout",
     "output_type": "stream",
     "text": [
      "Completed the generic model at 2024-12-06 17:14:41.584274…\n",
      "Model        :         2,862 µs\n",
      "Infection_SIS:       153,131 µs\n",
      "Transmission :       760,040 µs\n",
      "===============================\n",
      "Total:               916,033 microseconds\n",
      "2024-12-06 17:14:41.594505: Creating the generic model…\n",
      "Initializing the generic model with 1 patches…\n",
      "2024-12-06 17:14:41.598554: Running the generic model for 730 ticks…\n"
     ]
    },
    {
     "name": "stderr",
     "output_type": "stream",
     "text": [
      "\n",
      "100%|██████████| 730/730 [00:01<00:00, 548.49it/s]"
     ]
    },
    {
     "name": "stdout",
     "output_type": "stream",
     "text": [
      "Completed the generic model at 2024-12-06 17:14:42.935137…\n",
      "Model        :         2,767 µs\n",
      "Infection_SIS:       193,103 µs\n",
      "Transmission :     1,101,974 µs\n",
      "===============================\n",
      "Total:             1,297,844 microseconds\n",
      "2024-12-06 17:14:42.942955: Creating the generic model…\n",
      "Initializing the generic model with 1 patches…\n",
      "2024-12-06 17:14:42.947872: Running the generic model for 730 ticks…\n"
     ]
    },
    {
     "name": "stderr",
     "output_type": "stream",
     "text": [
      "\n",
      "100%|██████████| 730/730 [00:02<00:00, 303.34it/s]"
     ]
    },
    {
     "name": "stdout",
     "output_type": "stream",
     "text": [
      "Completed the generic model at 2024-12-06 17:14:45.360976…\n",
      "Model        :         3,210 µs\n",
      "Infection_SIS:       829,230 µs\n",
      "Transmission :     1,552,423 µs\n",
      "===============================\n",
      "Total:             2,384,863 microseconds\n",
      "2024-12-06 17:14:45.371583: Creating the generic model…\n",
      "Initializing the generic model with 1 patches…\n",
      "2024-12-06 17:14:45.374732: Running the generic model for 730 ticks…\n"
     ]
    },
    {
     "name": "stderr",
     "output_type": "stream",
     "text": [
      "\n",
      "100%|██████████| 730/730 [00:00<00:00, 837.57it/s]"
     ]
    },
    {
     "name": "stdout",
     "output_type": "stream",
     "text": [
      "Completed the generic model at 2024-12-06 17:14:46.250941…\n",
      "Model        :        14,141 µs\n",
      "Infection_SIS:       171,997 µs\n",
      "Transmission :       660,352 µs\n",
      "===============================\n",
      "Total:               846,490 microseconds\n",
      "2024-12-06 17:14:46.259643: Creating the generic model…\n",
      "Initializing the generic model with 1 patches…\n",
      "2024-12-06 17:14:46.262959: Running the generic model for 730 ticks…\n"
     ]
    },
    {
     "name": "stderr",
     "output_type": "stream",
     "text": [
      "\n",
      "100%|██████████| 730/730 [00:01<00:00, 422.30it/s]"
     ]
    },
    {
     "name": "stdout",
     "output_type": "stream",
     "text": [
      "Completed the generic model at 2024-12-06 17:14:47.996519…\n",
      "Model        :         3,547 µs\n",
      "Infection_SIS:       322,024 µs\n",
      "Transmission :     1,366,493 µs\n",
      "===============================\n",
      "Total:             1,692,064 microseconds\n"
     ]
    },
    {
     "name": "stderr",
     "output_type": "stream",
     "text": [
      "\n"
     ]
    },
    {
     "data": {
      "text/plain": [
       "(-100.0, 100.0)"
      ]
     },
     "execution_count": 19,
     "metadata": {},
     "output_type": "execute_result"
    },
    {
     "data": {
      "image/png": "[encoded data removed]",
      "text/plain": [
       "<Figure size 640x480 with 1 Axes>"
      ]
     },
     "metadata": {},
     "output_type": "display_data"
    },
    {
     "data": {
      "image/png": "[encoded data removed]",
      "text/plain": [
       "<Figure size 640x480 with 1 Axes>"
      ]
     },
     "metadata": {},
     "output_type": "display_data"
    },
    {
     "data": {
      "image/png": "[encoded data removed]",
      "text/plain": [
       "<Figure size 640x480 with 1 Axes>"
      ]
     },
     "metadata": {},
     "output_type": "display_data"
    },
    {
     "data": {
      "image/png": "[encoded data removed]",
      "text/plain": [
       "<Figure size 640x480 with 1 Axes>"
      ]
     },
     "metadata": {},
     "output_type": "display_data"
    }
   ],
   "source": [
    "# Need to rethink this - the fit is degenerate in size, mu, gamma all together, so fix population size for now.\n",
    "# Better solution is to use functools partial, keep size as a parameter, and then fix it later using the actual scenario population.\n",
    "# But this is a quick test, meant to inform a better approach by somebody down the line to formalize it.\n",
    "def SIS_logistic(t, beta, gamma, t0):\n",
    "    x = 1 - (1 / gamma / beta)\n",
    "    return 1e5 * x / (1 + (1e5 / 10 * x - 1) * np.exp(-beta * x * (t - t0)))\n",
    "\n",
    "\n",
    "nticks = 730\n",
    "t = np.arange(730)\n",
    "\n",
    "seeds = [i for i in range(10)]\n",
    "betas = [0.01 * i for i in range(1, 11)]\n",
    "gammas = np.random.randint(20, 100, 10)\n",
    "output = pd.DataFrame(columns=[\"seed\", \"beta\", \"gamma\", \"cases\", \"fitted_beta\", \"fitted_gamma\", \"fitted_t0\"])\n",
    "scenario = pd.DataFrame(data=[[\"homenode\", 1e5, \"47°36′35″N 122°19′59″W\"]], columns=[\"name\", \"population\", \"location\"])\n",
    "\n",
    "for seed, beta, gamma in zip(seeds, betas, gammas):\n",
    "    parameters = PropertySet({\"seed\": seed, \"nticks\": nticks, \"verbose\": True, \"beta\": beta, \"inf_mean\": gamma})\n",
    "    model = Model(scenario, parameters)\n",
    "    model.components = [\n",
    "        Susceptibility,\n",
    "        Infection_SIS,\n",
    "        Transmission,\n",
    "    ]\n",
    "    seed_infections_randomly(model, ninfections=10)\n",
    "    model.run()\n",
    "    cases = [model.patches.cases[i][0] for i in range(nticks)]\n",
    "    try:\n",
    "        popt, pcov = curve_fit(SIS_logistic, t, cases, p0=[0.05, 40, 1], bounds=([0.005, 10, 1], [0.2, 200, 365]))\n",
    "    except:\n",
    "        popt = [0, 0, 0, 0]\n",
    "    output = pd.concat(\n",
    "        [\n",
    "            output,\n",
    "            pd.DataFrame.from_dict(\n",
    "                {\n",
    "                    \"seed\": seed,\n",
    "                    \"beta\": beta,\n",
    "                    \"gamma\": gamma,\n",
    "                    \"cases\": [np.array(cases)],\n",
    "                    \"fitted_beta\": popt[0],\n",
    "                    \"fitted_gamma\": popt[1],\n",
    "                    \"fitted_t0\": popt[2],\n",
    "                }\n",
    "            ),\n",
    "        ],\n",
    "        ignore_index=True,\n",
    "    )\n",
    "\n",
    "plt.figure()\n",
    "plt.plot(output[\"beta\"], output[\"fitted_beta\"], \"o\")\n",
    "plt.xlim(0, 0.11)\n",
    "plt.ylim(0, 0.11)\n",
    "plt.figure()\n",
    "plt.plot(output[\"beta\"], output[\"beta\"] - output[\"fitted_beta\"], \"o\")\n",
    "plt.xlim(0, 0.11)\n",
    "plt.ylim(-0.11, 0.11)\n",
    "plt.figure()\n",
    "plt.plot(output[\"gamma\"], output[\"fitted_gamma\"], \"o\")\n",
    "plt.xlim(10, 100)\n",
    "plt.ylim(10, 100)\n",
    "plt.figure()\n",
    "plt.plot(output[\"gamma\"], output[\"gamma\"] - output[\"fitted_gamma\"], \"o\")\n",
    "plt.xlim(10, 100)\n",
    "plt.ylim(-100, 100)"
   ]
  },
  {
   "cell_type": "code",
   "execution_count": 6,
   "metadata": {},
   "outputs": [
    {
     "data": {
      "text/html": [
       "<div>\n",
       "<style scoped>\n",
       "    .dataframe tbody tr th:only-of-type {\n",
       "        vertical-align: middle;\n",
       "    }\n",
       "\n",
       "    .dataframe tbody tr th {\n",
       "        vertical-align: top;\n",
       "    }\n",
       "\n",
       "    .dataframe thead th {\n",
       "        text-align: right;\n",
       "    }\n",
       "</style>\n",
       "<table border=\"1\" class=\"dataframe\">\n",
       "  <thead>\n",
       "    <tr style=\"text-align: right;\">\n",
       "      <th></th>\n",
       "      <th>seed</th>\n",
       "      <th>beta</th>\n",
       "      <th>gamma</th>\n",
       "      <th>cases</th>\n",
       "      <th>fitted_beta</th>\n",
       "      <th>fitted_gamma</th>\n",
       "      <th>fitted_t0</th>\n",
       "    </tr>\n",
       "  </thead>\n",
       "  <tbody>\n",
       "    <tr>\n",
       "      <th>0</th>\n",
       "      <td>0</td>\n",
       "      <td>0.01</td>\n",
       "      <td>92</td>\n",
       "      <td>[10, 10, 10, 10, 10, 10, 10, 10, 10, 10, 10, 1...</td>\n",
       "      <td>0.005000</td>\n",
       "      <td>73.881009</td>\n",
       "      <td>31.380601</td>\n",
       "    </tr>\n",
       "    <tr>\n",
       "      <th>1</th>\n",
       "      <td>1</td>\n",
       "      <td>0.02</td>\n",
       "      <td>42</td>\n",
       "      <td>[9, 9, 9, 9, 8, 8, 7, 7, 6, 6, 6, 7, 7, 7, 7, ...</td>\n",
       "      <td>0.005003</td>\n",
       "      <td>18.625032</td>\n",
       "      <td>1.000000</td>\n",
       "    </tr>\n",
       "    <tr>\n",
       "      <th>2</th>\n",
       "      <td>2</td>\n",
       "      <td>0.03</td>\n",
       "      <td>63</td>\n",
       "      <td>[10, 9, 9, 9, 9, 9, 9, 9, 9, 9, 9, 11, 11, 12,...</td>\n",
       "      <td>0.031540</td>\n",
       "      <td>54.498213</td>\n",
       "      <td>28.882204</td>\n",
       "    </tr>\n",
       "    <tr>\n",
       "      <th>3</th>\n",
       "      <td>3</td>\n",
       "      <td>0.04</td>\n",
       "      <td>95</td>\n",
       "      <td>[10, 10, 11, 11, 11, 10, 10, 10, 10, 10, 11, 1...</td>\n",
       "      <td>0.043444</td>\n",
       "      <td>69.624821</td>\n",
       "      <td>26.534293</td>\n",
       "    </tr>\n",
       "    <tr>\n",
       "      <th>4</th>\n",
       "      <td>4</td>\n",
       "      <td>0.05</td>\n",
       "      <td>27</td>\n",
       "      <td>[9, 10, 12, 13, 13, 13, 12, 12, 13, 13, 13, 14...</td>\n",
       "      <td>0.054477</td>\n",
       "      <td>23.339809</td>\n",
       "      <td>5.945033</td>\n",
       "    </tr>\n",
       "    <tr>\n",
       "      <th>5</th>\n",
       "      <td>5</td>\n",
       "      <td>0.06</td>\n",
       "      <td>54</td>\n",
       "      <td>[10, 11, 12, 13, 13, 13, 14, 15, 18, 19, 19, 1...</td>\n",
       "      <td>0.061094</td>\n",
       "      <td>49.050087</td>\n",
       "      <td>1.601320</td>\n",
       "    </tr>\n",
       "    <tr>\n",
       "      <th>6</th>\n",
       "      <td>6</td>\n",
       "      <td>0.07</td>\n",
       "      <td>69</td>\n",
       "      <td>[10, 12, 13, 14, 15, 16, 19, 18, 20, 22, 22, 2...</td>\n",
       "      <td>0.072218</td>\n",
       "      <td>58.456213</td>\n",
       "      <td>1.355068</td>\n",
       "    </tr>\n",
       "    <tr>\n",
       "      <th>7</th>\n",
       "      <td>7</td>\n",
       "      <td>0.08</td>\n",
       "      <td>95</td>\n",
       "      <td>[10, 13, 15, 16, 16, 17, 21, 21, 25, 26, 28, 2...</td>\n",
       "      <td>0.082794</td>\n",
       "      <td>71.584862</td>\n",
       "      <td>2.201489</td>\n",
       "    </tr>\n",
       "    <tr>\n",
       "      <th>8</th>\n",
       "      <td>8</td>\n",
       "      <td>0.09</td>\n",
       "      <td>67</td>\n",
       "      <td>[9, 11, 11, 11, 12, 12, 14, 16, 19, 23, 24, 25...</td>\n",
       "      <td>0.090012</td>\n",
       "      <td>58.511454</td>\n",
       "      <td>4.508308</td>\n",
       "    </tr>\n",
       "    <tr>\n",
       "      <th>9</th>\n",
       "      <td>9</td>\n",
       "      <td>0.10</td>\n",
       "      <td>83</td>\n",
       "      <td>[9, 11, 12, 12, 14, 14, 16, 17, 19, 22, 22, 22...</td>\n",
       "      <td>0.100730</td>\n",
       "      <td>67.047735</td>\n",
       "      <td>3.493244</td>\n",
       "    </tr>\n",
       "  </tbody>\n",
       "</table>\n",
       "</div>"
      ],
      "text/plain": [
       "  seed  beta gamma                                              cases  \\\n",
       "0    0  0.01    92  [10, 10, 10, 10, 10, 10, 10, 10, 10, 10, 10, 1...   \n",
       "1    1  0.02    42  [9, 9, 9, 9, 8, 8, 7, 7, 6, 6, 6, 7, 7, 7, 7, ...   \n",
       "2    2  0.03    63  [10, 9, 9, 9, 9, 9, 9, 9, 9, 9, 9, 11, 11, 12,...   \n",
       "3    3  0.04    95  [10, 10, 11, 11, 11, 10, 10, 10, 10, 10, 11, 1...   \n",
       "4    4  0.05    27  [9, 10, 12, 13, 13, 13, 12, 12, 13, 13, 13, 14...   \n",
       "5    5  0.06    54  [10, 11, 12, 13, 13, 13, 14, 15, 18, 19, 19, 1...   \n",
       "6    6  0.07    69  [10, 12, 13, 14, 15, 16, 19, 18, 20, 22, 22, 2...   \n",
       "7    7  0.08    95  [10, 13, 15, 16, 16, 17, 21, 21, 25, 26, 28, 2...   \n",
       "8    8  0.09    67  [9, 11, 11, 11, 12, 12, 14, 16, 19, 23, 24, 25...   \n",
       "9    9  0.10    83  [9, 11, 12, 12, 14, 14, 16, 17, 19, 22, 22, 22...   \n",
       "\n",
       "   fitted_beta  fitted_gamma  fitted_t0  \n",
       "0     0.005000     73.881009  31.380601  \n",
       "1     0.005003     18.625032   1.000000  \n",
       "2     0.031540     54.498213  28.882204  \n",
       "3     0.043444     69.624821  26.534293  \n",
       "4     0.054477     23.339809   5.945033  \n",
       "5     0.061094     49.050087   1.601320  \n",
       "6     0.072218     58.456213   1.355068  \n",
       "7     0.082794     71.584862   2.201489  \n",
       "8     0.090012     58.511454   4.508308  \n",
       "9     0.100730     67.047735   3.493244  "
      ]
     },
     "execution_count": 6,
     "metadata": {},
     "output_type": "execute_result"
    }
   ],
   "source": [
    "output"
   ]
  },
  {
   "cell_type": "code",
   "execution_count": 26,
   "metadata": {},
   "outputs": [
    {
     "data": {
      "text/plain": [
       "[<matplotlib.lines.Line2D at 0x76f3e5a4d3d0>]"
      ]
     },
     "execution_count": 26,
     "metadata": {},
     "output_type": "execute_result"
    },
    {
     "data": {
      "image/png": "[encoded data removed]",
      "text/plain": [
       "�<\u0012C\u000e\u0011\u0011\u0011y��\u000f���#��i�\u0000\u0000\u0000\u0000IEND�B`�\u0000\u0000\u0000!<Figure size 640x480 with 1 Axes>\u0000\u0000\u0000\u00116.5068"
      ]
     },
     "metadata": {},
     "output_type": "display_data"
    }
   ],
   "source": [
    "ind = 7\n",
    "plt.plot(t, output[\"cases\"].iloc[ind], \"-\", lw=4)\n",
    "t = np.arange(730)\n",
    "plt.plot(SIS_logistic(t, output[\"fitted_beta\"].iloc[ind], output[\"fitted_gamma\"].iloc[ind], output[\"fitted_t0\"].iloc[ind]), \"--\", lw=2)\n",
    "plt.plot(SIS_logistic(t, output[\"beta\"].iloc[ind], output[\"gamma\"].iloc[ind], 1), lw=4)"
   ]
  },
  {
   "cell_type": "code",
   "execution_count": 18,
   "metadata": {},
   "outputs": [
    {
     "data": {
      "text/plain": []
     },
     "execution_count": 18,
     "metadata": {},
     "output_type": "execute_result"
    }
   ],
   "source": [
    "95 / 365 / 0.04"
   ]
  },
  {
   "cell_type": "code",
   "execution_count": 19,
   "metadata": {},
   "outputs": [
    {
     "data": {
      "text/plain": []
     },
     "execution_count": 19,
     "metadata": {},
     "output_type": "execute_result"
    }
   ],
   "source": [
    "1 / 95 / 365 / 0.04"
   ]
  },
  {
   "cell_type": "code",
   "execution_count": null,
   "metadata": {},
   "outputs": [],
   "source": []
  }
 ],
 "metadata": {
  "kernelspec": {
   "display_name": "Python 3",
   "language": "python",
   "name": "python3"
  },
  "language_info": {
   "codemirror_mode": {
    "name": "ipython",
    "version": 3
   },
   "file_extension": ".py",
   "mimetype": "text/x-python",
   "name": "python",
   "nbconvert_exporter": "python",
   "pygments_lexer": "ipython3",
   "version": "3.12.1"
  }
 },
 "nbformat": 4,
 "nbformat_minor": 2
}
