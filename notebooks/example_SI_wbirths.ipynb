{
 "cells": [
  {
   "cell_type": "code",
   "execution_count": 4,
   "metadata": {},
   "outputs": [
    {
     "data": {
      "text/plain": [
       "\"np.__version__='1.26.4'\""
      ]
     },
     "execution_count": 4,
     "metadata": {},
     "output_type": "execute_result"
    }
   ],
   "source": [
    "import numpy as np\n",
    "import pandas as pd\n",
    "from scipy.optimize import curve_fit\n",
    "\n",
    "f\"{np.__version__=}\""
   ]
  },
  {
   "cell_type": "code",
   "execution_count": 5,
   "metadata": {},
   "outputs": [
    {
     "name": "stdout",
     "output_type": "stream",
     "text": [
      "2024-12-06 15:43:14.618451: Creating the generic model…\n",
      "Initializing the generic model with 1 patches…\n",
      "Population growth: 1,000,000 … 2,224,566\n",
      "Alternate growth:  1,000,000 … 1,959,999\n"
     ]
    }
   ],
   "source": [
    "from laser_core.propertyset import PropertySet\n",
    "\n",
    "from laser_generic import Births_ConstantPop\n",
    "from laser_generic import Model\n",
    "from laser_generic import Susceptibility\n",
    "from laser_generic import Transmission\n",
    "from laser_generic.utils import seed_infections_randomly_SI\n",
    "\n",
    "scenario = pd.DataFrame(data=[[\"homenode\", 1e6, \"47°36′35″N 122°19′59″W\"]], columns=[\"name\", \"population\", \"location\"])\n",
    "parameters = PropertySet({\"seed\": 2, \"nticks\": 730, \"verbose\": True, \"beta\": 0.04, \"cbr\": 400})\n",
    "model = Model(scenario, parameters)"
   ]
  },
  {
   "cell_type": "code",
   "execution_count": 7,
   "metadata": {},
   "outputs": [],
   "source": [
    "model.components = [Births_ConstantPop, Susceptibility, Transmission]\n",
    "seed_infections_randomly_SI(model, ninfections=1)"
   ]
  },
  {
   "cell_type": "code",
   "execution_count": 8,
   "metadata": {},
   "outputs": [
    {
     "name": "stdout",
     "output_type": "stream",
     "text": [
      "2024-12-06 15:43:24.317398: Running the generic model for 730 ticks…\n"
     ]
    },
    {
     "name": "stderr",
     "output_type": "stream",
     "text": [
      "100%|██████████| 730/730 [00:07<00:00, 94.43it/s] "
     ]
    },
    {
     "name": "stdout",
     "output_type": "stream",
     "text": [
      "Completed the generic model at 2024-12-06 15:43:32.054629…\n",
      "Model             :         5,916 µs\n",
      "Births_ConstantPop:        89,131 µs\n",
      "Transmission      :     7,501,737 µs\n",
      "====================================\n",
      "Total:                  7,596,784 microseconds\n"
     ]
    },
    {
     "name": "stderr",
     "output_type": "stream",
     "text": [
      "\n"
     ]
    }
   ],
   "source": [
    "model.run()"
   ]
  },
  {
   "cell_type": "code",
   "execution_count": 9,
   "metadata": {},
   "outputs": [
    {
     "data": {
      "image/png": "[encoded data removed]",
      "text/plain": [
       "<Figure size 640x480 with 1 Axes>"
      ]
     },
     "metadata": {},
     "output_type": "display_data"
    }
   ],
   "source": [
    "import matplotlib.pyplot as plt\n",
    "\n",
    "plt.plot(model.patches.cases)\n",
    "x = 1 - parameters[\"cbr\"] / 365 / 1000 / parameters[\"beta\"]\n",
    "plt.plot(1e6 * x / (1 + (1e6 * x - 1) * np.exp(-parameters[\"beta\"] * x * (np.arange(730)))))\n",
    "plt.yscale(\"log\")"
   ]
  },
  {
   "cell_type": "code",
   "execution_count": null,
   "metadata": {},
   "outputs": [
    {
     "name": "stdout",
     "output_type": "stream",
     "text": [
      "2024-12-06 15:46:54.431618: Creating the generic model…\n",
      "Initializing the generic model with 1 patches…\n",
      "Population growth: 100,000 … 191,881\n",
      "Alternate growth:  100,000 … 175,827\n",
      "2024-12-06 15:46:54.437217: Running the generic model for 730 ticks…\n"
     ]
    },
    {
     "name": "stderr",
     "output_type": "stream",
     "text": [
      "100%|██████████| 730/730 [00:01<00:00, 488.47it/s]"
     ]
    },
    {
     "name": "stdout",
     "output_type": "stream",
     "text": [
      "Completed the generic model at 2024-12-06 15:46:55.933744…\n",
      "Model             :         4,476 µs\n",
      "Births_ConstantPop:        37,941 µs\n",
      "Transmission      :     1,430,127 µs\n",
      "====================================\n",
      "Total:                  1,472,544 microseconds\n",
      "2024-12-06 15:46:55.949477: Creating the generic model…\n",
      "Initializing the generic model with 1 patches…\n",
      "Population growth: 100,000 … 179,277\n",
      "Alternate growth:  100,000 … 166,926\n",
      "2024-12-06 15:46:55.954509: Running the generic model for 730 ticks…\n"
     ]
    },
    {
     "name": "stderr",
     "output_type": "stream",
     "text": [
      "\n",
      "/tmp/ipykernel_6204/872998442.py:6: RuntimeWarning: overflow encountered in exp\n",
      "  return 1e5*x / (1 + (1e5*x-1) * np.exp(-beta *x* (t-t0)))\n",
      "/tmp/ipykernel_6204/872998442.py:32: FutureWarning: The behavior of DataFrame concatenation with empty or all-NA entries is deprecated. In a future version, this will no longer exclude empty or all-NA columns when determining the result dtypes. To retain the old behavior, exclude the relevant entries before the concat operation.\n",
      "  output = pd.concat([output, pd.DataFrame.from_dict({\"seed\": seed, \"beta\": beta, \"cbr\":cbr, \"cases\": [np.array(cases)],\n",
      "100%|██████████| 730/730 [00:00<00:00, 1504.02it/s]\n"
     ]
    },
    {
     "name": "stdout",
     "output_type": "stream",
     "text": [
      "Completed the generic model at 2024-12-06 15:46:56.444557…\n",
      "Model             :         4,084 µs\n",
      "Births_ConstantPop:        57,271 µs\n",
      "Transmission      :       415,097 µs\n",
      "====================================\n",
      "Total:                    476,452 microseconds\n",
      "2024-12-06 15:46:56.458914: Creating the generic model…\n",
      "Initializing the generic model with 1 patches…\n",
      "Population growth: 100,000 … 191,881\n",
      "Alternate growth:  100,000 … 175,827\n",
      "2024-12-06 15:46:56.474321: Running the generic model for 730 ticks…\n"
     ]
    },
    {
     "name": "stderr",
     "output_type": "stream",
     "text": [
      "100%|██████████| 730/730 [00:01<00:00, 621.43it/s]"
     ]
    },
    {
     "name": "stdout",
     "output_type": "stream",
     "text": [
      "Completed the generic model at 2024-12-06 15:46:57.653735…\n",
      "Model             :         3,382 µs\n",
      "Births_ConstantPop:        37,694 µs\n",
      "Transmission      :     1,112,518 µs\n",
      "====================================\n",
      "Total:                  1,153,594 microseconds\n",
      "2024-12-06 15:46:57.660350: Creating the generic model…\n",
      "Initializing the generic model with 1 patches…\n",
      "Population growth: 100,000 … 214,598\n"
     ]
    },
    {
     "name": "stderr",
     "output_type": "stream",
     "text": [
      "\n"
     ]
    },
    {
     "name": "stdout",
     "output_type": "stream",
     "text": [
      "Alternate growth:  100,000 … 190,992\n",
      "2024-12-06 15:46:57.665885: Running the generic model for 730 ticks…\n"
     ]
    },
    {
     "name": "stderr",
     "output_type": "stream",
     "text": [
      "100%|██████████| 730/730 [00:00<00:00, 810.14it/s]"
     ]
    },
    {
     "name": "stdout",
     "output_type": "stream",
     "text": [
      "Completed the generic model at 2024-12-06 15:46:58.570526…\n",
      "Model             :         2,592 µs\n",
      "Births_ConstantPop:        38,515 µs\n",
      "Transmission      :       841,747 µs\n",
      "====================================\n",
      "Total:                    882,854 microseconds\n",
      "2024-12-06 15:46:58.575840: Creating the generic model…\n",
      "Initializing the generic model with 1 patches…\n",
      "Population growth: 100,000 … 166,832\n",
      "Alternate growth:  100,000 … 157,753\n",
      "2024-12-06 15:46:58.581828: Running the generic model for 730 ticks…\n"
     ]
    },
    {
     "name": "stderr",
     "output_type": "stream",
     "text": [
      "\n",
      "100%|██████████| 730/730 [00:00<00:00, 1101.41it/s]"
     ]
    },
    {
     "name": "stdout",
     "output_type": "stream",
     "text": [
      "Completed the generic model at 2024-12-06 15:46:59.249325…\n",
      "Model             :         2,337 µs\n",
      "Births_ConstantPop:        33,276 µs\n",
      "Transmission      :       613,487 µs\n",
      "====================================\n",
      "Total:                    649,100 microseconds\n",
      "2024-12-06 15:46:59.254530: Creating the generic model…\n",
      "Initializing the generic model with 1 patches…\n",
      "Population growth: 100,000 … 201,307\n",
      "Alternate growth:  100,000 … 182,250\n",
      "2024-12-06 15:46:59.259329: Running the generic model for 730 ticks…\n"
     ]
    },
    {
     "name": "stderr",
     "output_type": "stream",
     "text": [
      "\n",
      "100%|██████████| 730/730 [00:00<00:00, 1271.44it/s]"
     ]
    },
    {
     "name": "stdout",
     "output_type": "stream",
     "text": [
      "Completed the generic model at 2024-12-06 15:46:59.838720…\n",
      "Model             :         2,300 µs\n",
      "Births_ConstantPop:        33,692 µs\n",
      "Transmission      :       525,651 µs\n",
      "====================================\n",
      "Total:                    561,643 microseconds\n",
      "2024-12-06 15:46:59.845342: Creating the generic model…\n",
      "Initializing the generic model with 1 patches…\n",
      "Population growth: 100,000 … 191,498\n",
      "Alternate growth:  100,000 … 175,562\n",
      "2024-12-06 15:46:59.848940: Running the generic model for 730 ticks…\n"
     ]
    },
    {
     "name": "stderr",
     "output_type": "stream",
     "text": [
      "\n",
      "100%|██████████| 730/730 [00:00<00:00, 1425.25it/s]"
     ]
    },
    {
     "name": "stdout",
     "output_type": "stream",
     "text": [
      "Completed the generic model at 2024-12-06 15:47:00.365287…\n",
      "Model             :         2,359 µs\n",
      "Births_ConstantPop:        33,171 µs\n",
      "Transmission      :       463,440 µs\n",
      "====================================\n",
      "Total:                    498,970 microseconds\n",
      "2024-12-06 15:47:00.371426: Creating the generic model…\n",
      "Initializing the generic model with 1 patches…\n",
      "Population growth: 100,000 … 169,860\n",
      "Alternate growth:  100,000 … 160,022\n",
      "2024-12-06 15:47:00.375504: Running the generic model for 730 ticks…\n"
     ]
    },
    {
     "name": "stderr",
     "output_type": "stream",
     "text": [
      "\n",
      "100%|██████████| 730/730 [00:00<00:00, 1393.66it/s]\n"
     ]
    },
    {
     "name": "stdout",
     "output_type": "stream",
     "text": [
      "Completed the generic model at 2024-12-06 15:47:00.902720…\n",
      "Model             :         2,340 µs\n",
      "Births_ConstantPop:        34,606 µs\n",
      "Transmission      :       477,569 µs\n",
      "====================================\n",
      "Total:                    514,515 microseconds\n",
      "2024-12-06 15:47:00.909402: Creating the generic model…\n",
      "Initializing the generic model with 1 patches…\n",
      "Population growth: 100,000 … 155,872\n",
      "Alternate growth:  100,000 … 149,328\n",
      "2024-12-06 15:47:00.913002: Running the generic model for 730 ticks…\n"
     ]
    },
    {
     "name": "stderr",
     "output_type": "stream",
     "text": [
      "100%|██████████| 730/730 [00:00<00:00, 1610.53it/s]"
     ]
    },
    {
     "name": "stdout",
     "output_type": "stream",
     "text": [
      "Completed the generic model at 2024-12-06 15:47:01.369864…\n",
      "Model             :         3,375 µs\n",
      "Births_ConstantPop:        44,530 µs\n",
      "Transmission      :       395,368 µs\n",
      "====================================\n",
      "Total:                    443,273 microseconds\n",
      "2024-12-06 15:47:01.377770: Creating the generic model…\n",
      "Initializing the generic model with 1 patches…\n",
      "Population growth: 100,000 … 213,743\n",
      "Alternate growth:  100,000 … 190,439\n",
      "2024-12-06 15:47:01.382333: Running the generic model for 730 ticks…\n"
     ]
    },
    {
     "name": "stderr",
     "output_type": "stream",
     "text": [
      "\n",
      "100%|██████████| 730/730 [00:00<00:00, 883.20it/s] \n"
     ]
    },
    {
     "name": "stdout",
     "output_type": "stream",
     "text": [
      "Completed the generic model at 2024-12-06 15:47:02.215524…\n",
      "Model             :         6,560 µs\n",
      "Births_ConstantPop:        50,057 µs\n",
      "Transmission      :       742,137 µs\n",
      "====================================\n",
      "Total:                    798,754 microseconds\n"
     ]
    },
    {
     "data": {
      "text/plain": [
       "(-200.0, 200.0)"
      ]
     },
     "execution_count": 12,
     "metadata": {},
     "output_type": "execute_result"
    },
    {
     "data": {
      "image/png": "[encoded data removed]",
      "text/plain": [
       "<Figure size 640x480 with 1 Axes>"
      ]
     },
     "metadata": {},
     "output_type": "display_data"
    },
    {
     "data": {
      "image/png": "[encoded data removed]",
      "text/plain": [
       "<Figure size 640x480 with 1 Axes>"
      ]
     },
     "metadata": {},
     "output_type": "display_data"
    },
    {
     "data": {
      "image/png": "[encoded data removed]",
      "text/plain": [
       "<Figure size 640x480 with 1 Axes>"
      ]
     },
     "metadata": {},
     "output_type": "display_data"
    },
    {
     "data": {
      "image/png": "[encoded data removed]",
      "text/plain": [
       "<Figure size 640x480 with 1 Axes>"
      ]
     },
     "metadata": {},
     "output_type": "display_data"
    }
   ],
   "source": [
    "# Need to rethink this - the fit is degenerate in size, mu, beta all together, so fix population size for now.\n",
    "# Better solution is to use functools partial, keep size as a parameter, and then fix it later using the actual scenario population.\n",
    "# But this is a quick test, meant to inform a better approach by somebody down the line to formalize it.\n",
    "def SI_logistic(t, beta, cbr, t0):\n",
    "    x = 1 - (cbr / 365 / 1000 / beta)\n",
    "    return 1e5 * x / (1 + (1e5 * x - 1) * np.exp(-beta * x * (t - t0)))\n",
    "\n",
    "\n",
    "nticks = 730\n",
    "t = np.arange(730)\n",
    "\n",
    "seeds = [i for i in range(10)]\n",
    "betas = [0.01 * i for i in range(1, 11)]\n",
    "cbrs = np.random.randint(200, 400, 10)\n",
    "output = pd.DataFrame(columns=[\"seed\", \"beta\", \"cbr\", \"cases\", \"fitted_beta\", \"fitted_size\", \"fitted_t0\"])\n",
    "scenario = pd.DataFrame(data=[[\"homenode\", 1e5, \"47°36′35″N 122°19′59″W\"]], columns=[\"name\", \"population\", \"location\"])\n",
    "\n",
    "for seed, beta, cbr in zip(seeds, betas, cbrs):\n",
    "    parameters = PropertySet({\"seed\": seed, \"nticks\": nticks, \"verbose\": True, \"beta\": beta, \"cbr\": cbr})\n",
    "    model = Model(scenario, parameters)\n",
    "    model.components = [\n",
    "        Births_ConstantPop,\n",
    "        Susceptibility,\n",
    "        Transmission,\n",
    "    ]\n",
    "    seed_infections_randomly_SI(model, ninfections=1)\n",
    "    model.run()\n",
    "    cases = [model.patches.cases[i][0] for i in range(nticks)]\n",
    "    try:\n",
    "        popt, pcov = curve_fit(SI_logistic, t, cases, p0=[0.05, 200, 1])\n",
    "    except:\n",
    "        popt = [0, 0, 0, 0]\n",
    "    output = pd.concat(\n",
    "        [\n",
    "            output,\n",
    "            pd.DataFrame.from_dict(\n",
    "                {\n",
    "                    \"seed\": seed,\n",
    "                    \"beta\": beta,\n",
    "                    \"cbr\": cbr,\n",
    "                    \"cases\": [np.array(cases)],\n",
    "                    \"fitted_beta\": popt[0],\n",
    "                    \"fitted_cbr\": popt[1],\n",
    "                    \"fitted_t0\": popt[2],\n",
    "                }\n",
    "            ),\n",
    "        ],\n",
    "        ignore_index=True,\n",
    "    )\n",
    "\n",
    "plt.figure()\n",
    "plt.plot(output[\"beta\"], output[\"fitted_beta\"], \"o\")\n",
    "plt.xlim(0, 0.11)\n",
    "plt.ylim(0, 0.11)\n",
    "plt.figure()\n",
    "plt.plot(output[\"beta\"], output[\"beta\"] - output[\"fitted_beta\"], \"o\")\n",
    "plt.xlim(0, 0.11)\n",
    "plt.ylim(-0.11, 0.11)\n",
    "plt.figure()\n",
    "plt.plot(output[\"cbr\"], output[\"fitted_cbr\"], \"o\")\n",
    "plt.xlim(200, 400)\n",
    "plt.ylim(200, 400)\n",
    "plt.figure()\n",
    "plt.plot(output[\"cbr\"], output[\"cbr\"] - output[\"fitted_cbr\"], \"o\")\n",
    "plt.xlim(200, 400)\n",
    "plt.ylim(-200, 200)"
   ]
  },
  {
   "cell_type": "code",
   "execution_count": 16,
   "metadata": {},
   "outputs": [
    {
     "data": {
      "text/plain": [
       "[<matplotlib.lines.Line2D at 0x768683875880>]"
      ]
     },
     "execution_count": 16,
     "metadata": {},
     "output_type": "execute_result"
    },
    {
     "data": {
      "image/png": "[encoded data removed]",
      "text/plain": [
       "<Figure size 640x480 with 1 Axes>"
      ]
     },
     "metadata": {},
     "output_type": "display_data"
    }
   ],
   "source": [
    "plt.plot(output[\"cases\"].iloc[5])"
   ]
  },
  {
   "cell_type": "code",
   "execution_count": 13,
   "metadata": {},
   "outputs": [
    {
     "data": {
      "text/html": [
       "<div>\n",
       "<style scoped>\n",
       "    .dataframe tbody tr th:only-of-type {\n",
       "        vertical-align: middle;\n",
       "    }\n",
       "\n",
       "    .dataframe tbody tr th {\n",
       "        vertical-align: top;\n",
       "    }\n",
       "\n",
       "    .dataframe thead th {\n",
       "        text-align: right;\n",
       "    }\n",
       "</style>\n",
       "<table border=\"1\" class=\"dataframe\">\n",
       "  <thead>\n",
       "    <tr style=\"text-align: right;\">\n",
       "      <th></th>\n",
       "      <th>seed</th>\n",
       "      <th>beta</th>\n",
       "      <th>cbr</th>\n",
       "      <th>cases</th>\n",
       "      <th>fitted_beta</th>\n",
       "      <th>fitted_size</th>\n",
       "      <th>fitted_t0</th>\n",
       "      <th>fitted_cbr</th>\n",
       "    </tr>\n",
       "  </thead>\n",
       "  <tbody>\n",
       "    <tr>\n",
       "      <th>0</th>\n",
       "      <td>0</td>\n",
       "      <td>0.01</td>\n",
       "      <td>326</td>\n",
       "      <td>[1, 1, 1, 1, 1, 1, 1, 1, 1, 1, 1, 1, 1, 1, 1, ...</td>\n",
       "      <td>0.139406</td>\n",
       "      <td>NaN</td>\n",
       "      <td>32.125852</td>\n",
       "      <td>4.731157e+04</td>\n",
       "    </tr>\n",
       "    <tr>\n",
       "      <th>1</th>\n",
       "      <td>1</td>\n",
       "      <td>0.02</td>\n",
       "      <td>292</td>\n",
       "      <td>[1, 1, 1, 1, 1, 1, 1, 1, 1, 1, 1, 1, 1, 1, 1, ...</td>\n",
       "      <td>535.758427</td>\n",
       "      <td>NaN</td>\n",
       "      <td>11.316500</td>\n",
       "      <td>1.955611e+08</td>\n",
       "    </tr>\n",
       "    <tr>\n",
       "      <th>2</th>\n",
       "      <td>2</td>\n",
       "      <td>0.03</td>\n",
       "      <td>326</td>\n",
       "      <td>[1, 1, 1, 1, 1, 1, 1, 1, 1, 1, 1, 1, 1, 1, 1, ...</td>\n",
       "      <td>0.029771</td>\n",
       "      <td>NaN</td>\n",
       "      <td>78.855304</td>\n",
       "      <td>3.291898e+02</td>\n",
       "    </tr>\n",
       "    <tr>\n",
       "      <th>3</th>\n",
       "      <td>3</td>\n",
       "      <td>0.04</td>\n",
       "      <td>382</td>\n",
       "      <td>[1, 1, 1, 1, 1, 1, 1, 1, 1, 1, 1, 1, 1, 1, 1, ...</td>\n",
       "      <td>0.039575</td>\n",
       "      <td>NaN</td>\n",
       "      <td>23.341033</td>\n",
       "      <td>3.878353e+02</td>\n",
       "    </tr>\n",
       "    <tr>\n",
       "      <th>4</th>\n",
       "      <td>4</td>\n",
       "      <td>0.05</td>\n",
       "      <td>256</td>\n",
       "      <td>[1, 1, 1, 1, 1, 1, 1, 1, 1, 1, 1, 1, 1, 1, 1, ...</td>\n",
       "      <td>0.049399</td>\n",
       "      <td>NaN</td>\n",
       "      <td>19.210071</td>\n",
       "      <td>2.594956e+02</td>\n",
       "    </tr>\n",
       "    <tr>\n",
       "      <th>5</th>\n",
       "      <td>5</td>\n",
       "      <td>0.06</td>\n",
       "      <td>350</td>\n",
       "      <td>[1, 1, 1, 1, 1, 1, 1, 1, 1, 1, 1, 1, 1, 1, 1, ...</td>\n",
       "      <td>0.059365</td>\n",
       "      <td>NaN</td>\n",
       "      <td>6.373699</td>\n",
       "      <td>3.549171e+02</td>\n",
       "    </tr>\n",
       "    <tr>\n",
       "      <th>6</th>\n",
       "      <td>6</td>\n",
       "      <td>0.07</td>\n",
       "      <td>325</td>\n",
       "      <td>[1, 1, 3, 3, 3, 3, 3, 3, 4, 4, 4, 4, 5, 5, 5, ...</td>\n",
       "      <td>0.068630</td>\n",
       "      <td>NaN</td>\n",
       "      <td>-4.387255</td>\n",
       "      <td>3.286266e+02</td>\n",
       "    </tr>\n",
       "    <tr>\n",
       "      <th>7</th>\n",
       "      <td>7</td>\n",
       "      <td>0.08</td>\n",
       "      <td>265</td>\n",
       "      <td>[1, 1, 3, 3, 3, 3, 4, 6, 8, 8, 9, 9, 11, 11, 1...</td>\n",
       "      <td>0.078330</td>\n",
       "      <td>NaN</td>\n",
       "      <td>-16.188760</td>\n",
       "      <td>2.657555e+02</td>\n",
       "    </tr>\n",
       "    <tr>\n",
       "      <th>8</th>\n",
       "      <td>8</td>\n",
       "      <td>0.09</td>\n",
       "      <td>222</td>\n",
       "      <td>[1, 1, 1, 1, 1, 1, 1, 1, 1, 1, 2, 2, 2, 2, 3, ...</td>\n",
       "      <td>0.088112</td>\n",
       "      <td>NaN</td>\n",
       "      <td>5.045108</td>\n",
       "      <td>2.252182e+02</td>\n",
       "    </tr>\n",
       "    <tr>\n",
       "      <th>9</th>\n",
       "      <td>9</td>\n",
       "      <td>0.10</td>\n",
       "      <td>380</td>\n",
       "      <td>[1, 1, 1, 1, 1, 1, 1, 2, 2, 3, 3, 3, 3, 3, 3, ...</td>\n",
       "      <td>0.097641</td>\n",
       "      <td>NaN</td>\n",
       "      <td>8.448982</td>\n",
       "      <td>3.853948e+02</td>\n",
       "    </tr>\n",
       "  </tbody>\n",
       "</table>\n",
       "</div>"
      ],
      "text/plain": [
       "  seed  beta  cbr                                              cases  \\\n",
       "0    0  0.01  326  [1, 1, 1, 1, 1, 1, 1, 1, 1, 1, 1, 1, 1, 1, 1, ...   \n",
       "1    1  0.02  292  [1, 1, 1, 1, 1, 1, 1, 1, 1, 1, 1, 1, 1, 1, 1, ...   \n",
       "2    2  0.03  326  [1, 1, 1, 1, 1, 1, 1, 1, 1, 1, 1, 1, 1, 1, 1, ...   \n",
       "3    3  0.04  382  [1, 1, 1, 1, 1, 1, 1, 1, 1, 1, 1, 1, 1, 1, 1, ...   \n",
       "4    4  0.05  256  [1, 1, 1, 1, 1, 1, 1, 1, 1, 1, 1, 1, 1, 1, 1, ...   \n",
       "5    5  0.06  350  [1, 1, 1, 1, 1, 1, 1, 1, 1, 1, 1, 1, 1, 1, 1, ...   \n",
       "6    6  0.07  325  [1, 1, 3, 3, 3, 3, 3, 3, 4, 4, 4, 4, 5, 5, 5, ...   \n",
       "7    7  0.08  265  [1, 1, 3, 3, 3, 3, 4, 6, 8, 8, 9, 9, 11, 11, 1...   \n",
       "8    8  0.09  222  [1, 1, 1, 1, 1, 1, 1, 1, 1, 1, 2, 2, 2, 2, 3, ...   \n",
       "9    9  0.10  380  [1, 1, 1, 1, 1, 1, 1, 2, 2, 3, 3, 3, 3, 3, 3, ...   \n",
       "\n",
       "   fitted_beta fitted_size  fitted_t0    fitted_cbr  \n",
       "0     0.139406         NaN  32.125852  4.731157e+04  \n",
       "1   535.758427         NaN  11.316500  1.955611e+08  \n",
       "2     0.029771         NaN  78.855304  3.291898e+02  \n",
       "3     0.039575         NaN  23.341033  3.878353e+02  \n",
       "4     0.049399         NaN  19.210071  2.594956e+02  \n",
       "5     0.059365         NaN   6.373699  3.549171e+02  \n",
       "6     0.068630         NaN  -4.387255  3.286266e+02  \n",
       "7     0.078330         NaN -16.188760  2.657555e+02  \n",
       "8     0.088112         NaN   5.045108  2.252182e+02  \n",
       "9     0.097641         NaN   8.448982  3.853948e+02  "
      ]
     },
     "execution_count": 13,
     "metadata": {},
     "output_type": "execute_result"
    }
   ],
   "source": [
    "output"
   ]
  },
  {
   "cell_type": "code",
   "execution_count": 18,
   "metadata": {},
   "outputs": [
    {
     "data": {
      "text/plain": [
       "[<matplotlib.lines.Line2D at 0x7eea3d7923c0>]"
      ]
     },
     "execution_count": 18,
     "metadata": {},
     "output_type": "execute_result"
    },
    {
     "data": {
      "image/png": "[encoded data removed]",
      "text/plain": [
       "<Figure size 640x480 with 1 Axes>"
      ]
     },
     "metadata": {},
     "output_type": "display_data"
    }
   ],
   "source": [
    "plt.plot(t, output[\"cases\"].iloc[1], \"--\")"
   ]
  },
  {
   "cell_type": "code",
   "execution_count": 3,
   "metadata": {},
   "outputs": [
    {
     "data": {
      "text/plain": [
       "array([268, 115, 172, 122, 399, 175, 363, 262, 195, 175])"
      ]
     },
     "execution_count": 3,
     "metadata": {},
     "output_type": "execute_result"
    }
   ],
   "source": [
    "np.random.randint(100, 400, 10)"
   ]
  },
  {
   "cell_type": "code",
   "execution_count": 9,
   "metadata": {},
   "outputs": [
    {
     "data": {
      "text/plain": [
       "400"
      ]
     },
     "execution_count": 9,
     "metadata": {},
     "output_type": "execute_result"
    }
   ],
   "source": [
    "parameters[\"cbr\"]"
   ]
  },
  {
   "cell_type": "code",
   "execution_count": null,
   "metadata": {},
   "outputs": [],
   "source": []
  }
 ],
 "metadata": {
  "kernelspec": {
   "display_name": "Python 3",
   "language": "python",
   "name": "python3"
  },
  "language_info": {
   "codemirror_mode": {
    "name": "ipython",
    "version": 3
   },
   "file_extension": ".py",
   "mimetype": "text/x-python",
   "name": "python",
   "nbconvert_exporter": "python",
   "pygments_lexer": "ipython3",
   "version": "3.12.1"
  }
 },
 "nbformat": 4,
 "nbformat_minor": 2
}
