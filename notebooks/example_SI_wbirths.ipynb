{
 "cells": [
  {
   "cell_type": "code",
   "execution_count": 1,
   "metadata": {},
   "outputs": [
    {
     "data": {
      "text/plain": [
       "\"np.__version__='1.26.4'\""
      ]
     },
     "execution_count": 1,
     "metadata": {},
     "output_type": "execute_result"
    }
   ],
   "source": [
    "import numpy as np\n",
    "import pandas as pd\n",
    "\n",
    "f\"{np.__version__=}\""
   ]
  },
  {
   "cell_type": "code",
   "execution_count": 2,
   "metadata": {},
   "outputs": [
    {
     "name": "stdout",
     "output_type": "stream",
     "text": [
      "2024-12-04 05:05:04.802075: Creating the generic model…\n",
      "Initializing the generic model with 1 patches…\n",
      "Population growth: 1,000,000 … 2,224,566\n",
      "Alternate growth:  1,000,000 … 1,959,999\n"
     ]
    }
   ],
   "source": [
    "from laser_core.propertyset import PropertySet\n",
    "from laser_generic import Model\n",
    "from laser_generic.susceptibility import Susceptibility\n",
    "from laser_generic.transmission import Transmission\n",
    "from laser_generic.births import Births_ConstantPop\n",
    "from laser_generic.utils import seed_infections_randomly_SI\n",
    "\n",
    "scenario = pd.DataFrame(data=[[\"homenode\", 1e6, \"47°36′35″N 122°19′59″W\"]], columns=[\"name\", \"population\", \"location\"])\n",
    "parameters = PropertySet({\"seed\": 2, \"nticks\": 730, \"verbose\": True, \"beta\": 0.04, \"cbr\": 400})\n",
    "model = Model(scenario, parameters)"
   ]
  },
  {
   "cell_type": "code",
   "execution_count": 3,
   "metadata": {},
   "outputs": [],
   "source": [
    "model.components = [\n",
    "    Births_ConstantPop,\n",
    "    Susceptibility,\n",
    "    Transmission\n",
    "]\n",
    "seed_infections_randomly_SI(model, ninfections=1)"
   ]
  },
  {
   "cell_type": "code",
   "execution_count": 4,
   "metadata": {},
   "outputs": [
    {
     "name": "stdout",
     "output_type": "stream",
     "text": [
      "2024-12-04 05:05:04.831052: Running the generic model for 730 ticks…\n"
     ]
    },
    {
     "name": "stderr",
     "output_type": "stream",
     "text": [
      "100%|██████████| 730/730 [00:07<00:00, 100.96it/s]"
     ]
    },
    {
     "name": "stdout",
     "output_type": "stream",
     "text": [
      "Completed the generic model at 2024-12-04 05:05:12.066930…\n",
      "Model             :         5,289 µs\n",
      "Births_ConstantPop:       124,620 µs\n",
      "Transmission      :     6,939,546 µs\n",
      "====================================\n",
      "Total:                  7,069,455 microseconds\n"
     ]
    },
    {
     "name": "stderr",
     "output_type": "stream",
     "text": [
      "\n"
     ]
    }
   ],
   "source": [
    "model.run()"
   ]
  },
  {
   "cell_type": "code",
   "execution_count": 5,
   "metadata": {},
   "outputs": [
    {
     "data": {
      "image/png": "[encoded data removed]",
      "text/plain": [
       "<Figure size 640x480 with 1 Axes>"
      ]
     },
     "metadata": {},
     "output_type": "display_data"
    }
   ],
   "source": [
    "import matplotlib.pyplot as plt\n",
    "\n",
    "plt.plot(model.patches.cases)\n",
    "plt.plot(1e6 / (1 + (1e6 - 1) * np.exp(-0.04 * (np.arange(730)))))\n",
    "plt.yscale(\"log\")"
   ]
  },
  {
   "cell_type": "code",
   "execution_count": 6,
   "metadata": {},
   "outputs": [
    {
     "data": {
      "text/plain": [
       "array([[971887],\n",
       "       [971951],\n",
       "       [972002],\n",
       "       [972039],\n",
       "       [972016],\n",
       "       [971977],\n",
       "       [971983],\n",
       "       [971899],\n",
       "       [971918],\n",
       "       [971977],\n",
       "       [971956],\n",
       "       [972079],\n",
       "       [972069],\n",
       "       [972102],\n",
       "       [972094],\n",
       "       [972098],\n",
       "       [972115],\n",
       "       [972120],\n",
       "       [972173],\n",
       "       [972124],\n",
       "       [972091],\n",
       "       [972102],\n",
       "       [972056],\n",
       "       [972024],\n",
       "       [972078],\n",
       "       [972053],\n",
       "       [972069],\n",
       "       [972039],\n",
       "       [972008],\n",
       "       [972040],\n",
       "       [972132],\n",
       "       [972191],\n",
       "       [972177],\n",
       "       [972194],\n",
       "       [972132],\n",
       "       [972203],\n",
       "       [972213],\n",
       "       [972258],\n",
       "       [972283],\n",
       "       [972232],\n",
       "       [972207],\n",
       "       [972227],\n",
       "       [972144],\n",
       "       [972160],\n",
       "       [972117],\n",
       "       [972156],\n",
       "       [972172],\n",
       "       [972231],\n",
       "       [972226],\n",
       "       [972204],\n",
       "       [972149],\n",
       "       [972185],\n",
       "       [972183],\n",
       "       [972226],\n",
       "       [972191],\n",
       "       [972158],\n",
       "       [972210],\n",
       "       [972229],\n",
       "       [972264],\n",
       "       [972201],\n",
       "       [972212],\n",
       "       [972194],\n",
       "       [972194],\n",
       "       [972200],\n",
       "       [972225],\n",
       "       [972166],\n",
       "       [972155],\n",
       "       [972174],\n",
       "       [972105],\n",
       "       [972094],\n",
       "       [972096],\n",
       "       [972121],\n",
       "       [972132],\n",
       "       [972118],\n",
       "       [972098],\n",
       "       [972151],\n",
       "       [972149],\n",
       "       [972146],\n",
       "       [972091],\n",
       "       [972077],\n",
       "       [972060],\n",
       "       [972069],\n",
       "       [972108],\n",
       "       [972131],\n",
       "       [972112],\n",
       "       [972096],\n",
       "       [972101],\n",
       "       [972091],\n",
       "       [972094],\n",
       "       [972101],\n",
       "       [972028],\n",
       "       [972123],\n",
       "       [972085],\n",
       "       [971966],\n",
       "       [971951],\n",
       "       [972004],\n",
       "       [972048],\n",
       "       [972085],\n",
       "       [972007],\n",
       "       [972013]], dtype=uint32)"
      ]
     },
     "execution_count": 6,
     "metadata": {},
     "output_type": "execute_result"
    }
   ],
   "source": [
    "model.patches.cases[-100:]"
   ]
  },
  {
   "cell_type": "code",
   "execution_count": 9,
   "metadata": {},
   "outputs": [
    {
     "data": {
      "text/plain": [
       "0.0013698630136986301"
      ]
     },
     "execution_count": 9,
     "metadata": {},
     "output_type": "execute_result"
    }
   ],
   "source": [
    "500/1000/365"
   ]
  },
  {
   "cell_type": "code",
   "execution_count": 10,
   "metadata": {},
   "outputs": [
    {
     "data": {
      "text/plain": [
       "0.9726027397260274"
      ]
     },
     "execution_count": 10,
     "metadata": {},
     "output_type": "execute_result"
    }
   ],
   "source": [
    "1-(parameters[\"cbr\"]/1000/365)/parameters[\"beta\"]"
   ]
  },
  {
   "cell_type": "code",
   "execution_count": null,
   "metadata": {},
   "outputs": [],
   "source": []
  }
 ],
 "metadata": {
  "kernelspec": {
   "display_name": ".venv",
   "language": "python",
   "name": "python3"
  },
  "language_info": {
   "codemirror_mode": {
    "name": "ipython",
    "version": 3
   },
   "file_extension": ".py",
   "mimetype": "text/x-python",
   "name": "python",
   "nbconvert_exporter": "python",
   "pygments_lexer": "ipython3",
   "version": "3.12.1"
  }
 },
 "nbformat": 4,
 "nbformat_minor": 2
}
