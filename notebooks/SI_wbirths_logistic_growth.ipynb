{
 "cells": [
  {
   "cell_type": "markdown",
   "metadata": {},
   "source": [
    "# SI Model with constant-population demographics\n",
    "\n",
    "Building up from the SI model without demography, we next explore the addition of basic demographics - adding a birth rate & an equivalent, age-independent mortality rate $\\mu$ to keep constant total population.  The disease model remains the SI model.\n",
    "\n",
    "$$\n",
    "\\dot{S} = -\\frac{\\beta*S*I}{N} + \\mu N - \\mu S\\\\\n",
    "\n",
    "\\dot{I} = \\frac{\\beta*S*I}{N} - \\mu I\n",
    "$$\n",
    "\n",
    "With a bit of manipulation as in the previous example, this can be worked back into the form of a logistic growth differential equation\n",
    "$$ \\dot{I} = \\beta I (N(1-\\frac{\\mu}{\\beta})-I)$$\n",
    "\n",
    "With solution \n",
    "$$\n",
    "\\frac{Nx}{1+(\\frac{Nx}{I_0}-1)e^{-\\beta x t}} \\\\\n",
    "x = (1-\\frac{\\mu}{\\beta})\n",
    "$$\n",
    "\n",
    "\n",
    "This notebook tests the implementation and behavior of the model as follows:\n",
    "### Contruct the model\n",
    "In the first few cells, we do all the necessary imports.  Then we construct a single-patch LASER model with three components: `Susceptibility`, `Transmission`, and `Births_ConstantPop`.  Finally, we initialize with a single infection and run.  The `Susceptibility` and `Transmission` components are described in the the model with no births.  `Births_ConstantPop` strictly enforces constant population - rather than having separate, random birth and death process, births are implemented by randomly choosing an existing agent and re-initializing them as a newborn.  Births are drawn from a Poisson distribution with rate determined by parameter `cbr` (in units of births per 1000 population per year). \n",
    "\n",
    "\n",
    "### Sanity check\n",
    "The first test ensures certain basic constraints are being obeyed by the model.  We confirm that at each timestep, $S_t=N_t-I_t$.  We also confirm that $I_t = I_0 + \\sum_{t'=0}^t \\Delta I_{t'}$  \n",
    "\n",
    "### Scientific test\n",
    "Finally, we come to the scientific test.  As before, we select a few values of $\\beta$, run the model, fit the outputs to the logistic equation, and compare the fitted value of $\\beta$ to the known value.  Because we are approximating continuously compounding growth, in the logistic equation, with a discrete time-step approximation, we expect the fitted values of $\\beta$ to be biased slightly downward - that is, the modeled trajectory is slightly slower than the continuous-time counterpart.  This error grows as $\\beta$ gets larger; the test fails if any of the fitted $\\beta$ values are more than 5% away from the known values.  Furthermore, if the outbreak is seeded by only one infection, it is possible that that one infection dies prior to infecting anyone else; we therefore seed with a few infections rather than one.\n",
    "\n"
   ]
  },
  {
   "cell_type": "code",
   "execution_count": 9,
   "metadata": {},
   "outputs": [
    {
     "data": {
      "text/plain": [
       "\"np.__version__='1.26.4'\""
      ]
     },
     "execution_count": 9,
     "metadata": {},
     "output_type": "execute_result"
    }
   ],
   "source": [
    "import numpy as np\n",
    "import pandas as pd\n",
    "from scipy.optimize import curve_fit\n",
    "from laser_core.propertyset import PropertySet\n",
    "\n",
    "from laser_generic import Births_ConstantPop\n",
    "from laser_generic import Model\n",
    "from laser_generic import Susceptibility\n",
    "from laser_generic import Transmission\n",
    "from laser_generic.utils import seed_infections_randomly_SI\n",
    "\n",
    "f\"{np.__version__=}\""
   ]
  },
  {
   "cell_type": "code",
   "execution_count": 10,
   "metadata": {},
   "outputs": [
    {
     "name": "stdout",
     "output_type": "stream",
     "text": [
      "2024-12-20 23:09:40.771402: Creating the generic model…\n",
      "Initializing the generic model with 1 patches…\n",
      "2024-12-20 23:09:40.788500: Running the generic model for 730 ticks…\n"
     ]
    },
    {
     "name": "stderr",
     "output_type": "stream",
     "text": [
      "100%|██████████| 730/730 [00:01<00:00, 640.46it/s]"
     ]
    },
    {
     "name": "stdout",
     "output_type": "stream",
     "text": [
      "Completed the generic model at 2024-12-20 23:09:41.930821…\n",
      "Model             :         3,209 µs\n",
      "Births_ConstantPop:       117,229 µs\n",
      "Susceptibility    :        35,598 µs\n",
      "Transmission      :       972,438 µs\n",
      "====================================\n",
      "Total:                  1,128,474 microseconds\n"
     ]
    },
    {
     "name": "stderr",
     "output_type": "stream",
     "text": [
      "\n"
     ]
    }
   ],
   "source": [
    "scenario = pd.DataFrame(data=[[\"homenode\", 1e6, \"47°36′35″N 122°19′59″W\"]], columns=[\"name\", \"population\", \"location\"])\n",
    "parameters = PropertySet({\"seed\": 2, \"nticks\": 730, \"verbose\": True, \"beta\": 0.04, \"cbr\": 400})\n",
    "model = Model(scenario, parameters)\n",
    "model.components = [Births_ConstantPop, \n",
    "                    Susceptibility, \n",
    "                    Transmission]\n",
    "seed_infections_randomly_SI(model, ninfections=1)\n",
    "model.run()"
   ]
  },
  {
   "cell_type": "code",
   "execution_count": 4,
   "metadata": {},
   "outputs": [],
   "source": []
  },
  {
   "cell_type": "code",
   "execution_count": 5,
   "metadata": {},
   "outputs": [
    {
     "name": "stdout",
     "output_type": "stream",
     "text": [
      "2024-12-20 20:44:09.496915: Running the generic model for 730 ticks…\n"
     ]
    },
    {
     "name": "stderr",
     "output_type": "stream",
     "text": [
      "100%|██████████| 730/730 [00:01<00:00, 483.69it/s]"
     ]
    },
    {
     "name": "stdout",
     "output_type": "stream",
     "text": [
      "Completed the generic model at 2024-12-20 20:44:11.030739…\n",
      "Model             :         3,364 µs\n",
      "Births_ConstantPop:       209,135 µs\n",
      "Susceptibility    :        34,701 µs\n",
      "Transmission      :     1,248,259 µs\n",
      "====================================\n",
      "Total:                  1,495,459 microseconds\n"
     ]
    },
    {
     "name": "stderr",
     "output_type": "stream",
     "text": [
      "\n"
     ]
    }
   ],
   "source": []
  },
  {
   "cell_type": "code",
   "execution_count": 11,
   "metadata": {},
   "outputs": [
    {
     "data": {
      "image/png": "[encoded data removed]",
      "text/plain": [
       "<Figure size 640x480 with 1 Axes>"
      ]
     },
     "metadata": {},
     "output_type": "display_data"
    }
   ],
   "source": [
    "import matplotlib.pyplot as plt\n",
    "\n",
    "plt.plot(model.patches.cases)\n",
    "x = 1 - parameters[\"cbr\"] / 365 / 1000 / parameters[\"beta\"]\n",
    "plt.plot(1e6 * x / (1 + (1e6 * x - 1) * np.exp(-parameters[\"beta\"] * x * (np.arange(730)))))\n",
    "plt.yscale(\"log\")"
   ]
  },
  {
   "cell_type": "code",
   "execution_count": 16,
   "metadata": {},
   "outputs": [
    {
     "name": "stdout",
     "output_type": "stream",
     "text": [
      "2024-12-20 23:10:42.707001: Creating the generic model…\n",
      "Initializing the generic model with 1 patches…\n",
      "2024-12-20 23:10:42.709940: Running the generic model for 730 ticks…\n"
     ]
    },
    {
     "name": "stderr",
     "output_type": "stream",
     "text": [
      "100%|██████████| 730/730 [00:00<00:00, 2328.89it/s]"
     ]
    },
    {
     "name": "stdout",
     "output_type": "stream",
     "text": [
      "Completed the generic model at 2024-12-20 23:10:43.024945…\n",
      "Model             :         1,597 µs\n",
      "Births_ConstantPop:        48,603 µs\n",
      "Susceptibility    :         7,118 µs\n",
      "Transmission      :       251,407 µs\n",
      "====================================\n",
      "Total:                    308,725 microseconds\n",
      "2024-12-20 23:10:43.028141: Creating the generic model…\n",
      "Initializing the generic model with 1 patches…\n",
      "2024-12-20 23:10:43.029909: Running the generic model for 730 ticks…\n"
     ]
    },
    {
     "name": "stderr",
     "output_type": "stream",
     "text": [
      "\n",
      "/var/folders/1b/yq6gx3hj51jf_v98kwv057xh0000gn/T/ipykernel_70228/4279173891.py:33: FutureWarning: The behavior of DataFrame concatenation with empty or all-NA entries is deprecated. In a future version, this will no longer exclude empty or all-NA columns when determining the result dtypes. To retain the old behavior, exclude the relevant entries before the concat operation.\n",
      "  output = pd.concat(\n",
      "100%|██████████| 730/730 [00:00<00:00, 1933.19it/s]"
     ]
    },
    {
     "name": "stdout",
     "output_type": "stream",
     "text": [
      "Completed the generic model at 2024-12-20 23:10:43.408630…\n",
      "Model             :         1,655 µs\n",
      "Births_ConstantPop:        61,626 µs\n",
      "Susceptibility    :         7,468 µs\n",
      "Transmission      :       301,461 µs\n",
      "====================================\n",
      "Total:                    372,210 microseconds\n",
      "2024-12-20 23:10:43.411517: Creating the generic model…\n",
      "Initializing the generic model with 1 patches…\n",
      "2024-12-20 23:10:43.413208: Running the generic model for 730 ticks…\n"
     ]
    },
    {
     "name": "stderr",
     "output_type": "stream",
     "text": [
      "\n",
      "100%|██████████| 730/730 [00:00<00:00, 3531.91it/s]"
     ]
    },
    {
     "name": "stdout",
     "output_type": "stream",
     "text": [
      "Completed the generic model at 2024-12-20 23:10:43.620864…\n",
      "Model             :         1,394 µs\n",
      "Births_ConstantPop:        41,165 µs\n",
      "Susceptibility    :         6,733 µs\n",
      "Transmission      :       153,135 µs\n",
      "====================================\n",
      "Total:                    202,427 microseconds\n",
      "2024-12-20 23:10:43.623583: Creating the generic model…\n",
      "Initializing the generic model with 1 patches…\n",
      "2024-12-20 23:10:43.625066: Running the generic model for 730 ticks…\n"
     ]
    },
    {
     "name": "stderr",
     "output_type": "stream",
     "text": [
      "\n",
      "100%|██████████| 730/730 [00:00<00:00, 2974.50it/s]"
     ]
    },
    {
     "name": "stdout",
     "output_type": "stream",
     "text": [
      "Completed the generic model at 2024-12-20 23:10:43.871841…\n",
      "Model             :         1,689 µs\n",
      "Births_ConstantPop:        54,089 µs\n",
      "Susceptibility    :         7,689 µs\n",
      "Transmission      :       176,606 µs\n",
      "====================================\n",
      "Total:                    240,073 microseconds\n",
      "2024-12-20 23:10:43.875046: Creating the generic model…\n",
      "Initializing the generic model with 1 patches…\n",
      "2024-12-20 23:10:43.877264: Running the generic model for 730 ticks…\n"
     ]
    },
    {
     "name": "stderr",
     "output_type": "stream",
     "text": [
      "\n",
      "100%|██████████| 730/730 [00:00<00:00, 2503.49it/s]"
     ]
    },
    {
     "name": "stdout",
     "output_type": "stream",
     "text": [
      "Completed the generic model at 2024-12-20 23:10:44.170124…\n",
      "Model             :         1,561 µs\n",
      "Births_ConstantPop:        75,092 µs\n",
      "Susceptibility    :         7,066 µs\n",
      "Transmission      :       203,358 µs\n",
      "====================================\n",
      "Total:                    287,077 microseconds\n",
      "2024-12-20 23:10:44.172777: Creating the generic model…\n",
      "Initializing the generic model with 1 patches…\n",
      "2024-12-20 23:10:44.175067: Running the generic model for 730 ticks…\n"
     ]
    },
    {
     "name": "stderr",
     "output_type": "stream",
     "text": [
      "\n",
      "100%|██████████| 730/730 [00:00<00:00, 1856.23it/s]"
     ]
    },
    {
     "name": "stdout",
     "output_type": "stream",
     "text": [
      "Completed the generic model at 2024-12-20 23:10:44.569661…\n",
      "Model             :         1,760 µs\n",
      "Births_ConstantPop:        82,035 µs\n",
      "Susceptibility    :         7,078 µs\n",
      "Transmission      :       297,091 µs\n",
      "====================================\n",
      "Total:                    387,964 microseconds\n",
      "2024-12-20 23:10:44.572753: Creating the generic model…\n",
      "Initializing the generic model with 1 patches…\n",
      "2024-12-20 23:10:44.574815: Running the generic model for 730 ticks…\n"
     ]
    },
    {
     "name": "stderr",
     "output_type": "stream",
     "text": [
      "\n",
      "100%|██████████| 730/730 [00:00<00:00, 4126.91it/s]"
     ]
    },
    {
     "name": "stdout",
     "output_type": "stream",
     "text": [
      "Completed the generic model at 2024-12-20 23:10:44.753005…\n",
      "Model             :         1,396 µs\n",
      "Births_ConstantPop:        37,939 µs\n",
      "Susceptibility    :         6,801 µs\n",
      "Transmission      :       127,039 µs\n",
      "====================================\n",
      "Total:                    173,175 microseconds\n",
      "2024-12-20 23:10:44.756687: Creating the generic model…\n",
      "Initializing the generic model with 1 patches…\n",
      "2024-12-20 23:10:44.758392: Running the generic model for 730 ticks…\n"
     ]
    },
    {
     "name": "stderr",
     "output_type": "stream",
     "text": [
      "\n",
      "100%|██████████| 730/730 [00:00<00:00, 4403.41it/s]"
     ]
    },
    {
     "name": "stdout",
     "output_type": "stream",
     "text": [
      "Completed the generic model at 2024-12-20 23:10:44.925497…\n",
      "Model             :         1,385 µs\n",
      "Births_ConstantPop:        37,783 µs\n",
      "Susceptibility    :         6,467 µs\n",
      "Transmission      :       116,372 µs\n",
      "====================================\n",
      "Total:                    162,007 microseconds\n",
      "2024-12-20 23:10:44.928928: Creating the generic model…\n",
      "Initializing the generic model with 1 patches…\n",
      "2024-12-20 23:10:44.931103: Running the generic model for 730 ticks…\n"
     ]
    },
    {
     "name": "stderr",
     "output_type": "stream",
     "text": [
      "\n",
      "100%|██████████| 730/730 [00:00<00:00, 5241.84it/s]"
     ]
    },
    {
     "name": "stdout",
     "output_type": "stream",
     "text": [
      "Completed the generic model at 2024-12-20 23:10:45.071709…\n",
      "Model             :         1,135 µs\n",
      "Births_ConstantPop:        31,491 µs\n",
      "Susceptibility    :         6,221 µs\n",
      "Transmission      :        96,839 µs\n",
      "====================================\n",
      "Total:                    135,686 microseconds\n",
      "2024-12-20 23:10:45.075085: Creating the generic model…\n",
      "Initializing the generic model with 1 patches…\n",
      "2024-12-20 23:10:45.077111: Running the generic model for 730 ticks…\n"
     ]
    },
    {
     "name": "stderr",
     "output_type": "stream",
     "text": [
      "\n",
      "100%|██████████| 730/730 [00:00<00:00, 4268.14it/s]"
     ]
    },
    {
     "name": "stdout",
     "output_type": "stream",
     "text": [
      "Completed the generic model at 2024-12-20 23:10:45.249367…\n",
      "Model             :         1,417 µs\n",
      "Births_ConstantPop:        41,253 µs\n",
      "Susceptibility    :         6,797 µs\n",
      "Transmission      :       117,681 µs\n",
      "====================================\n",
      "Total:                    167,148 microseconds\n"
     ]
    },
    {
     "name": "stderr",
     "output_type": "stream",
     "text": [
      "\n"
     ]
    },
    {
     "data": {
      "text/plain": [
       "(-200.0, 200.0)"
      ]
     },
     "execution_count": 16,
     "metadata": {},
     "output_type": "execute_result"
    },
    {
     "data": {
      "image/png": "[encoded data removed]",
      "text/plain": [
       "<Figure size 640x480 with 1 Axes>"
      ]
     },
     "metadata": {},
     "output_type": "display_data"
    },
    {
     "data": {
      "image/png": "[encoded data removed]",
      "text/plain": [
       "<Figure size 640x480 with 1 Axes>"
      ]
     },
     "metadata": {},
     "output_type": "display_data"
    },
    {
     "data": {
      "image/png": "[encoded data removed]",
      "text/plain": [
       "<Figure size 640x480 with 1 Axes>"
      ]
     },
     "metadata": {},
     "output_type": "display_data"
    },
    {
     "data": {
      "image/png": "[encoded data removed]",
      "text/plain": [
       "<Figure size 640x480 with 1 Axes>"
      ]
     },
     "metadata": {},
     "output_type": "display_data"
    }
   ],
   "source": [
    "# Need to rethink this - the fit is degenerate in size, mu, beta all together, so fix population size for now.\n",
    "# Better solution is to use functools partial, keep size as a parameter, and then fix it later using the actual scenario population.\n",
    "# But this is a quick test, meant to inform a better approach by somebody down the line to formalize it.\n",
    "def SI_logistic(t, beta, cbr, t0):\n",
    "    x = 1 - (cbr / 365 / 1000 / beta)\n",
    "    return 1e5 * x / (1 + (1e5 * x - 1) * np.exp(-beta * x * (t - t0)))\n",
    "\n",
    "\n",
    "nticks = 730\n",
    "t = np.arange(730)\n",
    "\n",
    "seeds = [i for i in range(10)]\n",
    "betas = [.01+0.01 * i for i in range(1, 11)]\n",
    "cbrs = np.random.randint(200, 400, 10)\n",
    "output = pd.DataFrame(columns=[\"seed\", \"beta\", \"cbr\", \"cases\", \"fitted_beta\", \"fitted_size\", \"fitted_t0\"])\n",
    "scenario = pd.DataFrame(data=[[\"homenode\", 1e5, \"47°36′35″N 122°19′59″W\"]], columns=[\"name\", \"population\", \"location\"])\n",
    "\n",
    "for seed, beta, cbr in zip(seeds, betas, cbrs):\n",
    "    parameters = PropertySet({\"seed\": seed, \"nticks\": nticks, \"verbose\": True, \"beta\": beta, \"cbr\": cbr})\n",
    "    model = Model(scenario, parameters)\n",
    "    model.components = [\n",
    "        Births_ConstantPop,\n",
    "        Susceptibility,\n",
    "        Transmission,\n",
    "    ]\n",
    "    seed_infections_randomly_SI(model, ninfections=3)\n",
    "    model.run()\n",
    "    cases = [model.patches.cases[i][0] for i in range(nticks)]\n",
    "    try:\n",
    "        popt, pcov = curve_fit(SI_logistic, t, cases, p0=[0.05, 200, 1])\n",
    "    except:\n",
    "        popt = [0, 0, 0, 0]\n",
    "    output = pd.concat(\n",
    "        [\n",
    "            output,\n",
    "            pd.DataFrame.from_dict(\n",
    "                {\n",
    "                    \"seed\": seed,\n",
    "                    \"beta\": beta,\n",
    "                    \"cbr\": cbr,\n",
    "                    \"cases\": [np.array(cases)],\n",
    "                    \"fitted_beta\": popt[0],\n",
    "                    \"fitted_cbr\": popt[1],\n",
    "                    \"fitted_t0\": popt[2],\n",
    "                }\n",
    "            ),\n",
    "        ],\n",
    "        ignore_index=True,\n",
    "    )\n",
    "\n",
    "plt.figure()\n",
    "plt.plot(output[\"beta\"], output[\"fitted_beta\"], \"o\")\n",
    "plt.xlim(0, 0.12)\n",
    "plt.ylim(0, 0.12)\n",
    "plt.figure()\n",
    "plt.plot(output[\"beta\"], output[\"beta\"] - output[\"fitted_beta\"], \"o\")\n",
    "plt.xlim(0, 0.12)\n",
    "plt.ylim(-0.12, 0.12)\n",
    "plt.figure()\n",
    "plt.plot(output[\"cbr\"], output[\"fitted_cbr\"], \"o\")\n",
    "plt.xlim(200, 400)\n",
    "plt.ylim(200, 400)\n",
    "plt.figure()\n",
    "plt.plot(output[\"cbr\"], output[\"cbr\"] - output[\"fitted_cbr\"], \"o\")\n",
    "plt.xlim(200, 400)\n",
    "plt.ylim(-200, 200)"
   ]
  },
  {
   "cell_type": "code",
   "execution_count": 17,
   "metadata": {},
   "outputs": [
    {
     "data": {
      "text/plain": [
       "[<matplotlib.lines.Line2D at 0x15ea01e10>]"
      ]
     },
     "execution_count": 17,
     "metadata": {},
     "output_type": "execute_result"
    },
    {
     "data": {
      "image/png": "[encoded data removed]",
      "text/plain": [
       "<Figure size 640x480 with 1 Axes>"
      ]
     },
     "metadata": {},
     "output_type": "display_data"
    }
   ],
   "source": [
    "plt.plot(output[\"cases\"].iloc[0])"
   ]
  },
  {
   "cell_type": "code",
   "execution_count": 18,
   "metadata": {},
   "outputs": [
    {
     "data": {
      "text/html": [
       "<div>\n",
       "<style scoped>\n",
       "    .dataframe tbody tr th:only-of-type {\n",
       "        vertical-align: middle;\n",
       "    }\n",
       "\n",
       "    .dataframe tbody tr th {\n",
       "        vertical-align: top;\n",
       "    }\n",
       "\n",
       "    .dataframe thead th {\n",
       "        text-align: right;\n",
       "    }\n",
       "</style>\n",
       "<table border=\"1\" class=\"dataframe\">\n",
       "  <thead>\n",
       "    <tr style=\"text-align: right;\">\n",
       "      <th></th>\n",
       "      <th>seed</th>\n",
       "      <th>beta</th>\n",
       "      <th>cbr</th>\n",
       "      <th>cases</th>\n",
       "      <th>fitted_beta</th>\n",
       "      <th>fitted_size</th>\n",
       "      <th>fitted_t0</th>\n",
       "      <th>fitted_cbr</th>\n",
       "    </tr>\n",
       "  </thead>\n",
       "  <tbody>\n",
       "    <tr>\n",
       "      <th>0</th>\n",
       "      <td>0</td>\n",
       "      <td>0.02</td>\n",
       "      <td>326</td>\n",
       "      <td>[3, 3, 3, 3, 3, 3, 3, 3, 5, 5, 5, 5, 5, 5, 5, ...</td>\n",
       "      <td>0.019718</td>\n",
       "      <td>NaN</td>\n",
       "      <td>-61.577044</td>\n",
       "      <td>313.420957</td>\n",
       "    </tr>\n",
       "    <tr>\n",
       "      <th>1</th>\n",
       "      <td>1</td>\n",
       "      <td>0.03</td>\n",
       "      <td>292</td>\n",
       "      <td>[3, 3, 3, 3, 3, 3, 3, 3, 5, 6, 6, 6, 6, 6, 6, ...</td>\n",
       "      <td>0.029898</td>\n",
       "      <td>NaN</td>\n",
       "      <td>-23.990053</td>\n",
       "      <td>289.430527</td>\n",
       "    </tr>\n",
       "    <tr>\n",
       "      <th>2</th>\n",
       "      <td>2</td>\n",
       "      <td>0.04</td>\n",
       "      <td>326</td>\n",
       "      <td>[3, 3, 3, 3, 3, 3, 4, 4, 6, 7, 7, 7, 7, 8, 8, ...</td>\n",
       "      <td>0.039488</td>\n",
       "      <td>NaN</td>\n",
       "      <td>-33.516634</td>\n",
       "      <td>327.434418</td>\n",
       "    </tr>\n",
       "    <tr>\n",
       "      <th>3</th>\n",
       "      <td>3</td>\n",
       "      <td>0.05</td>\n",
       "      <td>382</td>\n",
       "      <td>[3, 3, 3, 3, 3, 3, 4, 4, 6, 7, 7, 7, 7, 8, 8, ...</td>\n",
       "      <td>0.049361</td>\n",
       "      <td>NaN</td>\n",
       "      <td>-25.060509</td>\n",
       "      <td>386.009948</td>\n",
       "    </tr>\n",
       "    <tr>\n",
       "      <th>4</th>\n",
       "      <td>4</td>\n",
       "      <td>0.06</td>\n",
       "      <td>256</td>\n",
       "      <td>[3, 4, 4, 4, 5, 5, 6, 6, 8, 9, 9, 9, 9, 10, 11...</td>\n",
       "      <td>0.058961</td>\n",
       "      <td>NaN</td>\n",
       "      <td>-29.525441</td>\n",
       "      <td>255.646815</td>\n",
       "    </tr>\n",
       "    <tr>\n",
       "      <th>5</th>\n",
       "      <td>5</td>\n",
       "      <td>0.07</td>\n",
       "      <td>350</td>\n",
       "      <td>[3, 4, 4, 4, 5, 6, 6, 6, 8, 9, 9, 9, 9, 10, 10...</td>\n",
       "      <td>0.068590</td>\n",
       "      <td>NaN</td>\n",
       "      <td>-20.057874</td>\n",
       "      <td>351.881324</td>\n",
       "    </tr>\n",
       "    <tr>\n",
       "      <th>6</th>\n",
       "      <td>6</td>\n",
       "      <td>0.08</td>\n",
       "      <td>325</td>\n",
       "      <td>[3, 4, 4, 6, 7, 8, 8, 10, 14, 14, 14, 15, 15, ...</td>\n",
       "      <td>0.078310</td>\n",
       "      <td>NaN</td>\n",
       "      <td>-21.917598</td>\n",
       "      <td>327.355421</td>\n",
       "    </tr>\n",
       "    <tr>\n",
       "      <th>7</th>\n",
       "      <td>7</td>\n",
       "      <td>0.09</td>\n",
       "      <td>265</td>\n",
       "      <td>[3, 4, 4, 6, 7, 8, 8, 10, 14, 15, 15, 16, 16, ...</td>\n",
       "      <td>0.087955</td>\n",
       "      <td>NaN</td>\n",
       "      <td>-19.092737</td>\n",
       "      <td>270.306593</td>\n",
       "    </tr>\n",
       "    <tr>\n",
       "      <th>8</th>\n",
       "      <td>8</td>\n",
       "      <td>0.10</td>\n",
       "      <td>222</td>\n",
       "      <td>[3, 4, 4, 5, 6, 7, 7, 10, 12, 13, 13, 14, 14, ...</td>\n",
       "      <td>0.097737</td>\n",
       "      <td>NaN</td>\n",
       "      <td>-15.072424</td>\n",
       "      <td>225.359950</td>\n",
       "    </tr>\n",
       "    <tr>\n",
       "      <th>9</th>\n",
       "      <td>9</td>\n",
       "      <td>0.11</td>\n",
       "      <td>380</td>\n",
       "      <td>[3, 4, 4, 5, 6, 7, 7, 10, 12, 13, 13, 14, 14, ...</td>\n",
       "      <td>0.107669</td>\n",
       "      <td>NaN</td>\n",
       "      <td>-11.919774</td>\n",
       "      <td>392.334877</td>\n",
       "    </tr>\n",
       "  </tbody>\n",
       "</table>\n",
       "</div>"
      ],
      "text/plain": [
       "  seed  beta  cbr                                              cases  \\\n",
       "0    0  0.02  326  [3, 3, 3, 3, 3, 3, 3, 3, 5, 5, 5, 5, 5, 5, 5, ...   \n",
       "1    1  0.03  292  [3, 3, 3, 3, 3, 3, 3, 3, 5, 6, 6, 6, 6, 6, 6, ...   \n",
       "2    2  0.04  326  [3, 3, 3, 3, 3, 3, 4, 4, 6, 7, 7, 7, 7, 8, 8, ...   \n",
       "3    3  0.05  382  [3, 3, 3, 3, 3, 3, 4, 4, 6, 7, 7, 7, 7, 8, 8, ...   \n",
       "4    4  0.06  256  [3, 4, 4, 4, 5, 5, 6, 6, 8, 9, 9, 9, 9, 10, 11...   \n",
       "5    5  0.07  350  [3, 4, 4, 4, 5, 6, 6, 6, 8, 9, 9, 9, 9, 10, 10...   \n",
       "6    6  0.08  325  [3, 4, 4, 6, 7, 8, 8, 10, 14, 14, 14, 15, 15, ...   \n",
       "7    7  0.09  265  [3, 4, 4, 6, 7, 8, 8, 10, 14, 15, 15, 16, 16, ...   \n",
       "8    8  0.10  222  [3, 4, 4, 5, 6, 7, 7, 10, 12, 13, 13, 14, 14, ...   \n",
       "9    9  0.11  380  [3, 4, 4, 5, 6, 7, 7, 10, 12, 13, 13, 14, 14, ...   \n",
       "\n",
       "   fitted_beta fitted_size  fitted_t0  fitted_cbr  \n",
       "0     0.019718         NaN -61.577044  313.420957  \n",
       "1     0.029898         NaN -23.990053  289.430527  \n",
       "2     0.039488         NaN -33.516634  327.434418  \n",
       "3     0.049361         NaN -25.060509  386.009948  \n",
       "4     0.058961         NaN -29.525441  255.646815  \n",
       "5     0.068590         NaN -20.057874  351.881324  \n",
       "6     0.078310         NaN -21.917598  327.355421  \n",
       "7     0.087955         NaN -19.092737  270.306593  \n",
       "8     0.097737         NaN -15.072424  225.359950  \n",
       "9     0.107669         NaN -11.919774  392.334877  "
      ]
     },
     "execution_count": 18,
     "metadata": {},
     "output_type": "execute_result"
    }
   ],
   "source": [
    "output"
   ]
  },
  {
   "cell_type": "code",
   "execution_count": 18,
   "metadata": {},
   "outputs": [
    {
     "data": {
      "text/plain": [
       "[<matplotlib.lines.Line2D at 0x7eea3d7923c0>]"
      ]
     },
     "execution_count": 18,
     "metadata": {},
     "output_type": "execute_result"
    },
    {
     "data": {
      "image/png": "[encoded data removed]",
      "text/plain": [
       "<Figure size 640x480 with 1 Axes>"
      ]
     },
     "metadata": {},
     "output_type": "display_data"
    }
   ],
   "source": [
    "plt.plot(t, output[\"cases\"].iloc[1], \"--\")"
   ]
  },
  {
   "cell_type": "code",
   "execution_count": 3,
   "metadata": {},
   "outputs": [
    {
     "data": {
      "text/plain": [
       "array([268, 115, 172, 122, 399, 175, 363, 262, 195, 175])"
      ]
     },
     "execution_count": 3,
     "metadata": {},
     "output_type": "execute_result"
    }
   ],
   "source": [
    "np.random.randint(100, 400, 10)"
   ]
  },
  {
   "cell_type": "code",
   "execution_count": 9,
   "metadata": {},
   "outputs": [
    {
     "data": {
      "text/plain": [
       "400"
      ]
     },
     "execution_count": 9,
     "metadata": {},
     "output_type": "execute_result"
    }
   ],
   "source": [
    "parameters[\"cbr\"]"
   ]
  },
  {
   "cell_type": "code",
   "execution_count": null,
   "metadata": {},
   "outputs": [],
   "source": []
  }
 ],
 "metadata": {
  "kernelspec": {
   "display_name": ".venv",
   "language": "python",
   "name": "python3"
  },
  "language_info": {
   "codemirror_mode": {
    "name": "ipython",
    "version": 3
   },
   "file_extension": ".py",
   "mimetype": "text/x-python",
   "name": "python",
   "nbconvert_exporter": "python",
   "pygments_lexer": "ipython3",
   "version": "3.11.8"
  }
 },
 "nbformat": 4,
 "nbformat_minor": 2
}
