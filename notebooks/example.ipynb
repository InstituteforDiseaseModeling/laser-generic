{
 "cells": [
  {
   "cell_type": "code",
   "execution_count": 3,
   "metadata": {},
   "outputs": [
    {
     "data": {
      "text/plain": [
       "\"np.__version__='1.26.4'\""
      ]
     },
     "execution_count": 3,
     "metadata": {},
     "output_type": "execute_result"
    }
   ],
   "source": [
    "import numpy as np\n",
    "import pandas as pd\n",
    "\n",
    "f\"{np.__version__=}\""
   ]
  },
  {
   "cell_type": "code",
   "execution_count": 5,
   "metadata": {},
   "outputs": [],
   "source": [
    "from laser_generic import Model\n",
    "from laser_core.propertyset import PropertySet\n"
   ]
  },
  {
   "cell_type": "code",
   "execution_count": 8,
   "metadata": {},
   "outputs": [
    {
     "name": "stdout",
     "output_type": "stream",
     "text": [
      "2024-11-20 23:30:44.718604: Creating the generic model…\n",
      "Initializing the generic model with 5 patches…\n"
     ]
    }
   ],
   "source": [
    "scenario = pd.DataFrame([\n",
    "    [\"Seattle\", 755_000, \"47°36′35″N 122°19′59″W\"],\n",
    "    [\"Tacoma\", 221_775, \"47°14′29″N 122°27′34″W\"],\n",
    "    [\"Everett\", 111_330, \"47°58′45″N 122°12′06″W\"],\n",
    "    [\"Olympia\", 55_670, \"47°2′16″N 122°54′3″W\"],\n",
    "    [\"Bellingham\", 94_720, \"48°45′N 122°29′W\"]], columns=[\"name\", \"population\", \"location\"])\n",
    "parameters = PropertySet({\"seed\":20241120, \"nticks\":1825})\n",
    "model = Model(scenario, parameters)"
   ]
  },
  {
   "cell_type": "code",
   "execution_count": 9,
   "metadata": {},
   "outputs": [
    {
     "ename": "TypeError",
     "evalue": "Failed in nopython mode pipeline (step: fix up args)\nSignature mismatch: 8 argument types given, but function takes 5 arguments",
     "output_type": "error",
     "traceback": [
      "\u001b[0;31m---------------------------------------------------------------------------\u001b[0m",
      "\u001b[0;31mTypeError\u001b[0m                                 Traceback (most recent call last)",
      "\u001b[1;32m/workspaces/laser-generic/notebooks/example.ipynb Cell 4\u001b[0m line \u001b[0;36m2\n\u001b[1;32m      <a href='vscode-notebook-cell://codespaces%2Bstunning-umbrella-5gqx47q7vw9hq5w/workspaces/laser-generic/notebooks/example.ipynb#W4sdnNjb2RlLXJlbW90ZQ%3D%3D?line=0'>1</a>\u001b[0m \u001b[39mfrom\u001b[39;00m \u001b[39mlaser_generic\u001b[39;00m\u001b[39m.\u001b[39;00m\u001b[39msusceptibility\u001b[39;00m \u001b[39mimport\u001b[39;00m Susceptibility_SI\n\u001b[0;32m----> <a href='vscode-notebook-cell://codespaces%2Bstunning-umbrella-5gqx47q7vw9hq5w/workspaces/laser-generic/notebooks/example.ipynb#W4sdnNjb2RlLXJlbW90ZQ%3D%3D?line=1'>2</a>\u001b[0m \u001b[39mfrom\u001b[39;00m \u001b[39mlaser_generic\u001b[39;00m\u001b[39m.\u001b[39;00m\u001b[39mtransmission\u001b[39;00m \u001b[39mimport\u001b[39;00m Transmission_SI\n\u001b[1;32m      <a href='vscode-notebook-cell://codespaces%2Bstunning-umbrella-5gqx47q7vw9hq5w/workspaces/laser-generic/notebooks/example.ipynb#W4sdnNjb2RlLXJlbW90ZQ%3D%3D?line=3'>4</a>\u001b[0m model\u001b[39m.\u001b[39mcomponents \u001b[39m=\u001b[39m [\n\u001b[1;32m      <a href='vscode-notebook-cell://codespaces%2Bstunning-umbrella-5gqx47q7vw9hq5w/workspaces/laser-generic/notebooks/example.ipynb#W4sdnNjb2RlLXJlbW90ZQ%3D%3D?line=4'>5</a>\u001b[0m     Susceptibility_SI,\n\u001b[1;32m      <a href='vscode-notebook-cell://codespaces%2Bstunning-umbrella-5gqx47q7vw9hq5w/workspaces/laser-generic/notebooks/example.ipynb#W4sdnNjb2RlLXJlbW90ZQ%3D%3D?line=5'>6</a>\u001b[0m     Transmission_SI,\n\u001b[1;32m      <a href='vscode-notebook-cell://codespaces%2Bstunning-umbrella-5gqx47q7vw9hq5w/workspaces/laser-generic/notebooks/example.ipynb#W4sdnNjb2RlLXJlbW90ZQ%3D%3D?line=6'>7</a>\u001b[0m ]\n",
      "File \u001b[0;32m/workspaces/laser-generic/src/laser_generic/transmission.py:193\u001b[0m\n\u001b[1;32m    189\u001b[0m         \u001b[39myield\u001b[39;00m\n\u001b[1;32m    190\u001b[0m         \u001b[39mreturn\u001b[39;00m\n\u001b[0;32m--> 193\u001b[0m \u001b[39mclass\u001b[39;49;00m \u001b[39mTransmission_SI\u001b[39;49;00m:\n\u001b[1;32m    194\u001b[0m \u001b[39m    \u001b[39;49m\u001b[39m\"\"\"\u001b[39;49;00m\n\u001b[1;32m    195\u001b[0m \u001b[39m    A component to model the transmission of disease in a population for the SI model.\u001b[39;49;00m\n\u001b[1;32m    196\u001b[0m \u001b[39m    \"\"\"\u001b[39;49;00m\n\u001b[1;32m    198\u001b[0m     \u001b[39mdef\u001b[39;49;00m \u001b[39m__init__\u001b[39;49m(\u001b[39mself\u001b[39;49m, model, verbose: \u001b[39mbool\u001b[39;49m \u001b[39m=\u001b[39;49m \u001b[39mFalse\u001b[39;49;00m) \u001b[39m-\u001b[39;49m\u001b[39m>\u001b[39;49m \u001b[39mNone\u001b[39;49;00m:\n",
      "File \u001b[0;32m/workspaces/laser-generic/src/laser_generic/transmission.py:281\u001b[0m, in \u001b[0;36mTransmission_SI\u001b[0;34m()\u001b[0m\n\u001b[1;32m    270\u001b[0m     Transmission_SI\u001b[39m.\u001b[39mnb_transmission_update(\n\u001b[1;32m    271\u001b[0m         population\u001b[39m.\u001b[39msusceptibility,\n\u001b[1;32m    272\u001b[0m         population\u001b[39m.\u001b[39mnodeid,\n\u001b[0;32m   (...)\u001b[0m\n\u001b[1;32m    275\u001b[0m         model\u001b[39m.\u001b[39mpatches\u001b[39m.\u001b[39mincidence[tick, :],\n\u001b[1;32m    276\u001b[0m     )\n\u001b[1;32m    278\u001b[0m     \u001b[39mreturn\u001b[39;00m\n\u001b[1;32m    280\u001b[0m \u001b[39m@staticmethod\u001b[39;49m\n\u001b[0;32m--> 281\u001b[0m \u001b[39m@nb\u001b[39;49m\u001b[39m.\u001b[39;49mnjit(\n\u001b[1;32m    282\u001b[0m     (nb\u001b[39m.\u001b[39;49muint8[:], nb\u001b[39m.\u001b[39;49muint16[:], nb\u001b[39m.\u001b[39;49mfloat32[:], nb\u001b[39m.\u001b[39;49muint8[:], nb\u001b[39m.\u001b[39;49muint32, nb\u001b[39m.\u001b[39;49mfloat32, nb\u001b[39m.\u001b[39;49mfloat32, nb\u001b[39m.\u001b[39;49muint32[:]),\n\u001b[1;32m    283\u001b[0m     parallel\u001b[39m=\u001b[39;49m\u001b[39mTrue\u001b[39;49;00m,\n\u001b[1;32m    284\u001b[0m     nogil\u001b[39m=\u001b[39;49m\u001b[39mTrue\u001b[39;49;00m,\n\u001b[1;32m    285\u001b[0m     cache\u001b[39m=\u001b[39;49m\u001b[39mTrue\u001b[39;49;00m,\n\u001b[1;32m    286\u001b[0m )\n\u001b[1;32m    287\u001b[0m \u001b[39mdef\u001b[39;49;00m \u001b[39mnb_transmission_update\u001b[39;49m(susceptibilities, nodeids, forces, count, incidence):  \u001b[39m# pragma: no cover\u001b[39;49;00m\n\u001b[1;32m    288\u001b[0m \u001b[39m    \u001b[39;49m\u001b[39m\"\"\"Numba compiled function to stochastically transmit infection to agents in parallel.\"\"\"\u001b[39;49;00m\n\u001b[1;32m    289\u001b[0m     \u001b[39mfor\u001b[39;49;00m i \u001b[39min\u001b[39;49;00m nb\u001b[39m.\u001b[39;49mprange(count):\n",
      "File \u001b[0;32m~/.local/lib/python3.12/site-packages/numba-0.59.1-py3.12-linux-x86_64.egg/numba/core/decorators.py:236\u001b[0m, in \u001b[0;36m_jit.<locals>.wrapper\u001b[0;34m(func)\u001b[0m\n\u001b[1;32m    234\u001b[0m     \u001b[39mwith\u001b[39;00m typeinfer\u001b[39m.\u001b[39mregister_dispatcher(disp):\n\u001b[1;32m    235\u001b[0m         \u001b[39mfor\u001b[39;00m sig \u001b[39min\u001b[39;00m sigs:\n\u001b[0;32m--> 236\u001b[0m             disp\u001b[39m.\u001b[39;49mcompile(sig)\n\u001b[1;32m    237\u001b[0m         disp\u001b[39m.\u001b[39mdisable_compile()\n\u001b[1;32m    238\u001b[0m \u001b[39mreturn\u001b[39;00m disp\n",
      "File \u001b[0;32m~/.local/lib/python3.12/site-packages/numba-0.59.1-py3.12-linux-x86_64.egg/numba/core/dispatcher.py:957\u001b[0m, in \u001b[0;36mDispatcher.compile\u001b[0;34m(self, sig)\u001b[0m\n\u001b[1;32m    955\u001b[0m \u001b[39mwith\u001b[39;00m ev\u001b[39m.\u001b[39mtrigger_event(\u001b[39m\"\u001b[39m\u001b[39mnumba:compile\u001b[39m\u001b[39m\"\u001b[39m, data\u001b[39m=\u001b[39mev_details):\n\u001b[1;32m    956\u001b[0m     \u001b[39mtry\u001b[39;00m:\n\u001b[0;32m--> 957\u001b[0m         cres \u001b[39m=\u001b[39m \u001b[39mself\u001b[39;49m\u001b[39m.\u001b[39;49m_compiler\u001b[39m.\u001b[39;49mcompile(args, return_type)\n\u001b[1;32m    958\u001b[0m     \u001b[39mexcept\u001b[39;00m errors\u001b[39m.\u001b[39mForceLiteralArg \u001b[39mas\u001b[39;00m e:\n\u001b[1;32m    959\u001b[0m         \u001b[39mdef\u001b[39;00m \u001b[39mfolded\u001b[39m(args, kws):\n",
      "File \u001b[0;32m~/.local/lib/python3.12/site-packages/numba-0.59.1-py3.12-linux-x86_64.egg/numba/core/dispatcher.py:125\u001b[0m, in \u001b[0;36m_FunctionCompiler.compile\u001b[0;34m(self, args, return_type)\u001b[0m\n\u001b[1;32m    124\u001b[0m \u001b[39mdef\u001b[39;00m \u001b[39mcompile\u001b[39m(\u001b[39mself\u001b[39m, args, return_type):\n\u001b[0;32m--> 125\u001b[0m     status, retval \u001b[39m=\u001b[39m \u001b[39mself\u001b[39;49m\u001b[39m.\u001b[39;49m_compile_cached(args, return_type)\n\u001b[1;32m    126\u001b[0m     \u001b[39mif\u001b[39;00m status:\n\u001b[1;32m    127\u001b[0m         \u001b[39mreturn\u001b[39;00m retval\n",
      "File \u001b[0;32m~/.local/lib/python3.12/site-packages/numba-0.59.1-py3.12-linux-x86_64.egg/numba/core/dispatcher.py:139\u001b[0m, in \u001b[0;36m_FunctionCompiler._compile_cached\u001b[0;34m(self, args, return_type)\u001b[0m\n\u001b[1;32m    136\u001b[0m     \u001b[39mpass\u001b[39;00m\n\u001b[1;32m    138\u001b[0m \u001b[39mtry\u001b[39;00m:\n\u001b[0;32m--> 139\u001b[0m     retval \u001b[39m=\u001b[39m \u001b[39mself\u001b[39;49m\u001b[39m.\u001b[39;49m_compile_core(args, return_type)\n\u001b[1;32m    140\u001b[0m \u001b[39mexcept\u001b[39;00m errors\u001b[39m.\u001b[39mTypingError \u001b[39mas\u001b[39;00m e:\n\u001b[1;32m    141\u001b[0m     \u001b[39mself\u001b[39m\u001b[39m.\u001b[39m_failed_cache[key] \u001b[39m=\u001b[39m e\n",
      "File \u001b[0;32m~/.local/lib/python3.12/site-packages/numba-0.59.1-py3.12-linux-x86_64.egg/numba/core/dispatcher.py:152\u001b[0m, in \u001b[0;36m_FunctionCompiler._compile_core\u001b[0;34m(self, args, return_type)\u001b[0m\n\u001b[1;32m    149\u001b[0m flags \u001b[39m=\u001b[39m \u001b[39mself\u001b[39m\u001b[39m.\u001b[39m_customize_flags(flags)\n\u001b[1;32m    151\u001b[0m impl \u001b[39m=\u001b[39m \u001b[39mself\u001b[39m\u001b[39m.\u001b[39m_get_implementation(args, {})\n\u001b[0;32m--> 152\u001b[0m cres \u001b[39m=\u001b[39m compiler\u001b[39m.\u001b[39;49mcompile_extra(\u001b[39mself\u001b[39;49m\u001b[39m.\u001b[39;49mtargetdescr\u001b[39m.\u001b[39;49mtyping_context,\n\u001b[1;32m    153\u001b[0m                               \u001b[39mself\u001b[39;49m\u001b[39m.\u001b[39;49mtargetdescr\u001b[39m.\u001b[39;49mtarget_context,\n\u001b[1;32m    154\u001b[0m                               impl,\n\u001b[1;32m    155\u001b[0m                               args\u001b[39m=\u001b[39;49margs, return_type\u001b[39m=\u001b[39;49mreturn_type,\n\u001b[1;32m    156\u001b[0m                               flags\u001b[39m=\u001b[39;49mflags, \u001b[39mlocals\u001b[39;49m\u001b[39m=\u001b[39;49m\u001b[39mself\u001b[39;49m\u001b[39m.\u001b[39;49mlocals,\n\u001b[1;32m    157\u001b[0m                               pipeline_class\u001b[39m=\u001b[39;49m\u001b[39mself\u001b[39;49m\u001b[39m.\u001b[39;49mpipeline_class)\n\u001b[1;32m    158\u001b[0m \u001b[39m# Check typing error if object mode is used\u001b[39;00m\n\u001b[1;32m    159\u001b[0m \u001b[39mif\u001b[39;00m cres\u001b[39m.\u001b[39mtyping_error \u001b[39mis\u001b[39;00m \u001b[39mnot\u001b[39;00m \u001b[39mNone\u001b[39;00m \u001b[39mand\u001b[39;00m \u001b[39mnot\u001b[39;00m flags\u001b[39m.\u001b[39menable_pyobject:\n",
      "File \u001b[0;32m~/.local/lib/python3.12/site-packages/numba-0.59.1-py3.12-linux-x86_64.egg/numba/core/compiler.py:751\u001b[0m, in \u001b[0;36mcompile_extra\u001b[0;34m(typingctx, targetctx, func, args, return_type, flags, locals, library, pipeline_class)\u001b[0m\n\u001b[1;32m    727\u001b[0m \u001b[39m\u001b[39m\u001b[39m\"\"\"Compiler entry point\u001b[39;00m\n\u001b[1;32m    728\u001b[0m \n\u001b[1;32m    729\u001b[0m \u001b[39mParameter\u001b[39;00m\n\u001b[0;32m   (...)\u001b[0m\n\u001b[1;32m    747\u001b[0m \u001b[39m    compiler pipeline\u001b[39;00m\n\u001b[1;32m    748\u001b[0m \u001b[39m\"\"\"\u001b[39;00m\n\u001b[1;32m    749\u001b[0m pipeline \u001b[39m=\u001b[39m pipeline_class(typingctx, targetctx, library,\n\u001b[1;32m    750\u001b[0m                           args, return_type, flags, \u001b[39mlocals\u001b[39m)\n\u001b[0;32m--> 751\u001b[0m \u001b[39mreturn\u001b[39;00m pipeline\u001b[39m.\u001b[39;49mcompile_extra(func)\n",
      "File \u001b[0;32m~/.local/lib/python3.12/site-packages/numba-0.59.1-py3.12-linux-x86_64.egg/numba/core/compiler.py:445\u001b[0m, in \u001b[0;36mCompilerBase.compile_extra\u001b[0;34m(self, func)\u001b[0m\n\u001b[1;32m    443\u001b[0m \u001b[39mself\u001b[39m\u001b[39m.\u001b[39mstate\u001b[39m.\u001b[39mlifted \u001b[39m=\u001b[39m ()\n\u001b[1;32m    444\u001b[0m \u001b[39mself\u001b[39m\u001b[39m.\u001b[39mstate\u001b[39m.\u001b[39mlifted_from \u001b[39m=\u001b[39m \u001b[39mNone\u001b[39;00m\n\u001b[0;32m--> 445\u001b[0m \u001b[39mreturn\u001b[39;00m \u001b[39mself\u001b[39;49m\u001b[39m.\u001b[39;49m_compile_bytecode()\n",
      "File \u001b[0;32m~/.local/lib/python3.12/site-packages/numba-0.59.1-py3.12-linux-x86_64.egg/numba/core/compiler.py:513\u001b[0m, in \u001b[0;36mCompilerBase._compile_bytecode\u001b[0;34m(self)\u001b[0m\n\u001b[1;32m    509\u001b[0m \u001b[39m\u001b[39m\u001b[39m\"\"\"\u001b[39;00m\n\u001b[1;32m    510\u001b[0m \u001b[39mPopulate and run pipeline for bytecode input\u001b[39;00m\n\u001b[1;32m    511\u001b[0m \u001b[39m\"\"\"\u001b[39;00m\n\u001b[1;32m    512\u001b[0m \u001b[39massert\u001b[39;00m \u001b[39mself\u001b[39m\u001b[39m.\u001b[39mstate\u001b[39m.\u001b[39mfunc_ir \u001b[39mis\u001b[39;00m \u001b[39mNone\u001b[39;00m\n\u001b[0;32m--> 513\u001b[0m \u001b[39mreturn\u001b[39;00m \u001b[39mself\u001b[39;49m\u001b[39m.\u001b[39;49m_compile_core()\n",
      "File \u001b[0;32m~/.local/lib/python3.12/site-packages/numba-0.59.1-py3.12-linux-x86_64.egg/numba/core/compiler.py:492\u001b[0m, in \u001b[0;36mCompilerBase._compile_core\u001b[0;34m(self)\u001b[0m\n\u001b[1;32m    490\u001b[0m         \u001b[39mself\u001b[39m\u001b[39m.\u001b[39mstate\u001b[39m.\u001b[39mstatus\u001b[39m.\u001b[39mfail_reason \u001b[39m=\u001b[39m e\n\u001b[1;32m    491\u001b[0m         \u001b[39mif\u001b[39;00m is_final_pipeline:\n\u001b[0;32m--> 492\u001b[0m             \u001b[39mraise\u001b[39;00m e\n\u001b[1;32m    493\u001b[0m \u001b[39melse\u001b[39;00m:\n\u001b[1;32m    494\u001b[0m     \u001b[39mraise\u001b[39;00m CompilerError(\u001b[39m\"\u001b[39m\u001b[39mAll available pipelines exhausted\u001b[39m\u001b[39m\"\u001b[39m)\n",
      "File \u001b[0;32m~/.local/lib/python3.12/site-packages/numba-0.59.1-py3.12-linux-x86_64.egg/numba/core/compiler.py:479\u001b[0m, in \u001b[0;36mCompilerBase._compile_core\u001b[0;34m(self)\u001b[0m\n\u001b[1;32m    477\u001b[0m res \u001b[39m=\u001b[39m \u001b[39mNone\u001b[39;00m\n\u001b[1;32m    478\u001b[0m \u001b[39mtry\u001b[39;00m:\n\u001b[0;32m--> 479\u001b[0m     pm\u001b[39m.\u001b[39;49mrun(\u001b[39mself\u001b[39;49m\u001b[39m.\u001b[39;49mstate)\n\u001b[1;32m    480\u001b[0m     \u001b[39mif\u001b[39;00m \u001b[39mself\u001b[39m\u001b[39m.\u001b[39mstate\u001b[39m.\u001b[39mcr \u001b[39mis\u001b[39;00m \u001b[39mnot\u001b[39;00m \u001b[39mNone\u001b[39;00m:\n\u001b[1;32m    481\u001b[0m         \u001b[39mbreak\u001b[39;00m\n",
      "File \u001b[0;32m~/.local/lib/python3.12/site-packages/numba-0.59.1-py3.12-linux-x86_64.egg/numba/core/compiler_machinery.py:368\u001b[0m, in \u001b[0;36mPassManager.run\u001b[0;34m(self, state)\u001b[0m\n\u001b[1;32m    365\u001b[0m msg \u001b[39m=\u001b[39m \u001b[39m\"\u001b[39m\u001b[39mFailed in \u001b[39m\u001b[39m%s\u001b[39;00m\u001b[39m mode pipeline (step: \u001b[39m\u001b[39m%s\u001b[39;00m\u001b[39m)\u001b[39m\u001b[39m\"\u001b[39m \u001b[39m%\u001b[39m \\\n\u001b[1;32m    366\u001b[0m     (\u001b[39mself\u001b[39m\u001b[39m.\u001b[39mpipeline_name, pass_desc)\n\u001b[1;32m    367\u001b[0m patched_exception \u001b[39m=\u001b[39m \u001b[39mself\u001b[39m\u001b[39m.\u001b[39m_patch_error(msg, e)\n\u001b[0;32m--> 368\u001b[0m \u001b[39mraise\u001b[39;00m patched_exception\n",
      "File \u001b[0;32m~/.local/lib/python3.12/site-packages/numba-0.59.1-py3.12-linux-x86_64.egg/numba/core/compiler_machinery.py:356\u001b[0m, in \u001b[0;36mPassManager.run\u001b[0;34m(self, state)\u001b[0m\n\u001b[1;32m    354\u001b[0m pass_inst \u001b[39m=\u001b[39m _pass_registry\u001b[39m.\u001b[39mget(pss)\u001b[39m.\u001b[39mpass_inst\n\u001b[1;32m    355\u001b[0m \u001b[39mif\u001b[39;00m \u001b[39misinstance\u001b[39m(pass_inst, CompilerPass):\n\u001b[0;32m--> 356\u001b[0m     \u001b[39mself\u001b[39;49m\u001b[39m.\u001b[39;49m_runPass(idx, pass_inst, state)\n\u001b[1;32m    357\u001b[0m \u001b[39melse\u001b[39;00m:\n\u001b[1;32m    358\u001b[0m     \u001b[39mraise\u001b[39;00m \u001b[39mBaseException\u001b[39;00m(\u001b[39m\"\u001b[39m\u001b[39mLegacy pass in use\u001b[39m\u001b[39m\"\u001b[39m)\n",
      "File \u001b[0;32m~/.local/lib/python3.12/site-packages/numba-0.59.1-py3.12-linux-x86_64.egg/numba/core/compiler_lock.py:35\u001b[0m, in \u001b[0;36m_CompilerLock.__call__.<locals>._acquire_compile_lock\u001b[0;34m(*args, **kwargs)\u001b[0m\n\u001b[1;32m     32\u001b[0m \u001b[39m@functools\u001b[39m\u001b[39m.\u001b[39mwraps(func)\n\u001b[1;32m     33\u001b[0m \u001b[39mdef\u001b[39;00m \u001b[39m_acquire_compile_lock\u001b[39m(\u001b[39m*\u001b[39margs, \u001b[39m*\u001b[39m\u001b[39m*\u001b[39mkwargs):\n\u001b[1;32m     34\u001b[0m     \u001b[39mwith\u001b[39;00m \u001b[39mself\u001b[39m:\n\u001b[0;32m---> 35\u001b[0m         \u001b[39mreturn\u001b[39;00m func(\u001b[39m*\u001b[39;49margs, \u001b[39m*\u001b[39;49m\u001b[39m*\u001b[39;49mkwargs)\n",
      "File \u001b[0;32m~/.local/lib/python3.12/site-packages/numba-0.59.1-py3.12-linux-x86_64.egg/numba/core/compiler_machinery.py:311\u001b[0m, in \u001b[0;36mPassManager._runPass\u001b[0;34m(self, index, pss, internal_state)\u001b[0m\n\u001b[1;32m    309\u001b[0m     mutated \u001b[39m|\u001b[39m\u001b[39m=\u001b[39m check(pss\u001b[39m.\u001b[39mrun_initialization, internal_state)\n\u001b[1;32m    310\u001b[0m \u001b[39mwith\u001b[39;00m SimpleTimer() \u001b[39mas\u001b[39;00m pass_time:\n\u001b[0;32m--> 311\u001b[0m     mutated \u001b[39m|\u001b[39m\u001b[39m=\u001b[39m check(pss\u001b[39m.\u001b[39;49mrun_pass, internal_state)\n\u001b[1;32m    312\u001b[0m \u001b[39mwith\u001b[39;00m SimpleTimer() \u001b[39mas\u001b[39;00m finalize_time:\n\u001b[1;32m    313\u001b[0m     mutated \u001b[39m|\u001b[39m\u001b[39m=\u001b[39m check(pss\u001b[39m.\u001b[39mrun_finalizer, internal_state)\n",
      "File \u001b[0;32m~/.local/lib/python3.12/site-packages/numba-0.59.1-py3.12-linux-x86_64.egg/numba/core/compiler_machinery.py:273\u001b[0m, in \u001b[0;36mPassManager._runPass.<locals>.check\u001b[0;34m(func, compiler_state)\u001b[0m\n\u001b[1;32m    272\u001b[0m \u001b[39mdef\u001b[39;00m \u001b[39mcheck\u001b[39m(func, compiler_state):\n\u001b[0;32m--> 273\u001b[0m     mangled \u001b[39m=\u001b[39m func(compiler_state)\n\u001b[1;32m    274\u001b[0m     \u001b[39mif\u001b[39;00m mangled \u001b[39mnot\u001b[39;00m \u001b[39min\u001b[39;00m (\u001b[39mTrue\u001b[39;00m, \u001b[39mFalse\u001b[39;00m):\n\u001b[1;32m    275\u001b[0m         msg \u001b[39m=\u001b[39m (\u001b[39m\"\u001b[39m\u001b[39mCompilerPass implementations should return True/False. \u001b[39m\u001b[39m\"\u001b[39m\n\u001b[1;32m    276\u001b[0m                \u001b[39m\"\u001b[39m\u001b[39mCompilerPass with name \u001b[39m\u001b[39m'\u001b[39m\u001b[39m%s\u001b[39;00m\u001b[39m'\u001b[39m\u001b[39m did not.\u001b[39m\u001b[39m\"\u001b[39m)\n",
      "File \u001b[0;32m~/.local/lib/python3.12/site-packages/numba-0.59.1-py3.12-linux-x86_64.egg/numba/core/untyped_passes.py:125\u001b[0m, in \u001b[0;36mFixupArgs.run_pass\u001b[0;34m(self, state)\u001b[0m\n\u001b[1;32m    123\u001b[0m     state[\u001b[39m'\u001b[39m\u001b[39margs\u001b[39m\u001b[39m'\u001b[39m] \u001b[39m=\u001b[39m (types\u001b[39m.\u001b[39mpyobject,) \u001b[39m*\u001b[39m state[\u001b[39m'\u001b[39m\u001b[39mnargs\u001b[39m\u001b[39m'\u001b[39m]\n\u001b[1;32m    124\u001b[0m \u001b[39melif\u001b[39;00m \u001b[39mlen\u001b[39m(state[\u001b[39m'\u001b[39m\u001b[39margs\u001b[39m\u001b[39m'\u001b[39m]) \u001b[39m!=\u001b[39m state[\u001b[39m'\u001b[39m\u001b[39mnargs\u001b[39m\u001b[39m'\u001b[39m]:\n\u001b[0;32m--> 125\u001b[0m     \u001b[39mraise\u001b[39;00m \u001b[39mTypeError\u001b[39;00m(\u001b[39m\"\u001b[39m\u001b[39mSignature mismatch: \u001b[39m\u001b[39m%d\u001b[39;00m\u001b[39m argument types given, \u001b[39m\u001b[39m\"\u001b[39m\n\u001b[1;32m    126\u001b[0m                     \u001b[39m\"\u001b[39m\u001b[39mbut function takes \u001b[39m\u001b[39m%d\u001b[39;00m\u001b[39m arguments\u001b[39m\u001b[39m\"\u001b[39m\n\u001b[1;32m    127\u001b[0m                     \u001b[39m%\u001b[39m (\u001b[39mlen\u001b[39m(state[\u001b[39m'\u001b[39m\u001b[39margs\u001b[39m\u001b[39m'\u001b[39m]), state[\u001b[39m'\u001b[39m\u001b[39mnargs\u001b[39m\u001b[39m'\u001b[39m]))\n\u001b[1;32m    128\u001b[0m \u001b[39mreturn\u001b[39;00m \u001b[39mTrue\u001b[39;00m\n",
      "\u001b[0;31mTypeError\u001b[0m: Failed in nopython mode pipeline (step: fix up args)\nSignature mismatch: 8 argument types given, but function takes 5 arguments"
     ]
    }
   ],
   "source": [
    "from laser_generic.susceptibility import Susceptibility_SI\n",
    "from laser_generic.transmission import Transmission_SI\n",
    "\n",
    "model.components = [\n",
    "    Susceptibility_SI,\n",
    "    Transmission_SI,\n",
    "]\n"
   ]
  }
 ],
 "metadata": {
  "language_info": {
   "name": "python"
  }
 },
 "nbformat": 4,
 "nbformat_minor": 2
}
