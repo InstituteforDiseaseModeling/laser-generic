{
 "cells": [
  {
   "cell_type": "code",
   "execution_count": 1,
   "metadata": {},
   "outputs": [
    {
     "data": {
      "text/plain": [
       "\"np.__version__='1.26.4'\""
      ]
     },
     "execution_count": 1,
     "metadata": {},
     "output_type": "execute_result"
    }
   ],
   "source": [
    "import numpy as np\n",
    "import pandas as pd\n",
    "from scipy.optimize import curve_fit\n",
    "\n",
    "f\"{np.__version__=}\""
   ]
  },
  {
   "cell_type": "code",
   "execution_count": 2,
   "metadata": {},
   "outputs": [],
   "source": [
    "from laser_core.propertyset import PropertySet\n",
    "from laser_generic import Model"
   ]
  },
  {
   "cell_type": "code",
   "execution_count": 3,
   "metadata": {},
   "outputs": [
    {
     "name": "stdout",
     "output_type": "stream",
     "text": [
      "2024-12-05 03:10:40.955830: Creating the generic model…\n",
      "Initializing the generic model with 1 patches…\n"
     ]
    }
   ],
   "source": [
    "scenario = pd.DataFrame(data=[[\"homenode\", 1e6, \"47°36′35″N 122°19′59″W\"]], columns=[\"name\", \"population\", \"location\"])\n",
    "parameters = PropertySet({\"seed\": 2, \"nticks\": 730, \"verbose\": True, \"beta\": 0.1})\n",
    "model = Model(scenario, parameters)"
   ]
  },
  {
   "cell_type": "code",
   "execution_count": 4,
   "metadata": {},
   "outputs": [],
   "source": [
    "from laser_generic.susceptibility import Susceptibility\n",
    "from laser_generic.transmission import Transmission\n",
    "\n",
    "model.components = [\n",
    "    Susceptibility,\n",
    "    Transmission,\n",
    "]"
   ]
  },
  {
   "cell_type": "code",
   "execution_count": 5,
   "metadata": {},
   "outputs": [],
   "source": [
    "from laser_generic.utils import seed_infections_randomly_SI\n",
    "\n",
    "seed_infections_randomly_SI(model, ninfections=1)"
   ]
  },
  {
   "cell_type": "code",
   "execution_count": 6,
   "metadata": {},
   "outputs": [
    {
     "name": "stdout",
     "output_type": "stream",
     "text": [
      "2024-12-05 03:10:48.296098: Running the generic model for 730 ticks…\n"
     ]
    },
    {
     "name": "stderr",
     "output_type": "stream",
     "text": [
      "100%|██████████| 730/730 [00:02<00:00, 306.14it/s]"
     ]
    },
    {
     "name": "stdout",
     "output_type": "stream",
     "text": [
      "Completed the generic model at 2024-12-05 03:10:50.685116…\n",
      "Model       :         3,720 µs\n",
      "Transmission:     2,353,127 µs\n",
      "==============================\n",
      "Total:            2,356,847 microseconds\n"
     ]
    },
    {
     "name": "stderr",
     "output_type": "stream",
     "text": [
      "\n"
     ]
    }
   ],
   "source": [
    "model.run()"
   ]
  },
  {
   "cell_type": "code",
   "execution_count": 7,
   "metadata": {},
   "outputs": [
    {
     "data": {
      "text/plain": [
       "(0.0, 250.0)"
      ]
     },
     "execution_count": 7,
     "metadata": {},
     "output_type": "execute_result"
    },
    {
     "data": {
      "image/png": "[encoded data removed]",
      "text/plain": [
       "<Figure size 640x480 with 1 Axes>"
      ]
     },
     "metadata": {},
     "output_type": "display_data"
    }
   ],
   "source": [
    "import matplotlib.pyplot as plt\n",
    "\n",
    "plt.plot(model.patches.cases)\n",
    "plt.plot(1e6 / (1 + (1e6 - 1) * np.exp(-0.1 * (np.arange(730)))))\n",
    "plt.xlim([0, 250])\n",
    "# plt.ylim([100, 150])"
   ]
  },
  {
   "cell_type": "code",
   "execution_count": 9,
   "metadata": {},
   "outputs": [
    {
     "name": "stdout",
     "output_type": "stream",
     "text": [
      "2024-12-05 03:12:02.890559: Creating the generic model…\n",
      "Initializing the generic model with 1 patches…\n",
      "2024-12-05 03:12:02.893908: Running the generic model for 730 ticks…\n"
     ]
    },
    {
     "name": "stderr",
     "output_type": "stream",
     "text": [
      "100%|██████████| 730/730 [00:00<00:00, 877.42it/s]"
     ]
    },
    {
     "name": "stdout",
     "output_type": "stream",
     "text": [
      "Completed the generic model at 2024-12-05 03:12:03.729877…\n",
      "Model       :         3,369 µs\n",
      "Transmission:       809,096 µs\n",
      "==============================\n",
      "Total:              812,465 microseconds\n",
      "2024-12-05 03:12:03.743348: Creating the generic model…\n",
      "Initializing the generic model with 1 patches…\n",
      "2024-12-05 03:12:03.745589: Running the generic model for 730 ticks…\n"
     ]
    },
    {
     "name": "stderr",
     "output_type": "stream",
     "text": [
      "\n",
      "/tmp/ipykernel_4748/247675944.py:25: FutureWarning: The behavior of DataFrame concatenation with empty or all-NA entries is deprecated. In a future version, this will no longer exclude empty or all-NA columns when determining the result dtypes. To retain the old behavior, exclude the relevant entries before the concat operation.\n",
      "  output = pd.concat([output, pd.DataFrame.from_dict({\"seed\": seed, \"beta\": beta, \"cases\": cases,\n",
      "100%|██████████| 730/730 [00:00<00:00, 1024.53it/s]"
     ]
    },
    {
     "name": "stdout",
     "output_type": "stream",
     "text": [
      "Completed the generic model at 2024-12-05 03:12:04.460969…\n",
      "Model       :         2,542 µs\n",
      "Transmission:       697,944 µs\n",
      "==============================\n",
      "Total:              700,486 microseconds\n",
      "2024-12-05 03:12:04.473646: Creating the generic model…\n",
      "Initializing the generic model with 1 patches…\n",
      "2024-12-05 03:12:04.475901: Running the generic model for 730 ticks…\n"
     ]
    },
    {
     "name": "stderr",
     "output_type": "stream",
     "text": [
      "\n",
      "100%|██████████| 730/730 [00:00<00:00, 902.40it/s]"
     ]
    },
    {
     "name": "stdout",
     "output_type": "stream",
     "text": [
      "Completed the generic model at 2024-12-05 03:12:05.287462…\n",
      "Model       :         2,488 µs\n",
      "Transmission:       796,177 µs\n",
      "==============================\n",
      "Total:              798,665 microseconds\n",
      "2024-12-05 03:12:05.308845: Creating the generic model…\n",
      "Initializing the generic model with 1 patches…\n",
      "2024-12-05 03:12:05.310315: Running the generic model for 730 ticks…\n"
     ]
    },
    {
     "name": "stderr",
     "output_type": "stream",
     "text": [
      "\n",
      "100%|██████████| 730/730 [00:01<00:00, 658.56it/s]"
     ]
    },
    {
     "name": "stdout",
     "output_type": "stream",
     "text": [
      "Completed the generic model at 2024-12-05 03:12:06.421828…\n",
      "Model       :         2,921 µs\n",
      "Transmission:     1,074,918 µs\n",
      "==============================\n",
      "Total:            1,077,839 microseconds\n",
      "2024-12-05 03:12:06.432206: Creating the generic model…\n",
      "Initializing the generic model with 1 patches…\n",
      "2024-12-05 03:12:06.435487: Running the generic model for 730 ticks…\n"
     ]
    },
    {
     "name": "stderr",
     "output_type": "stream",
     "text": [
      "\n",
      "100%|██████████| 730/730 [00:00<00:00, 1036.37it/s]\n"
     ]
    },
    {
     "name": "stdout",
     "output_type": "stream",
     "text": [
      "Completed the generic model at 2024-12-05 03:12:07.143780…\n",
      "Model       :         2,509 µs\n",
      "Transmission:       687,799 µs\n",
      "==============================\n",
      "Total:              690,308 microseconds\n",
      "2024-12-05 03:12:07.156085: Creating the generic model…\n",
      "Initializing the generic model with 1 patches…\n",
      "2024-12-05 03:12:07.158071: Running the generic model for 730 ticks…\n"
     ]
    },
    {
     "name": "stderr",
     "output_type": "stream",
     "text": [
      "100%|██████████| 730/730 [00:00<00:00, 910.74it/s]"
     ]
    },
    {
     "name": "stdout",
     "output_type": "stream",
     "text": [
      "Completed the generic model at 2024-12-05 03:12:07.963044…\n",
      "Model       :         2,699 µs\n",
      "Transmission:       783,557 µs\n",
      "==============================\n",
      "Total:              786,256 microseconds\n",
      "2024-12-05 03:12:07.975430: Creating the generic model…\n",
      "Initializing the generic model with 1 patches…\n",
      "2024-12-05 03:12:07.978446: Running the generic model for 730 ticks…\n"
     ]
    },
    {
     "name": "stderr",
     "output_type": "stream",
     "text": [
      "\n",
      "100%|██████████| 730/730 [00:00<00:00, 1031.55it/s]\n"
     ]
    },
    {
     "name": "stdout",
     "output_type": "stream",
     "text": [
      "Completed the generic model at 2024-12-05 03:12:08.692464…\n",
      "Model       :         2,372 µs\n",
      "Transmission:       691,820 µs\n",
      "==============================\n",
      "Total:              694,192 microseconds\n",
      "2024-12-05 03:12:08.704968: Creating the generic model…\n",
      "Initializing the generic model with 1 patches…\n",
      "2024-12-05 03:12:08.707581: Running the generic model for 730 ticks…\n"
     ]
    },
    {
     "name": "stderr",
     "output_type": "stream",
     "text": [
      "100%|██████████| 730/730 [00:00<00:00, 1036.72it/s]\n"
     ]
    },
    {
     "name": "stdout",
     "output_type": "stream",
     "text": [
      "Completed the generic model at 2024-12-05 03:12:09.414822…\n",
      "Model       :         2,451 µs\n",
      "Transmission:       691,366 µs\n",
      "==============================\n",
      "Total:              693,817 microseconds\n",
      "2024-12-05 03:12:09.430831: Creating the generic model…\n",
      "Initializing the generic model with 1 patches…\n",
      "2024-12-05 03:12:09.434912: Running the generic model for 730 ticks…\n"
     ]
    },
    {
     "name": "stderr",
     "output_type": "stream",
     "text": [
      "100%|██████████| 730/730 [00:00<00:00, 860.03it/s]"
     ]
    },
    {
     "name": "stdout",
     "output_type": "stream",
     "text": [
      "Completed the generic model at 2024-12-05 03:12:10.286982…\n",
      "Model       :         2,789 µs\n",
      "Transmission:       826,001 µs\n",
      "==============================\n",
      "Total:              828,790 microseconds\n",
      "2024-12-05 03:12:10.301992: Creating the generic model…\n",
      "Initializing the generic model with 1 patches…\n",
      "2024-12-05 03:12:10.304629: Running the generic model for 730 ticks…\n"
     ]
    },
    {
     "name": "stderr",
     "output_type": "stream",
     "text": [
      "\n",
      "100%|██████████| 730/730 [00:00<00:00, 1012.38it/s]"
     ]
    },
    {
     "name": "stdout",
     "output_type": "stream",
     "text": [
      "Completed the generic model at 2024-12-05 03:12:11.029816…\n",
      "Model       :         2,433 µs\n",
      "Transmission:       702,845 µs\n",
      "==============================\n",
      "Total:              705,278 microseconds\n",
      "2024-12-05 03:12:11.044031: Creating the generic model…\n",
      "Initializing the generic model with 1 patches…\n",
      "2024-12-05 03:12:11.046447: Running the generic model for 730 ticks…\n"
     ]
    },
    {
     "name": "stderr",
     "output_type": "stream",
     "text": [
      "\n",
      "100%|██████████| 730/730 [00:00<00:00, 805.20it/s]\n"
     ]
    },
    {
     "name": "stdout",
     "output_type": "stream",
     "text": [
      "Completed the generic model at 2024-12-05 03:12:11.956731…\n",
      "Model       :         2,670 µs\n",
      "Transmission:       886,303 µs\n",
      "==============================\n",
      "Total:              888,973 microseconds\n",
      "2024-12-05 03:12:11.969898: Creating the generic model…\n",
      "Initializing the generic model with 1 patches…\n",
      "2024-12-05 03:12:11.972241: Running the generic model for 730 ticks…\n"
     ]
    },
    {
     "name": "stderr",
     "output_type": "stream",
     "text": [
      "100%|██████████| 730/730 [00:00<00:00, 1050.21it/s]\n"
     ]
    },
    {
     "name": "stdout",
     "output_type": "stream",
     "text": [
      "Completed the generic model at 2024-12-05 03:12:12.670617…\n",
      "Model       :         2,397 µs\n",
      "Transmission:       676,476 µs\n",
      "==============================\n",
      "Total:              678,873 microseconds\n",
      "2024-12-05 03:12:12.681656: Creating the generic model…\n",
      "Initializing the generic model with 1 patches…\n",
      "2024-12-05 03:12:12.685522: Running the generic model for 730 ticks…\n"
     ]
    },
    {
     "name": "stderr",
     "output_type": "stream",
     "text": [
      "100%|██████████| 730/730 [00:00<00:00, 958.09it/s] "
     ]
    },
    {
     "name": "stdout",
     "output_type": "stream",
     "text": [
      "Completed the generic model at 2024-12-05 03:12:13.450913…\n",
      "Model       :         2,486 µs\n",
      "Transmission:       738,863 µs\n",
      "==============================\n",
      "Total:              741,349 microseconds\n",
      "2024-12-05 03:12:13.461185: Creating the generic model…\n",
      "Initializing the generic model with 1 patches…\n",
      "2024-12-05 03:12:13.464064: Running the generic model for 730 ticks…\n"
     ]
    },
    {
     "name": "stderr",
     "output_type": "stream",
     "text": [
      "\n",
      "100%|██████████| 730/730 [00:00<00:00, 863.05it/s]"
     ]
    },
    {
     "name": "stdout",
     "output_type": "stream",
     "text": [
      "Completed the generic model at 2024-12-05 03:12:14.314777…\n",
      "Model       :         2,525 µs\n",
      "Transmission:       829,420 µs\n",
      "==============================\n",
      "Total:              831,945 microseconds\n",
      "2024-12-05 03:12:14.325986: Creating the generic model…\n",
      "Initializing the generic model with 1 patches…\n",
      "2024-12-05 03:12:14.330269: Running the generic model for 730 ticks…\n"
     ]
    },
    {
     "name": "stderr",
     "output_type": "stream",
     "text": [
      "\n",
      "100%|██████████| 730/730 [00:00<00:00, 959.10it/s] "
     ]
    },
    {
     "name": "stdout",
     "output_type": "stream",
     "text": [
      "Completed the generic model at 2024-12-05 03:12:15.095309…\n",
      "Model       :         3,640 µs\n",
      "Transmission:       743,577 µs\n",
      "==============================\n",
      "Total:              747,217 microseconds\n",
      "2024-12-05 03:12:15.106732: Creating the generic model…\n",
      "Initializing the generic model with 1 patches…\n",
      "2024-12-05 03:12:15.109397: Running the generic model for 730 ticks…\n"
     ]
    },
    {
     "name": "stderr",
     "output_type": "stream",
     "text": [
      "\n",
      "100%|██████████| 730/730 [00:00<00:00, 1008.74it/s]"
     ]
    },
    {
     "name": "stdout",
     "output_type": "stream",
     "text": [
      "Completed the generic model at 2024-12-05 03:12:15.837762…\n",
      "Model       :         2,499 µs\n",
      "Transmission:       706,483 µs\n",
      "==============================\n",
      "Total:              708,982 microseconds\n",
      "2024-12-05 03:12:15.848307: Creating the generic model…\n",
      "Initializing the generic model with 1 patches…\n",
      "2024-12-05 03:12:15.851391: Running the generic model for 730 ticks…\n"
     ]
    },
    {
     "name": "stderr",
     "output_type": "stream",
     "text": [
      "\n",
      "100%|██████████| 730/730 [00:00<00:00, 983.60it/s] "
     ]
    },
    {
     "name": "stdout",
     "output_type": "stream",
     "text": [
      "Completed the generic model at 2024-12-05 03:12:16.598215…\n",
      "Model       :         2,649 µs\n",
      "Transmission:       724,687 µs\n",
      "==============================\n",
      "Total:              727,336 microseconds\n",
      "2024-12-05 03:12:16.614584: Creating the generic model…\n",
      "Initializing the generic model with 1 patches…\n",
      "2024-12-05 03:12:16.622030: Running the generic model for 730 ticks…\n"
     ]
    },
    {
     "name": "stderr",
     "output_type": "stream",
     "text": [
      "\n",
      "100%|██████████| 730/730 [00:00<00:00, 1036.35it/s]"
     ]
    },
    {
     "name": "stdout",
     "output_type": "stream",
     "text": [
      "Completed the generic model at 2024-12-05 03:12:17.330774…\n",
      "Model       :         2,477 µs\n",
      "Transmission:       687,076 µs\n",
      "==============================\n",
      "Total:              689,553 microseconds\n",
      "2024-12-05 03:12:17.341664: Creating the generic model…\n",
      "Initializing the generic model with 1 patches…\n",
      "2024-12-05 03:12:17.344362: Running the generic model for 730 ticks…\n"
     ]
    },
    {
     "name": "stderr",
     "output_type": "stream",
     "text": [
      "\n",
      "100%|██████████| 730/730 [00:00<00:00, 1071.01it/s]"
     ]
    },
    {
     "name": "stdout",
     "output_type": "stream",
     "text": [
      "Completed the generic model at 2024-12-05 03:12:18.033673…\n",
      "Model       :         2,535 µs\n",
      "Transmission:       666,733 µs\n",
      "==============================\n",
      "Total:              669,268 microseconds\n",
      "2024-12-05 03:12:18.044561: Creating the generic model…\n",
      "Initializing the generic model with 1 patches…\n",
      "2024-12-05 03:12:18.047736: Running the generic model for 730 ticks…\n"
     ]
    },
    {
     "name": "stderr",
     "output_type": "stream",
     "text": [
      "\n",
      "100%|██████████| 730/730 [00:00<00:00, 1278.84it/s]"
     ]
    },
    {
     "name": "stdout",
     "output_type": "stream",
     "text": [
      "Completed the generic model at 2024-12-05 03:12:18.623243…\n",
      "Model       :         2,366 µs\n",
      "Transmission:       556,391 µs\n",
      "==============================\n",
      "Total:              558,757 microseconds\n",
      "2024-12-05 03:12:18.636817: Creating the generic model…\n",
      "Initializing the generic model with 1 patches…\n",
      "2024-12-05 03:12:18.639594: Running the generic model for 730 ticks…\n"
     ]
    },
    {
     "name": "stderr",
     "output_type": "stream",
     "text": [
      "\n",
      "100%|██████████| 730/730 [00:00<00:00, 1188.85it/s]\n"
     ]
    },
    {
     "name": "stdout",
     "output_type": "stream",
     "text": [
      "Completed the generic model at 2024-12-05 03:12:19.258764…\n",
      "Model       :         2,450 µs\n",
      "Transmission:       600,189 µs\n",
      "==============================\n",
      "Total:              602,639 microseconds\n",
      "2024-12-05 03:12:19.277539: Creating the generic model…\n",
      "Initializing the generic model with 1 patches…\n",
      "2024-12-05 03:12:19.279741: Running the generic model for 730 ticks…\n"
     ]
    },
    {
     "name": "stderr",
     "output_type": "stream",
     "text": [
      "100%|██████████| 730/730 [00:00<00:00, 1374.38it/s]"
     ]
    },
    {
     "name": "stdout",
     "output_type": "stream",
     "text": [
      "Completed the generic model at 2024-12-05 03:12:19.814724…\n",
      "Model       :         2,288 µs\n",
      "Transmission:       516,312 µs\n",
      "==============================\n",
      "Total:              518,600 microseconds\n",
      "2024-12-05 03:12:19.824499: Creating the generic model…\n",
      "Initializing the generic model with 1 patches…\n",
      "2024-12-05 03:12:19.827463: Running the generic model for 730 ticks…\n"
     ]
    },
    {
     "name": "stderr",
     "output_type": "stream",
     "text": [
      "\n",
      "100%|██████████| 730/730 [00:00<00:00, 1081.36it/s]"
     ]
    },
    {
     "name": "stdout",
     "output_type": "stream",
     "text": [
      "Completed the generic model at 2024-12-05 03:12:20.506216…\n",
      "Model       :         3,215 µs\n",
      "Transmission:       658,170 µs\n",
      "==============================\n",
      "Total:              661,385 microseconds\n",
      "2024-12-05 03:12:20.516297: Creating the generic model…\n",
      "Initializing the generic model with 1 patches…\n",
      "2024-12-05 03:12:20.520507: Running the generic model for 730 ticks…\n"
     ]
    },
    {
     "name": "stderr",
     "output_type": "stream",
     "text": [
      "\n",
      "100%|██████████| 730/730 [00:00<00:00, 1077.70it/s]"
     ]
    },
    {
     "name": "stdout",
     "output_type": "stream",
     "text": [
      "Completed the generic model at 2024-12-05 03:12:21.202977…\n",
      "Model       :         2,386 µs\n",
      "Transmission:       664,733 µs\n",
      "==============================\n",
      "Total:              667,119 microseconds\n",
      "2024-12-05 03:12:21.213917: Creating the generic model…\n",
      "Initializing the generic model with 1 patches…\n",
      "2024-12-05 03:12:21.217884: Running the generic model for 730 ticks…\n"
     ]
    },
    {
     "name": "stderr",
     "output_type": "stream",
     "text": [
      "\n",
      "100%|██████████| 730/730 [00:00<00:00, 1285.50it/s]"
     ]
    },
    {
     "name": "stdout",
     "output_type": "stream",
     "text": [
      "Completed the generic model at 2024-12-05 03:12:21.790191…\n",
      "Model       :         2,341 µs\n",
      "Transmission:       554,809 µs\n",
      "==============================\n",
      "Total:              557,150 microseconds\n",
      "2024-12-05 03:12:21.801189: Creating the generic model…\n",
      "Initializing the generic model with 1 patches…\n",
      "2024-12-05 03:12:21.804370: Running the generic model for 730 ticks…\n"
     ]
    },
    {
     "name": "stderr",
     "output_type": "stream",
     "text": [
      "\n",
      "100%|██████████| 730/730 [00:00<00:00, 1135.02it/s]"
     ]
    },
    {
     "name": "stdout",
     "output_type": "stream",
     "text": [
      "Completed the generic model at 2024-12-05 03:12:22.452642…\n",
      "Model       :         2,990 µs\n",
      "Transmission:       624,541 µs\n",
      "==============================\n",
      "Total:              627,531 microseconds\n",
      "2024-12-05 03:12:22.462845: Creating the generic model…\n",
      "Initializing the generic model with 1 patches…\n",
      "2024-12-05 03:12:22.465967: Running the generic model for 730 ticks…\n"
     ]
    },
    {
     "name": "stderr",
     "output_type": "stream",
     "text": [
      "\n",
      "100%|██████████| 730/730 [00:00<00:00, 1201.68it/s]"
     ]
    },
    {
     "name": "stdout",
     "output_type": "stream",
     "text": [
      "Completed the generic model at 2024-12-05 03:12:23.078522…\n",
      "Model       :         2,393 µs\n",
      "Transmission:       591,549 µs\n",
      "==============================\n",
      "Total:              593,942 microseconds\n",
      "2024-12-05 03:12:23.089509: Creating the generic model…\n",
      "Initializing the generic model with 1 patches…\n",
      "2024-12-05 03:12:23.092217: Running the generic model for 730 ticks…\n"
     ]
    },
    {
     "name": "stderr",
     "output_type": "stream",
     "text": [
      "\n",
      "100%|██████████| 730/730 [00:00<00:00, 1683.86it/s]\n"
     ]
    },
    {
     "name": "stdout",
     "output_type": "stream",
     "text": [
      "Completed the generic model at 2024-12-05 03:12:23.531378…\n",
      "Model       :         2,201 µs\n",
      "Transmission:       422,595 µs\n",
      "==============================\n",
      "Total:              424,796 microseconds\n",
      "2024-12-05 03:12:23.542756: Creating the generic model…\n",
      "Initializing the generic model with 1 patches…\n",
      "2024-12-05 03:12:23.547276: Running the generic model for 730 ticks…\n"
     ]
    },
    {
     "name": "stderr",
     "output_type": "stream",
     "text": [
      "100%|██████████| 730/730 [00:00<00:00, 1717.07it/s]"
     ]
    },
    {
     "name": "stdout",
     "output_type": "stream",
     "text": [
      "Completed the generic model at 2024-12-05 03:12:23.975975…\n",
      "Model       :         2,307 µs\n",
      "Transmission:       414,930 µs\n",
      "==============================\n",
      "Total:              417,237 microseconds\n",
      "2024-12-05 03:12:23.988355: Creating the generic model…\n",
      "Initializing the generic model with 1 patches…\n",
      "2024-12-05 03:12:24.001231: Running the generic model for 730 ticks…\n"
     ]
    },
    {
     "name": "stderr",
     "output_type": "stream",
     "text": [
      "\n",
      "100%|██████████| 730/730 [00:00<00:00, 1428.86it/s]"
     ]
    },
    {
     "name": "stdout",
     "output_type": "stream",
     "text": [
      "Completed the generic model at 2024-12-05 03:12:24.518292…\n",
      "Model       :         2,322 µs\n",
      "Transmission:       491,025 µs\n",
      "==============================\n",
      "Total:              493,347 microseconds\n",
      "2024-12-05 03:12:24.529239: Creating the generic model…\n",
      "Initializing the generic model with 1 patches…\n",
      "2024-12-05 03:12:24.531725: Running the generic model for 730 ticks…\n"
     ]
    },
    {
     "name": "stderr",
     "output_type": "stream",
     "text": [
      "\n",
      "100%|██████████| 730/730 [00:00<00:00, 1726.30it/s]"
     ]
    },
    {
     "name": "stdout",
     "output_type": "stream",
     "text": [
      "Completed the generic model at 2024-12-05 03:12:24.957862…\n",
      "Model       :         2,257 µs\n",
      "Transmission:       413,763 µs\n",
      "==============================\n",
      "Total:              416,020 microseconds\n",
      "2024-12-05 03:12:24.968276: Creating the generic model…\n",
      "Initializing the generic model with 1 patches…\n",
      "2024-12-05 03:12:24.971130: Running the generic model for 730 ticks…\n"
     ]
    },
    {
     "name": "stderr",
     "output_type": "stream",
     "text": [
      "\n",
      "100%|██████████| 730/730 [00:00<00:00, 1180.49it/s]"
     ]
    },
    {
     "name": "stdout",
     "output_type": "stream",
     "text": [
      "Completed the generic model at 2024-12-05 03:12:25.593011…\n",
      "Model       :         2,307 µs\n",
      "Transmission:       603,969 µs\n",
      "==============================\n",
      "Total:              606,276 microseconds\n",
      "2024-12-05 03:12:25.603417: Creating the generic model…\n",
      "Initializing the generic model with 1 patches…\n",
      "2024-12-05 03:12:25.606850: Running the generic model for 730 ticks…\n"
     ]
    },
    {
     "name": "stderr",
     "output_type": "stream",
     "text": [
      "\n",
      "100%|██████████| 730/730 [00:00<00:00, 1086.29it/s]\n"
     ]
    },
    {
     "name": "stdout",
     "output_type": "stream",
     "text": [
      "Completed the generic model at 2024-12-05 03:12:26.283784…\n",
      "Model       :         2,420 µs\n",
      "Transmission:       660,700 µs\n",
      "==============================\n",
      "Total:              663,120 microseconds\n",
      "2024-12-05 03:12:26.294320: Creating the generic model…\n",
      "Initializing the generic model with 1 patches…\n",
      "2024-12-05 03:12:26.299583: Running the generic model for 730 ticks…\n"
     ]
    },
    {
     "name": "stderr",
     "output_type": "stream",
     "text": [
      "100%|██████████| 730/730 [00:00<00:00, 1276.76it/s]"
     ]
    },
    {
     "name": "stdout",
     "output_type": "stream",
     "text": [
      "Completed the generic model at 2024-12-05 03:12:26.875242…\n",
      "Model       :         2,511 µs\n",
      "Transmission:       544,291 µs\n",
      "==============================\n",
      "Total:              546,802 microseconds\n",
      "2024-12-05 03:12:26.897529: Creating the generic model…\n",
      "Initializing the generic model with 1 patches…\n",
      "2024-12-05 03:12:26.908349: Running the generic model for 730 ticks…\n"
     ]
    },
    {
     "name": "stderr",
     "output_type": "stream",
     "text": [
      "\n",
      "100%|██████████| 730/730 [00:00<00:00, 1132.05it/s]"
     ]
    },
    {
     "name": "stdout",
     "output_type": "stream",
     "text": [
      "Completed the generic model at 2024-12-05 03:12:27.556850…\n",
      "Model       :         2,417 µs\n",
      "Transmission:       627,864 µs\n",
      "==============================\n",
      "Total:              630,281 microseconds\n",
      "2024-12-05 03:12:27.567304: Creating the generic model…\n",
      "Initializing the generic model with 1 patches…\n",
      "2024-12-05 03:12:27.572340: Running the generic model for 730 ticks…\n"
     ]
    },
    {
     "name": "stderr",
     "output_type": "stream",
     "text": [
      "\n",
      "100%|██████████| 730/730 [00:00<00:00, 1304.02it/s]"
     ]
    },
    {
     "name": "stdout",
     "output_type": "stream",
     "text": [
      "Completed the generic model at 2024-12-05 03:12:28.142771…\n",
      "Model       :         2,443 µs\n",
      "Transmission:       539,486 µs\n",
      "==============================\n",
      "Total:              541,929 microseconds\n",
      "2024-12-05 03:12:28.162949: Creating the generic model…\n",
      "Initializing the generic model with 1 patches…\n",
      "2024-12-05 03:12:28.167847: Running the generic model for 730 ticks…\n"
     ]
    },
    {
     "name": "stderr",
     "output_type": "stream",
     "text": [
      "\n",
      "100%|██████████| 730/730 [00:00<00:00, 1518.19it/s]"
     ]
    },
    {
     "name": "stdout",
     "output_type": "stream",
     "text": [
      "Completed the generic model at 2024-12-05 03:12:28.652907…\n",
      "Model       :         2,363 µs\n",
      "Transmission:       467,522 µs\n",
      "==============================\n",
      "Total:              469,885 microseconds\n",
      "2024-12-05 03:12:28.663812: Creating the generic model…\n",
      "Initializing the generic model with 1 patches…\n",
      "2024-12-05 03:12:28.669467: Running the generic model for 730 ticks…\n"
     ]
    },
    {
     "name": "stderr",
     "output_type": "stream",
     "text": [
      "\n",
      "100%|██████████| 730/730 [00:00<00:00, 1913.19it/s]"
     ]
    },
    {
     "name": "stdout",
     "output_type": "stream",
     "text": [
      "Completed the generic model at 2024-12-05 03:12:29.054940…\n",
      "Model       :         2,231 µs\n",
      "Transmission:       371,056 µs\n",
      "==============================\n",
      "Total:              373,287 microseconds\n",
      "2024-12-05 03:12:29.064685: Creating the generic model…\n",
      "Initializing the generic model with 1 patches…\n",
      "2024-12-05 03:12:29.066668: Running the generic model for 730 ticks…\n"
     ]
    },
    {
     "name": "stderr",
     "output_type": "stream",
     "text": [
      "\n",
      "100%|██████████| 730/730 [00:00<00:00, 1996.10it/s]"
     ]
    },
    {
     "name": "stdout",
     "output_type": "stream",
     "text": [
      "Completed the generic model at 2024-12-05 03:12:29.436101…\n",
      "Model       :         2,201 µs\n",
      "Transmission:       356,903 µs\n",
      "==============================\n",
      "Total:              359,104 microseconds\n",
      "2024-12-05 03:12:29.447106: Creating the generic model…\n",
      "Initializing the generic model with 1 patches…\n",
      "2024-12-05 03:12:29.450651: Running the generic model for 730 ticks…\n"
     ]
    },
    {
     "name": "stderr",
     "output_type": "stream",
     "text": [
      "\n",
      "100%|██████████| 730/730 [00:00<00:00, 1863.86it/s]"
     ]
    },
    {
     "name": "stdout",
     "output_type": "stream",
     "text": [
      "Completed the generic model at 2024-12-05 03:12:29.847195…\n",
      "Model       :         2,254 µs\n",
      "Transmission:       380,680 µs\n",
      "==============================\n",
      "Total:              382,934 microseconds\n",
      "2024-12-05 03:12:29.858614: Creating the generic model…\n",
      "Initializing the generic model with 1 patches…\n",
      "2024-12-05 03:12:29.861030: Running the generic model for 730 ticks…\n"
     ]
    },
    {
     "name": "stderr",
     "output_type": "stream",
     "text": [
      "\n",
      "100%|██████████| 730/730 [00:00<00:00, 1207.02it/s]"
     ]
    },
    {
     "name": "stdout",
     "output_type": "stream",
     "text": [
      "Completed the generic model at 2024-12-05 03:12:30.472932…\n",
      "Model       :         2,395 µs\n",
      "Transmission:       592,070 µs\n",
      "==============================\n",
      "Total:              594,465 microseconds\n",
      "2024-12-05 03:12:30.483105: Creating the generic model…\n"
     ]
    },
    {
     "name": "stderr",
     "output_type": "stream",
     "text": [
      "\n"
     ]
    },
    {
     "name": "stdout",
     "output_type": "stream",
     "text": [
      "Initializing the generic model with 1 patches…\n",
      "2024-12-05 03:12:30.486850: Running the generic model for 730 ticks…\n"
     ]
    },
    {
     "name": "stderr",
     "output_type": "stream",
     "text": [
      "100%|██████████| 730/730 [00:00<00:00, 1939.27it/s]"
     ]
    },
    {
     "name": "stdout",
     "output_type": "stream",
     "text": [
      "Completed the generic model at 2024-12-05 03:12:30.867709…\n",
      "Model       :         2,138 µs\n",
      "Transmission:       365,904 µs\n",
      "==============================\n",
      "Total:              368,042 microseconds\n",
      "2024-12-05 03:12:30.877816: Creating the generic model…\n",
      "Initializing the generic model with 1 patches…\n",
      "2024-12-05 03:12:30.881365: Running the generic model for 730 ticks…\n"
     ]
    },
    {
     "name": "stderr",
     "output_type": "stream",
     "text": [
      "\n",
      "100%|██████████| 730/730 [00:00<00:00, 1904.80it/s]"
     ]
    },
    {
     "name": "stdout",
     "output_type": "stream",
     "text": [
      "Completed the generic model at 2024-12-05 03:12:31.269489…\n",
      "Model       :         2,201 µs\n",
      "Transmission:       369,953 µs\n",
      "==============================\n",
      "Total:              372,154 microseconds\n",
      "2024-12-05 03:12:31.279627: Creating the generic model…\n",
      "Initializing the generic model with 1 patches…\n",
      "2024-12-05 03:12:31.283402: Running the generic model for 730 ticks…\n"
     ]
    },
    {
     "name": "stderr",
     "output_type": "stream",
     "text": [
      "\n",
      "100%|██████████| 730/730 [00:00<00:00, 1961.86it/s]"
     ]
    },
    {
     "name": "stdout",
     "output_type": "stream",
     "text": [
      "Completed the generic model at 2024-12-05 03:12:31.660729…\n",
      "Model       :         2,097 µs\n",
      "Transmission:       361,728 µs\n",
      "==============================\n",
      "Total:              363,825 microseconds\n",
      "2024-12-05 03:12:31.671806: Creating the generic model…\n",
      "Initializing the generic model with 1 patches…\n",
      "2024-12-05 03:12:31.675199: Running the generic model for 730 ticks…\n"
     ]
    },
    {
     "name": "stderr",
     "output_type": "stream",
     "text": [
      "\n",
      "100%|██████████| 730/730 [00:00<00:00, 2141.61it/s]"
     ]
    },
    {
     "name": "stdout",
     "output_type": "stream",
     "text": [
      "Completed the generic model at 2024-12-05 03:12:32.022074…\n",
      "Model       :         2,201 µs\n",
      "Transmission:       330,070 µs\n",
      "==============================\n",
      "Total:              332,271 microseconds\n",
      "2024-12-05 03:12:32.031833: Creating the generic model…\n",
      "Initializing the generic model with 1 patches…\n",
      "2024-12-05 03:12:32.035306: Running the generic model for 730 ticks…\n"
     ]
    },
    {
     "name": "stderr",
     "output_type": "stream",
     "text": [
      "\n",
      "100%|██████████| 730/730 [00:00<00:00, 2103.95it/s]"
     ]
    },
    {
     "name": "stdout",
     "output_type": "stream",
     "text": [
      "Completed the generic model at 2024-12-05 03:12:32.389297…\n",
      "Model       :         2,169 µs\n",
      "Transmission:       333,498 µs\n",
      "==============================\n",
      "Total:              335,667 microseconds\n",
      "2024-12-05 03:12:32.399462: Creating the generic model…\n",
      "Initializing the generic model with 1 patches…\n",
      "2024-12-05 03:12:32.402971: Running the generic model for 730 ticks…\n"
     ]
    },
    {
     "name": "stderr",
     "output_type": "stream",
     "text": [
      "\n",
      "100%|██████████| 730/730 [00:00<00:00, 1781.00it/s]"
     ]
    },
    {
     "name": "stdout",
     "output_type": "stream",
     "text": [
      "Completed the generic model at 2024-12-05 03:12:32.816427…\n",
      "Model       :         2,177 µs\n",
      "Transmission:       399,505 µs\n",
      "==============================\n",
      "Total:              401,682 microseconds\n",
      "2024-12-05 03:12:32.827014: Creating the generic model…\n",
      "Initializing the generic model with 1 patches…\n",
      "2024-12-05 03:12:32.830265: Running the generic model for 730 ticks…\n"
     ]
    },
    {
     "name": "stderr",
     "output_type": "stream",
     "text": [
      "\n",
      "100%|██████████| 730/730 [00:00<00:00, 1782.30it/s]\n"
     ]
    },
    {
     "name": "stdout",
     "output_type": "stream",
     "text": [
      "Completed the generic model at 2024-12-05 03:12:33.244319…\n",
      "Model       :         2,153 µs\n",
      "Transmission:       396,599 µs\n",
      "==============================\n",
      "Total:              398,752 microseconds\n",
      "2024-12-05 03:12:33.259796: Creating the generic model…\n",
      "Initializing the generic model with 1 patches…\n",
      "2024-12-05 03:12:33.262061: Running the generic model for 730 ticks…\n"
     ]
    },
    {
     "name": "stderr",
     "output_type": "stream",
     "text": [
      "100%|██████████| 730/730 [00:00<00:00, 1674.00it/s]"
     ]
    },
    {
     "name": "stdout",
     "output_type": "stream",
     "text": [
      "Completed the generic model at 2024-12-05 03:12:33.701719…\n",
      "Model       :         2,282 µs\n",
      "Transmission:       426,598 µs\n",
      "==============================\n",
      "Total:              428,880 microseconds\n",
      "2024-12-05 03:12:33.711762: Creating the generic model…\n",
      "Initializing the generic model with 1 patches…\n",
      "2024-12-05 03:12:33.714731: Running the generic model for 730 ticks…\n"
     ]
    },
    {
     "name": "stderr",
     "output_type": "stream",
     "text": [
      "\n",
      "100%|██████████| 730/730 [00:00<00:00, 1807.64it/s]"
     ]
    },
    {
     "name": "stdout",
     "output_type": "stream",
     "text": [
      "Completed the generic model at 2024-12-05 03:12:34.122192…\n",
      "Model       :         2,105 µs\n",
      "Transmission:       394,676 µs\n",
      "==============================\n",
      "Total:              396,781 microseconds\n",
      "2024-12-05 03:12:34.133763: Creating the generic model…\n",
      "Initializing the generic model with 1 patches…\n",
      "2024-12-05 03:12:34.136482: Running the generic model for 730 ticks…\n"
     ]
    },
    {
     "name": "stderr",
     "output_type": "stream",
     "text": [
      "\n",
      "100%|██████████| 730/730 [00:00<00:00, 2044.56it/s]"
     ]
    },
    {
     "name": "stdout",
     "output_type": "stream",
     "text": [
      "Completed the generic model at 2024-12-05 03:12:34.497254…\n",
      "Model       :         2,151 µs\n",
      "Transmission:       348,150 µs\n",
      "==============================\n",
      "Total:              350,301 microseconds\n",
      "2024-12-05 03:12:34.507724: Creating the generic model…\n",
      "Initializing the generic model with 1 patches…\n",
      "2024-12-05 03:12:34.511037: Running the generic model for 730 ticks…\n"
     ]
    },
    {
     "name": "stderr",
     "output_type": "stream",
     "text": [
      "\n",
      "100%|██████████| 730/730 [00:00<00:00, 1750.88it/s]"
     ]
    },
    {
     "name": "stdout",
     "output_type": "stream",
     "text": [
      "Completed the generic model at 2024-12-05 03:12:34.931849…\n",
      "Model       :         2,211 µs\n",
      "Transmission:       405,419 µs\n",
      "==============================\n",
      "Total:              407,630 microseconds\n",
      "2024-12-05 03:12:34.943141: Creating the generic model…\n",
      "Initializing the generic model with 1 patches…\n",
      "2024-12-05 03:12:34.945979: Running the generic model for 730 ticks…\n"
     ]
    },
    {
     "name": "stderr",
     "output_type": "stream",
     "text": [
      "\n",
      "100%|██████████| 730/730 [00:00<00:00, 2334.39it/s]"
     ]
    },
    {
     "name": "stdout",
     "output_type": "stream",
     "text": [
      "Completed the generic model at 2024-12-05 03:12:35.262550…\n",
      "Model       :         2,075 µs\n",
      "Transmission:       303,708 µs\n",
      "==============================\n",
      "Total:              305,783 microseconds\n",
      "2024-12-05 03:12:35.274587: Creating the generic model…\n",
      "Initializing the generic model with 1 patches…\n",
      "2024-12-05 03:12:35.277285: Running the generic model for 730 ticks…\n"
     ]
    },
    {
     "name": "stderr",
     "output_type": "stream",
     "text": [
      "\n",
      "100%|██████████| 730/730 [00:00<00:00, 1854.71it/s]"
     ]
    },
    {
     "name": "stdout",
     "output_type": "stream",
     "text": [
      "Completed the generic model at 2024-12-05 03:12:35.676382…\n",
      "Model       :         2,142 µs\n",
      "Transmission:       380,858 µs\n",
      "==============================\n",
      "Total:              383,000 microseconds\n",
      "2024-12-05 03:12:35.686923: Creating the generic model…\n",
      "Initializing the generic model with 1 patches…\n",
      "2024-12-05 03:12:35.690001: Running the generic model for 730 ticks…\n"
     ]
    },
    {
     "name": "stderr",
     "output_type": "stream",
     "text": [
      "\n",
      "100%|██████████| 730/730 [00:00<00:00, 2279.77it/s]"
     ]
    },
    {
     "name": "stdout",
     "output_type": "stream",
     "text": [
      "Completed the generic model at 2024-12-05 03:12:36.014468…\n",
      "Model       :         2,535 µs\n",
      "Transmission:       309,614 µs\n",
      "==============================\n",
      "Total:              312,149 microseconds\n",
      "2024-12-05 03:12:36.024533: Creating the generic model…\n",
      "Initializing the generic model with 1 patches…\n",
      "2024-12-05 03:12:36.027867: Running the generic model for 730 ticks…\n"
     ]
    },
    {
     "name": "stderr",
     "output_type": "stream",
     "text": [
      "\n",
      "100%|██████████| 730/730 [00:00<00:00, 2271.23it/s]"
     ]
    },
    {
     "name": "stdout",
     "output_type": "stream",
     "text": [
      "Completed the generic model at 2024-12-05 03:12:36.353126…\n",
      "Model       :         2,191 µs\n",
      "Transmission:       312,118 µs\n",
      "==============================\n",
      "Total:              314,309 microseconds\n",
      "2024-12-05 03:12:36.364364: Creating the generic model…\n",
      "Initializing the generic model with 1 patches…\n",
      "2024-12-05 03:12:36.367062: Running the generic model for 730 ticks…\n"
     ]
    },
    {
     "name": "stderr",
     "output_type": "stream",
     "text": [
      "\n",
      "100%|██████████| 730/730 [00:00<00:00, 2087.86it/s]"
     ]
    },
    {
     "name": "stdout",
     "output_type": "stream",
     "text": [
      "Completed the generic model at 2024-12-05 03:12:36.721233…\n",
      "Model       :         7,501 µs\n",
      "Transmission:       335,419 µs\n",
      "==============================\n",
      "Total:              342,920 microseconds\n",
      "2024-12-05 03:12:36.731630: Creating the generic model…\n",
      "Initializing the generic model with 1 patches…\n",
      "2024-12-05 03:12:36.734585: Running the generic model for 730 ticks…\n"
     ]
    },
    {
     "name": "stderr",
     "output_type": "stream",
     "text": [
      "\n",
      "100%|██████████| 730/730 [00:00<00:00, 2515.15it/s]\n"
     ]
    },
    {
     "name": "stdout",
     "output_type": "stream",
     "text": [
      "Completed the generic model at 2024-12-05 03:12:37.029608…\n",
      "Model       :         2,039 µs\n",
      "Transmission:       282,289 µs\n",
      "==============================\n",
      "Total:              284,328 microseconds\n",
      "2024-12-05 03:12:37.046662: Creating the generic model…\n",
      "Initializing the generic model with 1 patches…\n",
      "2024-12-05 03:12:37.049063: Running the generic model for 730 ticks…\n"
     ]
    },
    {
     "name": "stderr",
     "output_type": "stream",
     "text": [
      "100%|██████████| 730/730 [00:00<00:00, 1468.20it/s]"
     ]
    },
    {
     "name": "stdout",
     "output_type": "stream",
     "text": [
      "Completed the generic model at 2024-12-05 03:12:37.549816…\n",
      "Model       :         2,397 µs\n",
      "Transmission:       484,044 µs\n",
      "==============================\n",
      "Total:              486,441 microseconds\n",
      "2024-12-05 03:12:37.560098: Creating the generic model…\n",
      "Initializing the generic model with 1 patches…\n",
      "2024-12-05 03:12:37.562773: Running the generic model for 730 ticks…\n"
     ]
    },
    {
     "name": "stderr",
     "output_type": "stream",
     "text": [
      "\n",
      "100%|██████████| 730/730 [00:00<00:00, 2554.23it/s]"
     ]
    },
    {
     "name": "stdout",
     "output_type": "stream",
     "text": [
      "Completed the generic model at 2024-12-05 03:12:37.852888…\n",
      "Model       :         2,009 µs\n",
      "Transmission:       277,995 µs\n",
      "==============================\n",
      "Total:              280,004 microseconds\n",
      "2024-12-05 03:12:37.862964: Creating the generic model…\n",
      "Initializing the generic model with 1 patches…\n",
      "2024-12-05 03:12:37.866200: Running the generic model for 730 ticks…\n"
     ]
    },
    {
     "name": "stderr",
     "output_type": "stream",
     "text": [
      "\n",
      "100%|██████████| 730/730 [00:00<00:00, 2272.55it/s]"
     ]
    },
    {
     "name": "stdout",
     "output_type": "stream",
     "text": [
      "Completed the generic model at 2024-12-05 03:12:38.191392…\n",
      "Model       :         2,022 µs\n",
      "Transmission:       311,139 µs\n",
      "==============================\n",
      "Total:              313,161 microseconds\n",
      "2024-12-05 03:12:38.201525: Creating the generic model…\n",
      "Initializing the generic model with 1 patches…\n",
      "2024-12-05 03:12:38.204627: Running the generic model for 730 ticks…\n"
     ]
    },
    {
     "name": "stderr",
     "output_type": "stream",
     "text": [
      "\n",
      "100%|██████████| 730/730 [00:00<00:00, 2143.39it/s]"
     ]
    },
    {
     "name": "stdout",
     "output_type": "stream",
     "text": [
      "Completed the generic model at 2024-12-05 03:12:38.550326…\n",
      "Model       :         2,179 µs\n",
      "Transmission:       329,952 µs\n",
      "==============================\n",
      "Total:              332,131 microseconds\n",
      "2024-12-05 03:12:38.561584: Creating the generic model…\n",
      "Initializing the generic model with 1 patches…\n",
      "2024-12-05 03:12:38.565253: Running the generic model for 730 ticks…\n"
     ]
    },
    {
     "name": "stderr",
     "output_type": "stream",
     "text": [
      "\n",
      "100%|██████████| 730/730 [00:00<00:00, 2242.52it/s]"
     ]
    },
    {
     "name": "stdout",
     "output_type": "stream",
     "text": [
      "Completed the generic model at 2024-12-05 03:12:38.895733…\n",
      "Model       :         2,226 µs\n",
      "Transmission:       317,187 µs\n",
      "==============================\n",
      "Total:              319,413 microseconds\n",
      "2024-12-05 03:12:38.907103: Creating the generic model…\n",
      "Initializing the generic model with 1 patches…\n",
      "2024-12-05 03:12:38.909635: Running the generic model for 730 ticks…\n"
     ]
    },
    {
     "name": "stderr",
     "output_type": "stream",
     "text": [
      "\n",
      "100%|██████████| 730/730 [00:00<00:00, 1869.11it/s]"
     ]
    },
    {
     "name": "stdout",
     "output_type": "stream",
     "text": [
      "Completed the generic model at 2024-12-05 03:12:39.305368…\n",
      "Model       :         2,228 µs\n",
      "Transmission:       381,433 µs\n",
      "==============================\n",
      "Total:              383,661 microseconds\n",
      "2024-12-05 03:12:39.316165: Creating the generic model…\n",
      "Initializing the generic model with 1 patches…\n",
      "2024-12-05 03:12:39.318490: Running the generic model for 730 ticks…\n"
     ]
    },
    {
     "name": "stderr",
     "output_type": "stream",
     "text": [
      "\n",
      "100%|██████████| 730/730 [00:00<00:00, 1978.29it/s]"
     ]
    },
    {
     "name": "stdout",
     "output_type": "stream",
     "text": [
      "Completed the generic model at 2024-12-05 03:12:39.690960…\n",
      "Model       :         2,267 µs\n",
      "Transmission:       355,468 µs\n",
      "==============================\n",
      "Total:              357,735 microseconds\n",
      "2024-12-05 03:12:39.701009: Creating the generic model…\n",
      "Initializing the generic model with 1 patches…\n",
      "2024-12-05 03:12:39.704620: Running the generic model for 730 ticks…\n"
     ]
    },
    {
     "name": "stderr",
     "output_type": "stream",
     "text": [
      "\n",
      "100%|██████████| 730/730 [00:00<00:00, 2539.91it/s]"
     ]
    },
    {
     "name": "stdout",
     "output_type": "stream",
     "text": [
      "Completed the generic model at 2024-12-05 03:12:39.995665…\n",
      "Model       :         2,053 µs\n",
      "Transmission:       279,140 µs\n",
      "==============================\n",
      "Total:              281,193 microseconds\n",
      "2024-12-05 03:12:40.006449: Creating the generic model…\n",
      "Initializing the generic model with 1 patches…\n"
     ]
    },
    {
     "name": "stderr",
     "output_type": "stream",
     "text": [
      "\n"
     ]
    },
    {
     "name": "stdout",
     "output_type": "stream",
     "text": [
      "2024-12-05 03:12:40.009613: Running the generic model for 730 ticks…\n"
     ]
    },
    {
     "name": "stderr",
     "output_type": "stream",
     "text": [
      "100%|██████████| 730/730 [00:00<00:00, 2496.86it/s]\n"
     ]
    },
    {
     "name": "stdout",
     "output_type": "stream",
     "text": [
      "Completed the generic model at 2024-12-05 03:12:40.305855…\n",
      "Model       :         2,125 µs\n",
      "Transmission:       284,566 µs\n",
      "==============================\n",
      "Total:              286,691 microseconds\n",
      "2024-12-05 03:12:40.319266: Creating the generic model…\n",
      "Initializing the generic model with 1 patches…\n",
      "2024-12-05 03:12:40.321474: Running the generic model for 730 ticks…\n"
     ]
    },
    {
     "name": "stderr",
     "output_type": "stream",
     "text": [
      "100%|██████████| 730/730 [00:00<00:00, 1744.19it/s]"
     ]
    },
    {
     "name": "stdout",
     "output_type": "stream",
     "text": [
      "Completed the generic model at 2024-12-05 03:12:40.743564…\n",
      "Model       :         2,414 µs\n",
      "Transmission:       407,967 µs\n",
      "==============================\n",
      "Total:              410,381 microseconds\n",
      "2024-12-05 03:12:40.753876: Creating the generic model…\n",
      "Initializing the generic model with 1 patches…\n",
      "2024-12-05 03:12:40.758282: Running the generic model for 730 ticks…\n"
     ]
    },
    {
     "name": "stderr",
     "output_type": "stream",
     "text": [
      "\n",
      "100%|██████████| 730/730 [00:00<00:00, 2089.38it/s]"
     ]
    },
    {
     "name": "stdout",
     "output_type": "stream",
     "text": [
      "Completed the generic model at 2024-12-05 03:12:41.112221…\n",
      "Model       :         2,079 µs\n",
      "Transmission:       339,843 µs\n",
      "==============================\n",
      "Total:              341,922 microseconds\n",
      "2024-12-05 03:12:41.122582: Creating the generic model…\n",
      "Initializing the generic model with 1 patches…\n",
      "2024-12-05 03:12:41.127312: Running the generic model for 730 ticks…\n"
     ]
    },
    {
     "name": "stderr",
     "output_type": "stream",
     "text": [
      "\n",
      "100%|██████████| 730/730 [00:00<00:00, 2488.26it/s]\n"
     ]
    },
    {
     "name": "stdout",
     "output_type": "stream",
     "text": [
      "Completed the generic model at 2024-12-05 03:12:41.423640…\n",
      "Model       :         2,032 µs\n",
      "Transmission:       286,424 µs\n",
      "==============================\n",
      "Total:              288,456 microseconds\n",
      "2024-12-05 03:12:41.435634: Creating the generic model…\n",
      "Initializing the generic model with 1 patches…\n",
      "2024-12-05 03:12:41.437654: Running the generic model for 730 ticks…\n"
     ]
    },
    {
     "name": "stderr",
     "output_type": "stream",
     "text": [
      "100%|██████████| 730/730 [00:00<00:00, 2968.54it/s]"
     ]
    },
    {
     "name": "stdout",
     "output_type": "stream",
     "text": [
      "Completed the generic model at 2024-12-05 03:12:41.686004…\n",
      "Model       :         1,991 µs\n",
      "Transmission:       239,152 µs\n",
      "==============================\n",
      "Total:              241,143 microseconds\n",
      "2024-12-05 03:12:41.697197: Creating the generic model…\n",
      "Initializing the generic model with 1 patches…\n",
      "2024-12-05 03:12:41.700551: Running the generic model for 730 ticks…\n"
     ]
    },
    {
     "name": "stderr",
     "output_type": "stream",
     "text": [
      "\n",
      "100%|██████████| 730/730 [00:00<00:00, 2836.80it/s]"
     ]
    },
    {
     "name": "stdout",
     "output_type": "stream",
     "text": [
      "Completed the generic model at 2024-12-05 03:12:41.962239…\n",
      "Model       :         1,927 µs\n",
      "Transmission:       248,998 µs\n",
      "==============================\n",
      "Total:              250,925 microseconds\n",
      "2024-12-05 03:12:41.972771: Creating the generic model…\n",
      "Initializing the generic model with 1 patches…\n",
      "2024-12-05 03:12:41.977392: Running the generic model for 730 ticks…\n"
     ]
    },
    {
     "name": "stderr",
     "output_type": "stream",
     "text": [
      "\n",
      "100%|██████████| 730/730 [00:00<00:00, 2671.26it/s]"
     ]
    },
    {
     "name": "stdout",
     "output_type": "stream",
     "text": [
      "Completed the generic model at 2024-12-05 03:12:42.255603…\n",
      "Model       :         2,120 µs\n",
      "Transmission:       264,574 µs\n",
      "==============================\n",
      "Total:              266,694 microseconds\n",
      "2024-12-05 03:12:42.267776: Creating the generic model…\n",
      "Initializing the generic model with 1 patches…\n",
      "2024-12-05 03:12:42.275684: Running the generic model for 730 ticks…\n"
     ]
    },
    {
     "name": "stderr",
     "output_type": "stream",
     "text": [
      "\n",
      "100%|██████████| 730/730 [00:00<00:00, 2113.45it/s]"
     ]
    },
    {
     "name": "stdout",
     "output_type": "stream",
     "text": [
      "Completed the generic model at 2024-12-05 03:12:42.624611…\n",
      "Model       :         2,083 µs\n",
      "Transmission:       335,250 µs\n",
      "==============================\n",
      "Total:              337,333 microseconds\n",
      "2024-12-05 03:12:42.635315: Creating the generic model…\n",
      "Initializing the generic model with 1 patches…\n",
      "2024-12-05 03:12:42.637894: Running the generic model for 730 ticks…\n"
     ]
    },
    {
     "name": "stderr",
     "output_type": "stream",
     "text": [
      "\n",
      "100%|██████████| 730/730 [00:00<00:00, 2049.19it/s]"
     ]
    },
    {
     "name": "stdout",
     "output_type": "stream",
     "text": [
      "Completed the generic model at 2024-12-05 03:12:42.997889…\n",
      "Model       :         7,913 µs\n",
      "Transmission:       340,866 µs\n",
      "==============================\n",
      "Total:              348,779 microseconds\n",
      "2024-12-05 03:12:43.008700: Creating the generic model…\n",
      "Initializing the generic model with 1 patches…\n",
      "2024-12-05 03:12:43.012096: Running the generic model for 730 ticks…\n"
     ]
    },
    {
     "name": "stderr",
     "output_type": "stream",
     "text": [
      "\n",
      "100%|██████████| 730/730 [00:00<00:00, 2502.29it/s]\n"
     ]
    },
    {
     "name": "stdout",
     "output_type": "stream",
     "text": [
      "Completed the generic model at 2024-12-05 03:12:43.308687…\n",
      "Model       :         2,186 µs\n",
      "Transmission:       281,829 µs\n",
      "==============================\n",
      "Total:              284,015 microseconds\n",
      "2024-12-05 03:12:43.331582: Creating the generic model…\n",
      "Initializing the generic model with 1 patches…\n",
      "2024-12-05 03:12:43.333867: Running the generic model for 730 ticks…\n"
     ]
    },
    {
     "name": "stderr",
     "output_type": "stream",
     "text": [
      "100%|██████████| 730/730 [00:00<00:00, 2638.06it/s]"
     ]
    },
    {
     "name": "stdout",
     "output_type": "stream",
     "text": [
      "Completed the generic model at 2024-12-05 03:12:43.615799…\n",
      "Model       :         2,097 µs\n",
      "Transmission:       269,445 µs\n",
      "==============================\n",
      "Total:              271,542 microseconds\n",
      "2024-12-05 03:12:43.627086: Creating the generic model…\n",
      "Initializing the generic model with 1 patches…\n",
      "2024-12-05 03:12:43.629811: Running the generic model for 730 ticks…\n"
     ]
    },
    {
     "name": "stderr",
     "output_type": "stream",
     "text": [
      "\n",
      "100%|██████████| 730/730 [00:00<00:00, 2535.15it/s]"
     ]
    },
    {
     "name": "stdout",
     "output_type": "stream",
     "text": [
      "Completed the generic model at 2024-12-05 03:12:43.922172…\n",
      "Model       :         2,091 µs\n",
      "Transmission:       279,471 µs\n",
      "==============================\n",
      "Total:              281,562 microseconds\n",
      "2024-12-05 03:12:43.933241: Creating the generic model…\n",
      "Initializing the generic model with 1 patches…\n"
     ]
    },
    {
     "name": "stderr",
     "output_type": "stream",
     "text": [
      "\n"
     ]
    },
    {
     "name": "stdout",
     "output_type": "stream",
     "text": [
      "2024-12-05 03:12:43.936434: Running the generic model for 730 ticks…\n"
     ]
    },
    {
     "name": "stderr",
     "output_type": "stream",
     "text": [
      "100%|██████████| 730/730 [00:00<00:00, 2456.27it/s]\n"
     ]
    },
    {
     "name": "stdout",
     "output_type": "stream",
     "text": [
      "Completed the generic model at 2024-12-05 03:12:44.237375…\n",
      "Model       :         2,030 µs\n",
      "Transmission:       288,634 µs\n",
      "==============================\n",
      "Total:              290,664 microseconds\n",
      "2024-12-05 03:12:44.249818: Creating the generic model…\n",
      "Initializing the generic model with 1 patches…\n",
      "2024-12-05 03:12:44.252294: Running the generic model for 730 ticks…\n"
     ]
    },
    {
     "name": "stderr",
     "output_type": "stream",
     "text": [
      "100%|██████████| 730/730 [00:00<00:00, 2244.87it/s]"
     ]
    },
    {
     "name": "stdout",
     "output_type": "stream",
     "text": [
      "Completed the generic model at 2024-12-05 03:12:44.580672…\n",
      "Model       :         2,189 µs\n",
      "Transmission:       314,927 µs\n",
      "==============================\n",
      "Total:              317,116 microseconds\n",
      "2024-12-05 03:12:44.593446: Creating the generic model…\n",
      "Initializing the generic model with 1 patches…\n",
      "2024-12-05 03:12:44.597693: Running the generic model for 730 ticks…\n"
     ]
    },
    {
     "name": "stderr",
     "output_type": "stream",
     "text": [
      "\n",
      "100%|██████████| 730/730 [00:00<00:00, 2706.49it/s]"
     ]
    },
    {
     "name": "stdout",
     "output_type": "stream",
     "text": [
      "Completed the generic model at 2024-12-05 03:12:44.872461…\n",
      "Model       :         1,981 µs\n",
      "Transmission:       257,352 µs\n",
      "==============================\n",
      "Total:              259,333 microseconds\n",
      "2024-12-05 03:12:44.893465: Creating the generic model…\n"
     ]
    },
    {
     "name": "stderr",
     "output_type": "stream",
     "text": [
      "\n"
     ]
    },
    {
     "name": "stdout",
     "output_type": "stream",
     "text": [
      "Initializing the generic model with 1 patches…\n",
      "2024-12-05 03:12:44.911790: Running the generic model for 730 ticks…\n"
     ]
    },
    {
     "name": "stderr",
     "output_type": "stream",
     "text": [
      "100%|██████████| 730/730 [00:00<00:00, 2291.50it/s]"
     ]
    },
    {
     "name": "stdout",
     "output_type": "stream",
     "text": [
      "Completed the generic model at 2024-12-05 03:12:45.235604…\n",
      "Model       :         2,153 µs\n",
      "Transmission:       308,813 µs\n",
      "==============================\n",
      "Total:              310,966 microseconds\n",
      "2024-12-05 03:12:45.252997: Creating the generic model…\n",
      "Initializing the generic model with 1 patches…\n",
      "2024-12-05 03:12:45.255507: Running the generic model for 730 ticks…\n"
     ]
    },
    {
     "name": "stderr",
     "output_type": "stream",
     "text": [
      "\n",
      "100%|██████████| 730/730 [00:00<00:00, 2606.14it/s]"
     ]
    },
    {
     "name": "stdout",
     "output_type": "stream",
     "text": [
      "Completed the generic model at 2024-12-05 03:12:45.541953…\n",
      "Model       :         2,031 µs\n",
      "Transmission:       271,548 µs\n",
      "==============================\n",
      "Total:              273,579 microseconds\n",
      "2024-12-05 03:12:45.554303: Creating the generic model…\n",
      "Initializing the generic model with 1 patches…\n",
      "2024-12-05 03:12:45.557026: Running the generic model for 730 ticks…\n"
     ]
    },
    {
     "name": "stderr",
     "output_type": "stream",
     "text": [
      "\n",
      "100%|██████████| 730/730 [00:00<00:00, 2149.71it/s]"
     ]
    },
    {
     "name": "stdout",
     "output_type": "stream",
     "text": [
      "Completed the generic model at 2024-12-05 03:12:45.902008…\n",
      "Model       :         2,268 µs\n",
      "Transmission:       327,248 µs\n",
      "==============================\n",
      "Total:              329,516 microseconds\n",
      "2024-12-05 03:12:45.913717: Creating the generic model…\n",
      "Initializing the generic model with 1 patches…\n",
      "2024-12-05 03:12:45.919322: Running the generic model for 730 ticks…\n"
     ]
    },
    {
     "name": "stderr",
     "output_type": "stream",
     "text": [
      "\n",
      "100%|██████████| 730/730 [00:00<00:00, 2822.09it/s]"
     ]
    },
    {
     "name": "stdout",
     "output_type": "stream",
     "text": [
      "Completed the generic model at 2024-12-05 03:12:46.183026…\n",
      "Model       :         2,062 µs\n",
      "Transmission:       250,636 µs\n",
      "==============================\n",
      "Total:              252,698 microseconds\n",
      "2024-12-05 03:12:46.194992: Creating the generic model…\n",
      "Initializing the generic model with 1 patches…\n",
      "2024-12-05 03:12:46.197910: Running the generic model for 730 ticks…\n"
     ]
    },
    {
     "name": "stderr",
     "output_type": "stream",
     "text": [
      "\n",
      "100%|██████████| 730/730 [00:00<00:00, 2549.70it/s]"
     ]
    },
    {
     "name": "stdout",
     "output_type": "stream",
     "text": [
      "Completed the generic model at 2024-12-05 03:12:46.488043…\n",
      "Model       :         2,100 µs\n",
      "Transmission:       278,936 µs\n",
      "==============================\n",
      "Total:              281,036 microseconds\n",
      "2024-12-05 03:12:46.499496: Creating the generic model…\n",
      "Initializing the generic model with 1 patches…\n"
     ]
    },
    {
     "name": "stderr",
     "output_type": "stream",
     "text": [
      "\n"
     ]
    },
    {
     "name": "stdout",
     "output_type": "stream",
     "text": [
      "2024-12-05 03:12:46.502094: Running the generic model for 730 ticks…\n"
     ]
    },
    {
     "name": "stderr",
     "output_type": "stream",
     "text": [
      "100%|██████████| 730/730 [00:00<00:00, 2796.25it/s]"
     ]
    },
    {
     "name": "stdout",
     "output_type": "stream",
     "text": [
      "Completed the generic model at 2024-12-05 03:12:46.767347…\n",
      "Model       :         2,092 µs\n",
      "Transmission:       252,387 µs\n",
      "==============================\n",
      "Total:              254,479 microseconds\n",
      "2024-12-05 03:12:46.778200: Creating the generic model…\n",
      "Initializing the generic model with 1 patches…\n",
      "2024-12-05 03:12:46.780976: Running the generic model for 730 ticks…\n"
     ]
    },
    {
     "name": "stderr",
     "output_type": "stream",
     "text": [
      "\n",
      "100%|██████████| 730/730 [00:00<00:00, 2938.03it/s]"
     ]
    },
    {
     "name": "stdout",
     "output_type": "stream",
     "text": [
      "Completed the generic model at 2024-12-05 03:12:47.033650…\n",
      "Model       :         2,095 µs\n",
      "Transmission:       240,024 µs\n",
      "==============================\n",
      "Total:              242,119 microseconds\n",
      "2024-12-05 03:12:47.045382: Creating the generic model…\n",
      "Initializing the generic model with 1 patches…\n",
      "2024-12-05 03:12:47.048416: Running the generic model for 730 ticks…\n"
     ]
    },
    {
     "name": "stderr",
     "output_type": "stream",
     "text": [
      "\n",
      "100%|██████████| 730/730 [00:00<00:00, 2414.12it/s]\n"
     ]
    },
    {
     "name": "stdout",
     "output_type": "stream",
     "text": [
      "Completed the generic model at 2024-12-05 03:12:47.359719…\n",
      "Model       :         2,093 µs\n",
      "Transmission:       294,645 µs\n",
      "==============================\n",
      "Total:              296,738 microseconds\n",
      "2024-12-05 03:12:47.371455: Creating the generic model…\n",
      "Initializing the generic model with 1 patches…\n",
      "2024-12-05 03:12:47.375309: Running the generic model for 730 ticks…\n"
     ]
    },
    {
     "name": "stderr",
     "output_type": "stream",
     "text": [
      "100%|██████████| 730/730 [00:00<00:00, 1530.25it/s]"
     ]
    },
    {
     "name": "stdout",
     "output_type": "stream",
     "text": [
      "Completed the generic model at 2024-12-05 03:12:47.856524…\n",
      "Model       :         2,328 µs\n",
      "Transmission:       464,711 µs\n",
      "==============================\n",
      "Total:              467,039 microseconds\n",
      "2024-12-05 03:12:47.867544: Creating the generic model…\n",
      "Initializing the generic model with 1 patches…\n",
      "2024-12-05 03:12:47.870653: Running the generic model for 730 ticks…\n"
     ]
    },
    {
     "name": "stderr",
     "output_type": "stream",
     "text": [
      "\n",
      "100%|██████████| 730/730 [00:00<00:00, 3002.14it/s]"
     ]
    },
    {
     "name": "stdout",
     "output_type": "stream",
     "text": [
      "Completed the generic model at 2024-12-05 03:12:48.116806…\n",
      "Model       :         2,003 µs\n",
      "Transmission:       235,982 µs\n",
      "==============================\n",
      "Total:              237,985 microseconds\n",
      "2024-12-05 03:12:48.128501: Creating the generic model…\n",
      "Initializing the generic model with 1 patches…\n",
      "2024-12-05 03:12:48.131658: Running the generic model for 730 ticks…\n"
     ]
    },
    {
     "name": "stderr",
     "output_type": "stream",
     "text": [
      "\n",
      "100%|██████████| 730/730 [00:00<00:00, 2476.97it/s]\n"
     ]
    },
    {
     "name": "stdout",
     "output_type": "stream",
     "text": [
      "Completed the generic model at 2024-12-05 03:12:48.431576…\n",
      "Model       :         2,071 µs\n",
      "Transmission:       284,205 µs\n",
      "==============================\n",
      "Total:              286,276 microseconds\n",
      "2024-12-05 03:12:48.448209: Creating the generic model…\n",
      "Initializing the generic model with 1 patches…\n",
      "2024-12-05 03:12:48.456068: Running the generic model for 730 ticks…\n"
     ]
    },
    {
     "name": "stderr",
     "output_type": "stream",
     "text": [
      "100%|██████████| 730/730 [00:00<00:00, 2658.86it/s]"
     ]
    },
    {
     "name": "stdout",
     "output_type": "stream",
     "text": [
      "Completed the generic model at 2024-12-05 03:12:48.733842…\n",
      "Model       :         2,059 µs\n",
      "Transmission:       266,336 µs\n",
      "==============================\n",
      "Total:              268,395 microseconds\n",
      "2024-12-05 03:12:48.745044: Creating the generic model…\n",
      "Initializing the generic model with 1 patches…\n",
      "2024-12-05 03:12:48.747850: Running the generic model for 730 ticks…\n"
     ]
    },
    {
     "name": "stderr",
     "output_type": "stream",
     "text": [
      "\n",
      "100%|██████████| 730/730 [00:00<00:00, 3228.02it/s]"
     ]
    },
    {
     "name": "stdout",
     "output_type": "stream",
     "text": [
      "Completed the generic model at 2024-12-05 03:12:48.978165…\n",
      "Model       :         1,931 µs\n",
      "Transmission:       217,714 µs\n",
      "==============================\n",
      "Total:              219,645 microseconds\n",
      "2024-12-05 03:12:48.989569: Creating the generic model…\n",
      "Initializing the generic model with 1 patches…\n",
      "2024-12-05 03:12:48.992007: Running the generic model for 730 ticks…\n"
     ]
    },
    {
     "name": "stderr",
     "output_type": "stream",
     "text": [
      "\n",
      "100%|██████████| 730/730 [00:00<00:00, 2575.11it/s]\n"
     ]
    },
    {
     "name": "stdout",
     "output_type": "stream",
     "text": [
      "Completed the generic model at 2024-12-05 03:12:49.286059…\n",
      "Model       :         2,060 µs\n",
      "Transmission:       271,120 µs\n",
      "==============================\n",
      "Total:              273,180 microseconds\n",
      "2024-12-05 03:12:49.301240: Creating the generic model…\n",
      "Initializing the generic model with 1 patches…\n",
      "2024-12-05 03:12:49.303906: Running the generic model for 730 ticks…\n"
     ]
    },
    {
     "name": "stderr",
     "output_type": "stream",
     "text": [
      "100%|██████████| 730/730 [00:00<00:00, 2821.02it/s]"
     ]
    },
    {
     "name": "stdout",
     "output_type": "stream",
     "text": [
      "Completed the generic model at 2024-12-05 03:12:49.565629…\n",
      "Model       :         2,057 µs\n",
      "Transmission:       251,128 µs\n",
      "==============================\n",
      "Total:              253,185 microseconds\n",
      "2024-12-05 03:12:49.579294: Creating the generic model…\n",
      "Initializing the generic model with 1 patches…\n",
      "2024-12-05 03:12:49.582606: Running the generic model for 730 ticks…\n"
     ]
    },
    {
     "name": "stderr",
     "output_type": "stream",
     "text": [
      "\n",
      "100%|██████████| 730/730 [00:00<00:00, 2941.19it/s]"
     ]
    },
    {
     "name": "stdout",
     "output_type": "stream",
     "text": [
      "Completed the generic model at 2024-12-05 03:12:49.834398…\n",
      "Model       :         2,020 µs\n",
      "Transmission:       240,312 µs\n",
      "==============================\n",
      "Total:              242,332 microseconds\n",
      "2024-12-05 03:12:49.846944: Creating the generic model…\n",
      "Initializing the generic model with 1 patches…\n",
      "2024-12-05 03:12:49.853109: Running the generic model for 730 ticks…\n"
     ]
    },
    {
     "name": "stderr",
     "output_type": "stream",
     "text": [
      "\n",
      "100%|██████████| 730/730 [00:00<00:00, 2296.00it/s]"
     ]
    },
    {
     "name": "stdout",
     "output_type": "stream",
     "text": [
      "Completed the generic model at 2024-12-05 03:12:50.174432…\n",
      "Model       :         2,097 µs\n",
      "Transmission:       308,432 µs\n",
      "==============================\n",
      "Total:              310,529 microseconds\n",
      "2024-12-05 03:12:50.185864: Creating the generic model…\n",
      "Initializing the generic model with 1 patches…\n",
      "2024-12-05 03:12:50.188309: Running the generic model for 730 ticks…\n"
     ]
    },
    {
     "name": "stderr",
     "output_type": "stream",
     "text": [
      "\n",
      "100%|██████████| 730/730 [00:00<00:00, 2321.58it/s]"
     ]
    },
    {
     "name": "stdout",
     "output_type": "stream",
     "text": [
      "Completed the generic model at 2024-12-05 03:12:50.506248…\n",
      "Model       :         2,074 µs\n",
      "Transmission:       303,993 µs\n",
      "==============================\n",
      "Total:              306,067 microseconds\n",
      "2024-12-05 03:12:50.527851: Creating the generic model…\n",
      "Initializing the generic model with 1 patches…\n",
      "2024-12-05 03:12:50.530556: Running the generic model for 730 ticks…\n"
     ]
    },
    {
     "name": "stderr",
     "output_type": "stream",
     "text": [
      "\n",
      "100%|██████████| 730/730 [00:00<00:00, 3076.46it/s]"
     ]
    },
    {
     "name": "stdout",
     "output_type": "stream",
     "text": [
      "Completed the generic model at 2024-12-05 03:12:50.772048…\n",
      "Model       :         2,024 µs\n",
      "Transmission:       228,730 µs\n",
      "==============================\n",
      "Total:              230,754 microseconds\n"
     ]
    },
    {
     "name": "stderr",
     "output_type": "stream",
     "text": [
      "\n"
     ]
    },
    {
     "data": {
      "text/plain": [
       "[<matplotlib.lines.Line2D at 0x797edc215220>]"
      ]
     },
     "execution_count": 9,
     "metadata": {},
     "output_type": "execute_result"
    },
    {
     "data": {
      "image/png": "[encoded data removed]",
      "text/plain": [
       "<Figure size 640x480 with 1 Axes>"
      ]
     },
     "metadata": {},
     "output_type": "display_data"
    }
   ],
   "source": [
    "from scipy.optimize import curve_fit\n",
    "\n",
    "def SI_logistic(t, beta, size, t0):\n",
    "    return size / (1 + (size-1) * np.exp(-beta * (t-t0)))\n",
    "\n",
    "nticks = 730\n",
    "t = np.arange(730)\n",
    "\n",
    "seeds = [i for i in range(100)]\n",
    "betas = [0.001*i for i in range(5, 105)]\n",
    "output = pd.DataFrame(columns=[\"seed\", \"beta\", \"cases\", \"fitted_beta\", \"fitted_size\", \"fitted_t0\"])\n",
    "scenario = pd.DataFrame(data=[[\"homenode\", 1e5, \"47°36′35″N 122°19′59″W\"]], columns=[\"name\", \"population\", \"location\"])\n",
    "\n",
    "for seed, beta in zip(seeds, betas):\n",
    "    parameters = PropertySet({\"seed\": seed, \"nticks\": nticks, \"verbose\": True, \"beta\": beta})\n",
    "    model = Model(scenario, parameters)\n",
    "    model.components = [\n",
    "        Susceptibility,\n",
    "        Transmission,\n",
    "    ]\n",
    "    seed_infections_randomly_SI(model, ninfections=1)\n",
    "    model.run()\n",
    "    cases = [model.patches.cases[i][0] for i in range(nticks)]\n",
    "    popt, pcov = curve_fit(SI_logistic, t, cases, p0=[0.05, 1.1e5, 1])\n",
    "    output = pd.concat([output, pd.DataFrame.from_dict({\"seed\": seed, \"beta\": beta, \"cases\": cases, \n",
    "                                            \"fitted_beta\": popt[0], \"fitted_size\": popt[1], \"fitted_t0\": popt[2]})], ignore_index=True)\n",
    "    \n",
    "\n",
    "plt.plot(output[\"beta\"], output[\"fitted_beta\"], \"o\")\n",
    "plt.plot(output[\"beta\"], output[\"beta\"] - output[\"fitted_beta\"], \"o\")\n",
    "\n",
    "\n",
    "\n"
   ]
  },
  {
   "cell_type": "code",
   "execution_count": 11,
   "metadata": {},
   "outputs": [
    {
     "data": {
      "text/plain": [
       "[<matplotlib.lines.Line2D at 0x797e9e80aa20>]"
      ]
     },
     "execution_count": 11,
     "metadata": {},
     "output_type": "execute_result"
    },
    {
     "data": {
      "image/png": "[encoded data removed]",
      "text/plain": [
       "<Figure size 640x480 with 1 Axes>"
      ]
     },
     "metadata": {},
     "output_type": "display_data"
    }
   ],
   "source": [
    "plt.plot(output[\"beta\"], output[\"beta\"]-output[\"fitted_beta\"], \"o\")\n"
   ]
  },
  {
   "cell_type": "code",
   "execution_count": 24,
   "metadata": {},
   "outputs": [
    {
     "data": {
      "text/html": [
       "<div>\n",
       "<style scoped>\n",
       "    .dataframe tbody tr th:only-of-type {\n",
       "        vertical-align: middle;\n",
       "    }\n",
       "\n",
       "    .dataframe tbody tr th {\n",
       "        vertical-align: top;\n",
       "    }\n",
       "\n",
       "    .dataframe thead th {\n",
       "        text-align: right;\n",
       "    }\n",
       "</style>\n",
       "<table border=\"1\" class=\"dataframe\">\n",
       "  <thead>\n",
       "    <tr style=\"text-align: right;\">\n",
       "      <th></th>\n",
       "      <th>seed</th>\n",
       "      <th>beta</th>\n",
       "      <th>cases</th>\n",
       "      <th>fitted_beta</th>\n",
       "      <th>fitted_size</th>\n",
       "      <th>fitted_t0</th>\n",
       "    </tr>\n",
       "  </thead>\n",
       "  <tbody>\n",
       "  </tbody>\n",
       "</table>\n",
       "</div>"
      ],
      "text/plain": [
       "Empty DataFrame\n",
       "Columns: [seed, beta, cases, fitted_beta, fitted_size, fitted_t0]\n",
       "Index: []"
      ]
     },
     "execution_count": 24,
     "metadata": {},
     "output_type": "execute_result"
    }
   ],
   "source": [
    "output"
   ]
  },
  {
   "cell_type": "code",
   "execution_count": null,
   "metadata": {},
   "outputs": [],
   "source": []
  }
 ],
 "metadata": {
  "kernelspec": {
   "display_name": "Python 3",
   "language": "python",
   "name": "python3"
  },
  "language_info": {
   "codemirror_mode": {
    "name": "ipython",
    "version": 3
   },
   "file_extension": ".py",
   "mimetype": "text/x-python",
   "name": "python",
   "nbconvert_exporter": "python",
   "pygments_lexer": "ipython3",
   "version": "3.12.1"
  }
 },
 "nbformat": 4,
 "nbformat_minor": 2
}
