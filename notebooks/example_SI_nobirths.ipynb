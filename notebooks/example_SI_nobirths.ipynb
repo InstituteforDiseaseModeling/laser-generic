{
 "cells": [
  {
   "cell_type": "code",
   "execution_count": 1,
   "metadata": {},
   "outputs": [
    {
     "data": {
      "text/plain": [
       "\"np.__version__='1.26.4'\""
      ]
     },
     "execution_count": 1,
     "metadata": {},
     "output_type": "execute_result"
    }
   ],
   "source": [
    "import numpy as np\n",
    "import pandas as pd\n",
    "from scipy.optimize import curve_fit\n",
    "\n",
    "f\"{np.__version__=}\""
   ]
  },
  {
   "cell_type": "code",
   "execution_count": 2,
   "metadata": {},
   "outputs": [],
   "source": [
    "from laser_core.propertyset import PropertySet\n",
    "\n",
    "from laser_generic import Model"
   ]
  },
  {
   "cell_type": "code",
   "execution_count": 3,
   "metadata": {},
   "outputs": [
    {
     "name": "stdout",
     "output_type": "stream",
     "text": [
      "2024-12-05 04:49:29.995555: Creating the generic model…\n",
      "Initializing the generic model with 1 patches…\n"
     ]
    }
   ],
   "source": [
    "scenario = pd.DataFrame(data=[[\"homenode\", 1e6, \"47°36′35″N 122°19′59″W\"]], columns=[\"name\", \"population\", \"location\"])\n",
    "parameters = PropertySet({\"seed\": 2, \"nticks\": 730, \"verbose\": True, \"beta\": 0.1})\n",
    "model = Model(scenario, parameters)"
   ]
  },
  {
   "cell_type": "code",
   "execution_count": 4,
   "metadata": {},
   "outputs": [],
   "source": [
    "from laser_generic.susceptibility import Susceptibility\n",
    "from laser_generic.transmission import Transmission\n",
    "\n",
    "model.components = [\n",
    "    Susceptibility,\n",
    "    Transmission,\n",
    "]"
   ]
  },
  {
   "cell_type": "code",
   "execution_count": 5,
   "metadata": {},
   "outputs": [],
   "source": [
    "from laser_generic.utils import seed_infections_randomly_SI\n",
    "\n",
    "seed_infections_randomly_SI(model, ninfections=1)"
   ]
  },
  {
   "cell_type": "code",
   "execution_count": 6,
   "metadata": {},
   "outputs": [
    {
     "name": "stdout",
     "output_type": "stream",
     "text": [
      "2024-12-05 04:49:30.416920: Running the generic model for 730 ticks…\n"
     ]
    },
    {
     "name": "stderr",
     "output_type": "stream",
     "text": [
      "100%|██████████| 730/730 [00:13<00:00, 53.17it/s] "
     ]
    },
    {
     "name": "stdout",
     "output_type": "stream",
     "text": [
      "Completed the generic model at 2024-12-05 04:49:44.186567…\n",
      "Model       :        23,344 µs\n",
      "Transmission:    12,953,595 µs\n",
      "==============================\n",
      "Total:           12,976,939 microseconds\n"
     ]
    },
    {
     "name": "stderr",
     "output_type": "stream",
     "text": [
      "\n"
     ]
    }
   ],
   "source": [
    "model.run()"
   ]
  },
  {
   "cell_type": "code",
   "execution_count": 7,
   "metadata": {},
   "outputs": [
    {
     "name": "stdout",
     "output_type": "stream",
     "text": [
      "2024-12-05 04:49:44.214625: Creating the generic model…\n",
      "Initializing the generic model with 1 patches…\n",
      "2024-12-05 04:49:44.221192: Running the generic model for 730 ticks…\n"
     ]
    },
    {
     "name": "stderr",
     "output_type": "stream",
     "text": [
      "100%|██████████| 730/730 [00:13<00:00, 52.54it/s] "
     ]
    },
    {
     "name": "stdout",
     "output_type": "stream",
     "text": [
      "Completed the generic model at 2024-12-05 04:49:58.118316…\n",
      "Model       :         8,547 µs\n",
      "Transmission:    13,553,556 µs\n",
      "==============================\n",
      "Total:           13,562,103 microseconds\n"
     ]
    },
    {
     "name": "stderr",
     "output_type": "stream",
     "text": [
      "\n"
     ]
    }
   ],
   "source": [
    "# Testing a feature intended to provide fast transmission via sampling, but actually performs worse than the numba loop.\n",
    "parameters = PropertySet({\"seed\": 2, \"nticks\": 730, \"verbose\": True, \"beta\": 0.1, \"fast_transmission\": True})\n",
    "model = Model(scenario, parameters)\n",
    "model.components = [\n",
    "    Susceptibility,\n",
    "    Transmission,\n",
    "]\n",
    "seed_infections_randomly_SI(model, ninfections=1)\n",
    "model.run()"
   ]
  },
  {
   "cell_type": "code",
   "execution_count": 8,
   "metadata": {},
   "outputs": [
    {
     "data": {
      "text/plain": [
       "(0.0, 250.0)"
      ]
     },
     "execution_count": 8,
     "metadata": {},
     "output_type": "execute_result"
    },
    {
     "data": {
      "image/png": "[encoded data removed]",
      "text/plain": [
       "<Figure size 640x480 with 1 Axes>"
      ]
     },
     "metadata": {},
     "output_type": "display_data"
    }
   ],
   "source": [
    "import matplotlib.pyplot as plt\n",
    "\n",
    "plt.plot(model.patches.cases)\n",
    "plt.plot(1e6 / (1 + (1e6 - 1) * np.exp(-0.1 * (np.arange(730)))))\n",
    "plt.xlim([0, 250])\n",
    "# plt.ylim([100, 150])"
   ]
  },
  {
   "cell_type": "code",
   "execution_count": 26,
   "metadata": {},
   "outputs": [
    {
     "name": "stdout",
     "output_type": "stream",
     "text": [
      "2024-12-05 04:59:08.141254: Creating the generic model…\n",
      "Initializing the generic model with 1 patches…\n",
      "2024-12-05 04:59:08.146340: Running the generic model for 730 ticks…\n"
     ]
    },
    {
     "name": "stderr",
     "output_type": "stream",
     "text": [
      "100%|██████████| 730/730 [00:00<00:00, 941.77it/s] "
     ]
    },
    {
     "name": "stdout",
     "output_type": "stream",
     "text": [
      "Completed the generic model at 2024-12-05 04:59:08.924181…\n",
      "Model       :         2,447 µs\n",
      "Transmission:       761,693 µs\n",
      "==============================\n",
      "Total:              764,140 microseconds\n",
      "2024-12-05 04:59:08.932078: Creating the generic model…\n",
      "Initializing the generic model with 1 patches…\n",
      "2024-12-05 04:59:08.934387: Running the generic model for 730 ticks…\n"
     ]
    },
    {
     "name": "stderr",
     "output_type": "stream",
     "text": [
      "\n",
      "/tmp/ipykernel_2561/1337495924.py:25: FutureWarning: The behavior of DataFrame concatenation with empty or all-NA entries is deprecated. In a future version, this will no longer exclude empty or all-NA columns when determining the result dtypes. To retain the old behavior, exclude the relevant entries before the concat operation.\n",
      "  output = pd.concat([output, pd.DataFrame.from_dict({\"seed\": seed, \"beta\": beta, \"cases\": [np.array(cases)],\n",
      "100%|██████████| 730/730 [00:00<00:00, 1073.95it/s]"
     ]
    },
    {
     "name": "stdout",
     "output_type": "stream",
     "text": [
      "Completed the generic model at 2024-12-05 04:59:09.617848…\n",
      "Model       :         2,238 µs\n",
      "Transmission:       669,070 µs\n",
      "==============================\n",
      "Total:              671,308 microseconds\n",
      "2024-12-05 04:59:09.623485: Creating the generic model…\n",
      "Initializing the generic model with 1 patches…\n",
      "2024-12-05 04:59:09.625308: Running the generic model for 730 ticks…\n"
     ]
    },
    {
     "name": "stderr",
     "output_type": "stream",
     "text": [
      "\n",
      "100%|██████████| 730/730 [00:00<00:00, 1158.00it/s]"
     ]
    },
    {
     "name": "stdout",
     "output_type": "stream",
     "text": [
      "Completed the generic model at 2024-12-05 04:59:10.258471…\n",
      "Model       :         2,402 µs\n",
      "Transmission:       620,338 µs\n",
      "==============================\n",
      "Total:              622,740 microseconds\n",
      "2024-12-05 04:59:10.263950: Creating the generic model…\n",
      "Initializing the generic model with 1 patches…\n"
     ]
    },
    {
     "name": "stderr",
     "output_type": "stream",
     "text": [
      "\n"
     ]
    },
    {
     "name": "stdout",
     "output_type": "stream",
     "text": [
      "2024-12-05 04:59:10.265662: Running the generic model for 730 ticks…\n"
     ]
    },
    {
     "name": "stderr",
     "output_type": "stream",
     "text": [
      "100%|██████████| 730/730 [00:00<00:00, 1897.27it/s]"
     ]
    },
    {
     "name": "stdout",
     "output_type": "stream",
     "text": [
      "Completed the generic model at 2024-12-05 04:59:10.654218…\n",
      "Model       :         2,137 µs\n",
      "Transmission:       374,889 µs\n",
      "==============================\n",
      "Total:              377,026 microseconds\n",
      "2024-12-05 04:59:10.658484: Creating the generic model…\n",
      "Initializing the generic model with 1 patches…\n",
      "2024-12-05 04:59:10.660590: Running the generic model for 730 ticks…\n"
     ]
    },
    {
     "name": "stderr",
     "output_type": "stream",
     "text": [
      "\n",
      "100%|██████████| 730/730 [00:00<00:00, 1786.56it/s]"
     ]
    },
    {
     "name": "stdout",
     "output_type": "stream",
     "text": [
      "Completed the generic model at 2024-12-05 04:59:11.073172…\n",
      "Model       :         3,557 µs\n",
      "Transmission:       396,045 µs\n",
      "==============================\n",
      "Total:              399,602 microseconds\n",
      "2024-12-05 04:59:11.077510: Creating the generic model…\n",
      "Initializing the generic model with 1 patches…\n",
      "2024-12-05 04:59:11.080060: Running the generic model for 730 ticks…\n"
     ]
    },
    {
     "name": "stderr",
     "output_type": "stream",
     "text": [
      "\n",
      "100%|██████████| 730/730 [00:00<00:00, 2468.27it/s]\n"
     ]
    },
    {
     "name": "stdout",
     "output_type": "stream",
     "text": [
      "Completed the generic model at 2024-12-05 04:59:11.379946…\n",
      "Model       :         2,958 µs\n",
      "Transmission:       286,692 µs\n",
      "==============================\n",
      "Total:              289,650 microseconds\n",
      "2024-12-05 04:59:11.385031: Creating the generic model…\n",
      "Initializing the generic model with 1 patches…\n",
      "2024-12-05 04:59:11.387061: Running the generic model for 730 ticks…\n"
     ]
    },
    {
     "name": "stderr",
     "output_type": "stream",
     "text": [
      "100%|██████████| 730/730 [00:00<00:00, 1198.04it/s]"
     ]
    },
    {
     "name": "stdout",
     "output_type": "stream",
     "text": [
      "Completed the generic model at 2024-12-05 04:59:11.999428…\n",
      "Model       :         3,530 µs\n",
      "Transmission:       587,090 µs\n",
      "==============================\n",
      "Total:              590,620 microseconds\n",
      "2024-12-05 04:59:12.004259: Creating the generic model…\n",
      "Initializing the generic model with 1 patches…\n",
      "2024-12-05 04:59:12.005975: Running the generic model for 730 ticks…\n"
     ]
    },
    {
     "name": "stderr",
     "output_type": "stream",
     "text": [
      "\n",
      "100%|██████████| 730/730 [00:00<00:00, 2955.93it/s]"
     ]
    },
    {
     "name": "stdout",
     "output_type": "stream",
     "text": [
      "Completed the generic model at 2024-12-05 04:59:12.255806…\n",
      "Model       :         1,935 µs\n",
      "Transmission:       240,168 µs\n",
      "==============================\n",
      "Total:              242,103 microseconds\n",
      "2024-12-05 04:59:12.260852: Creating the generic model…\n",
      "Initializing the generic model with 1 patches…\n",
      "2024-12-05 04:59:12.262599: Running the generic model for 730 ticks…\n"
     ]
    },
    {
     "name": "stderr",
     "output_type": "stream",
     "text": [
      "\n",
      "100%|██████████| 730/730 [00:00<00:00, 2992.54it/s]"
     ]
    },
    {
     "name": "stdout",
     "output_type": "stream",
     "text": [
      "Completed the generic model at 2024-12-05 04:59:12.509382…\n",
      "Model       :         1,954 µs\n",
      "Transmission:       237,087 µs\n",
      "==============================\n",
      "Total:              239,041 microseconds\n",
      "2024-12-05 04:59:12.514602: Creating the generic model…\n",
      "Initializing the generic model with 1 patches…\n",
      "2024-12-05 04:59:12.516603: Running the generic model for 730 ticks…\n"
     ]
    },
    {
     "name": "stderr",
     "output_type": "stream",
     "text": [
      "\n",
      "100%|██████████| 730/730 [00:00<00:00, 2477.43it/s]\n"
     ]
    },
    {
     "name": "stdout",
     "output_type": "stream",
     "text": [
      "Completed the generic model at 2024-12-05 04:59:12.814865…\n",
      "Model       :         1,970 µs\n",
      "Transmission:       284,319 µs\n",
      "==============================\n",
      "Total:              286,289 microseconds\n"
     ]
    },
    {
     "data": {
      "text/plain": [
       "[<matplotlib.lines.Line2D at 0x79e82b1c65d0>]"
      ]
     },
     "execution_count": 26,
     "metadata": {},
     "output_type": "execute_result"
    },
    {
     "data": {
      "image/png": "[encoded data removed]",
      "text/plain": [
       "<Figure size 640x480 with 1 Axes>"
      ]
     },
     "metadata": {},
     "output_type": "display_data"
    }
   ],
   "source": [
    "def SI_logistic(t, beta, size, t0):\n",
    "    return size / (1 + (size - 1) * np.exp(-beta * (t - t0)))\n",
    "\n",
    "\n",
    "nticks = 730\n",
    "t = np.arange(730)\n",
    "\n",
    "seeds = [i for i in range(10)]\n",
    "betas = [0.01 * i for i in range(1, 11)]\n",
    "output = pd.DataFrame(columns=[\"seed\", \"beta\", \"cases\", \"fitted_beta\", \"fitted_size\", \"fitted_t0\"])\n",
    "scenario = pd.DataFrame(data=[[\"homenode\", 1e5, \"47°36′35″N 122°19′59″W\"]], columns=[\"name\", \"population\", \"location\"])\n",
    "for seed, beta in zip(seeds, betas):\n",
    "    parameters = PropertySet({\"seed\": seed, \"nticks\": nticks, \"verbose\": True, \"beta\": beta})\n",
    "    model = Model(scenario, parameters)\n",
    "    model.components = [\n",
    "        Susceptibility,\n",
    "        Transmission,\n",
    "    ]\n",
    "    seed_infections_randomly_SI(model, ninfections=1)\n",
    "    model.run()\n",
    "    cases = [model.patches.cases[i][0] for i in range(nticks)]\n",
    "    popt, pcov = curve_fit(SI_logistic, t, cases, p0=[0.05, 1.1e5, 1])\n",
    "\n",
    "    output = pd.concat(\n",
    "        [\n",
    "            output,\n",
    "            pd.DataFrame.from_dict(\n",
    "                {\n",
    "                    \"seed\": seed,\n",
    "                    \"beta\": beta,\n",
    "                    \"cases\": [np.array(cases)],\n",
    "                    \"fitted_beta\": popt[0],\n",
    "                    \"fitted_size\": popt[1],\n",
    "                    \"fitted_t0\": popt[2],\n",
    "                }\n",
    "            ),\n",
    "        ],\n",
    "        ignore_index=True,\n",
    "    )\n",
    "\n",
    "\n",
    "plt.plot(output[\"beta\"], output[\"fitted_beta\"], \"o\")\n",
    "plt.plot(output[\"beta\"], output[\"beta\"] - output[\"fitted_beta\"], \"o\")"
   ]
  },
  {
   "cell_type": "code",
   "execution_count": 27,
   "metadata": {},
   "outputs": [
    {
     "data": {
      "text/html": [
       "<div>\n",
       "<style scoped>\n",
       "    .dataframe tbody tr th:only-of-type {\n",
       "        vertical-align: middle;\n",
       "    }\n",
       "\n",
       "    .dataframe tbody tr th {\n",
       "        vertical-align: top;\n",
       "    }\n",
       "\n",
       "    .dataframe thead th {\n",
       "        text-align: right;\n",
       "    }\n",
       "</style>\n",
       "<table border=\"1\" class=\"dataframe\">\n",
       "  <thead>\n",
       "    <tr style=\"text-align: right;\">\n",
       "      <th></th>\n",
       "      <th>seed</th>\n",
       "      <th>beta</th>\n",
       "      <th>cases</th>\n",
       "      <th>fitted_beta</th>\n",
       "      <th>fitted_size</th>\n",
       "      <th>fitted_t0</th>\n",
       "    </tr>\n",
       "  </thead>\n",
       "  <tbody>\n",
       "    <tr>\n",
       "      <th>0</th>\n",
       "      <td>0</td>\n",
       "      <td>0.01</td>\n",
       "      <td>[1, 1, 1, 1, 1, 1, 1, 1, 1, 1, 1, 1, 1, 1, 1, ...</td>\n",
       "      <td>0.010248</td>\n",
       "      <td>86271.593842</td>\n",
       "      <td>40.983277</td>\n",
       "    </tr>\n",
       "    <tr>\n",
       "      <th>1</th>\n",
       "      <td>1</td>\n",
       "      <td>0.02</td>\n",
       "      <td>[1, 1, 1, 1, 1, 1, 1, 1, 1, 1, 1, 1, 1, 1, 1, ...</td>\n",
       "      <td>0.020005</td>\n",
       "      <td>98502.202153</td>\n",
       "      <td>170.607335</td>\n",
       "    </tr>\n",
       "    <tr>\n",
       "      <th>2</th>\n",
       "      <td>2</td>\n",
       "      <td>0.03</td>\n",
       "      <td>[1, 1, 1, 1, 1, 1, 1, 1, 1, 1, 1, 1, 1, 1, 1, ...</td>\n",
       "      <td>0.029792</td>\n",
       "      <td>100013.726252</td>\n",
       "      <td>83.536487</td>\n",
       "    </tr>\n",
       "    <tr>\n",
       "      <th>3</th>\n",
       "      <td>3</td>\n",
       "      <td>0.04</td>\n",
       "      <td>[1, 1, 1, 1, 1, 1, 1, 1, 1, 1, 1, 1, 1, 1, 1, ...</td>\n",
       "      <td>0.039473</td>\n",
       "      <td>100014.746528</td>\n",
       "      <td>25.712536</td>\n",
       "    </tr>\n",
       "    <tr>\n",
       "      <th>4</th>\n",
       "      <td>4</td>\n",
       "      <td>0.05</td>\n",
       "      <td>[1, 1, 1, 1, 1, 1, 1, 1, 1, 1, 1, 1, 1, 1, 1, ...</td>\n",
       "      <td>0.049396</td>\n",
       "      <td>100015.932826</td>\n",
       "      <td>18.848006</td>\n",
       "    </tr>\n",
       "    <tr>\n",
       "      <th>5</th>\n",
       "      <td>5</td>\n",
       "      <td>0.06</td>\n",
       "      <td>[1, 1, 1, 1, 1, 1, 1, 1, 1, 1, 1, 1, 1, 1, 1, ...</td>\n",
       "      <td>0.059324</td>\n",
       "      <td>100015.870044</td>\n",
       "      <td>7.180719</td>\n",
       "    </tr>\n",
       "    <tr>\n",
       "      <th>6</th>\n",
       "      <td>6</td>\n",
       "      <td>0.07</td>\n",
       "      <td>[1, 1, 3, 3, 3, 3, 3, 3, 4, 4, 4, 4, 5, 5, 5, ...</td>\n",
       "      <td>0.068990</td>\n",
       "      <td>100003.503154</td>\n",
       "      <td>-4.206395</td>\n",
       "    </tr>\n",
       "    <tr>\n",
       "      <th>7</th>\n",
       "      <td>7</td>\n",
       "      <td>0.08</td>\n",
       "      <td>[1, 1, 3, 3, 3, 3, 4, 6, 8, 8, 9, 9, 11, 11, 1...</td>\n",
       "      <td>0.078403</td>\n",
       "      <td>100007.702067</td>\n",
       "      <td>-15.295213</td>\n",
       "    </tr>\n",
       "    <tr>\n",
       "      <th>8</th>\n",
       "      <td>8</td>\n",
       "      <td>0.09</td>\n",
       "      <td>[1, 1, 1, 1, 1, 1, 1, 1, 1, 1, 2, 2, 2, 2, 3, ...</td>\n",
       "      <td>0.088176</td>\n",
       "      <td>100007.721573</td>\n",
       "      <td>5.361267</td>\n",
       "    </tr>\n",
       "    <tr>\n",
       "      <th>9</th>\n",
       "      <td>9</td>\n",
       "      <td>0.10</td>\n",
       "      <td>[1, 1, 1, 1, 1, 1, 1, 2, 2, 3, 3, 3, 3, 3, 3, ...</td>\n",
       "      <td>0.097672</td>\n",
       "      <td>100007.334265</td>\n",
       "      <td>8.820256</td>\n",
       "    </tr>\n",
       "  </tbody>\n",
       "</table>\n",
       "</div>"
      ],
      "text/plain": [
       "  seed  beta                                              cases  fitted_beta  \\\n",
       "0    0  0.01  [1, 1, 1, 1, 1, 1, 1, 1, 1, 1, 1, 1, 1, 1, 1, ...     0.010248   \n",
       "1    1  0.02  [1, 1, 1, 1, 1, 1, 1, 1, 1, 1, 1, 1, 1, 1, 1, ...     0.020005   \n",
       "2    2  0.03  [1, 1, 1, 1, 1, 1, 1, 1, 1, 1, 1, 1, 1, 1, 1, ...     0.029792   \n",
       "3    3  0.04  [1, 1, 1, 1, 1, 1, 1, 1, 1, 1, 1, 1, 1, 1, 1, ...     0.039473   \n",
       "4    4  0.05  [1, 1, 1, 1, 1, 1, 1, 1, 1, 1, 1, 1, 1, 1, 1, ...     0.049396   \n",
       "5    5  0.06  [1, 1, 1, 1, 1, 1, 1, 1, 1, 1, 1, 1, 1, 1, 1, ...     0.059324   \n",
       "6    6  0.07  [1, 1, 3, 3, 3, 3, 3, 3, 4, 4, 4, 4, 5, 5, 5, ...     0.068990   \n",
       "7    7  0.08  [1, 1, 3, 3, 3, 3, 4, 6, 8, 8, 9, 9, 11, 11, 1...     0.078403   \n",
       "8    8  0.09  [1, 1, 1, 1, 1, 1, 1, 1, 1, 1, 2, 2, 2, 2, 3, ...     0.088176   \n",
       "9    9  0.10  [1, 1, 1, 1, 1, 1, 1, 2, 2, 3, 3, 3, 3, 3, 3, ...     0.097672   \n",
       "\n",
       "     fitted_size   fitted_t0  \n",
       "0   86271.593842   40.983277  \n",
       "1   98502.202153  170.607335  \n",
       "2  100013.726252   83.536487  \n",
       "3  100014.746528   25.712536  \n",
       "4  100015.932826   18.848006  \n",
       "5  100015.870044    7.180719  \n",
       "6  100003.503154   -4.206395  \n",
       "7  100007.702067  -15.295213  \n",
       "8  100007.721573    5.361267  \n",
       "9  100007.334265    8.820256  "
      ]
     },
     "execution_count": 27,
     "metadata": {},
     "output_type": "execute_result"
    }
   ],
   "source": [
    "output"
   ]
  },
  {
   "cell_type": "code",
   "execution_count": 24,
   "metadata": {},
   "outputs": [
    {
     "data": {
      "text/html": [],
      "text/plain": []
     },
     "execution_count": 24,
     "metadata": {},
     "output_type": "execute_result"
    }
   ],
   "source": [
    "output"
   ]
  },
  {
   "cell_type": "code",
   "execution_count": 25,
   "metadata": {},
   "outputs": [
    {
     "data": {
      "text/html": [
       "<div>\n",
       "<style scoped>\n",
       "    .dataframe tbody tr th:only-of-type {\n",
       "        vertical-align: middle;\n",
       "    }\n",
       "\n",
       "    .dataframe tbody tr th {\n",
       "        vertical-align: top;\n",
       "    }\n",
       "\n",
       "    .dataframe thead th {\n",
       "        text-align: right;\n",
       "    }\n",
       "</style>\n",
       "<table border=\"1\" class=\"dataframe\">\n",
       "  <thead>\n",
       "    <tr style=\"text-align: right;\">\n",
       "      <th></th>\n",
       "      <th>a</th>\n",
       "      <th>b</th>\n",
       "      <th>c</th>\n",
       "    </tr>\n",
       "  </thead>\n",
       "  <tbody>\n",
       "    <tr>\n",
       "      <th>0</th>\n",
       "      <td>1</td>\n",
       "      <td>2</td>\n",
       "      <td>[1, 2, 3]</td>\n",
       "    </tr>\n",
       "  </tbody>\n",
       "</table>\n",
       "</div>"
      ],
      "text/plain": [
       "   a  b          c\n",
       "0  1  2  [1, 2, 3]"
      ]
     },
     "execution_count": 25,
     "metadata": {},
     "output_type": "execute_result"
    }
   ],
   "source": [
    "pd.DataFrame.from_dict({\"a\": 1, \"b\": 2, \"c\": [np.array([1, 2, 3])]})"
   ]
  },
  {
   "cell_type": "code",
   "execution_count": null,
   "metadata": {},
   "outputs": [],
   "source": []
  }
 ],
 "metadata": {
  "kernelspec": {
   "display_name": "Python 3",
   "language": "python",
   "name": "python3"
  },
  "language_info": {
   "codemirror_mode": {
    "name": "ipython",
    "version": 3
   },
   "file_extension": ".py",
   "mimetype": "text/x-python",
   "name": "python",
   "nbconvert_exporter": "python",
   "pygments_lexer": "ipython3",
   "version": "3.12.1"
  }
 },
 "nbformat": 4,
 "nbformat_minor": 2
}
