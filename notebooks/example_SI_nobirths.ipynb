{
 "cells": [
  {
   "cell_type": "code",
   "execution_count": 1,
   "metadata": {},
   "outputs": [
    {
     "data": {
      "text/plain": [
       "\"np.__version__='1.26.4'\""
      ]
     },
     "execution_count": 1,
     "metadata": {},
     "output_type": "execute_result"
    }
   ],
   "source": [
    "import numpy as np\n",
    "import pandas as pd\n",
    "\n",
    "f\"{np.__version__=}\""
   ]
  },
  {
   "cell_type": "code",
   "execution_count": 2,
   "metadata": {},
   "outputs": [],
   "source": [
    "from laser_core.propertyset import PropertySet\n",
    "\n",
    "from laser_generic import Model"
   ]
  },
  {
   "cell_type": "code",
   "execution_count": 3,
   "metadata": {},
   "outputs": [
    {
     "name": "stdout",
     "output_type": "stream",
     "text": [
      "2024-12-03 21:08:35.525621: Creating the generic model…\n",
      "Initializing the generic model with 1 patches…\n"
     ]
    }
   ],
   "source": [
    "scenario = pd.DataFrame(data=[[\"homenode\", 1e6, \"47°36′35″N 122°19′59″W\"]], columns=[\"name\", \"population\", \"location\"])\n",
    "parameters = PropertySet({\"seed\": 2, \"nticks\": 730, \"verbose\": True, \"beta\": 0.1})\n",
    "model = Model(scenario, parameters)"
   ]
  },
  {
   "cell_type": "code",
   "execution_count": 4,
   "metadata": {},
   "outputs": [],
   "source": [
    "from laser_generic.susceptibility import Susceptibility\n",
    "from laser_generic.transmission import Transmission\n",
    "\n",
    "model.components = [\n",
    "    Susceptibility,\n",
    "    Transmission,\n",
    "]"
   ]
  },
  {
   "cell_type": "code",
   "execution_count": 5,
   "metadata": {},
   "outputs": [],
   "source": [
    "from laser_generic.utils import seed_infections_randomly_SI\n",
    "\n",
    "seed_infections_randomly_SI(model, ninfections=1)"
   ]
  },
  {
   "cell_type": "code",
   "execution_count": 6,
   "metadata": {},
   "outputs": [
    {
     "name": "stdout",
     "output_type": "stream",
     "text": [
      "2024-12-03 21:08:41.507291: Running the generic model for 730 ticks…\n"
     ]
    },
    {
     "name": "stderr",
     "output_type": "stream",
     "text": [
      "100%|██████████| 730/730 [00:03<00:00, 206.04it/s]"
     ]
    },
    {
     "name": "stdout",
     "output_type": "stream",
     "text": [
      "Completed the generic model at 2024-12-03 21:08:45.071413…\n",
      "Model       :         3,981 µs\n",
      "Transmission:     3,478,696 µs\n",
      "==============================\n",
      "Total:            3,482,677 microseconds\n"
     ]
    },
    {
     "name": "stderr",
     "output_type": "stream",
     "text": [
      "\n"
     ]
    }
   ],
   "source": [
    "model.run()"
   ]
  },
  {
   "cell_type": "code",
   "execution_count": 114,
   "metadata": {},
   "outputs": [
    {
     "data": {
      "text/plain": [
       "(0.0, 250.0)"
      ]
     },
     "execution_count": 114,
     "metadata": {},
     "output_type": "execute_result"
    },
    {
     "data": {
      "image/png": "[encoded data removed]",
      "text/plain": [
       "<Figure size 640x480 with 1 Axes>"
      ]
     },
     "metadata": {},
     "output_type": "display_data"
    }
   ],
   "source": [
    "import matplotlib.pyplot as plt\n",
    "\n",
    "plt.plot(model.patches.cases)\n",
    "plt.plot(1e6 / (1 + (1e6 - 1) * np.exp(-0.1 * (np.arange(730)))))\n",
    "plt.xlim([0, 250])\n",
    "# plt.ylim([100, 150])"
   ]
  },
  {
   "cell_type": "code",
   "execution_count": 8,
   "metadata": {},
   "outputs": [
    {
     "data": {
      "text/plain": [
       "array([[1000000],\n",
       "       [1000000],\n",
       "       [1000000],\n",
       "       [1000000],\n",
       "       [1000000],\n",
       "       [1000000],\n",
       "       [1000000],\n",
       "       [1000000],\n",
       "       [1000000],\n",
       "       [1000000],\n",
       "       [1000000],\n",
       "       [1000000],\n",
       "       [1000000],\n",
       "       [1000000],\n",
       "       [1000000],\n",
       "       [1000000],\n",
       "       [1000000],\n",
       "       [1000000],\n",
       "       [1000000],\n",
       "       [1000000],\n",
       "       [1000000],\n",
       "       [1000000],\n",
       "       [1000000],\n",
       "       [1000000],\n",
       "       [1000000],\n",
       "       [1000000],\n",
       "       [1000000],\n",
       "       [1000000],\n",
       "       [1000000],\n",
       "       [1000000],\n",
       "       [1000000],\n",
       "       [1000000],\n",
       "       [1000000],\n",
       "       [1000000],\n",
       "       [1000000],\n",
       "       [1000000],\n",
       "       [1000000],\n",
       "       [1000000],\n",
       "       [1000000],\n",
       "       [1000000],\n",
       "       [1000000],\n",
       "       [1000000],\n",
       "       [1000000],\n",
       "       [1000000],\n",
       "       [1000000],\n",
       "       [1000000],\n",
       "       [1000000],\n",
       "       [1000000],\n",
       "       [1000000],\n",
       "       [1000000],\n",
       "       [1000000],\n",
       "       [1000000],\n",
       "       [1000000],\n",
       "       [1000000],\n",
       "       [1000000],\n",
       "       [1000000],\n",
       "       [1000000],\n",
       "       [1000000],\n",
       "       [1000000],\n",
       "       [1000000],\n",
       "       [1000000],\n",
       "       [1000000],\n",
       "       [1000000],\n",
       "       [1000000],\n",
       "       [1000000],\n",
       "       [1000000],\n",
       "       [1000000],\n",
       "       [1000000],\n",
       "       [1000000],\n",
       "       [1000000],\n",
       "       [1000000],\n",
       "       [1000000],\n",
       "       [1000000],\n",
       "       [1000000],\n",
       "       [1000000],\n",
       "       [1000000],\n",
       "       [1000000],\n",
       "       [1000000],\n",
       "       [1000000],\n",
       "       [1000000],\n",
       "       [1000000],\n",
       "       [1000000],\n",
       "       [1000000],\n",
       "       [1000000],\n",
       "       [1000000],\n",
       "       [1000000],\n",
       "       [1000000],\n",
       "       [1000000],\n",
       "       [1000000],\n",
       "       [1000000],\n",
       "       [1000000],\n",
       "       [1000000],\n",
       "       [1000000],\n",
       "       [1000000],\n",
       "       [1000000],\n",
       "       [1000000],\n",
       "       [1000000],\n",
       "       [1000000],\n",
       "       [1000000],\n",
       "       [1000000]], dtype=uint32)"
      ]
     },
     "execution_count": 8,
     "metadata": {},
     "output_type": "execute_result"
    }
   ],
   "source": [
    "model.patches.cases[-100:]"
   ]
  },
  {
   "cell_type": "code",
   "execution_count": null,
   "metadata": {},
   "outputs": [],
   "source": []
  }
 ],
 "metadata": {
  "kernelspec": {
   "display_name": ".venv",
   "language": "python",
   "name": "python3"
  },
  "language_info": {
   "codemirror_mode": {
    "name": "ipython",
    "version": 3
   },
   "file_extension": ".py",
   "mimetype": "text/x-python",
   "name": "python",
   "nbconvert_exporter": "python",
   "pygments_lexer": "ipython3",
   "version": "3.12.1"
  }
 },
 "nbformat": 4,
 "nbformat_minor": 2
}
