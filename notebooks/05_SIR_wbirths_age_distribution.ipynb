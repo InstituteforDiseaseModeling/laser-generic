{
 "cells": [
  {
   "cell_type": "markdown",
   "metadata": {},
   "source": [
    "# Average age at infection in the SIR model\n",
    "Continuing our investigation of the Susceptible-Infected-Recovered model, we will add demographics and investigate the behavior of the model in and around the endemic equilibrium.  The first \n",
    "\n",
    "$$\n",
    "\\dot{S} = -\\frac{\\beta*S*I}{N} + \\mu N - \\mu S\\\\\n",
    "\n",
    "\\dot{I} = \\frac{\\beta*S*I}{N} - \\gamma I - \\mu I\\\\\n",
    "\n",
    "\\dot{R} = \\gamma I - \\mu R\n",
    "$$\n",
    "\n",
    "Analysis of this system can be found in other sources (ref. Keeling/Rohani).  Setting the derivatives to zero and doing a bit of algebra gets you to the endemic equilbrium\n",
    "\n",
    "$$\n",
    "(S^*, \\: I^*, \\: R^*) = (\\frac{1}{R_0}, \\:\\: \\frac{\\mu (R_0-1)}{\\beta}, \\: \\: 1-\\frac{1}{R_0} - \\frac{\\mu (R_0-1)}{\\beta}) \\\\\n",
    "\n",
    "\\text{where} \\:\\: R_0 = \\frac{\\beta}{\\gamma + \\mu}\n",
    "$$\n",
    "\n",
    "An individual susceptible's mean time to infection will then be the inverse of the total force of infection, $\\beta I^*$.  \n",
    "$$\n",
    "\\tau_{S \\rightarrow I} = \\frac{1}{\\mu (R_0 -1)}\n",
    "$$\n",
    "\n",
    "The equation above is often also described as the average age at infection.  However, it is key to remember that the measured age at infection will be censored by non-disease deaths occurring at a rate $\\mu$.  You can work through the impact of this, but in the simple case of constant mortality, it turns out to exactly balance out the $-1$ in the above equation, and so our *observed* average age at infection will be $\\frac{1}{\\mu R_0}$.  Since the hazard is constant at equilibrium, this implies an exponential distribution:\n",
    "\n",
    "$$P(a | S->I) \\sim \\mu R_0 e^{-\\mu R_0 a}$$\n",
    "\n",
    "Alternatively, we can correct for the influence of mortality by observing the fraction of children who are susceptible at age A, which necessarily conditions on survival to age A.  This will look like the cumulative distribution of an exponential distributed according to the mean time to infection above:\n",
    "\n",
    "$$P(R | a) \\sim 1 - e^{(-a \\mu (R_0-1))}$$\n",
    "\n",
    "### Contruct the model\n",
    "In the first few cells, we do all the necessary imports.  Because we are now measuring an equilibrium property of this system, we will have to burn in, with repeated infection importations to ensure that we establish an endemic equilibrium.  We also need to model a large enough population to sustain the infection (see Critical Community Size notebook).  The primary determinant of the critical community size is the duration of infection, so keeping this relatively long (2 months) prevents us from needing huge agent populations.  So, we construct a single-patch LASER model with fice components: `Births_ConstantPop`, `Susceptibility`, `Transmission`, `Infection`, and `Infect_Random_Agents`, a function that implements repeated importation for a fixed period of time. \n",
    "\n",
    "### Sanity check\n",
    "The first test, as always, ensures that certain basic constraints are being obeyed by the model.  As it stands, I am not actually explicitly tracking the recovered population, but I can check that $S_t = N_t - \\sum{\\Delta_I}$.  \n",
    "\n",
    "### Scientific test\n",
    "The scientific test will sample a set of $(\\mu, R_0)$ pairs and confirm that both the age at infection and the fraction of susceptibles at a given age are well-described by exponential distributions and that the associated rate constant is as expected.   \n",
    "\n",
    "### Future work\n",
    "The addition of an exposed compartment should not change this result (other than changing the relevant transition from S->E rather than S->I) and we should test this.  \n",
    "\n"
   ]
  },
  {
   "cell_type": "code",
   "execution_count": 1,
   "metadata": {},
   "outputs": [
    {
     "name": "stderr",
     "output_type": "stream",
     "text": [
      "OMP: Info #276: omp_set_nested routine deprecated, please use omp_set_max_active_levels instead.\n"
     ]
    },
    {
     "data": {
      "text/plain": [
       "\"np.__version__='1.26.4'\""
      ]
     },
     "execution_count": 1,
     "metadata": {},
     "output_type": "execute_result"
    }
   ],
   "source": [
    "import numpy as np\n",
    "import pandas as pd\n",
    "from laser_core.propertyset import PropertySet\n",
    "import matplotlib.pyplot as plt\n",
    "import itertools\n",
    "\n",
    "from scipy.optimize import fsolve\n",
    "import scipy.fftpack as fftpack\n",
    "\n",
    "from laser_generic import Model\n",
    "from laser_generic import Infection\n",
    "from laser_generic import Susceptibility\n",
    "from laser_generic import Transmission\n",
    "from laser_generic import Births_ConstantPop\n",
    "from laser_generic.importation import Infect_Random_Agents\n",
    "from scipy.stats import expon\n",
    "from scipy.stats import kstest\n",
    "from scipy.optimize import curve_fit\n",
    "from sklearn.metrics import mean_squared_error\n",
    "\n",
    "\n",
    "from laser_generic.utils import set_initial_susceptibility_randomly\n",
    "from laser_generic.utils import seed_infections_randomly\n",
    "\n",
    "f\"{np.__version__=}\""
   ]
  },
  {
   "cell_type": "code",
   "execution_count": 2,
   "metadata": {},
   "outputs": [],
   "source": [
    "scenario = pd.DataFrame(data=[[\"homenode\", 1e5, \"47°36′35″N 122°19′59″W\"]], columns=[\"name\", \"population\", \"location\"])\n",
    "parameters = PropertySet(\n",
    "    {\"seed\": 4, \"nticks\": 18250, \"verbose\": True, \"beta\": 0.1, \"inf_mean\": 60, \"cbr\": 90, \"importation_period\": 180, \"importation_count\": 3}\n",
    ")"
   ]
  },
  {
   "cell_type": "code",
   "execution_count": 3,
   "metadata": {},
   "outputs": [
    {
     "name": "stdout",
     "output_type": "stream",
     "text": [
      "2025-03-05 11:51:52.629315: Creating the generic model…\n",
      "Initializing the generic model with 1 patches…\n",
      "2025-03-05 11:51:52.634797: Running the generic model for 18250 ticks…\n"
     ]
    },
    {
     "name": "stderr",
     "output_type": "stream",
     "text": [
      "100%|██████████| 18250/18250 [00:05<00:00, 3187.87it/s]"
     ]
    },
    {
     "name": "stdout",
     "output_type": "stream",
     "text": [
      "Completed the generic model at 2025-03-05 11:51:58.385907…\n",
      "Susceptibility_census:       366,264 µs\n",
      "Infection_census     :       883,462 µs\n",
      "Transmission_census  :       442,880 µs\n",
      "Model                :        48,838 µs\n",
      "Infect_Random_Agents :        43,316 µs\n",
      "Births_ConstantPop   :     2,604,078 µs\n",
      "Susceptibility       :        20,672 µs\n",
      "Infection            :     1,264,266 µs\n",
      "Transmission         :     5,442,254 µs\n",
      "=======================================\n",
      "Total:                    11,116,030 microseconds\n"
     ]
    },
    {
     "name": "stderr",
     "output_type": "stream",
     "text": [
      "\n"
     ]
    },
    {
     "data": {
      "text/plain": [
       "[<matplotlib.lines.Line2D at 0x171c9a110>]"
      ]
     },
     "execution_count": 3,
     "metadata": {},
     "output_type": "execute_result"
    },
    {
     "data": {
      "image/png": "[encoded data removed]",
      "text/plain": [
       "<Figure size 640x480 with 1 Axes>"
      ]
     },
     "metadata": {},
     "output_type": "display_data"
    }
   ],
   "source": [
    "model = Model(scenario, parameters)\n",
    "model.components = [\n",
    "    Infect_Random_Agents,\n",
    "    Births_ConstantPop,\n",
    "    Susceptibility,\n",
    "    Infection,\n",
    "    Transmission,\n",
    "]\n",
    "\n",
    "seed_infections_randomly(model, ninfections=1)\n",
    "model.run()\n",
    "plt.plot(model.patches.cases)"
   ]
  },
  {
   "cell_type": "markdown",
   "metadata": {},
   "source": [
    "### Sanity checks\n",
    "As always, check that we haven't broken anything - S+I+R = N at all times."
   ]
  },
  {
   "cell_type": "code",
   "execution_count": 4,
   "metadata": {},
   "outputs": [
    {
     "name": "stdout",
     "output_type": "stream",
     "text": [
      "S+I+R = N:  True\n"
     ]
    }
   ],
   "source": [
    "cases = np.squeeze(model.patches.cases)\n",
    "susc = np.squeeze(model.patches.susceptibility)\n",
    "rec = np.squeeze(model.patches.recovered)\n",
    "inc = np.squeeze(model.patches.incidence)\n",
    "births = np.squeeze(model.patches.births)\n",
    "pops = np.squeeze(model.patches.populations)[:-1]\n",
    "\n",
    "print(\"S+I+R = N:  \" + str(np.isclose(cases + susc + rec, pops).all()))"
   ]
  },
  {
   "cell_type": "markdown",
   "metadata": {},
   "source": [
    "### First scientific test check\n",
    "As usual, we will test this on a single simulation instance and demonstrate the analysis, before moving on to testing over a range of input values.  \n",
    "Here, we are interested in equilibrium behavior, so I first place a cut to exclude all infections that occur before day 10000. We then plot the data, an exponential distribution with the expected value of $\\frac{1}{R_0 \\mu}$, a best-fit exponential distribution to the data, and perform a KS test. "
   ]
  },
  {
   "cell_type": "code",
   "execution_count": 5,
   "metadata": {},
   "outputs": [
    {
     "data": {
      "image/png": "[encoded data removed]",
      "text/plain": [
       "<Figure size 640x480 with 1 Axes>"
      ]
     },
     "metadata": {},
     "output_type": "display_data"
    },
    {
     "data": {
      "text/plain": [
       "KstestResult(statistic=0.0026297177221289436, pvalue=0.7119393450505571, statistic_location=0.5698630136986301, statistic_sign=1)"
      ]
     },
     "execution_count": 5,
     "metadata": {},
     "output_type": "execute_result"
    }
   ],
   "source": [
    "mu = (1 + model.params.cbr / 1000) ** (1 / 365) - 1\n",
    "R0 = model.params.beta / (1 / model.params.inf_mean + mu)\n",
    "A = 1 / ((R0) * mu) / 365\n",
    "a = np.arange(0, 15, 100)\n",
    "\n",
    "\n",
    "def fit_age_at_infection(model):\n",
    "    cut = model.population.doi > 10000\n",
    "    data = (model.population.doi[cut] - model.population.dob[cut]) / 365\n",
    "    expfit = expon.fit(data)\n",
    "    fitqual = kstest(data, expon.cdf, expfit)\n",
    "    return data, expfit, fitqual\n",
    "\n",
    "\n",
    "data, expfit, fitqual = fit_age_at_infection(model)\n",
    "\n",
    "\n",
    "plt.hist(data, bins=a, density=True)\n",
    "plt.plot(a, 1 / A * np.exp(-a / A), \"-\", lw=4)\n",
    "plt.plot(a, expon.pdf(a, scale=expfit[1]), \"k--\")\n",
    "plt.xlabel(\"Age at infection (years)\")\n",
    "plt.ylabel(\"Density\")\n",
    "plt.legend(\n",
    "    [\n",
    "        f\"Expected exponential distribution - A = {A:.2f} years\",\n",
    "        f\"Best fit age of infection, A = {expfit[1]:.2f} years\",\n",
    "        \"Ages from simulation\",\n",
    "    ]\n",
    ")\n",
    "plt.show()\n",
    "fitqual"
   ]
  },
  {
   "cell_type": "markdown",
   "metadata": {},
   "source": [
    "### Second scientific test check\n",
    "As noted above, because of the censoring that mortality induces, the distributions of age at infection vs. fraction susceptible at a given age will both follow exponential behavior but with a slight difference in the mean of the distribution - for the fraction susceptible, that value will be $\\frac{1}{\\mu (R_0-1)}$.  We develop this second test below. "
   ]
  },
  {
   "cell_type": "code",
   "execution_count": 6,
   "metadata": {},
   "outputs": [
    {
     "data": {
      "image/png": "[encoded data removed]",
      "text/plain": [
       "<Figure size 640x480 with 1 Axes>"
      ]
     },
     "metadata": {},
     "output_type": "display_data"
    },
    {
     "name": "stdout",
     "output_type": "stream",
     "text": [
      "RMSE =  0.010549283479683653\n"
     ]
    }
   ],
   "source": [
    "A2 = 1 / ((R0 - 1) * mu) / 365\n",
    "\n",
    "\n",
    "def Scurve(x, lam):\n",
    "    return np.exp(-x / lam)\n",
    "\n",
    "\n",
    "def fit_susceptibility_vs_age(model):\n",
    "    cut = (model.population.susceptibility == 1) & (model.population.dob > 10000)\n",
    "    bins = np.linspace(0, 50, 1200)\n",
    "    age_years = (np.max(model.population.dob) - model.population.dob) / 365\n",
    "    n1 = np.histogram(age_years, bins=bins)[0]\n",
    "    n2 = np.histogram(age_years[cut], bins=bins)[0]\n",
    "    n1[n1 == 0] = 1\n",
    "    y1 = n2 / n1\n",
    "    popt, pcov = curve_fit(Scurve, bins[:-1] + np.mean(np.diff(bins)), y1, p0=2.5)\n",
    "    mse = mean_squared_error(y1, Scurve(bins[:-1] + np.mean(np.diff(bins)) / 2, *popt))\n",
    "    return y1, bins, popt, pcov, mse\n",
    "\n",
    "\n",
    "data, bins, popt, pcov, mse = fit_susceptibility_vs_age(model)\n",
    "\n",
    "# Plotting is a little more complicated here, want to plot at the bin centers and force y=1 at x=0\n",
    "plt.plot([0, *bins[:-1] + np.mean(np.diff(bins)) / 2], [1, *data], \".\")\n",
    "plt.plot([0, *bins[:-1] + np.mean(np.diff(bins)) / 2], [1, *(Scurve(bins[:-1] + np.mean(np.diff(bins)) / 2, A2))], lw=4)\n",
    "plt.plot([0, *bins[:-1] + np.mean(np.diff(bins)) / 2], [1, *(Scurve(bins[:-1] + np.mean(np.diff(bins)) / 2, *popt))], \"k--\")\n",
    "plt.legend(\n",
    "    [\"Simulation output\", f\"Expected exponential distribution - A = {A2:.2f} years\", f\"Best fit age of infection, A = {popt[0]:.2f} years\"]\n",
    ")\n",
    "plt.xlabel(\"Age (years)\")\n",
    "plt.ylabel(\"Fraction of individuals susceptible at age\")\n",
    "plt.show()\n",
    "print(\"RMSE = \", np.sqrt(mse))"
   ]
  },
  {
   "cell_type": "markdown",
   "metadata": {},
   "source": [
    "### Third scientific test\n",
    "As long as we are here, let's test that the age distribution of the population is correct.  With constant birth rate, equal to death rate, the population should have exponentially distributed ages with parameter $\\frac{1}{\\mu}$"
   ]
  },
  {
   "cell_type": "code",
   "execution_count": null,
   "metadata": {},
   "outputs": [
    {
     "data": {
      "image/png": "[encoded data removed]",
      "text/plain": [
       "<Figure size 640x480 with 1 Axes>"
      ]
     },
     "metadata": {},
     "output_type": "display_data"
    },
    {
     "data": {
      "text/plain": [
       "KstestResult(statistic=0.0030743868112242945, pvalue=0.3003816575133943, statistic_location=4.545205479452055, statistic_sign=-1)"
      ]
     },
     "execution_count": 7,
     "metadata": {},
     "output_type": "execute_result"
    }
   ],
   "source": [
    "# Test that population age distribution is correct\n",
    "def fit_population_age_distribution(model):\n",
    "    age_years = (np.max(model.population.dob) - model.population.dob) / 365\n",
    "    expfit = expon.fit(age_years)\n",
    "    fitqual = kstest(age_years, expon.cdf, expfit)\n",
    "    return age_years, expfit, fitqual\n",
    "\n",
    "\n",
    "age_years, expfit, fitqual = fit_population_age_distribution(model)\n",
    "mu = (1 + model.params.cbr / 1000) ** (1 / 365) - 1\n",
    "A = 1 / mu / 365\n",
    "a = np.arange(0, 60, 0.1)\n",
    "\n",
    "plt.hist(age_years, bins=a, density=True)\n",
    "plt.plot(a, 1 / A * np.exp(-a / A), \"-\", lw=4)\n",
    "plt.plot(a, expon.pdf(a, scale=expfit[1]), \"k--\")\n",
    "plt.xlabel(\"Age at infection (years)\")\n",
    "plt.ylabel(\"Density\")\n",
    "plt.legend(\n",
    "    [f\"Expected exponential distribution - A = {A:.2f} years\", f\"Best fit age of infection, A = {expfit[1]:.2f} years\", \"Simulation output\"]\n",
    ")\n",
    "plt.show()\n",
    "fitqual"
   ]
  },
  {
   "cell_type": "markdown",
   "metadata": {},
   "source": [
    "\n",
    "### Testing for many values\n",
    "OK, so now we are going to replicate the above for many values of R0 and cbr, as a scientific validity test."
   ]
  },
  {
   "cell_type": "code",
   "execution_count": 82,
   "metadata": {},
   "outputs": [
    {
     "name": "stdout",
     "output_type": "stream",
     "text": [
      "2025-03-05 11:36:02.661990: Creating the generic model…\n",
      "Initializing the generic model with 1 patches…\n",
      "2025-03-05 11:36:02.669820: Running the generic model for 18250 ticks…\n"
     ]
    },
    {
     "name": "stderr",
     "output_type": "stream",
     "text": [
      "100%|██████████| 18250/18250 [00:11<00:00, 1602.46it/s]\n"
     ]
    },
    {
     "name": "stdout",
     "output_type": "stream",
     "text": [
      "Completed the generic model at 2025-03-05 11:36:14.060124…\n",
      "Susceptibility_census:       774,684 µs\n",
      "Transmission_census  :     1,088,672 µs\n",
      "Infection_census     :     2,105,128 µs\n",
      "Model                :        56,364 µs\n",
      "Births_ConstantPop   :     4,088,518 µs\n",
      "Susceptibility       :        24,284 µs\n",
      "Transmission         :    11,456,052 µs\n",
      "Infection            :     2,650,698 µs\n",
      "Infect_Random_Agents :        71,584 µs\n",
      "=======================================\n",
      "Total:                    22,315,984 microseconds\n",
      "2025-03-05 11:36:14.301882: Creating the generic model…\n",
      "Initializing the generic model with 1 patches…\n",
      "2025-03-05 11:36:14.308244: Running the generic model for 18250 ticks…\n"
     ]
    },
    {
     "name": "stderr",
     "output_type": "stream",
     "text": [
      "100%|██████████| 18250/18250 [00:11<00:00, 1632.24it/s]\n"
     ]
    },
    {
     "name": "stdout",
     "output_type": "stream",
     "text": [
      "Completed the generic model at 2025-03-05 11:36:25.490454…\n",
      "Susceptibility_census:       778,640 µs\n",
      "Transmission_census  :     1,093,084 µs\n",
      "Infection_census     :     2,282,570 µs\n",
      "Model                :        57,098 µs\n",
      "Births_ConstantPop   :     3,806,180 µs\n",
      "Susceptibility       :        24,488 µs\n",
      "Transmission         :    11,180,378 µs\n",
      "Infection            :     2,603,264 µs\n",
      "Infect_Random_Agents :        71,182 µs\n",
      "=======================================\n",
      "Total:                    21,896,884 microseconds\n",
      "2025-03-05 11:36:25.699583: Creating the generic model…\n",
      "Initializing the generic model with 1 patches…\n",
      "2025-03-05 11:36:25.706255: Running the generic model for 18250 ticks…\n"
     ]
    },
    {
     "name": "stderr",
     "output_type": "stream",
     "text": [
      "100%|██████████| 18250/18250 [00:13<00:00, 1346.37it/s]\n"
     ]
    },
    {
     "name": "stdout",
     "output_type": "stream",
     "text": [
      "Completed the generic model at 2025-03-05 11:36:39.262750…\n",
      "Susceptibility_census:       786,610 µs\n",
      "Transmission_census  :     1,101,424 µs\n",
      "Infection_census     :     2,425,652 µs\n",
      "Model                :        57,672 µs\n",
      "Births_ConstantPop   :     4,449,870 µs\n",
      "Susceptibility       :        24,026 µs\n",
      "Transmission         :    14,596,602 µs\n",
      "Infection            :     3,125,034 µs\n",
      "Infect_Random_Agents :        66,484 µs\n",
      "=======================================\n",
      "Total:                    26,633,374 microseconds\n",
      "2025-03-05 11:36:39.501134: Creating the generic model…\n",
      "Initializing the generic model with 1 patches…\n",
      "2025-03-05 11:36:39.506813: Running the generic model for 18250 ticks…\n"
     ]
    },
    {
     "name": "stderr",
     "output_type": "stream",
     "text": [
      "100%|██████████| 18250/18250 [00:13<00:00, 1325.63it/s]\n"
     ]
    },
    {
     "name": "stdout",
     "output_type": "stream",
     "text": [
      "Completed the generic model at 2025-03-05 11:36:53.275187…\n",
      "Susceptibility_census:       760,790 µs\n",
      "Transmission_census  :     1,088,408 µs\n",
      "Infection_census     :     2,073,978 µs\n",
      "Model                :        54,920 µs\n",
      "Births_ConstantPop   :     4,325,138 µs\n",
      "Susceptibility       :        23,326 µs\n",
      "Transmission         :    15,829,898 µs\n",
      "Infection            :     2,849,768 µs\n",
      "Infect_Random_Agents :        62,352 µs\n",
      "=======================================\n",
      "Total:                    27,068,578 microseconds\n",
      "2025-03-05 11:36:53.492561: Creating the generic model…\n",
      "Initializing the generic model with 1 patches…\n",
      "2025-03-05 11:36:53.498783: Running the generic model for 18250 ticks…\n"
     ]
    },
    {
     "name": "stderr",
     "output_type": "stream",
     "text": [
      "100%|██████████| 18250/18250 [00:11<00:00, 1537.32it/s]\n"
     ]
    },
    {
     "name": "stdout",
     "output_type": "stream",
     "text": [
      "Completed the generic model at 2025-03-05 11:37:05.371271…\n",
      "Susceptibility_census:       733,874 µs\n",
      "Transmission_census  :     1,056,934 µs\n",
      "Infection_census     :     2,086,204 µs\n",
      "Model                :        54,230 µs\n",
      "Births_ConstantPop   :     4,151,050 µs\n",
      "Susceptibility       :        23,390 µs\n",
      "Transmission         :    12,571,008 µs\n",
      "Infection            :     2,561,694 µs\n",
      "Infect_Random_Agents :        63,712 µs\n",
      "=======================================\n",
      "Total:                    23,302,096 microseconds\n",
      "2025-03-05 11:37:05.580482: Creating the generic model…\n",
      "Initializing the generic model with 1 patches…\n",
      "2025-03-05 11:37:05.586531: Running the generic model for 18250 ticks…\n"
     ]
    },
    {
     "name": "stderr",
     "output_type": "stream",
     "text": [
      "100%|██████████| 18250/18250 [00:12<00:00, 1437.49it/s]\n"
     ]
    },
    {
     "name": "stdout",
     "output_type": "stream",
     "text": [
      "Completed the generic model at 2025-03-05 11:37:18.283605…\n",
      "Susceptibility_census:       779,678 µs\n",
      "Transmission_census  :     1,114,018 µs\n",
      "Infection_census     :     1,990,362 µs\n",
      "Model                :        55,186 µs\n",
      "Births_ConstantPop   :     4,258,288 µs\n",
      "Susceptibility       :        24,384 µs\n",
      "Transmission         :    13,637,730 µs\n",
      "Infection            :     2,993,460 µs\n",
      "Infect_Random_Agents :        68,746 µs\n",
      "=======================================\n",
      "Total:                    24,921,852 microseconds\n",
      "2025-03-05 11:37:18.522417: Creating the generic model…\n",
      "Initializing the generic model with 1 patches…\n",
      "2025-03-05 11:37:18.527739: Running the generic model for 18250 ticks…\n"
     ]
    },
    {
     "name": "stderr",
     "output_type": "stream",
     "text": [
      "100%|██████████| 18250/18250 [00:17<00:00, 1020.84it/s]\n"
     ]
    },
    {
     "name": "stdout",
     "output_type": "stream",
     "text": [
      "Completed the generic model at 2025-03-05 11:37:36.406569…\n",
      "Susceptibility_census:       830,494 µs\n",
      "Transmission_census  :     1,161,888 µs\n",
      "Infection_census     :     2,428,594 µs\n",
      "Model                :        61,662 µs\n",
      "Births_ConstantPop   :     4,817,260 µs\n",
      "Susceptibility       :        25,410 µs\n",
      "Transmission         :    22,707,088 µs\n",
      "Infection            :     3,115,486 µs\n",
      "Infect_Random_Agents :        64,180 µs\n",
      "=======================================\n",
      "Total:                    35,212,062 microseconds\n",
      "2025-03-05 11:37:36.609134: Creating the generic model…\n",
      "Initializing the generic model with 1 patches…\n",
      "2025-03-05 11:37:36.614826: Running the generic model for 18250 ticks…\n"
     ]
    },
    {
     "name": "stderr",
     "output_type": "stream",
     "text": [
      "100%|██████████| 18250/18250 [00:13<00:00, 1314.47it/s]\n"
     ]
    },
    {
     "name": "stdout",
     "output_type": "stream",
     "text": [
      "Completed the generic model at 2025-03-05 11:37:50.499996…\n",
      "Susceptibility_census:       790,988 µs\n",
      "Transmission_census  :     1,090,846 µs\n",
      "Infection_census     :     2,492,584 µs\n",
      "Model                :        60,130 µs\n",
      "Births_ConstantPop   :     4,499,842 µs\n",
      "Susceptibility       :        24,880 µs\n",
      "Transmission         :    15,523,394 µs\n",
      "Infection            :     2,724,460 µs\n",
      "Infect_Random_Agents :        66,244 µs\n",
      "=======================================\n",
      "Total:                    27,273,368 microseconds\n",
      "2025-03-05 11:37:50.687365: Creating the generic model…\n",
      "Initializing the generic model with 1 patches…\n",
      "2025-03-05 11:37:50.694184: Running the generic model for 18250 ticks…\n"
     ]
    },
    {
     "name": "stderr",
     "output_type": "stream",
     "text": [
      "100%|██████████| 18250/18250 [00:12<00:00, 1498.05it/s]\n"
     ]
    },
    {
     "name": "stdout",
     "output_type": "stream",
     "text": [
      "Completed the generic model at 2025-03-05 11:38:02.878965…\n",
      "Susceptibility_census:       756,962 µs\n",
      "Transmission_census  :     1,076,724 µs\n",
      "Infection_census     :     2,481,320 µs\n",
      "Model                :        56,204 µs\n",
      "Births_ConstantPop   :     4,200,974 µs\n",
      "Susceptibility       :        23,938 µs\n",
      "Transmission         :    12,570,836 µs\n",
      "Infection            :     2,677,884 µs\n",
      "Infect_Random_Agents :        64,472 µs\n",
      "=======================================\n",
      "Total:                    23,909,314 microseconds\n",
      "2025-03-05 11:38:03.109286: Creating the generic model…\n",
      "Initializing the generic model with 1 patches…\n",
      "2025-03-05 11:38:03.115014: Running the generic model for 18250 ticks…\n"
     ]
    },
    {
     "name": "stderr",
     "output_type": "stream",
     "text": [
      "100%|██████████| 18250/18250 [00:19<00:00, 942.58it/s] \n"
     ]
    },
    {
     "name": "stdout",
     "output_type": "stream",
     "text": [
      "Completed the generic model at 2025-03-05 11:38:22.478107…\n",
      "Susceptibility_census:       858,094 µs\n",
      "Transmission_census  :     1,168,838 µs\n",
      "Infection_census     :     2,552,126 µs\n",
      "Model                :        60,970 µs\n",
      "Births_ConstantPop   :     5,350,408 µs\n",
      "Susceptibility       :        25,258 µs\n",
      "Transmission         :    24,441,582 µs\n",
      "Infection            :     3,627,330 µs\n",
      "Infect_Random_Agents :        68,752 µs\n",
      "=======================================\n",
      "Total:                    38,153,358 microseconds\n",
      "2025-03-05 11:38:22.689474: Creating the generic model…\n",
      "Initializing the generic model with 1 patches…\n",
      "2025-03-05 11:38:22.705394: Running the generic model for 18250 ticks…\n"
     ]
    },
    {
     "name": "stderr",
     "output_type": "stream",
     "text": [
      "100%|██████████| 18250/18250 [00:17<00:00, 1029.96it/s]\n"
     ]
    },
    {
     "name": "stdout",
     "output_type": "stream",
     "text": [
      "Completed the generic model at 2025-03-05 11:38:40.425785…\n",
      "Susceptibility_census:       810,720 µs\n",
      "Transmission_census  :     1,122,654 µs\n",
      "Infection_census     :     2,345,088 µs\n",
      "Model                :        58,958 µs\n",
      "Births_ConstantPop   :     4,656,326 µs\n",
      "Susceptibility       :        24,600 µs\n",
      "Transmission         :    22,681,496 µs\n",
      "Infection            :     3,145,600 µs\n",
      "Infect_Random_Agents :        64,826 µs\n",
      "=======================================\n",
      "Total:                    34,910,268 microseconds\n",
      "2025-03-05 11:38:40.603544: Creating the generic model…\n",
      "Initializing the generic model with 1 patches…\n",
      "2025-03-05 11:38:40.609059: Running the generic model for 18250 ticks…\n"
     ]
    },
    {
     "name": "stderr",
     "output_type": "stream",
     "text": [
      "100%|██████████| 18250/18250 [00:12<00:00, 1463.45it/s]\n"
     ]
    },
    {
     "name": "stdout",
     "output_type": "stream",
     "text": [
      "Completed the generic model at 2025-03-05 11:38:53.080933…\n",
      "Susceptibility_census:       739,168 µs\n",
      "Transmission_census  :     1,047,452 µs\n",
      "Infection_census     :     2,591,008 µs\n",
      "Model                :        55,006 µs\n",
      "Births_ConstantPop   :     3,775,266 µs\n",
      "Susceptibility       :        24,002 µs\n",
      "Transmission         :    13,745,798 µs\n",
      "Infection            :     2,444,078 µs\n",
      "Infect_Random_Agents :        62,196 µs\n",
      "=======================================\n",
      "Total:                    24,483,974 microseconds\n",
      "2025-03-05 11:38:53.313644: Creating the generic model…\n",
      "Initializing the generic model with 1 patches…\n",
      "2025-03-05 11:38:53.320027: Running the generic model for 18250 ticks…\n"
     ]
    },
    {
     "name": "stderr",
     "output_type": "stream",
     "text": [
      "100%|██████████| 18250/18250 [00:14<00:00, 1263.85it/s]\n"
     ]
    },
    {
     "name": "stdout",
     "output_type": "stream",
     "text": [
      "Completed the generic model at 2025-03-05 11:39:07.761854…\n",
      "Susceptibility_census:       747,498 µs\n",
      "Transmission_census  :     1,041,872 µs\n",
      "Infection_census     :     2,925,782 µs\n",
      "Model                :        58,572 µs\n",
      "Births_ConstantPop   :     3,994,516 µs\n",
      "Susceptibility       :        24,338 µs\n",
      "Transmission         :    17,238,978 µs\n",
      "Infection            :     2,301,428 µs\n",
      "Infect_Random_Agents :        61,770 µs\n",
      "=======================================\n",
      "Total:                    28,394,754 microseconds\n",
      "2025-03-05 11:39:07.962141: Creating the generic model…\n",
      "Initializing the generic model with 1 patches…\n",
      "2025-03-05 11:39:07.968405: Running the generic model for 18250 ticks…\n"
     ]
    },
    {
     "name": "stderr",
     "output_type": "stream",
     "text": [
      "100%|██████████| 18250/18250 [00:13<00:00, 1327.56it/s]\n"
     ]
    },
    {
     "name": "stdout",
     "output_type": "stream",
     "text": [
      "Completed the generic model at 2025-03-05 11:39:21.716729…\n",
      "Susceptibility_census:       783,256 µs\n",
      "Transmission_census  :     1,099,016 µs\n",
      "Infection_census     :     2,510,334 µs\n",
      "Model                :        55,924 µs\n",
      "Births_ConstantPop   :     4,251,740 µs\n",
      "Susceptibility       :        24,712 µs\n",
      "Transmission         :    15,086,388 µs\n",
      "Infection            :     3,129,212 µs\n",
      "Infect_Random_Agents :        68,166 µs\n",
      "=======================================\n",
      "Total:                    27,008,748 microseconds\n",
      "2025-03-05 11:39:21.972583: Creating the generic model…\n",
      "Initializing the generic model with 1 patches…\n",
      "2025-03-05 11:39:21.978754: Running the generic model for 18250 ticks…\n"
     ]
    },
    {
     "name": "stderr",
     "output_type": "stream",
     "text": [
      "100%|██████████| 18250/18250 [00:12<00:00, 1459.69it/s]\n"
     ]
    },
    {
     "name": "stdout",
     "output_type": "stream",
     "text": [
      "Completed the generic model at 2025-03-05 11:39:34.482639…\n",
      "Susceptibility_census:       741,232 µs\n",
      "Transmission_census  :     1,077,648 µs\n",
      "Infection_census     :     2,635,834 µs\n",
      "Model                :        53,262 µs\n",
      "Births_ConstantPop   :     4,243,270 µs\n",
      "Susceptibility       :        22,934 µs\n",
      "Transmission         :    12,829,384 µs\n",
      "Infection            :     2,886,702 µs\n",
      "Infect_Random_Agents :        64,966 µs\n",
      "=======================================\n",
      "Total:                    24,555,232 microseconds\n",
      "2025-03-05 11:39:34.685246: Creating the generic model…\n",
      "Initializing the generic model with 1 patches…\n",
      "2025-03-05 11:39:34.691202: Running the generic model for 18250 ticks…\n"
     ]
    },
    {
     "name": "stderr",
     "output_type": "stream",
     "text": [
      "100%|██████████| 18250/18250 [00:14<00:00, 1300.75it/s]\n"
     ]
    },
    {
     "name": "stdout",
     "output_type": "stream",
     "text": [
      "Completed the generic model at 2025-03-05 11:39:48.722650…\n",
      "Susceptibility_census:       810,148 µs\n",
      "Transmission_census  :     1,126,346 µs\n",
      "Infection_census     :     2,464,032 µs\n",
      "Model                :        57,044 µs\n",
      "Births_ConstantPop   :     4,705,478 µs\n",
      "Susceptibility       :        24,480 µs\n",
      "Transmission         :    15,164,414 µs\n",
      "Infection            :     3,141,586 µs\n",
      "Infect_Random_Agents :        70,322 µs\n",
      "=======================================\n",
      "Total:                    27,563,850 microseconds\n",
      "2025-03-05 11:39:48.955419: Creating the generic model…\n",
      "Initializing the generic model with 1 patches…\n",
      "2025-03-05 11:39:48.960951: Running the generic model for 18250 ticks…\n"
     ]
    },
    {
     "name": "stderr",
     "output_type": "stream",
     "text": [
      "100%|██████████| 18250/18250 [00:19<00:00, 955.96it/s] \n"
     ]
    },
    {
     "name": "stdout",
     "output_type": "stream",
     "text": [
      "Completed the generic model at 2025-03-05 11:40:08.053234…\n",
      "Susceptibility_census:       807,340 µs\n",
      "Transmission_census  :     1,122,878 µs\n",
      "Infection_census     :     2,688,008 µs\n",
      "Model                :        58,506 µs\n",
      "Births_ConstantPop   :     5,225,120 µs\n",
      "Susceptibility       :        24,438 µs\n",
      "Transmission         :    24,379,374 µs\n",
      "Infection            :     3,284,218 µs\n",
      "Infect_Random_Agents :        62,640 µs\n",
      "=======================================\n",
      "Total:                    37,652,522 microseconds\n",
      "2025-03-05 11:40:08.253281: Creating the generic model…\n",
      "Initializing the generic model with 1 patches…\n",
      "2025-03-05 11:40:08.259244: Running the generic model for 18250 ticks…\n"
     ]
    },
    {
     "name": "stderr",
     "output_type": "stream",
     "text": [
      "100%|██████████| 18250/18250 [00:10<00:00, 1816.23it/s]\n"
     ]
    },
    {
     "name": "stdout",
     "output_type": "stream",
     "text": [
      "Completed the generic model at 2025-03-05 11:40:18.308777…\n",
      "Susceptibility_census:       703,132 µs\n",
      "Transmission_census  :     1,017,148 µs\n",
      "Infection_census     :     2,335,128 µs\n",
      "Model                :        51,150 µs\n",
      "Births_ConstantPop   :     3,341,016 µs\n",
      "Susceptibility       :        22,628 µs\n",
      "Transmission         :     9,880,914 µs\n",
      "Infection            :     2,276,606 µs\n",
      "Infect_Random_Agents :        62,824 µs\n",
      "=======================================\n",
      "Total:                    19,690,546 microseconds\n",
      "2025-03-05 11:40:18.533147: Creating the generic model…\n",
      "Initializing the generic model with 1 patches…\n",
      "2025-03-05 11:40:18.539244: Running the generic model for 18250 ticks…\n"
     ]
    },
    {
     "name": "stderr",
     "output_type": "stream",
     "text": [
      "100%|██████████| 18250/18250 [00:14<00:00, 1244.71it/s]\n"
     ]
    },
    {
     "name": "stdout",
     "output_type": "stream",
     "text": [
      "Completed the generic model at 2025-03-05 11:40:33.202435…\n",
      "Susceptibility_census:       788,048 µs\n",
      "Transmission_census  :     1,104,776 µs\n",
      "Infection_census     :     2,163,408 µs\n",
      "Model                :        56,026 µs\n",
      "Births_ConstantPop   :     4,452,950 µs\n",
      "Susceptibility       :        24,050 µs\n",
      "Transmission         :    17,302,418 µs\n",
      "Infection            :     2,880,476 µs\n",
      "Infect_Random_Agents :        64,590 µs\n",
      "=======================================\n",
      "Total:                    28,836,742 microseconds\n",
      "2025-03-05 11:40:33.396330: Creating the generic model…\n",
      "Initializing the generic model with 1 patches…\n",
      "2025-03-05 11:40:33.401452: Running the generic model for 18250 ticks…\n"
     ]
    },
    {
     "name": "stderr",
     "output_type": "stream",
     "text": [
      "100%|██████████| 18250/18250 [00:18<00:00, 980.42it/s] \n"
     ]
    },
    {
     "name": "stdout",
     "output_type": "stream",
     "text": [
      "Completed the generic model at 2025-03-05 11:40:52.017259…\n",
      "Susceptibility_census:       839,934 µs\n",
      "Transmission_census  :     1,161,288 µs\n",
      "Infection_census     :     2,632,452 µs\n",
      "Model                :        59,862 µs\n",
      "Births_ConstantPop   :     5,356,104 µs\n",
      "Susceptibility       :        25,062 µs\n",
      "Transmission         :    23,134,544 µs\n",
      "Infection            :     3,404,442 µs\n",
      "Infect_Random_Agents :        66,994 µs\n",
      "=======================================\n",
      "Total:                    36,680,682 microseconds\n",
      "2025-03-05 11:40:52.212225: Creating the generic model…\n",
      "Initializing the generic model with 1 patches…\n",
      "2025-03-05 11:40:52.218112: Running the generic model for 18250 ticks…\n"
     ]
    },
    {
     "name": "stderr",
     "output_type": "stream",
     "text": [
      "100%|██████████| 18250/18250 [00:13<00:00, 1400.70it/s]\n"
     ]
    },
    {
     "name": "stdout",
     "output_type": "stream",
     "text": [
      "Completed the generic model at 2025-03-05 11:41:05.248479…\n",
      "Susceptibility_census:       764,428 µs\n",
      "Transmission_census  :     1,088,994 µs\n",
      "Infection_census     :     2,157,972 µs\n",
      "Model                :        55,166 µs\n",
      "Births_ConstantPop   :     4,142,118 µs\n",
      "Susceptibility       :        23,924 µs\n",
      "Transmission         :    14,506,636 µs\n",
      "Infection            :     2,789,092 µs\n",
      "Infect_Random_Agents :        63,656 µs\n",
      "=======================================\n",
      "Total:                    25,591,986 microseconds\n",
      "2025-03-05 11:41:05.488781: Creating the generic model…\n",
      "Initializing the generic model with 1 patches…\n",
      "2025-03-05 11:41:05.496139: Running the generic model for 18250 ticks…\n"
     ]
    },
    {
     "name": "stderr",
     "output_type": "stream",
     "text": [
      "100%|██████████| 18250/18250 [00:12<00:00, 1488.48it/s]\n"
     ]
    },
    {
     "name": "stdout",
     "output_type": "stream",
     "text": [
      "Completed the generic model at 2025-03-05 11:41:17.758304…\n",
      "Susceptibility_census:       764,938 µs\n",
      "Transmission_census  :     1,095,428 µs\n",
      "Infection_census     :     2,859,594 µs\n",
      "Model                :        55,308 µs\n",
      "Births_ConstantPop   :     4,110,892 µs\n",
      "Susceptibility       :        23,960 µs\n",
      "Transmission         :    12,106,774 µs\n",
      "Infection            :     2,969,814 µs\n",
      "Infect_Random_Agents :        69,904 µs\n",
      "=======================================\n",
      "Total:                    24,056,612 microseconds\n",
      "2025-03-05 11:41:17.991567: Creating the generic model…\n",
      "Initializing the generic model with 1 patches…\n",
      "2025-03-05 11:41:17.999276: Running the generic model for 18250 ticks…\n"
     ]
    },
    {
     "name": "stderr",
     "output_type": "stream",
     "text": [
      "100%|██████████| 18250/18250 [00:11<00:00, 1526.12it/s]\n"
     ]
    },
    {
     "name": "stdout",
     "output_type": "stream",
     "text": [
      "Completed the generic model at 2025-03-05 11:41:29.959079…\n",
      "Susceptibility_census:       722,252 µs\n",
      "Transmission_census  :     1,059,040 µs\n",
      "Infection_census     :     2,302,688 µs\n",
      "Model                :        51,320 µs\n",
      "Births_ConstantPop   :     4,318,404 µs\n",
      "Susceptibility       :        22,758 µs\n",
      "Transmission         :    11,832,386 µs\n",
      "Infection            :     2,913,968 µs\n",
      "Infect_Random_Agents :        63,958 µs\n",
      "=======================================\n",
      "Total:                    23,286,774 microseconds\n",
      "2025-03-05 11:41:30.205788: Creating the generic model…\n",
      "Initializing the generic model with 1 patches…\n",
      "2025-03-05 11:41:30.211681: Running the generic model for 18250 ticks…\n"
     ]
    },
    {
     "name": "stderr",
     "output_type": "stream",
     "text": [
      "100%|██████████| 18250/18250 [00:12<00:00, 1452.25it/s]\n"
     ]
    },
    {
     "name": "stdout",
     "output_type": "stream",
     "text": [
      "Completed the generic model at 2025-03-05 11:41:42.779676…\n",
      "Susceptibility_census:       587,636 µs\n",
      "Transmission_census  :       927,890 µs\n",
      "Infection_census     :     2,331,468 µs\n",
      "Model                :        45,408 µs\n",
      "Births_ConstantPop   :     3,076,464 µs\n",
      "Susceptibility       :        19,752 µs\n",
      "Transmission         :    15,708,902 µs\n",
      "Infection            :     2,031,348 µs\n",
      "Infect_Random_Agents :        40,202 µs\n",
      "=======================================\n",
      "Total:                    24,769,070 microseconds\n",
      "2025-03-05 11:41:43.006397: Creating the generic model…\n",
      "Initializing the generic model with 1 patches…\n",
      "2025-03-05 11:41:43.012335: Running the generic model for 18250 ticks…\n"
     ]
    },
    {
     "name": "stderr",
     "output_type": "stream",
     "text": [
      "100%|██████████| 18250/18250 [00:13<00:00, 1355.35it/s]\n"
     ]
    },
    {
     "name": "stdout",
     "output_type": "stream",
     "text": [
      "Completed the generic model at 2025-03-05 11:41:56.478649…\n",
      "Susceptibility_census:       640,562 µs\n",
      "Transmission_census  :       981,854 µs\n",
      "Infection_census     :     2,531,872 µs\n",
      "Model                :        48,546 µs\n",
      "Births_ConstantPop   :     3,303,858 µs\n",
      "Susceptibility       :        21,126 µs\n",
      "Transmission         :    16,793,946 µs\n",
      "Infection            :     2,154,484 µs\n",
      "Infect_Random_Agents :        46,260 µs\n",
      "=======================================\n",
      "Total:                    26,522,508 microseconds\n",
      "2025-03-05 11:41:56.695190: Creating the generic model…\n",
      "Initializing the generic model with 1 patches…\n",
      "2025-03-05 11:41:56.701505: Running the generic model for 18250 ticks…\n"
     ]
    },
    {
     "name": "stderr",
     "output_type": "stream",
     "text": [
      "100%|██████████| 18250/18250 [00:12<00:00, 1507.22it/s]\n"
     ]
    },
    {
     "name": "stdout",
     "output_type": "stream",
     "text": [
      "Completed the generic model at 2025-03-05 11:42:08.811425…\n",
      "Susceptibility_census:       753,112 µs\n",
      "Transmission_census  :     1,072,542 µs\n",
      "Infection_census     :     2,538,496 µs\n",
      "Model                :        54,994 µs\n",
      "Births_ConstantPop   :     4,449,606 µs\n",
      "Susceptibility       :        23,364 µs\n",
      "Transmission         :    11,818,082 µs\n",
      "Infection            :     2,989,220 µs\n",
      "Infect_Random_Agents :        68,066 µs\n",
      "=======================================\n",
      "Total:                    23,767,482 microseconds\n",
      "2025-03-05 11:42:09.056969: Creating the generic model…\n",
      "Initializing the generic model with 1 patches…\n",
      "2025-03-05 11:42:09.063142: Running the generic model for 18250 ticks…\n"
     ]
    },
    {
     "name": "stderr",
     "output_type": "stream",
     "text": [
      "100%|██████████| 18250/18250 [00:11<00:00, 1532.97it/s]\n"
     ]
    },
    {
     "name": "stdout",
     "output_type": "stream",
     "text": [
      "Completed the generic model at 2025-03-05 11:42:20.969529…\n",
      "Susceptibility_census:       746,572 µs\n",
      "Transmission_census  :     1,080,960 µs\n",
      "Infection_census     :     2,375,064 µs\n",
      "Model                :        52,710 µs\n",
      "Births_ConstantPop   :     4,232,902 µs\n",
      "Susceptibility       :        23,282 µs\n",
      "Transmission         :    11,861,728 µs\n",
      "Infection            :     2,931,438 µs\n",
      "Infect_Random_Agents :        64,788 µs\n",
      "=======================================\n",
      "Total:                    23,369,444 microseconds\n",
      "2025-03-05 11:42:21.180430: Creating the generic model…\n",
      "Initializing the generic model with 1 patches…\n",
      "2025-03-05 11:42:21.186778: Running the generic model for 18250 ticks…\n"
     ]
    },
    {
     "name": "stderr",
     "output_type": "stream",
     "text": [
      "100%|██████████| 18250/18250 [00:12<00:00, 1445.81it/s]\n"
     ]
    },
    {
     "name": "stdout",
     "output_type": "stream",
     "text": [
      "Completed the generic model at 2025-03-05 11:42:33.810737…\n",
      "Susceptibility_census:       770,730 µs\n",
      "Transmission_census  :     1,090,574 µs\n",
      "Infection_census     :     2,457,592 µs\n",
      "Model                :        54,658 µs\n",
      "Births_ConstantPop   :     4,461,406 µs\n",
      "Susceptibility       :        24,232 µs\n",
      "Transmission         :    12,665,486 µs\n",
      "Infection            :     3,190,602 µs\n",
      "Infect_Random_Agents :        67,658 µs\n",
      "=======================================\n",
      "Total:                    24,782,938 microseconds\n",
      "2025-03-05 11:42:34.069758: Creating the generic model…\n",
      "Initializing the generic model with 1 patches…\n",
      "2025-03-05 11:42:34.076024: Running the generic model for 18250 ticks…\n"
     ]
    },
    {
     "name": "stderr",
     "output_type": "stream",
     "text": [
      "100%|██████████| 18250/18250 [00:12<00:00, 1485.67it/s]\n"
     ]
    },
    {
     "name": "stdout",
     "output_type": "stream",
     "text": [
      "Completed the generic model at 2025-03-05 11:42:46.361284…\n",
      "Susceptibility_census:       763,604 µs\n",
      "Transmission_census  :     1,101,398 µs\n",
      "Infection_census     :     2,611,390 µs\n",
      "Model                :        54,832 µs\n",
      "Births_ConstantPop   :     4,344,314 µs\n",
      "Susceptibility       :        23,834 µs\n",
      "Transmission         :    12,158,362 µs\n",
      "Infection            :     2,981,592 µs\n",
      "Infect_Random_Agents :        68,970 µs\n",
      "=======================================\n",
      "Total:                    24,108,296 microseconds\n",
      "2025-03-05 11:42:46.589500: Creating the generic model…\n",
      "Initializing the generic model with 1 patches…\n",
      "2025-03-05 11:42:46.595492: Running the generic model for 18250 ticks…\n"
     ]
    },
    {
     "name": "stderr",
     "output_type": "stream",
     "text": [
      "100%|██████████| 18250/18250 [00:13<00:00, 1380.05it/s]\n"
     ]
    },
    {
     "name": "stdout",
     "output_type": "stream",
     "text": [
      "Completed the generic model at 2025-03-05 11:42:59.820811…\n",
      "Susceptibility_census:       754,556 µs\n",
      "Transmission_census  :     1,081,494 µs\n",
      "Infection_census     :     2,349,472 µs\n",
      "Model                :        54,292 µs\n",
      "Births_ConstantPop   :     4,812,156 µs\n",
      "Susceptibility       :        23,434 µs\n",
      "Transmission         :    13,491,828 µs\n",
      "Infection            :     3,357,832 µs\n",
      "Infect_Random_Agents :        67,842 µs\n",
      "=======================================\n",
      "Total:                    25,992,906 microseconds\n",
      "2025-03-05 11:43:00.041548: Creating the generic model…\n",
      "Initializing the generic model with 1 patches…\n",
      "2025-03-05 11:43:00.047738: Running the generic model for 18250 ticks…\n"
     ]
    },
    {
     "name": "stderr",
     "output_type": "stream",
     "text": [
      "100%|██████████| 18250/18250 [00:12<00:00, 1464.45it/s]\n"
     ]
    },
    {
     "name": "stdout",
     "output_type": "stream",
     "text": [
      "Completed the generic model at 2025-03-05 11:43:12.510861…\n",
      "Susceptibility_census:       673,328 µs\n",
      "Transmission_census  :     1,003,090 µs\n",
      "Infection_census     :     2,690,668 µs\n",
      "Model                :        50,874 µs\n",
      "Births_ConstantPop   :     4,547,528 µs\n",
      "Susceptibility       :        21,664 µs\n",
      "Transmission         :    12,520,064 µs\n",
      "Infection            :     2,954,702 µs\n",
      "Infect_Random_Agents :        57,336 µs\n",
      "=======================================\n",
      "Total:                    24,519,254 microseconds\n",
      "2025-03-05 11:43:12.746432: Creating the generic model…\n",
      "Initializing the generic model with 1 patches…\n",
      "2025-03-05 11:43:12.752154: Running the generic model for 18250 ticks…\n"
     ]
    },
    {
     "name": "stderr",
     "output_type": "stream",
     "text": [
      "100%|██████████| 18250/18250 [00:17<00:00, 1041.30it/s]\n"
     ]
    },
    {
     "name": "stdout",
     "output_type": "stream",
     "text": [
      "Completed the generic model at 2025-03-05 11:43:30.279725…\n",
      "Susceptibility_census:       755,874 µs\n",
      "Transmission_census  :     1,089,502 µs\n",
      "Infection_census     :     2,379,464 µs\n",
      "Model                :        56,112 µs\n",
      "Births_ConstantPop   :     4,669,946 µs\n",
      "Susceptibility       :        23,312 µs\n",
      "Transmission         :    22,730,238 µs\n",
      "Infection            :     2,797,076 µs\n",
      "Infect_Random_Agents :        58,176 µs\n",
      "=======================================\n",
      "Total:                    34,559,700 microseconds\n",
      "2025-03-05 11:43:30.481532: Creating the generic model…\n",
      "Initializing the generic model with 1 patches…\n",
      "2025-03-05 11:43:30.487097: Running the generic model for 18250 ticks…\n"
     ]
    },
    {
     "name": "stderr",
     "output_type": "stream",
     "text": [
      "100%|██████████| 18250/18250 [00:17<00:00, 1056.83it/s]\n"
     ]
    },
    {
     "name": "stdout",
     "output_type": "stream",
     "text": [
      "Completed the generic model at 2025-03-05 11:43:47.756961…\n",
      "Susceptibility_census:       812,880 µs\n",
      "Transmission_census  :     1,131,604 µs\n",
      "Infection_census     :     2,810,912 µs\n",
      "Model                :        58,360 µs\n",
      "Births_ConstantPop   :     5,433,324 µs\n",
      "Susceptibility       :        24,650 µs\n",
      "Transmission         :    20,414,178 µs\n",
      "Infection            :     3,258,390 µs\n",
      "Infect_Random_Agents :        67,480 µs\n",
      "=======================================\n",
      "Total:                    34,011,778 microseconds\n",
      "2025-03-05 11:43:47.973236: Creating the generic model…\n",
      "Initializing the generic model with 1 patches…\n",
      "2025-03-05 11:43:47.979042: Running the generic model for 18250 ticks…\n"
     ]
    },
    {
     "name": "stderr",
     "output_type": "stream",
     "text": [
      "100%|██████████| 18250/18250 [00:14<00:00, 1234.69it/s]\n"
     ]
    },
    {
     "name": "stdout",
     "output_type": "stream",
     "text": [
      "Completed the generic model at 2025-03-05 11:44:02.761281…\n",
      "Susceptibility_census:       650,108 µs\n",
      "Transmission_census  :       991,188 µs\n",
      "Infection_census     :     2,363,326 µs\n",
      "Model                :        49,108 µs\n",
      "Births_ConstantPop   :     3,482,250 µs\n",
      "Susceptibility       :        20,658 µs\n",
      "Transmission         :    19,407,850 µs\n",
      "Infection            :     2,130,944 µs\n",
      "Infect_Random_Agents :        45,896 µs\n",
      "=======================================\n",
      "Total:                    29,141,328 microseconds\n",
      "2025-03-05 11:44:02.939617: Creating the generic model…\n",
      "Initializing the generic model with 1 patches…\n",
      "2025-03-05 11:44:02.944963: Running the generic model for 18250 ticks…\n"
     ]
    },
    {
     "name": "stderr",
     "output_type": "stream",
     "text": [
      "100%|██████████| 18250/18250 [00:14<00:00, 1299.02it/s]\n"
     ]
    },
    {
     "name": "stdout",
     "output_type": "stream",
     "text": [
      "Completed the generic model at 2025-03-05 11:44:16.995245…\n",
      "Susceptibility_census:       671,424 µs\n",
      "Transmission_census  :     1,007,408 µs\n",
      "Infection_census     :     2,481,442 µs\n",
      "Model                :        50,882 µs\n",
      "Births_ConstantPop   :     3,069,302 µs\n",
      "Susceptibility       :        22,050 µs\n",
      "Transmission         :    18,129,926 µs\n",
      "Infection            :     1,989,908 µs\n",
      "Infect_Random_Agents :        48,776 µs\n",
      "=======================================\n",
      "Total:                    27,471,118 microseconds\n",
      "2025-03-05 11:44:17.184566: Creating the generic model…\n",
      "Initializing the generic model with 1 patches…\n",
      "2025-03-05 11:44:17.191103: Running the generic model for 18250 ticks…\n"
     ]
    },
    {
     "name": "stderr",
     "output_type": "stream",
     "text": [
      "100%|██████████| 18250/18250 [00:11<00:00, 1524.33it/s]\n"
     ]
    },
    {
     "name": "stdout",
     "output_type": "stream",
     "text": [
      "Completed the generic model at 2025-03-05 11:44:29.164740…\n",
      "Susceptibility_census:       748,432 µs\n",
      "Transmission_census  :     1,081,524 µs\n",
      "Infection_census     :     2,381,104 µs\n",
      "Model                :        53,564 µs\n",
      "Births_ConstantPop   :     4,440,376 µs\n",
      "Susceptibility       :        24,004 µs\n",
      "Transmission         :    11,836,994 µs\n",
      "Infection            :     2,865,538 µs\n",
      "Infect_Random_Agents :        67,516 µs\n",
      "=======================================\n",
      "Total:                    23,499,052 microseconds\n",
      "2025-03-05 11:44:29.392528: Creating the generic model…\n",
      "Initializing the generic model with 1 patches…\n",
      "2025-03-05 11:44:29.398616: Running the generic model for 18250 ticks…\n"
     ]
    },
    {
     "name": "stderr",
     "output_type": "stream",
     "text": [
      "100%|██████████| 18250/18250 [00:08<00:00, 2102.22it/s]\n"
     ]
    },
    {
     "name": "stdout",
     "output_type": "stream",
     "text": [
      "Completed the generic model at 2025-03-05 11:44:38.081264…\n",
      "Susceptibility_census:       599,664 µs\n",
      "Transmission_census  :       950,748 µs\n",
      "Infection_census     :     2,434,566 µs\n",
      "Model                :        44,712 µs\n",
      "Births_ConstantPop   :     2,685,718 µs\n",
      "Susceptibility       :        19,776 µs\n",
      "Transmission         :     8,360,820 µs\n",
      "Infection            :     1,875,258 µs\n",
      "Infect_Random_Agents :        50,242 µs\n",
      "=======================================\n",
      "Total:                    17,021,504 microseconds\n",
      "2025-03-05 11:44:38.323067: Creating the generic model…\n",
      "Initializing the generic model with 1 patches…\n",
      "2025-03-05 11:44:38.329428: Running the generic model for 18250 ticks…\n"
     ]
    },
    {
     "name": "stderr",
     "output_type": "stream",
     "text": [
      "100%|██████████| 18250/18250 [00:09<00:00, 1917.80it/s]\n"
     ]
    },
    {
     "name": "stdout",
     "output_type": "stream",
     "text": [
      "Completed the generic model at 2025-03-05 11:44:47.846796…\n",
      "Susceptibility_census:       596,938 µs\n",
      "Transmission_census  :       946,140 µs\n",
      "Infection_census     :     1,995,550 µs\n",
      "Model                :        45,248 µs\n",
      "Births_ConstantPop   :     2,978,162 µs\n",
      "Susceptibility       :        20,282 µs\n",
      "Transmission         :    10,056,414 µs\n",
      "Infection            :     2,000,786 µs\n",
      "Infect_Random_Agents :        45,652 µs\n",
      "=======================================\n",
      "Total:                    18,685,172 microseconds\n",
      "2025-03-05 11:44:48.089965: Creating the generic model…\n",
      "Initializing the generic model with 1 patches…\n",
      "2025-03-05 11:44:48.096172: Running the generic model for 18250 ticks…\n"
     ]
    },
    {
     "name": "stderr",
     "output_type": "stream",
     "text": [
      "100%|██████████| 18250/18250 [00:11<00:00, 1546.32it/s]\n"
     ]
    },
    {
     "name": "stdout",
     "output_type": "stream",
     "text": [
      "Completed the generic model at 2025-03-05 11:44:59.899621…\n",
      "Susceptibility_census:       609,712 µs\n",
      "Transmission_census  :       956,598 µs\n",
      "Infection_census     :     2,066,572 µs\n",
      "Model                :        45,644 µs\n",
      "Births_ConstantPop   :     2,700,882 µs\n",
      "Susceptibility       :        20,022 µs\n",
      "Transmission         :    14,959,332 µs\n",
      "Infection            :     1,829,090 µs\n",
      "Infect_Random_Agents :        41,684 µs\n",
      "=======================================\n",
      "Total:                    23,229,536 microseconds\n",
      "2025-03-05 11:45:00.116786: Creating the generic model…\n",
      "Initializing the generic model with 1 patches…\n",
      "2025-03-05 11:45:00.135601: Running the generic model for 18250 ticks…\n"
     ]
    },
    {
     "name": "stderr",
     "output_type": "stream",
     "text": [
      "100%|██████████| 18250/18250 [00:11<00:00, 1535.57it/s]\n"
     ]
    },
    {
     "name": "stdout",
     "output_type": "stream",
     "text": [
      "Completed the generic model at 2025-03-05 11:45:12.024273…\n",
      "Susceptibility_census:       622,662 µs\n",
      "Transmission_census  :       956,292 µs\n",
      "Infection_census     :     2,246,626 µs\n",
      "Model                :        46,812 µs\n",
      "Births_ConstantPop   :     2,884,674 µs\n",
      "Susceptibility       :        20,422 µs\n",
      "Transmission         :    14,720,578 µs\n",
      "Infection            :     1,842,728 µs\n",
      "Infect_Random_Agents :        43,840 µs\n",
      "=======================================\n",
      "Total:                    23,384,634 microseconds\n",
      "2025-03-05 11:45:12.223101: Creating the generic model…\n",
      "Initializing the generic model with 1 patches…\n",
      "2025-03-05 11:45:12.229159: Running the generic model for 18250 ticks…\n"
     ]
    },
    {
     "name": "stderr",
     "output_type": "stream",
     "text": [
      "100%|██████████| 18250/18250 [00:08<00:00, 2177.87it/s]\n"
     ]
    },
    {
     "name": "stdout",
     "output_type": "stream",
     "text": [
      "Completed the generic model at 2025-03-05 11:45:20.610111…\n",
      "Susceptibility_census:       580,618 µs\n",
      "Transmission_census  :       933,790 µs\n",
      "Infection_census     :     1,852,630 µs\n",
      "Model                :        42,928 µs\n",
      "Births_ConstantPop   :     2,858,776 µs\n",
      "Susceptibility       :        19,356 µs\n",
      "Transmission         :     8,308,616 µs\n",
      "Infection            :     1,792,626 µs\n",
      "Infect_Random_Agents :        45,728 µs\n",
      "=======================================\n",
      "Total:                    16,435,068 microseconds\n",
      "2025-03-05 11:45:20.853277: Creating the generic model…\n",
      "Initializing the generic model with 1 patches…\n",
      "2025-03-05 11:45:20.859969: Running the generic model for 18250 ticks…\n"
     ]
    },
    {
     "name": "stderr",
     "output_type": "stream",
     "text": [
      "100%|██████████| 18250/18250 [00:08<00:00, 2149.90it/s]\n"
     ]
    },
    {
     "name": "stdout",
     "output_type": "stream",
     "text": [
      "Completed the generic model at 2025-03-05 11:45:29.350024…\n",
      "Susceptibility_census:       591,904 µs\n",
      "Transmission_census  :       927,500 µs\n",
      "Infection_census     :     1,908,252 µs\n",
      "Model                :        43,150 µs\n",
      "Births_ConstantPop   :     2,762,154 µs\n",
      "Susceptibility       :        19,076 µs\n",
      "Transmission         :     8,489,312 µs\n",
      "Infection            :     1,862,618 µs\n",
      "Infect_Random_Agents :        46,116 µs\n",
      "=======================================\n",
      "Total:                    16,650,082 microseconds\n",
      "2025-03-05 11:45:29.560453: Creating the generic model…\n",
      "Initializing the generic model with 1 patches…\n",
      "2025-03-05 11:45:29.566584: Running the generic model for 18250 ticks…\n"
     ]
    },
    {
     "name": "stderr",
     "output_type": "stream",
     "text": [
      "100%|██████████| 18250/18250 [00:08<00:00, 2062.60it/s]\n"
     ]
    },
    {
     "name": "stdout",
     "output_type": "stream",
     "text": [
      "Completed the generic model at 2025-03-05 11:45:38.416199…\n",
      "Susceptibility_census:       586,682 µs\n",
      "Transmission_census  :       939,090 µs\n",
      "Infection_census     :     1,705,586 µs\n",
      "Model                :        43,524 µs\n",
      "Births_ConstantPop   :     2,716,070 µs\n",
      "Susceptibility       :        19,610 µs\n",
      "Transmission         :     9,530,220 µs\n",
      "Infection            :     1,776,108 µs\n",
      "Infect_Random_Agents :        44,314 µs\n",
      "=======================================\n",
      "Total:                    17,361,204 microseconds\n",
      "2025-03-05 11:45:38.620162: Creating the generic model…\n",
      "Initializing the generic model with 1 patches…\n",
      "2025-03-05 11:45:38.626122: Running the generic model for 18250 ticks…\n"
     ]
    },
    {
     "name": "stderr",
     "output_type": "stream",
     "text": [
      "100%|██████████| 18250/18250 [00:09<00:00, 1980.92it/s]\n"
     ]
    },
    {
     "name": "stdout",
     "output_type": "stream",
     "text": [
      "Completed the generic model at 2025-03-05 11:45:47.840110…\n",
      "Susceptibility_census:       603,118 µs\n",
      "Transmission_census  :       950,438 µs\n",
      "Infection_census     :     1,912,238 µs\n",
      "Model                :        44,698 µs\n",
      "Births_ConstantPop   :     3,101,216 µs\n",
      "Susceptibility       :        20,490 µs\n",
      "Transmission         :     9,400,078 µs\n",
      "Infection            :     1,996,884 µs\n",
      "Infect_Random_Agents :        47,640 µs\n",
      "=======================================\n",
      "Total:                    18,076,800 microseconds\n",
      "2025-03-05 11:45:48.080694: Creating the generic model…\n",
      "Initializing the generic model with 1 patches…\n",
      "2025-03-05 11:45:48.087914: Running the generic model for 18250 ticks…\n"
     ]
    },
    {
     "name": "stderr",
     "output_type": "stream",
     "text": [
      "100%|██████████| 18250/18250 [00:09<00:00, 1959.27it/s]\n"
     ]
    },
    {
     "name": "stdout",
     "output_type": "stream",
     "text": [
      "Completed the generic model at 2025-03-05 11:45:57.403890…\n",
      "Susceptibility_census:       601,090 µs\n",
      "Transmission_census  :       943,442 µs\n",
      "Infection_census     :     2,188,934 µs\n",
      "Model                :        44,638 µs\n",
      "Births_ConstantPop   :     2,776,774 µs\n",
      "Susceptibility       :        19,996 µs\n",
      "Transmission         :     9,828,476 µs\n",
      "Infection            :     1,831,564 µs\n",
      "Infect_Random_Agents :        44,894 µs\n",
      "=======================================\n",
      "Total:                    18,279,808 microseconds\n",
      "2025-03-05 11:45:57.628464: Creating the generic model…\n",
      "Initializing the generic model with 1 patches…\n",
      "2025-03-05 11:45:57.634649: Running the generic model for 18250 ticks…\n"
     ]
    },
    {
     "name": "stderr",
     "output_type": "stream",
     "text": [
      "100%|██████████| 18250/18250 [00:09<00:00, 1950.23it/s]\n"
     ]
    },
    {
     "name": "stdout",
     "output_type": "stream",
     "text": [
      "Completed the generic model at 2025-03-05 11:46:06.993647…\n",
      "Susceptibility_census:       600,050 µs\n",
      "Transmission_census  :       938,884 µs\n",
      "Infection_census     :     2,556,726 µs\n",
      "Model                :        44,994 µs\n",
      "Births_ConstantPop   :     2,850,820 µs\n",
      "Susceptibility       :        20,180 µs\n",
      "Transmission         :     9,352,342 µs\n",
      "Infection            :     1,950,810 µs\n",
      "Infect_Random_Agents :        47,938 µs\n",
      "=======================================\n",
      "Total:                    18,362,744 microseconds\n",
      "2025-03-05 11:46:07.223987: Creating the generic model…\n",
      "Initializing the generic model with 1 patches…\n",
      "2025-03-05 11:46:07.230304: Running the generic model for 18250 ticks…\n"
     ]
    },
    {
     "name": "stderr",
     "output_type": "stream",
     "text": [
      "100%|██████████| 18250/18250 [00:08<00:00, 2046.90it/s]\n"
     ]
    },
    {
     "name": "stdout",
     "output_type": "stream",
     "text": [
      "Completed the generic model at 2025-03-05 11:46:16.147517…\n",
      "Susceptibility_census:       591,514 µs\n",
      "Transmission_census  :       932,106 µs\n",
      "Infection_census     :     2,221,546 µs\n",
      "Model                :        44,380 µs\n",
      "Births_ConstantPop   :     3,081,914 µs\n",
      "Susceptibility       :        19,698 µs\n",
      "Transmission         :     8,605,302 µs\n",
      "Infection            :     1,948,008 µs\n",
      "Infect_Random_Agents :        50,314 µs\n",
      "=======================================\n",
      "Total:                    17,494,782 microseconds\n",
      "2025-03-05 11:46:16.352507: Creating the generic model…\n",
      "Initializing the generic model with 1 patches…\n",
      "2025-03-05 11:46:16.358572: Running the generic model for 18250 ticks…\n"
     ]
    },
    {
     "name": "stderr",
     "output_type": "stream",
     "text": [
      "100%|██████████| 18250/18250 [00:13<00:00, 1363.91it/s]\n"
     ]
    },
    {
     "name": "stdout",
     "output_type": "stream",
     "text": [
      "Completed the generic model at 2025-03-05 11:46:29.740578…\n",
      "Susceptibility_census:       798,894 µs\n",
      "Transmission_census  :     1,089,220 µs\n",
      "Infection_census     :     2,528,194 µs\n",
      "Model                :        59,230 µs\n",
      "Births_ConstantPop   :     4,363,818 µs\n",
      "Susceptibility       :        25,348 µs\n",
      "Transmission         :    14,373,356 µs\n",
      "Infection            :     2,951,348 µs\n",
      "Infect_Random_Agents :        69,620 µs\n",
      "=======================================\n",
      "Total:                    26,259,028 microseconds\n",
      "2025-03-05 11:46:29.968491: Creating the generic model…\n",
      "Initializing the generic model with 1 patches…\n",
      "2025-03-05 11:46:29.974105: Running the generic model for 18250 ticks…\n"
     ]
    },
    {
     "name": "stderr",
     "output_type": "stream",
     "text": [
      "100%|██████████| 18250/18250 [00:18<00:00, 995.39it/s] \n"
     ]
    },
    {
     "name": "stdout",
     "output_type": "stream",
     "text": [
      "Completed the generic model at 2025-03-05 11:46:48.309870…\n",
      "Susceptibility_census:       849,434 µs\n",
      "Transmission_census  :     1,152,350 µs\n",
      "Infection_census     :     2,653,904 µs\n",
      "Model                :        60,814 µs\n",
      "Births_ConstantPop   :     5,068,796 µs\n",
      "Susceptibility       :        26,006 µs\n",
      "Transmission         :    22,890,774 µs\n",
      "Infection            :     3,334,106 µs\n",
      "Infect_Random_Agents :        69,954 µs\n",
      "=======================================\n",
      "Total:                    36,106,138 microseconds\n",
      "2025-03-05 11:46:48.518941: Creating the generic model…\n",
      "Initializing the generic model with 1 patches…\n",
      "2025-03-05 11:46:48.524413: Running the generic model for 18250 ticks…\n"
     ]
    },
    {
     "name": "stderr",
     "output_type": "stream",
     "text": [
      "100%|██████████| 18250/18250 [00:14<00:00, 1245.74it/s]\n"
     ]
    },
    {
     "name": "stdout",
     "output_type": "stream",
     "text": [
      "Completed the generic model at 2025-03-05 11:47:03.175747…\n",
      "Susceptibility_census:       700,070 µs\n",
      "Transmission_census  :       993,974 µs\n",
      "Infection_census     :     2,346,600 µs\n",
      "Model                :        51,110 µs\n",
      "Births_ConstantPop   :     3,841,376 µs\n",
      "Susceptibility       :        24,840 µs\n",
      "Transmission         :    18,378,752 µs\n",
      "Infection            :     2,430,164 µs\n",
      "Infect_Random_Agents :        58,172 µs\n",
      "=======================================\n",
      "Total:                    28,825,058 microseconds\n",
      "2025-03-05 11:47:03.390250: Creating the generic model…\n",
      "Initializing the generic model with 1 patches…\n",
      "2025-03-05 11:47:03.397464: Running the generic model for 18250 ticks…\n"
     ]
    },
    {
     "name": "stderr",
     "output_type": "stream",
     "text": [
      "100%|██████████| 18250/18250 [00:11<00:00, 1585.39it/s]\n"
     ]
    },
    {
     "name": "stdout",
     "output_type": "stream",
     "text": [
      "Completed the generic model at 2025-03-05 11:47:14.910113…\n",
      "Susceptibility_census:       760,424 µs\n",
      "Transmission_census  :     1,042,518 µs\n",
      "Infection_census     :     2,782,442 µs\n",
      "Model                :        57,278 µs\n",
      "Births_ConstantPop   :     4,015,194 µs\n",
      "Susceptibility       :        25,810 µs\n",
      "Transmission         :    11,391,886 µs\n",
      "Infection            :     2,405,330 µs\n",
      "Infect_Random_Agents :        69,060 µs\n",
      "=======================================\n",
      "Total:                    22,549,942 microseconds\n",
      "2025-03-05 11:47:15.108369: Creating the generic model…\n",
      "Initializing the generic model with 1 patches…\n",
      "2025-03-05 11:47:15.113902: Running the generic model for 18250 ticks…\n"
     ]
    },
    {
     "name": "stderr",
     "output_type": "stream",
     "text": [
      "100%|██████████| 18250/18250 [00:17<00:00, 1067.22it/s]\n"
     ]
    },
    {
     "name": "stdout",
     "output_type": "stream",
     "text": [
      "Completed the generic model at 2025-03-05 11:47:32.215982…\n",
      "Susceptibility_census:       840,610 µs\n",
      "Transmission_census  :     1,116,358 µs\n",
      "Infection_census     :     2,634,520 µs\n",
      "Model                :        63,866 µs\n",
      "Births_ConstantPop   :     4,675,306 µs\n",
      "Susceptibility       :        26,588 µs\n",
      "Transmission         :    21,442,470 µs\n",
      "Infection            :     2,767,998 µs\n",
      "Infect_Random_Agents :        71,632 µs\n",
      "=======================================\n",
      "Total:                    33,639,348 microseconds\n",
      "2025-03-05 11:47:32.423853: Creating the generic model…\n",
      "Initializing the generic model with 1 patches…\n",
      "2025-03-05 11:47:32.429328: Running the generic model for 18250 ticks…\n"
     ]
    },
    {
     "name": "stderr",
     "output_type": "stream",
     "text": [
      "100%|██████████| 18250/18250 [00:14<00:00, 1290.39it/s]\n"
     ]
    },
    {
     "name": "stdout",
     "output_type": "stream",
     "text": [
      "Completed the generic model at 2025-03-05 11:47:46.573572…\n",
      "Susceptibility_census:       769,202 µs\n",
      "Transmission_census  :     1,075,546 µs\n",
      "Infection_census     :     2,153,010 µs\n",
      "Model                :        56,140 µs\n",
      "Births_ConstantPop   :     4,180,284 µs\n",
      "Susceptibility       :        24,630 µs\n",
      "Transmission         :    17,024,274 µs\n",
      "Infection            :     2,459,340 µs\n",
      "Infect_Random_Agents :        61,726 µs\n",
      "=======================================\n",
      "Total:                    27,804,152 microseconds\n",
      "2025-03-05 11:47:46.806406: Creating the generic model…\n",
      "Initializing the generic model with 1 patches…\n",
      "2025-03-05 11:47:46.813018: Running the generic model for 18250 ticks…\n"
     ]
    },
    {
     "name": "stderr",
     "output_type": "stream",
     "text": [
      "100%|██████████| 18250/18250 [00:11<00:00, 1556.46it/s]\n"
     ]
    },
    {
     "name": "stdout",
     "output_type": "stream",
     "text": [
      "Completed the generic model at 2025-03-05 11:47:58.540645…\n",
      "Susceptibility_census:       735,982 µs\n",
      "Transmission_census  :     1,056,346 µs\n",
      "Infection_census     :     2,810,032 µs\n",
      "Model                :        54,776 µs\n",
      "Births_ConstantPop   :     4,197,628 µs\n",
      "Susceptibility       :        23,422 µs\n",
      "Transmission         :    11,326,726 µs\n",
      "Infection            :     2,742,896 µs\n",
      "Infect_Random_Agents :        65,908 µs\n",
      "=======================================\n",
      "Total:                    23,013,716 microseconds\n",
      "2025-03-05 11:47:58.781928: Creating the generic model…\n",
      "Initializing the generic model with 1 patches…\n",
      "2025-03-05 11:47:58.788244: Running the generic model for 18250 ticks…\n"
     ]
    },
    {
     "name": "stderr",
     "output_type": "stream",
     "text": [
      "100%|██████████| 18250/18250 [00:10<00:00, 1687.21it/s]\n"
     ]
    },
    {
     "name": "stdout",
     "output_type": "stream",
     "text": [
      "Completed the generic model at 2025-03-05 11:48:09.606167…\n",
      "Susceptibility_census:       739,330 µs\n",
      "Transmission_census  :     1,062,322 µs\n",
      "Infection_census     :     2,777,504 µs\n",
      "Model                :        54,362 µs\n",
      "Births_ConstantPop   :     3,556,344 µs\n",
      "Susceptibility       :        23,188 µs\n",
      "Transmission         :    10,364,070 µs\n",
      "Infection            :     2,552,000 µs\n",
      "Infect_Random_Agents :        66,030 µs\n",
      "=======================================\n",
      "Total:                    21,195,150 microseconds\n",
      "2025-03-05 11:48:09.881795: Creating the generic model…\n",
      "Initializing the generic model with 1 patches…\n",
      "2025-03-05 11:48:09.887253: Running the generic model for 18250 ticks…\n"
     ]
    },
    {
     "name": "stderr",
     "output_type": "stream",
     "text": [
      "100%|██████████| 18250/18250 [00:18<00:00, 980.88it/s] \n"
     ]
    },
    {
     "name": "stdout",
     "output_type": "stream",
     "text": [
      "Completed the generic model at 2025-03-05 11:48:28.494484…\n",
      "Susceptibility_census:       852,780 µs\n",
      "Transmission_census  :     1,154,802 µs\n",
      "Infection_census     :     2,808,454 µs\n",
      "Model                :        63,682 µs\n",
      "Births_ConstantPop   :     5,514,044 µs\n",
      "Susceptibility       :        25,874 µs\n",
      "Transmission         :    22,571,644 µs\n",
      "Infection            :     3,570,470 µs\n",
      "Infect_Random_Agents :        71,002 µs\n",
      "=======================================\n",
      "Total:                    36,632,752 microseconds\n",
      "2025-03-05 11:48:28.705350: Creating the generic model…\n",
      "Initializing the generic model with 1 patches…\n",
      "2025-03-05 11:48:28.710995: Running the generic model for 18250 ticks…\n"
     ]
    },
    {
     "name": "stderr",
     "output_type": "stream",
     "text": [
      "100%|██████████| 18250/18250 [00:15<00:00, 1164.69it/s]\n"
     ]
    },
    {
     "name": "stdout",
     "output_type": "stream",
     "text": [
      "Completed the generic model at 2025-03-05 11:48:44.381561…\n",
      "Susceptibility_census:       807,678 µs\n",
      "Transmission_census  :     1,121,236 µs\n",
      "Infection_census     :     2,895,738 µs\n",
      "Model                :        59,622 µs\n",
      "Births_ConstantPop   :     4,560,074 µs\n",
      "Susceptibility       :        24,972 µs\n",
      "Transmission         :    18,322,350 µs\n",
      "Infection            :     2,964,428 µs\n",
      "Infect_Random_Agents :        66,426 µs\n",
      "=======================================\n",
      "Total:                    30,822,524 microseconds\n",
      "2025-03-05 11:48:44.607313: Creating the generic model…\n",
      "Initializing the generic model with 1 patches…\n",
      "2025-03-05 11:48:44.618246: Running the generic model for 18250 ticks…\n"
     ]
    },
    {
     "name": "stderr",
     "output_type": "stream",
     "text": [
      "100%|██████████| 18250/18250 [00:11<00:00, 1637.99it/s]\n"
     ]
    },
    {
     "name": "stdout",
     "output_type": "stream",
     "text": [
      "Completed the generic model at 2025-03-05 11:48:55.761099…\n",
      "Susceptibility_census:       749,002 µs\n",
      "Transmission_census  :     1,068,976 µs\n",
      "Infection_census     :     2,573,476 µs\n",
      "Model                :        54,236 µs\n",
      "Births_ConstantPop   :     3,864,040 µs\n",
      "Susceptibility       :        23,566 µs\n",
      "Transmission         :    10,916,518 µs\n",
      "Infection            :     2,516,624 µs\n",
      "Infect_Random_Agents :        68,828 µs\n",
      "=======================================\n",
      "Total:                    21,835,266 microseconds\n",
      "2025-03-05 11:48:55.998845: Creating the generic model…\n",
      "Initializing the generic model with 1 patches…\n",
      "2025-03-05 11:48:56.005137: Running the generic model for 18250 ticks…\n"
     ]
    },
    {
     "name": "stderr",
     "output_type": "stream",
     "text": [
      "100%|██████████| 18250/18250 [00:10<00:00, 1681.85it/s]\n"
     ]
    },
    {
     "name": "stdout",
     "output_type": "stream",
     "text": [
      "Completed the generic model at 2025-03-05 11:49:06.857482…\n",
      "Susceptibility_census:       673,328 µs\n",
      "Transmission_census  :       988,186 µs\n",
      "Infection_census     :     2,259,608 µs\n",
      "Model                :        51,904 µs\n",
      "Births_ConstantPop   :     4,029,320 µs\n",
      "Susceptibility       :        22,242 µs\n",
      "Transmission         :    10,698,852 µs\n",
      "Infection            :     2,513,618 µs\n",
      "Infect_Random_Agents :        59,608 µs\n",
      "=======================================\n",
      "Total:                    21,296,666 microseconds\n",
      "2025-03-05 11:49:07.101419: Creating the generic model…\n",
      "Initializing the generic model with 1 patches…\n",
      "2025-03-05 11:49:07.107007: Running the generic model for 18250 ticks…\n"
     ]
    },
    {
     "name": "stderr",
     "output_type": "stream",
     "text": [
      "100%|██████████| 18250/18250 [00:10<00:00, 1793.66it/s]\n"
     ]
    },
    {
     "name": "stdout",
     "output_type": "stream",
     "text": [
      "Completed the generic model at 2025-03-05 11:49:17.282930…\n",
      "Susceptibility_census:       638,680 µs\n",
      "Transmission_census  :       981,722 µs\n",
      "Infection_census     :     2,621,626 µs\n",
      "Model                :        48,590 µs\n",
      "Births_ConstantPop   :     3,104,774 µs\n",
      "Susceptibility       :        21,032 µs\n",
      "Transmission         :    10,297,210 µs\n",
      "Infection            :     2,199,530 µs\n",
      "Infect_Random_Agents :        58,398 µs\n",
      "=======================================\n",
      "Total:                    19,971,562 microseconds\n",
      "2025-03-05 11:49:17.527843: Creating the generic model…\n",
      "Initializing the generic model with 1 patches…\n",
      "2025-03-05 11:49:17.533989: Running the generic model for 18250 ticks…\n"
     ]
    },
    {
     "name": "stderr",
     "output_type": "stream",
     "text": [
      "100%|██████████| 18250/18250 [00:10<00:00, 1685.53it/s]\n"
     ]
    },
    {
     "name": "stdout",
     "output_type": "stream",
     "text": [
      "Completed the generic model at 2025-03-05 11:49:28.362769…\n",
      "Susceptibility_census:       652,022 µs\n",
      "Transmission_census  :       979,816 µs\n",
      "Infection_census     :     2,280,856 µs\n",
      "Model                :        50,698 µs\n",
      "Births_ConstantPop   :     3,427,550 µs\n",
      "Susceptibility       :        21,530 µs\n",
      "Transmission         :    11,675,162 µs\n",
      "Infection            :     2,126,920 µs\n",
      "Infect_Random_Agents :        51,778 µs\n",
      "=======================================\n",
      "Total:                    21,266,332 microseconds\n",
      "2025-03-05 11:49:28.585182: Creating the generic model…\n",
      "Initializing the generic model with 1 patches…\n",
      "2025-03-05 11:49:28.591276: Running the generic model for 18250 ticks…\n"
     ]
    },
    {
     "name": "stderr",
     "output_type": "stream",
     "text": [
      "100%|██████████| 18250/18250 [00:11<00:00, 1577.15it/s]\n"
     ]
    },
    {
     "name": "stdout",
     "output_type": "stream",
     "text": [
      "Completed the generic model at 2025-03-05 11:49:40.164002…\n",
      "Susceptibility_census:       738,684 µs\n",
      "Transmission_census  :     1,042,828 µs\n",
      "Infection_census     :     2,308,538 µs\n",
      "Model                :        56,254 µs\n",
      "Births_ConstantPop   :     4,288,724 µs\n",
      "Susceptibility       :        24,142 µs\n",
      "Transmission         :    11,591,366 µs\n",
      "Infection            :     2,586,106 µs\n",
      "Infect_Random_Agents :        66,142 µs\n",
      "=======================================\n",
      "Total:                    22,702,784 microseconds\n",
      "2025-03-05 11:49:40.410109: Creating the generic model…\n",
      "Initializing the generic model with 1 patches…\n",
      "2025-03-05 11:49:40.416726: Running the generic model for 18250 ticks…\n"
     ]
    },
    {
     "name": "stderr",
     "output_type": "stream",
     "text": [
      "100%|██████████| 18250/18250 [00:12<00:00, 1415.20it/s]\n"
     ]
    },
    {
     "name": "stdout",
     "output_type": "stream",
     "text": [
      "Completed the generic model at 2025-03-05 11:49:53.313734…\n",
      "Susceptibility_census:       779,744 µs\n",
      "Transmission_census  :     1,112,018 µs\n",
      "Infection_census     :     2,316,236 µs\n",
      "Model                :        57,568 µs\n",
      "Births_ConstantPop   :     4,120,470 µs\n",
      "Susceptibility       :        23,398 µs\n",
      "Transmission         :    14,076,576 µs\n",
      "Infection            :     2,768,046 µs\n",
      "Infect_Random_Agents :        68,510 µs\n",
      "=======================================\n",
      "Total:                    25,322,566 microseconds\n",
      "2025-03-05 11:49:53.549583: Creating the generic model…\n",
      "Initializing the generic model with 1 patches…\n",
      "2025-03-05 11:49:53.556066: Running the generic model for 18250 ticks…\n"
     ]
    },
    {
     "name": "stderr",
     "output_type": "stream",
     "text": [
      "100%|██████████| 18250/18250 [00:11<00:00, 1574.39it/s]\n"
     ]
    },
    {
     "name": "stdout",
     "output_type": "stream",
     "text": [
      "Completed the generic model at 2025-03-05 11:50:05.149225…\n",
      "Susceptibility_census:       768,504 µs\n",
      "Transmission_census  :     1,083,700 µs\n",
      "Infection_census     :     2,314,638 µs\n",
      "Model                :        56,110 µs\n",
      "Births_ConstantPop   :     4,165,078 µs\n",
      "Susceptibility       :        24,296 µs\n",
      "Transmission         :    11,510,166 µs\n",
      "Infection            :     2,727,262 µs\n",
      "Infect_Random_Agents :        73,872 µs\n",
      "=======================================\n",
      "Total:                    22,723,626 microseconds\n",
      "2025-03-05 11:50:05.377636: Creating the generic model…\n",
      "Initializing the generic model with 1 patches…\n",
      "2025-03-05 11:50:05.383615: Running the generic model for 18250 ticks…\n"
     ]
    },
    {
     "name": "stderr",
     "output_type": "stream",
     "text": [
      "100%|██████████| 18250/18250 [00:11<00:00, 1574.99it/s]\n"
     ]
    },
    {
     "name": "stdout",
     "output_type": "stream",
     "text": [
      "Completed the generic model at 2025-03-05 11:50:16.972238…\n",
      "Susceptibility_census:       743,786 µs\n",
      "Transmission_census  :     1,046,228 µs\n",
      "Infection_census     :     2,352,682 µs\n",
      "Model                :        55,666 µs\n",
      "Births_ConstantPop   :     4,180,776 µs\n",
      "Susceptibility       :        23,916 µs\n",
      "Transmission         :    11,554,312 µs\n",
      "Infection            :     2,703,370 µs\n",
      "Infect_Random_Agents :        65,788 µs\n",
      "=======================================\n",
      "Total:                    22,726,524 microseconds\n",
      "2025-03-05 11:50:17.216817: Creating the generic model…\n",
      "Initializing the generic model with 1 patches…\n",
      "2025-03-05 11:50:17.222738: Running the generic model for 18250 ticks…\n"
     ]
    },
    {
     "name": "stderr",
     "output_type": "stream",
     "text": [
      "100%|██████████| 18250/18250 [00:12<00:00, 1441.86it/s]\n"
     ]
    },
    {
     "name": "stdout",
     "output_type": "stream",
     "text": [
      "Completed the generic model at 2025-03-05 11:50:29.881286…\n",
      "Susceptibility_census:       749,752 µs\n",
      "Transmission_census  :     1,074,928 µs\n",
      "Infection_census     :     2,084,012 µs\n",
      "Model                :        57,952 µs\n",
      "Births_ConstantPop   :     4,378,292 µs\n",
      "Susceptibility       :        23,124 µs\n",
      "Transmission         :    13,481,728 µs\n",
      "Infection            :     2,958,674 µs\n",
      "Infect_Random_Agents :        64,664 µs\n",
      "=======================================\n",
      "Total:                    24,873,126 microseconds\n",
      "2025-03-05 11:50:30.151504: Creating the generic model…\n",
      "Initializing the generic model with 1 patches…\n",
      "2025-03-05 11:50:30.157155: Running the generic model for 18250 ticks…\n"
     ]
    },
    {
     "name": "stderr",
     "output_type": "stream",
     "text": [
      "100%|██████████| 18250/18250 [00:15<00:00, 1147.63it/s]\n"
     ]
    },
    {
     "name": "stdout",
     "output_type": "stream",
     "text": [
      "Completed the generic model at 2025-03-05 11:50:46.061075…\n",
      "Susceptibility_census:       792,860 µs\n",
      "Transmission_census  :     1,080,056 µs\n",
      "Infection_census     :     2,364,204 µs\n",
      "Model                :        61,086 µs\n",
      "Births_ConstantPop   :     4,460,462 µs\n",
      "Susceptibility       :        25,516 µs\n",
      "Transmission         :    19,804,700 µs\n",
      "Infection            :     2,648,752 µs\n",
      "Infect_Random_Agents :        63,148 µs\n",
      "=======================================\n",
      "Total:                    31,300,784 microseconds\n",
      "2025-03-05 11:50:46.272885: Creating the generic model…\n",
      "Initializing the generic model with 1 patches…\n",
      "2025-03-05 11:50:46.300680: Running the generic model for 18250 ticks…\n"
     ]
    },
    {
     "name": "stderr",
     "output_type": "stream",
     "text": [
      " 82%|████████▏ | 14941/18250 [00:10<00:02, 1453.72it/s]\n"
     ]
    },
    {
     "ename": "KeyboardInterrupt",
     "evalue": "",
     "output_type": "error",
     "traceback": [
      "\u001b[0;31m---------------------------------------------------------------------------\u001b[0m",
      "\u001b[0;31mKeyboardInterrupt\u001b[0m                         Traceback (most recent call last)",
      "Cell \u001b[0;32mIn[82], line 39\u001b[0m\n\u001b[1;32m     37\u001b[0m set_initial_susceptibility_randomly(model, \u001b[38;5;241m1\u001b[39m\u001b[38;5;241m/\u001b[39mrow[\u001b[38;5;124m'\u001b[39m\u001b[38;5;124mR0\u001b[39m\u001b[38;5;124m'\u001b[39m]\u001b[38;5;241m+\u001b[39m\u001b[38;5;241m.05\u001b[39m)\n\u001b[1;32m     38\u001b[0m seed_infections_randomly(model, ninfections\u001b[38;5;241m=\u001b[39m\u001b[38;5;241m1\u001b[39m)\n\u001b[0;32m---> 39\u001b[0m \u001b[43mmodel\u001b[49m\u001b[38;5;241;43m.\u001b[39;49m\u001b[43mrun\u001b[49m\u001b[43m(\u001b[49m\u001b[43m)\u001b[49m\n\u001b[1;32m     41\u001b[0m cut \u001b[38;5;241m=\u001b[39m model\u001b[38;5;241m.\u001b[39mpopulation\u001b[38;5;241m.\u001b[39mdoi \u001b[38;5;241m>\u001b[39m \u001b[38;5;241m10000\u001b[39m \n\u001b[1;32m     42\u001b[0m age_inf \u001b[38;5;241m=\u001b[39m (model\u001b[38;5;241m.\u001b[39mpopulation\u001b[38;5;241m.\u001b[39mdoi[cut] \u001b[38;5;241m-\u001b[39m model\u001b[38;5;241m.\u001b[39mpopulation\u001b[38;5;241m.\u001b[39mdob[cut])\n",
      "File \u001b[0;32m~/Documents/GitHub/laser-generic/src/laser_generic/model.py:275\u001b[0m, in \u001b[0;36mModel.run\u001b[0;34m(self)\u001b[0m\n\u001b[1;32m    273\u001b[0m \u001b[38;5;28;01mfor\u001b[39;00m phase \u001b[38;5;129;01min\u001b[39;00m \u001b[38;5;28mself\u001b[39m\u001b[38;5;241m.\u001b[39mphases:\n\u001b[1;32m    274\u001b[0m     tstart \u001b[38;5;241m=\u001b[39m datetime\u001b[38;5;241m.\u001b[39mnow(tz\u001b[38;5;241m=\u001b[39m\u001b[38;5;28;01mNone\u001b[39;00m)  \u001b[38;5;66;03m# noqa: DTZ005\u001b[39;00m\n\u001b[0;32m--> 275\u001b[0m     \u001b[43mphase\u001b[49m\u001b[43m(\u001b[49m\u001b[38;5;28;43mself\u001b[39;49m\u001b[43m,\u001b[49m\u001b[43m \u001b[49m\u001b[43mtick\u001b[49m\u001b[43m)\u001b[49m\n\u001b[1;32m    276\u001b[0m     tfinish \u001b[38;5;241m=\u001b[39m datetime\u001b[38;5;241m.\u001b[39mnow(tz\u001b[38;5;241m=\u001b[39m\u001b[38;5;28;01mNone\u001b[39;00m)  \u001b[38;5;66;03m# noqa: DTZ005\u001b[39;00m\n\u001b[1;32m    277\u001b[0m     delta \u001b[38;5;241m=\u001b[39m tfinish \u001b[38;5;241m-\u001b[39m tstart\n",
      "File \u001b[0;32m~/Documents/GitHub/laser-generic/src/laser_generic/infection.py:96\u001b[0m, in \u001b[0;36mInfection.__call__\u001b[0;34m(self, model, tick)\u001b[0m\n\u001b[1;32m     82\u001b[0m \u001b[38;5;28;01mdef\u001b[39;00m \u001b[38;5;21m__call__\u001b[39m(\u001b[38;5;28mself\u001b[39m, model, tick) \u001b[38;5;241m-\u001b[39m\u001b[38;5;241m>\u001b[39m \u001b[38;5;28;01mNone\u001b[39;00m:\n\u001b[1;32m     83\u001b[0m \u001b[38;5;250m    \u001b[39m\u001b[38;5;124;03m\"\"\"\u001b[39;00m\n\u001b[1;32m     84\u001b[0m \u001b[38;5;124;03m    Updates the infection timers for the population in the model.\u001b[39;00m\n\u001b[1;32m     85\u001b[0m \n\u001b[0;32m   (...)\u001b[0m\n\u001b[1;32m     93\u001b[0m \u001b[38;5;124;03m        None\u001b[39;00m\n\u001b[1;32m     94\u001b[0m \u001b[38;5;124;03m    \"\"\"\u001b[39;00m\n\u001b[0;32m---> 96\u001b[0m     \u001b[43mInfection\u001b[49m\u001b[38;5;241;43m.\u001b[39;49m\u001b[43mnb_infection_update\u001b[49m\u001b[43m(\u001b[49m\u001b[43mmodel\u001b[49m\u001b[38;5;241;43m.\u001b[39;49m\u001b[43mpopulation\u001b[49m\u001b[38;5;241;43m.\u001b[39;49m\u001b[43mcount\u001b[49m\u001b[43m,\u001b[49m\u001b[43m \u001b[49m\u001b[43mmodel\u001b[49m\u001b[38;5;241;43m.\u001b[39;49m\u001b[43mpopulation\u001b[49m\u001b[38;5;241;43m.\u001b[39;49m\u001b[43mitimer\u001b[49m\u001b[43m)\u001b[49m\n\u001b[1;32m     98\u001b[0m     \u001b[38;5;28;01mreturn\u001b[39;00m\n",
      "\u001b[0;31mKeyboardInterrupt\u001b[0m: "
     ]
    }
   ],
   "source": [
    "# OK, testing this is a bit more of a pain, since we are running out to some equilibrium-ish condition.\n",
    "# With a large initial outbreak from full susceptibility, this could be a long time to equilibrate.\n",
    "# Partial solution - start us near R-eff=1, but not with the age distribution that we expect, and\n",
    "# let it equilibrate towards that age distribution over a couple of generations.  Still not ideal but\n",
    "# probably faster than starting from S=1.\n",
    "\n",
    "scenario = pd.DataFrame(data=[[\"homenode\", 3e5, \"47°36′35″N 122°19′59″W\"]], columns=[\"name\", \"population\", \"location\"])\n",
    "\n",
    "cbrs = 15 + 85 * np.random.rand(100)\n",
    "inf_means = 5 + 45 * np.random.rand(100)\n",
    "R0s = 1.5 + 8.5 * np.random.rand(100)\n",
    "output = pd.DataFrame(data={\"cbr\": cbrs, \"inf_mean\": inf_means, \"R0\": R0s})\n",
    "output[\"Average_Iage_observed\"] = np.nan\n",
    "output[\"Average_Iage_expected\"] = np.nan\n",
    "output[\"Average_age_expected\"] = np.nan\n",
    "output[\"Average_age_expected\"] = np.nan\n",
    "output[\"Idata_KStest\"] = np.nan\n",
    "for index, row in output.iterrows():\n",
    "    mu = (1 + model.params.cbr / 1000) ** (1 / 365) - 1\n",
    "    parameters = PropertySet(\n",
    "        {\n",
    "            \"seed\": 2,\n",
    "            \"nticks\": 18250,\n",
    "            \"verbose\": True,\n",
    "            \"beta\": row[\"R0\"] * (mu + 1 / row[\"inf_mean\"]),\n",
    "            \"inf_mean\": row[\"inf_mean\"],\n",
    "            \"cbr\": row[\"cbr\"],\n",
    "            \"importation_period\": 180,\n",
    "            \"importation_count\": 3,\n",
    "        }\n",
    "    )\n",
    "\n",
    "    model = Model(scenario, parameters)\n",
    "    model.components = [\n",
    "        Births_ConstantPop,\n",
    "        Susceptibility,\n",
    "        Transmission,\n",
    "        Infection,\n",
    "        Infect_Random_Agents,\n",
    "    ]\n",
    "    set_initial_susceptibility_randomly(model, 1 / row[\"R0\"] + 0.05)\n",
    "    seed_infections_randomly(model, ninfections=1)\n",
    "    model.run()\n",
    "\n",
    "    cut = model.population.doi > 10000\n",
    "    age_inf = model.population.doi[cut] - model.population.dob[cut]\n",
    "    params = expon.fit(age_inf)\n",
    "    output.loc[index, \"Average_Iage_expected\"] = 1 / (row[\"R0\"] * mu) / 365\n",
    "    output.loc[index, \"Average_Iage_observed\"] = params[1] / 365\n",
    "    output.loc[index, \"Idata_KStest_obs\"] = kstest(age_inf, expon.cdf(params))[0]\n",
    "    output.loc[index, \"Idata_KStest_exp\"] = kstest(age_inf, expon.cdf(output.loc[index, \"Average_Iage_expected\"]))[0]\n",
    "\n",
    "    age_total = parameters.nticks - model.population.dob\n",
    "    params = expon.fit(age_total)\n",
    "    output.loc[index, \"Average_age_expected\"] = 1000 / model.params.cbr\n",
    "    output.loc[index, \"Average_age_observed\"] = params[1] / 365\n",
    "    output.loc[index, \"Adata_KStest_obs\"] = kstest(age_total, expon.cdf(params))[0]\n",
    "    output.loc[index, \"Adata_KStest_exp\"] = kstest(age_total, expon.cdf(output.loc[index, \"Average_age_expected\"]))[0]\n",
    "\n",
    "\n",
    "output.to_csv(\"SIR_output.csv\")"
   ]
  },
  {
   "cell_type": "code",
   "execution_count": null,
   "metadata": {},
   "outputs": [],
   "source": []
  }
 ],
 "metadata": {
  "kernelspec": {
   "display_name": ".venv",
   "language": "python",
   "name": "python3"
  },
  "language_info": {
   "codemirror_mode": {
    "name": "ipython",
    "version": 3
   },
   "file_extension": ".py",
   "mimetype": "text/x-python",
   "name": "python",
   "nbconvert_exporter": "python",
   "pygments_lexer": "ipython3",
   "version": "3.11.8"
  }
 },
 "nbformat": 4,
 "nbformat_minor": 2
}
