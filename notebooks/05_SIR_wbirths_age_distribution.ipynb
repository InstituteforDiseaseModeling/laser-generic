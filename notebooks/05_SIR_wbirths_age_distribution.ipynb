{
 "cells": [
  {
   "cell_type": "markdown",
   "metadata": {},
   "source": [
    "# Average age at infection in the SIR model\n",
    "Continuing our investigation of the Susceptible-Infected-Recovered model, we will add demographics and investigate the behavior of the model in and around the endemic equilibrium. \n",
    "\n",
    "$$\n",
    "\\dot{S} = -\\frac{\\beta*S*I}{N} + \\mu N - \\mu S\\\\\n",
    "\n",
    "\\dot{I} = \\frac{\\beta*S*I}{N} - \\gamma I - \\mu I\\\\\n",
    "\n",
    "\\dot{R} = \\gamma I - \\mu R\n",
    "$$\n",
    "\n",
    "Analysis of this system can be found in other sources (ref. Keeling/Rohani).  Setting the derivatives to zero and doing a bit of algebra gets you to the endemic equilbrium\n",
    "\n",
    "$$\n",
    "(S^*, \\: I^*, \\: R^*) = (\\frac{1}{R_0}, \\:\\: \\frac{\\mu (R_0-1)}{\\beta}, \\: \\: 1-\\frac{1}{R_0} - \\frac{\\mu (R_0-1)}{\\beta}) \\\\\n",
    "\n",
    "\\text{where} \\:\\: R_0 = \\frac{\\beta}{\\gamma + \\mu}\n",
    "$$\n",
    "\n",
    "An individual susceptible's mean time to infection will then be the inverse of the total force of infection, $\\beta I^*$.  \n",
    "$$\n",
    "\\tau_{S \\rightarrow I} = \\frac{1}{\\mu (R_0 -1)}\n",
    "$$\n",
    "\n",
    "The equation above is often also described as the average age at infection.  However, it is key to remember that the measured age at infection will be censored by non-disease deaths occurring at a rate $\\mu$.  You can work through the impact of this, but in the simple case of constant mortality, it turns out to exactly balance out the $-1$ in the above equation, and so our *observed* average age at infection will be $\\frac{1}{\\mu R_0}$.  Since the hazard is constant at equilibrium, this implies an exponential distribution:\n",
    "\n",
    "$$P(a | S->I) \\sim \\mu R_0 e^{-\\mu R_0 a}$$\n",
    "\n",
    "Alternatively, we can correct for the influence of mortality by observing the fraction of children who are susceptible at age A, which necessarily conditions on survival to age A.  This will look like the cumulative distribution of an exponential distributed according to the mean time to infection above:\n",
    "\n",
    "$$P(R | a) \\sim 1 - e^{(-a \\mu (R_0-1))}$$\n",
    "\n",
    "### Contruct the model\n",
    "In the first few cells, we do all the necessary imports.  Because we are now measuring an equilibrium property of this system, we will have to burn in, with repeated infection importations to ensure that we establish an endemic equilibrium.  We also need to model a large enough population to sustain the infection (see Critical Community Size notebook).  The primary determinant of the critical community size is the duration of infection, so keeping this relatively long (2 months) prevents us from needing huge agent populations.  So, we construct a single-patch LASER model with fice components: `Births_ConstantPop`, `Susceptibility`, `Transmission`, `Infection`, and `Infect_Random_Agents`, a function that implements repeated importation for a fixed period of time. \n",
    "\n",
    "### Sanity check\n",
    "The first test, as always, ensures that certain basic constraints are being obeyed by the model.  As it stands, I am not actually explicitly tracking the recovered population, but I can check that $S_t = N_t - \\sum{\\Delta_I}$.  \n",
    "\n",
    "### Scientific test\n",
    "The scientific test will sample a set of $(\\mu, \\gamma, R_0)$ pairs and confirm that both the age at infection and the fraction of susceptibles at a given age are well-described by exponential distributions and that the associated rate constant is as expected.   \n",
    "\n",
    "### Future work\n",
    "The addition of an exposed compartment should not change this result (other than changing the relevant transition from S->E rather than S->I) and we should test this.  \n",
    "\n"
   ]
  },
  {
   "cell_type": "code",
   "execution_count": 2,
   "metadata": {},
   "outputs": [
    {
     "name": "stdout",
     "output_type": "stream",
     "text": [
      "np.__version__='2.2.6'\n",
      "laser_core.__version__='0.6.0'\n",
      "laser_generic.__version__='0.0.0'\n"
     ]
    }
   ],
   "source": [
    "import matplotlib.pyplot as plt\n",
    "import numpy as np\n",
    "import pandas as pd\n",
    "from laser_core.propertyset import PropertySet\n",
    "from scipy.optimize import curve_fit\n",
    "from scipy.stats import expon\n",
    "from scipy.stats import kstest\n",
    "from sklearn.metrics import mean_squared_error\n",
    "\n",
    "import laser_core\n",
    "import laser_generic\n",
    "from laser_generic import Births_ConstantPop\n",
    "from laser_generic import Infection\n",
    "from laser_generic import Model\n",
    "from laser_generic import Susceptibility\n",
    "from laser_generic import Transmission\n",
    "from laser_generic.importation import Infect_Random_Agents\n",
    "from laser_generic.utils import seed_infections_randomly\n",
    "from laser_generic.utils import set_initial_susceptibility_randomly\n",
    "\n",
    "print(f\"{np.__version__=}\")\n",
    "print(f\"{laser_core.__version__=}\")\n",
    "print(f\"{laser_generic.__version__=}\")\n"
   ]
  },
  {
   "cell_type": "code",
   "execution_count": 3,
   "metadata": {},
   "outputs": [],
   "source": [
    "from functools import partial\n",
    "\n",
    "from laser_generic.models import SIR\n",
    "from laser_generic.newutils import RateMap\n",
    "from laser_generic.newutils import grid"
   ]
  },
  {
   "cell_type": "code",
   "execution_count": 47,
   "metadata": {},
   "outputs": [],
   "source": [
    "# scenario = pd.DataFrame(data=[[\"homenode\", 1e5, \"47°36′35″N 122°19′59″W\"]], columns=[\"name\", \"population\", \"location\"])\n",
    "pop=1e6\n",
    "scenario = grid(M=1, N=1, node_size_km=10, population_fn=lambda x,y: pop, origin_x=-(122+(19+(59/60))/60), origin_y=47+(36+(35/60))/60)\n",
    "initial_infected = 1\n",
    "scenario[\"S\"] = scenario.population - initial_infected\n",
    "scenario[\"I\"] = initial_infected\n",
    "scenario[\"R\"] = 0\n",
    "parameters = PropertySet(\n",
    "    # {\"seed\": 4, \"nticks\": 18250, \"verbose\": True, \"beta\": 0.1, \"inf_mean\": 60, \"cbr\": 90, \"importation_period\": 180, \"importation_count\": 3}\n",
    "    {\"seed\": 4, \"nticks\": 365*3, \"verbose\": True, \"beta\": 2/60, \"inf_mean\": 60, \"cbr\": 90, \"importation_period\": 180, \"importation_count\": 3}\n",
    ")"
   ]
  },
  {
   "cell_type": "code",
   "execution_count": 43,
   "metadata": {},
   "outputs": [],
   "source": [
    "class Importation:\n",
    "    def __init__(self, model, period: int = 180, count: int = 3):\n",
    "        self.model = model\n",
    "        self.period = period\n",
    "        self.count = count\n",
    "\n",
    "        self.model.nodes.add_vector_property(\"imports\", model.params.nticks + 1, dtype=np.uint32, default=0)\n",
    "\n",
    "        return\n",
    "    \n",
    "    def step(self, tick: int) -> None:\n",
    "        if tick > 0 and tick % self.period == 0:\n",
    "            i_susceptible = np.nonzero(self.model.people.state == SIR.State.SUSCEPTIBLE.value)[0]\n",
    "            if len(i_susceptible) > 0:\n",
    "                count = min(self.count, len(i_susceptible))\n",
    "                i_infect = np.random.choice(i_susceptible, size=count, replace=False)\n",
    "                self.model.people.state[i_infect] = SIR.State.INFECTIOUS.value\n",
    "                self.model.people.itimer[i_infect] = self.model.infectious_duration_distribution(count)\n",
    "                inf_by_node = np.bincount(self.model.people.nodeid[i_infect], minlength=len(self.model.nodes))\n",
    "                self.model.nodes.S[tick + 1] -= inf_by_node\n",
    "                self.model.nodes.I[tick + 1] += inf_by_node\n",
    "                self.model.nodes.imports[tick] = inf_by_node\n",
    "            # else:\n",
    "            #     print(f\"No susceptibles to infect at tick {tick}\")\n",
    "\n",
    "        return\n"
   ]
  },
  {
   "cell_type": "code",
   "execution_count": 48,
   "metadata": {},
   "outputs": [
    {
     "name": "stderr",
     "output_type": "stream",
     "text": [
      "Running Simulation SIR Model: 100%|██████████| 1095/1095 [00:03<00:00, 274.84it/s]\n"
     ]
    },
    {
     "data": {
      "image/png": "[encoded data removed]",
      "text/plain": [
       "<Figure size 640x480 with 1 Axes>"
      ]
     },
     "metadata": {},
     "output_type": "display_data"
    }
   ],
   "source": [
    "# model = Model(scenario, parameters)\n",
    "# model.components = [\n",
    "#     Infect_Random_Agents,\n",
    "#     Births_ConstantPop,\n",
    "#     Susceptibility,\n",
    "#     Infection,\n",
    "#     Transmission,\n",
    "# ]\n",
    "\n",
    "# seed_infections_randomly(model, ninfections=1)\n",
    "model = SIR.Model(scenario, parameters)\n",
    "draw = partial(np.random.normal, loc=parameters.inf_mean, scale=2)\n",
    "model.infectious_duration_distribution = lambda size: np.clip(\n",
    "    np.round(draw(size=size)).astype(np.uint8), a_min=1, a_max=None\n",
    ")\n",
    "model.components = [SIR.Susceptible(model), SIR.Recovered(model), SIR.Infectious(model), Importation(model), SIR.Transmission(model), SIR.VitalDynamics(model)]\n",
    "\n",
    "model.run()\n",
    "plt.plot(model.nodes.S, color=\"blue\")\n",
    "plt.plot(model.nodes.I, color=\"red\")\n",
    "plt.plot(model.nodes.R, color=\"green\")\n",
    "plt.legend([\"S\", \"I\", \"R\"])\n",
    "plt.show()"
   ]
  },
  {
   "cell_type": "markdown",
   "metadata": {},
   "source": [
    "### Sanity checks\n",
    "As always, check that we haven't broken anything - S+I+R = N at all times."
   ]
  },
  {
   "cell_type": "code",
   "execution_count": 49,
   "metadata": {},
   "outputs": [
    {
     "name": "stdout",
     "output_type": "stream",
     "text": [
      "S+I+R = N:  True\n"
     ]
    }
   ],
   "source": [
    "cases = np.squeeze(model.nodes.I)\n",
    "susc = np.squeeze(model.nodes.S)\n",
    "rec = np.squeeze(model.nodes.R)\n",
    "inc = np.squeeze(model.nodes.incidence)\n",
    "births = np.squeeze(model.nodes.births)\n",
    "pops = np.squeeze(model.nodes.S + model.nodes.I + model.nodes.R + model.nodes.births)\n",
    "\n",
    "print(\"S+I+R = N:  \" + str(np.isclose(cases + susc + rec, pops).all()))"
   ]
  },
  {
   "cell_type": "markdown",
   "metadata": {},
   "source": [
    "### First scientific test check\n",
    "As usual, we will test this on a single simulation instance and demonstrate the analysis, before moving on to testing over a range of input values.  \n",
    "Here, we are interested in equilibrium behavior, so I first place a cut to exclude all infections that occur before day 10000. We then plot the data, an exponential distribution with the expected value of $\\frac{1}{R_0 \\mu}$, a best-fit exponential distribution to the data, and perform a KS test. "
   ]
  },
  {
   "cell_type": "code",
   "execution_count": null,
   "metadata": {},
   "outputs": [],
   "source": [
    "mu = (1 + model.params.cbr / 1000) ** (1 / 365) - 1\n",
    "R0 = model.params.beta / (1 / model.params.inf_mean + mu)\n",
    "A = 1 / (R0 * mu) / 365\n",
    "a = np.arange(0, 15, 100)\n",
    "\n",
    "\n",
    "def fit_age_at_infection(model, cutpos=10000):\n",
    "    cut = model.population.doi > cutpos\n",
    "    data = (model.population.doi[cut] - model.population.dob[cut]) / 365\n",
    "    expfit = expon.fit(data)\n",
    "    fitqual = kstest(data, expon.cdf, expfit)\n",
    "    return data, expfit, fitqual\n",
    "\n",
    "\n",
    "data, expfit, fitqual = fit_age_at_infection(model)\n",
    "\n",
    "\n",
    "plt.hist(data, bins=a, density=True)\n",
    "plt.plot(a, 1 / A * np.exp(-a / A), \"-\", lw=4)\n",
    "plt.plot(a, expon.pdf(a, scale=expfit[1]), \"k--\")\n",
    "plt.xlabel(\"Age at infection (years)\")\n",
    "plt.ylabel(\"Density\")\n",
    "plt.legend(\n",
    "    [\n",
    "        f\"Expected exponential distribution - A = {A:.2f} years\",\n",
    "        f\"Best fit age of infection, A = {expfit[1]:.2f} years\",\n",
    "        \"Ages from simulation\",\n",
    "    ]\n",
    ")\n",
    "plt.show()\n",
    "fitqual"
   ]
  },
  {
   "cell_type": "markdown",
   "metadata": {},
   "source": [
    "### Second scientific test check\n",
    "As noted above, because of the censoring that mortality induces, the distributions of age at infection vs. fraction susceptible at a given age will both follow exponential behavior but with a slight difference in the mean of the distribution - for the fraction susceptible, that value will be $\\frac{1}{\\mu (R_0-1)}$.  We develop this second test below. "
   ]
  },
  {
   "cell_type": "code",
   "execution_count": null,
   "metadata": {},
   "outputs": [],
   "source": [
    "A2 = 1 / ((R0 - 1) * mu) / 365\n",
    "\n",
    "\n",
    "def Scurve(x, lam):\n",
    "    return np.exp(-x / lam)\n",
    "\n",
    "\n",
    "def fit_susceptibility_vs_age(model, cutpos=10000):\n",
    "    cut = (model.population.susceptibility == 1) & (model.population.dob > cutpos)\n",
    "    bins = np.linspace(0, 50, 1200)\n",
    "    age_years = (np.max(model.population.dob) - model.population.dob) / 365\n",
    "    n1 = np.histogram(age_years, bins=bins)[0]\n",
    "    n2 = np.histogram(age_years[cut], bins=bins)[0]\n",
    "    n1[n1 == 0] = 1\n",
    "    y1 = n2 / n1\n",
    "    popt, pcov = curve_fit(Scurve, bins[:-1] + np.mean(np.diff(bins)), y1, p0=2.5)\n",
    "    mse = mean_squared_error(y1, Scurve(bins[:-1] + np.mean(np.diff(bins)) / 2, *popt))\n",
    "    return y1, bins, popt, pcov, mse\n",
    "\n",
    "\n",
    "data, bins, popt, pcov, mse = fit_susceptibility_vs_age(model)\n",
    "\n",
    "# Plotting is a little more complicated here, want to plot at the bin centers and force y=1 at x=0\n",
    "plt.plot([0, *bins[:-1] + np.mean(np.diff(bins)) / 2], [1, *data], \".\")\n",
    "plt.plot([0, *bins[:-1] + np.mean(np.diff(bins)) / 2], [1, *(Scurve(bins[:-1] + np.mean(np.diff(bins)) / 2, A2))], lw=4)\n",
    "plt.plot([0, *bins[:-1] + np.mean(np.diff(bins)) / 2], [1, *(Scurve(bins[:-1] + np.mean(np.diff(bins)) / 2, *popt))], \"k--\")\n",
    "plt.legend(\n",
    "    [\"Simulation output\", f\"Expected exponential distribution - A = {A2:.2f} years\", f\"Best fit age of infection, A = {popt[0]:.2f} years\"]\n",
    ")\n",
    "plt.xlabel(\"Age (years)\")\n",
    "plt.ylabel(\"Fraction of individuals susceptible at age\")\n",
    "plt.show()\n",
    "print(\"RMSE = \", np.sqrt(mse))"
   ]
  },
  {
   "cell_type": "markdown",
   "metadata": {},
   "source": [
    "### Third scientific test\n",
    "As long as we are here, let's test that the age distribution of the population is correct.  With constant birth rate, equal to death rate, the population should have exponentially distributed ages with parameter $\\frac{1}{\\mu}$"
   ]
  },
  {
   "cell_type": "code",
   "execution_count": null,
   "metadata": {},
   "outputs": [],
   "source": [
    "# Test that population age distribution is correct\n",
    "def fit_population_age_distribution(model):\n",
    "    age_years = (np.max(model.population.dob) - model.population.dob) / 365\n",
    "    expfit = expon.fit(age_years)\n",
    "    fitqual = kstest(age_years, expon.cdf, expfit)\n",
    "    return age_years, expfit, fitqual\n",
    "\n",
    "\n",
    "age_years, expfit, fitqual = fit_population_age_distribution(model)\n",
    "mu = (1 + model.params.cbr / 1000) ** (1 / 365) - 1\n",
    "A = 1 / mu / 365\n",
    "a = np.arange(0, 60, 0.1)\n",
    "\n",
    "plt.hist(age_years, bins=a, density=True)\n",
    "plt.plot(a, 1 / A * np.exp(-a / A), \"-\", lw=4)\n",
    "plt.plot(a, expon.pdf(a, scale=expfit[1]), \"k--\")\n",
    "plt.xlabel(\"Age at infection (years)\")\n",
    "plt.ylabel(\"Density\")\n",
    "plt.legend(\n",
    "    [f\"Expected exponential distribution - A = {A:.2f} years\", f\"Best fit age of infection, A = {expfit[1]:.2f} years\", \"Simulation output\"]\n",
    ")\n",
    "plt.show()\n",
    "fitqual"
   ]
  },
  {
   "cell_type": "markdown",
   "metadata": {},
   "source": [
    "\n",
    "### Larger test suite\n",
    "OK, so now we are going to replicate the above for many values of R0 and cbr, as a scientific validity test.\n",
    "\n",
    "TODO: As written, this takes a long time.  That's because the space of random values being sampled occasionally produces models where the average age at infection is 30 years old, or so.  Correspondingly, those models take a long time to equilibrate so that the tests don't look terrible fail.  So as of right now, these run for 200 years to sidestep this.  Should instead restrict the range of values - higher cbrs and R0s - so that the average age at infection is consistently lower and we can get away with running for like 30-50 years instead.  "
   ]
  },
  {
   "cell_type": "code",
   "execution_count": null,
   "metadata": {},
   "outputs": [],
   "source": [
    "%%capture\n",
    "\n",
    "scenario = pd.DataFrame(data=[[\"homenode\", 3e5, \"47°36′35″N 122°19′59″W\"]], columns=[\"name\", \"population\", \"location\"])\n",
    "\n",
    "cbrs = 15 + 85 * np.random.rand(25)\n",
    "inf_means = 5 + 45 * np.random.rand(25)\n",
    "R0s = 1.5 + 8.5 * np.random.rand(25)\n",
    "output = pd.DataFrame(data={\"cbr\": cbrs, \"inf_mean\": inf_means, \"R0\": R0s})\n",
    "output[\"Average_Iage_observed\"] = np.nan\n",
    "output[\"Average_Iage_expected\"] = np.nan\n",
    "output[\"Average_Sage_observed\"] = np.nan\n",
    "output[\"Average_Sage_expected\"] = np.nan\n",
    "output[\"Average_age_expected\"] = np.nan\n",
    "output[\"Average_age_expected\"] = np.nan\n",
    "for index, row in output.iterrows():\n",
    "    parameters = PropertySet(\n",
    "        {\n",
    "            \"seed\": 2,\n",
    "            \"nticks\": 73000,\n",
    "            \"verbose\": True,\n",
    "            \"beta\": row[\"R0\"] * (mu + 1 / row[\"inf_mean\"]),\n",
    "            \"inf_mean\": row[\"inf_mean\"],\n",
    "            \"cbr\": row[\"cbr\"],\n",
    "            \"importation_period\": 180,\n",
    "            \"importation_count\": 3,\n",
    "        }\n",
    "    )\n",
    "\n",
    "    model = Model(scenario, parameters)\n",
    "    model.components = [\n",
    "        Births_ConstantPop,\n",
    "        Susceptibility,\n",
    "        Transmission,\n",
    "        Infection,\n",
    "        Infect_Random_Agents,\n",
    "    ]\n",
    "    set_initial_susceptibility_randomly(model, 1 / row[\"R0\"] + 0.05)\n",
    "    seed_infections_randomly(model, ninfections=1)\n",
    "    model.run()\n",
    "    mu = (1 + model.params.cbr / 1000) ** (1 / 365) - 1\n",
    "    _, expfit, _ = fit_age_at_infection(model, 36500)\n",
    "\n",
    "    output.loc[index, \"Average_Iage_expected\"] = 1 / (row[\"R0\"] * mu) / 365\n",
    "    output.loc[index, \"Average_Iage_observed\"] = expfit[1]\n",
    "\n",
    "    _, _, popt, _, _ = fit_susceptibility_vs_age(model, 36500)\n",
    "    output.loc[index, \"Average_Sage_expected\"] = 1 / ((row[\"R0\"] - 1) * mu) / 365\n",
    "    output.loc[index, \"Average_Sage_observed\"] = popt[0]\n",
    "\n",
    "    _, expfit, _ = fit_population_age_distribution(model)\n",
    "    output.loc[index, \"Average_age_expected\"] = 1 / mu / 365\n",
    "    output.loc[index, \"Average_age_observed\"] = expfit[1]"
   ]
  },
  {
   "cell_type": "code",
   "execution_count": null,
   "metadata": {},
   "outputs": [],
   "source": [
    "# Plotting the expected and observed values\n",
    "fig, axes = plt.subplots(3, 1, figsize=(10, 15))\n",
    "\n",
    "# Plot for Average_Iage\n",
    "axes[0].scatter(output[\"Average_Iage_expected\"], output[\"Average_Iage_observed\"], c=\"blue\")\n",
    "axes[0].plot(\n",
    "    [output[\"Average_Iage_expected\"].min(), output[\"Average_Iage_expected\"].max()],\n",
    "    [output[\"Average_Iage_expected\"].min(), output[\"Average_Iage_expected\"].max()],\n",
    "    \"r--\",\n",
    ")\n",
    "axes[0].set_xlabel(\"Average_Iage_expected\")\n",
    "axes[0].set_ylabel(\"Average_Iage_observed\")\n",
    "axes[0].set_title(\"Average_Iage: Expected vs Observed\")\n",
    "\n",
    "# Plot for Average_Sage\n",
    "axes[1].scatter(output[\"Average_Sage_expected\"], output[\"Average_Sage_observed\"], c=\"green\")\n",
    "axes[1].plot(\n",
    "    [output[\"Average_Sage_expected\"].min(), output[\"Average_Sage_expected\"].max()],\n",
    "    [output[\"Average_Sage_expected\"].min(), output[\"Average_Sage_expected\"].max()],\n",
    "    \"r--\",\n",
    ")\n",
    "axes[1].set_xlabel(\"Average_Sage_expected\")\n",
    "axes[1].set_ylabel(\"Average_Sage_observed\")\n",
    "axes[1].set_title(\"Average_Sage: Expected vs Observed\")\n",
    "\n",
    "# Plot for Average_age\n",
    "axes[2].scatter(output[\"Average_age_expected\"], output[\"Average_age_observed\"], c=\"purple\")\n",
    "axes[2].plot(\n",
    "    [output[\"Average_age_expected\"].min(), output[\"Average_age_expected\"].max()],\n",
    "    [output[\"Average_age_expected\"].min(), output[\"Average_age_expected\"].max()],\n",
    "    \"r--\",\n",
    ")\n",
    "axes[2].set_xlabel(\"Average_age_expected\")\n",
    "axes[2].set_ylabel(\"Average_age_observed\")\n",
    "axes[2].set_title(\"Average_age: Expected vs Observed\")\n",
    "\n",
    "plt.tight_layout()\n",
    "plt.show()\n",
    "\n",
    "# Testing whether the expected and observed values are within 10% of each other\n",
    "within_10_percent_Iage = np.abs(output[\"Average_Iage_expected\"] - output[\"Average_Iage_observed\"]) / output[\"Average_Iage_expected\"] <= 0.1\n",
    "within_10_percent_Sage = np.abs(output[\"Average_Sage_expected\"] - output[\"Average_Sage_observed\"]) / output[\"Average_Sage_expected\"] <= 0.1\n",
    "within_10_percent_age = np.abs(output[\"Average_age_expected\"] - output[\"Average_age_observed\"]) / output[\"Average_age_expected\"] <= 0.1\n",
    "# Calculate deviations\n",
    "deviation_Iage = np.abs(output[\"Average_Iage_expected\"] - output[\"Average_Iage_observed\"]) / output[\"Average_Iage_expected\"]\n",
    "deviation_Sage = np.abs(output[\"Average_Sage_expected\"] - output[\"Average_Sage_observed\"]) / output[\"Average_Sage_expected\"]\n",
    "deviation_age = np.abs(output[\"Average_age_expected\"] - output[\"Average_age_observed\"]) / output[\"Average_age_expected\"]\n",
    "\n",
    "# Print average fractional deviation\n",
    "print(f\"Average fractional deviation for Iage: {deviation_Iage.mean()}\")\n",
    "print(f\"Average fractional deviation for Sage: {deviation_Sage.mean()}\")\n",
    "print(f\"Average fractional deviation for age: {deviation_age.mean()}\")\n",
    "\n",
    "# Print max deviation\n",
    "print(f\"Max deviation for Iage: {deviation_Iage.max()}\")\n",
    "print(f\"Max deviation for Sage: {deviation_Sage.max()}\")\n",
    "print(f\"Max deviation for age: {deviation_age.max()}\")\n",
    "\n",
    "# Print number of sims >5% and 10% away from expectation\n",
    "print(f\"Number of sims >5% away for Iage: {(deviation_Iage > 0.05).sum()}\")\n",
    "print(f\"Number of sims >10% away for Iage: {(deviation_Iage > 0.1).sum()}\")\n",
    "print(f\"Number of sims >5% away for Sage: {(deviation_Sage > 0.05).sum()}\")\n",
    "print(f\"Number of sims >10% away for Sage: {(deviation_Sage > 0.1).sum()}\")\n",
    "print(f\"Number of sims >5% away for age: {(deviation_age > 0.05).sum()}\")\n",
    "print(f\"Number of sims >10% away for age: {(deviation_age > 0.1).sum()}\")"
   ]
  },
  {
   "cell_type": "code",
   "execution_count": null,
   "metadata": {},
   "outputs": [],
   "source": [
    "output"
   ]
  },
  {
   "cell_type": "code",
   "execution_count": null,
   "metadata": {},
   "outputs": [],
   "source": []
  }
 ],
 "metadata": {
  "kernelspec": {
   "display_name": "laser-generic",
   "language": "python",
   "name": "python3"
  },
  "language_info": {
   "codemirror_mode": {
    "name": "ipython",
    "version": 3
   },
   "file_extension": ".py",
   "mimetype": "text/x-python",
   "name": "python",
   "nbconvert_exporter": "python",
   "pygments_lexer": "ipython3",
   "version": "3.12.8"
  }
 },
 "nbformat": 4,
 "nbformat_minor": 2
}
